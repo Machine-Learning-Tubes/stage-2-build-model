{
 "cells": [
  {
   "cell_type": "markdown",
   "metadata": {
    "slideshow": {
     "slide_type": "slide"
    }
   },
   "source": [
    "# Import Modules"
   ]
  },
  {
   "cell_type": "code",
   "execution_count": 1,
   "metadata": {
    "ExecuteTime": {
     "end_time": "2021-03-30T03:08:16.600789Z",
     "start_time": "2021-03-30T03:08:14.640799Z"
    }
   },
   "outputs": [],
   "source": [
    "import numpy as np\n",
    "import pandas as pd\n",
    "import seaborn as sns;\n",
    "import matplotlib.pyplot as plt\n",
    "\n",
    "from sklearn import preprocessing\n",
    "from sklearn.decomposition import PCA\n",
    "from sklearn.model_selection import train_test_split\n",
    "from sklearn.feature_selection import mutual_info_classif\n",
    "\n",
    "pd.set_option('display.max_columns', 21)"
   ]
  },
  {
   "cell_type": "markdown",
   "metadata": {
    "slideshow": {
     "slide_type": "slide"
    }
   },
   "source": [
    "# Raw Dataset"
   ]
  },
  {
   "cell_type": "code",
   "execution_count": 2,
   "metadata": {
    "ExecuteTime": {
     "end_time": "2021-03-30T03:08:16.660978Z",
     "start_time": "2021-03-30T03:08:16.610671Z"
    }
   },
   "outputs": [],
   "source": [
    "raw_df = pd.read_csv(\"../datasets/raw_telco_customer_churn.csv\")"
   ]
  },
  {
   "cell_type": "markdown",
   "metadata": {},
   "source": [
    "## Table"
   ]
  },
  {
   "cell_type": "code",
   "execution_count": 3,
   "metadata": {
    "ExecuteTime": {
     "end_time": "2021-03-30T03:08:16.700728Z",
     "start_time": "2021-03-30T03:08:16.660978Z"
    },
    "scrolled": true
   },
   "outputs": [
    {
     "data": {
      "text/html": [
       "<div>\n",
       "<style scoped>\n",
       "    .dataframe tbody tr th:only-of-type {\n",
       "        vertical-align: middle;\n",
       "    }\n",
       "\n",
       "    .dataframe tbody tr th {\n",
       "        vertical-align: top;\n",
       "    }\n",
       "\n",
       "    .dataframe thead th {\n",
       "        text-align: right;\n",
       "    }\n",
       "</style>\n",
       "<table border=\"1\" class=\"dataframe\">\n",
       "  <thead>\n",
       "    <tr style=\"text-align: right;\">\n",
       "      <th></th>\n",
       "      <th>customerID</th>\n",
       "      <th>gender</th>\n",
       "      <th>SeniorCitizen</th>\n",
       "      <th>Partner</th>\n",
       "      <th>Dependents</th>\n",
       "      <th>tenure</th>\n",
       "      <th>PhoneService</th>\n",
       "      <th>MultipleLines</th>\n",
       "      <th>InternetService</th>\n",
       "      <th>OnlineSecurity</th>\n",
       "      <th>OnlineBackup</th>\n",
       "      <th>DeviceProtection</th>\n",
       "      <th>TechSupport</th>\n",
       "      <th>StreamingTV</th>\n",
       "      <th>StreamingMovies</th>\n",
       "      <th>Contract</th>\n",
       "      <th>PaperlessBilling</th>\n",
       "      <th>PaymentMethod</th>\n",
       "      <th>MonthlyCharges</th>\n",
       "      <th>TotalCharges</th>\n",
       "      <th>Churn</th>\n",
       "    </tr>\n",
       "  </thead>\n",
       "  <tbody>\n",
       "    <tr>\n",
       "      <th>0</th>\n",
       "      <td>7590-VHVEG</td>\n",
       "      <td>Female</td>\n",
       "      <td>0</td>\n",
       "      <td>Yes</td>\n",
       "      <td>No</td>\n",
       "      <td>1</td>\n",
       "      <td>No</td>\n",
       "      <td>No phone service</td>\n",
       "      <td>DSL</td>\n",
       "      <td>No</td>\n",
       "      <td>Yes</td>\n",
       "      <td>No</td>\n",
       "      <td>No</td>\n",
       "      <td>No</td>\n",
       "      <td>No</td>\n",
       "      <td>Month-to-month</td>\n",
       "      <td>Yes</td>\n",
       "      <td>Electronic check</td>\n",
       "      <td>29.85</td>\n",
       "      <td>29.85</td>\n",
       "      <td>No</td>\n",
       "    </tr>\n",
       "    <tr>\n",
       "      <th>1</th>\n",
       "      <td>5575-GNVDE</td>\n",
       "      <td>Male</td>\n",
       "      <td>0</td>\n",
       "      <td>No</td>\n",
       "      <td>No</td>\n",
       "      <td>34</td>\n",
       "      <td>Yes</td>\n",
       "      <td>No</td>\n",
       "      <td>DSL</td>\n",
       "      <td>Yes</td>\n",
       "      <td>No</td>\n",
       "      <td>Yes</td>\n",
       "      <td>No</td>\n",
       "      <td>No</td>\n",
       "      <td>No</td>\n",
       "      <td>One year</td>\n",
       "      <td>No</td>\n",
       "      <td>Mailed check</td>\n",
       "      <td>56.95</td>\n",
       "      <td>1889.5</td>\n",
       "      <td>No</td>\n",
       "    </tr>\n",
       "    <tr>\n",
       "      <th>2</th>\n",
       "      <td>3668-QPYBK</td>\n",
       "      <td>Male</td>\n",
       "      <td>0</td>\n",
       "      <td>No</td>\n",
       "      <td>No</td>\n",
       "      <td>2</td>\n",
       "      <td>Yes</td>\n",
       "      <td>No</td>\n",
       "      <td>DSL</td>\n",
       "      <td>Yes</td>\n",
       "      <td>Yes</td>\n",
       "      <td>No</td>\n",
       "      <td>No</td>\n",
       "      <td>No</td>\n",
       "      <td>No</td>\n",
       "      <td>Month-to-month</td>\n",
       "      <td>Yes</td>\n",
       "      <td>Mailed check</td>\n",
       "      <td>53.85</td>\n",
       "      <td>108.15</td>\n",
       "      <td>Yes</td>\n",
       "    </tr>\n",
       "    <tr>\n",
       "      <th>3</th>\n",
       "      <td>7795-CFOCW</td>\n",
       "      <td>Male</td>\n",
       "      <td>0</td>\n",
       "      <td>No</td>\n",
       "      <td>No</td>\n",
       "      <td>45</td>\n",
       "      <td>No</td>\n",
       "      <td>No phone service</td>\n",
       "      <td>DSL</td>\n",
       "      <td>Yes</td>\n",
       "      <td>No</td>\n",
       "      <td>Yes</td>\n",
       "      <td>Yes</td>\n",
       "      <td>No</td>\n",
       "      <td>No</td>\n",
       "      <td>One year</td>\n",
       "      <td>No</td>\n",
       "      <td>Bank transfer (automatic)</td>\n",
       "      <td>42.30</td>\n",
       "      <td>1840.75</td>\n",
       "      <td>No</td>\n",
       "    </tr>\n",
       "    <tr>\n",
       "      <th>4</th>\n",
       "      <td>9237-HQITU</td>\n",
       "      <td>Female</td>\n",
       "      <td>0</td>\n",
       "      <td>No</td>\n",
       "      <td>No</td>\n",
       "      <td>2</td>\n",
       "      <td>Yes</td>\n",
       "      <td>No</td>\n",
       "      <td>Fiber optic</td>\n",
       "      <td>No</td>\n",
       "      <td>No</td>\n",
       "      <td>No</td>\n",
       "      <td>No</td>\n",
       "      <td>No</td>\n",
       "      <td>No</td>\n",
       "      <td>Month-to-month</td>\n",
       "      <td>Yes</td>\n",
       "      <td>Electronic check</td>\n",
       "      <td>70.70</td>\n",
       "      <td>151.65</td>\n",
       "      <td>Yes</td>\n",
       "    </tr>\n",
       "  </tbody>\n",
       "</table>\n",
       "</div>"
      ],
      "text/plain": [
       "   customerID  gender  SeniorCitizen Partner Dependents  tenure PhoneService  \\\n",
       "0  7590-VHVEG  Female              0     Yes         No       1           No   \n",
       "1  5575-GNVDE    Male              0      No         No      34          Yes   \n",
       "2  3668-QPYBK    Male              0      No         No       2          Yes   \n",
       "3  7795-CFOCW    Male              0      No         No      45           No   \n",
       "4  9237-HQITU  Female              0      No         No       2          Yes   \n",
       "\n",
       "      MultipleLines InternetService OnlineSecurity OnlineBackup  \\\n",
       "0  No phone service             DSL             No          Yes   \n",
       "1                No             DSL            Yes           No   \n",
       "2                No             DSL            Yes          Yes   \n",
       "3  No phone service             DSL            Yes           No   \n",
       "4                No     Fiber optic             No           No   \n",
       "\n",
       "  DeviceProtection TechSupport StreamingTV StreamingMovies        Contract  \\\n",
       "0               No          No          No              No  Month-to-month   \n",
       "1              Yes          No          No              No        One year   \n",
       "2               No          No          No              No  Month-to-month   \n",
       "3              Yes         Yes          No              No        One year   \n",
       "4               No          No          No              No  Month-to-month   \n",
       "\n",
       "  PaperlessBilling              PaymentMethod  MonthlyCharges TotalCharges  \\\n",
       "0              Yes           Electronic check           29.85        29.85   \n",
       "1               No               Mailed check           56.95       1889.5   \n",
       "2              Yes               Mailed check           53.85       108.15   \n",
       "3               No  Bank transfer (automatic)           42.30      1840.75   \n",
       "4              Yes           Electronic check           70.70       151.65   \n",
       "\n",
       "  Churn  \n",
       "0    No  \n",
       "1    No  \n",
       "2   Yes  \n",
       "3    No  \n",
       "4   Yes  "
      ]
     },
     "execution_count": 3,
     "metadata": {},
     "output_type": "execute_result"
    }
   ],
   "source": [
    "raw_df.head()"
   ]
  },
  {
   "cell_type": "markdown",
   "metadata": {
    "slideshow": {
     "slide_type": "slide"
    }
   },
   "source": [
    "# Data Cleaning"
   ]
  },
  {
   "cell_type": "markdown",
   "metadata": {},
   "source": [
    "## Rename column"
   ]
  },
  {
   "cell_type": "code",
   "execution_count": 4,
   "metadata": {
    "ExecuteTime": {
     "end_time": "2021-03-30T03:08:16.720860Z",
     "start_time": "2021-03-30T03:08:16.700728Z"
    }
   },
   "outputs": [],
   "source": [
    "raw_rename_columns_df = raw_df.rename(columns={'customerID' : 'customer_id',\n",
    "                                               'SeniorCitizen' : 'senior_citizen',\n",
    "                                               'Partner' : 'partner',\n",
    "                                               'Dependents' : 'dependents',\n",
    "                                               'PhoneService' : 'phone_service',\n",
    "                                               'MultipleLines' : 'multiple_lines',\n",
    "                                               'InternetService' : 'internet_service',\n",
    "                                               'OnlineSecurity' : 'online_security',\n",
    "                                               'OnlineBackup' : 'online_backup',\n",
    "                                               'DeviceProtection' : 'device_protection',\n",
    "                                               'TechSupport' : 'tech_support',\n",
    "                                               'StreamingTV' : 'streaming_tv',\n",
    "                                               'StreamingMovies' : 'streaming_movies',\n",
    "                                               'Contract' : 'contract',\n",
    "                                               'PaperlessBilling' : 'paperless_billing',\n",
    "                                               'PaymentMethod' : 'payment_method',\n",
    "                                               'MonthlyCharges' : 'monthly_charges',\n",
    "                                               'TotalCharges' : 'total_charges',\n",
    "                                               'Churn' : 'churn'})"
   ]
  },
  {
   "cell_type": "code",
   "execution_count": 5,
   "metadata": {
    "ExecuteTime": {
     "end_time": "2021-03-30T03:08:16.760442Z",
     "start_time": "2021-03-30T03:08:16.720860Z"
    },
    "scrolled": true
   },
   "outputs": [
    {
     "data": {
      "text/html": [
       "<div>\n",
       "<style scoped>\n",
       "    .dataframe tbody tr th:only-of-type {\n",
       "        vertical-align: middle;\n",
       "    }\n",
       "\n",
       "    .dataframe tbody tr th {\n",
       "        vertical-align: top;\n",
       "    }\n",
       "\n",
       "    .dataframe thead th {\n",
       "        text-align: right;\n",
       "    }\n",
       "</style>\n",
       "<table border=\"1\" class=\"dataframe\">\n",
       "  <thead>\n",
       "    <tr style=\"text-align: right;\">\n",
       "      <th></th>\n",
       "      <th>customer_id</th>\n",
       "      <th>gender</th>\n",
       "      <th>senior_citizen</th>\n",
       "      <th>partner</th>\n",
       "      <th>dependents</th>\n",
       "      <th>tenure</th>\n",
       "      <th>phone_service</th>\n",
       "      <th>multiple_lines</th>\n",
       "      <th>internet_service</th>\n",
       "      <th>online_security</th>\n",
       "      <th>online_backup</th>\n",
       "      <th>device_protection</th>\n",
       "      <th>tech_support</th>\n",
       "      <th>streaming_tv</th>\n",
       "      <th>streaming_movies</th>\n",
       "      <th>contract</th>\n",
       "      <th>paperless_billing</th>\n",
       "      <th>payment_method</th>\n",
       "      <th>monthly_charges</th>\n",
       "      <th>total_charges</th>\n",
       "      <th>churn</th>\n",
       "    </tr>\n",
       "  </thead>\n",
       "  <tbody>\n",
       "    <tr>\n",
       "      <th>0</th>\n",
       "      <td>7590-VHVEG</td>\n",
       "      <td>Female</td>\n",
       "      <td>0</td>\n",
       "      <td>Yes</td>\n",
       "      <td>No</td>\n",
       "      <td>1</td>\n",
       "      <td>No</td>\n",
       "      <td>No phone service</td>\n",
       "      <td>DSL</td>\n",
       "      <td>No</td>\n",
       "      <td>Yes</td>\n",
       "      <td>No</td>\n",
       "      <td>No</td>\n",
       "      <td>No</td>\n",
       "      <td>No</td>\n",
       "      <td>Month-to-month</td>\n",
       "      <td>Yes</td>\n",
       "      <td>Electronic check</td>\n",
       "      <td>29.85</td>\n",
       "      <td>29.85</td>\n",
       "      <td>No</td>\n",
       "    </tr>\n",
       "    <tr>\n",
       "      <th>1</th>\n",
       "      <td>5575-GNVDE</td>\n",
       "      <td>Male</td>\n",
       "      <td>0</td>\n",
       "      <td>No</td>\n",
       "      <td>No</td>\n",
       "      <td>34</td>\n",
       "      <td>Yes</td>\n",
       "      <td>No</td>\n",
       "      <td>DSL</td>\n",
       "      <td>Yes</td>\n",
       "      <td>No</td>\n",
       "      <td>Yes</td>\n",
       "      <td>No</td>\n",
       "      <td>No</td>\n",
       "      <td>No</td>\n",
       "      <td>One year</td>\n",
       "      <td>No</td>\n",
       "      <td>Mailed check</td>\n",
       "      <td>56.95</td>\n",
       "      <td>1889.5</td>\n",
       "      <td>No</td>\n",
       "    </tr>\n",
       "    <tr>\n",
       "      <th>2</th>\n",
       "      <td>3668-QPYBK</td>\n",
       "      <td>Male</td>\n",
       "      <td>0</td>\n",
       "      <td>No</td>\n",
       "      <td>No</td>\n",
       "      <td>2</td>\n",
       "      <td>Yes</td>\n",
       "      <td>No</td>\n",
       "      <td>DSL</td>\n",
       "      <td>Yes</td>\n",
       "      <td>Yes</td>\n",
       "      <td>No</td>\n",
       "      <td>No</td>\n",
       "      <td>No</td>\n",
       "      <td>No</td>\n",
       "      <td>Month-to-month</td>\n",
       "      <td>Yes</td>\n",
       "      <td>Mailed check</td>\n",
       "      <td>53.85</td>\n",
       "      <td>108.15</td>\n",
       "      <td>Yes</td>\n",
       "    </tr>\n",
       "    <tr>\n",
       "      <th>3</th>\n",
       "      <td>7795-CFOCW</td>\n",
       "      <td>Male</td>\n",
       "      <td>0</td>\n",
       "      <td>No</td>\n",
       "      <td>No</td>\n",
       "      <td>45</td>\n",
       "      <td>No</td>\n",
       "      <td>No phone service</td>\n",
       "      <td>DSL</td>\n",
       "      <td>Yes</td>\n",
       "      <td>No</td>\n",
       "      <td>Yes</td>\n",
       "      <td>Yes</td>\n",
       "      <td>No</td>\n",
       "      <td>No</td>\n",
       "      <td>One year</td>\n",
       "      <td>No</td>\n",
       "      <td>Bank transfer (automatic)</td>\n",
       "      <td>42.30</td>\n",
       "      <td>1840.75</td>\n",
       "      <td>No</td>\n",
       "    </tr>\n",
       "    <tr>\n",
       "      <th>4</th>\n",
       "      <td>9237-HQITU</td>\n",
       "      <td>Female</td>\n",
       "      <td>0</td>\n",
       "      <td>No</td>\n",
       "      <td>No</td>\n",
       "      <td>2</td>\n",
       "      <td>Yes</td>\n",
       "      <td>No</td>\n",
       "      <td>Fiber optic</td>\n",
       "      <td>No</td>\n",
       "      <td>No</td>\n",
       "      <td>No</td>\n",
       "      <td>No</td>\n",
       "      <td>No</td>\n",
       "      <td>No</td>\n",
       "      <td>Month-to-month</td>\n",
       "      <td>Yes</td>\n",
       "      <td>Electronic check</td>\n",
       "      <td>70.70</td>\n",
       "      <td>151.65</td>\n",
       "      <td>Yes</td>\n",
       "    </tr>\n",
       "  </tbody>\n",
       "</table>\n",
       "</div>"
      ],
      "text/plain": [
       "  customer_id  gender  senior_citizen partner dependents  tenure  \\\n",
       "0  7590-VHVEG  Female               0     Yes         No       1   \n",
       "1  5575-GNVDE    Male               0      No         No      34   \n",
       "2  3668-QPYBK    Male               0      No         No       2   \n",
       "3  7795-CFOCW    Male               0      No         No      45   \n",
       "4  9237-HQITU  Female               0      No         No       2   \n",
       "\n",
       "  phone_service    multiple_lines internet_service online_security  \\\n",
       "0            No  No phone service              DSL              No   \n",
       "1           Yes                No              DSL             Yes   \n",
       "2           Yes                No              DSL             Yes   \n",
       "3            No  No phone service              DSL             Yes   \n",
       "4           Yes                No      Fiber optic              No   \n",
       "\n",
       "  online_backup device_protection tech_support streaming_tv streaming_movies  \\\n",
       "0           Yes                No           No           No               No   \n",
       "1            No               Yes           No           No               No   \n",
       "2           Yes                No           No           No               No   \n",
       "3            No               Yes          Yes           No               No   \n",
       "4            No                No           No           No               No   \n",
       "\n",
       "         contract paperless_billing             payment_method  \\\n",
       "0  Month-to-month               Yes           Electronic check   \n",
       "1        One year                No               Mailed check   \n",
       "2  Month-to-month               Yes               Mailed check   \n",
       "3        One year                No  Bank transfer (automatic)   \n",
       "4  Month-to-month               Yes           Electronic check   \n",
       "\n",
       "   monthly_charges total_charges churn  \n",
       "0            29.85         29.85    No  \n",
       "1            56.95        1889.5    No  \n",
       "2            53.85        108.15   Yes  \n",
       "3            42.30       1840.75    No  \n",
       "4            70.70        151.65   Yes  "
      ]
     },
     "execution_count": 5,
     "metadata": {},
     "output_type": "execute_result"
    }
   ],
   "source": [
    "raw_rename_columns_df.head(5)"
   ]
  },
  {
   "cell_type": "markdown",
   "metadata": {},
   "source": [
    "## Outlier"
   ]
  },
  {
   "cell_type": "markdown",
   "metadata": {},
   "source": [
    "### \n",
    "Tidak ada outlier"
   ]
  },
  {
   "cell_type": "code",
   "execution_count": 6,
   "metadata": {
    "ExecuteTime": {
     "end_time": "2021-03-30T03:08:16.950473Z",
     "start_time": "2021-03-30T03:08:16.760442Z"
    }
   },
   "outputs": [
    {
     "data": {
      "image/png": "[encoded data removed]",
      "text/plain": [
       "<Figure size 720x360 with 1 Axes>"
      ]
     },
     "metadata": {},
     "output_type": "display_data"
    }
   ],
   "source": [
    "sns.set(rc={'figure.figsize':(10, 5)})\n",
    "ax = sns.boxplot(x=raw_rename_columns_df[\"tenure\"])"
   ]
  },
  {
   "cell_type": "markdown",
   "metadata": {},
   "source": [
    "### monthly_charges\n",
    "Tidak ada outlier"
   ]
  },
  {
   "cell_type": "code",
   "execution_count": 7,
   "metadata": {
    "ExecuteTime": {
     "end_time": "2021-03-30T03:08:17.120893Z",
     "start_time": "2021-03-30T03:08:16.950473Z"
    }
   },
   "outputs": [
    {
     "data": {
      "image/png": "[encoded data removed]",
      "text/plain": [
       "<Figure size 720x360 with 1 Axes>"
      ]
     },
     "metadata": {},
     "output_type": "display_data"
    }
   ],
   "source": [
    "sns.set(rc={'figure.figsize':(10, 5)})\n",
    "ax = sns.boxplot(x=raw_rename_columns_df[\"monthly_charges\"])"
   ]
  },
  {
   "cell_type": "markdown",
   "metadata": {
    "ExecuteTime": {
     "end_time": "2021-03-27T09:11:59.920711Z",
     "start_time": "2021-03-27T09:11:59.911236Z"
    }
   },
   "source": [
    "### total_charges\n",
    "Tidak ada outlier"
   ]
  },
  {
   "cell_type": "code",
   "execution_count": 8,
   "metadata": {
    "ExecuteTime": {
     "end_time": "2021-03-30T03:08:17.280733Z",
     "start_time": "2021-03-30T03:08:17.120893Z"
    }
   },
   "outputs": [
    {
     "data": {
      "image/png": "[encoded data removed]",
      "text/plain": [
       "<Figure size 720x360 with 1 Axes>"
      ]
     },
     "metadata": {},
     "output_type": "display_data"
    }
   ],
   "source": [
    "sns.set(rc={'figure.figsize':(10, 5)})\n",
    "ax = sns.boxplot(x=pd.to_numeric(raw_rename_columns_df['total_charges'], errors='coerce'))"
   ]
  },
  {
   "cell_type": "markdown",
   "metadata": {},
   "source": [
    "## Missing Value"
   ]
  },
  {
   "cell_type": "code",
   "execution_count": 9,
   "metadata": {
    "ExecuteTime": {
     "end_time": "2021-03-30T03:08:17.300801Z",
     "start_time": "2021-03-30T03:08:17.280733Z"
    }
   },
   "outputs": [
    {
     "data": {
      "text/html": [
       "<div>\n",
       "<style scoped>\n",
       "    .dataframe tbody tr th:only-of-type {\n",
       "        vertical-align: middle;\n",
       "    }\n",
       "\n",
       "    .dataframe tbody tr th {\n",
       "        vertical-align: top;\n",
       "    }\n",
       "\n",
       "    .dataframe thead th {\n",
       "        text-align: right;\n",
       "    }\n",
       "</style>\n",
       "<table border=\"1\" class=\"dataframe\">\n",
       "  <thead>\n",
       "    <tr style=\"text-align: right;\">\n",
       "      <th></th>\n",
       "      <th>Number of Missing Value (%)</th>\n",
       "    </tr>\n",
       "  </thead>\n",
       "  <tbody>\n",
       "    <tr>\n",
       "      <th>customer_id</th>\n",
       "      <td>0</td>\n",
       "    </tr>\n",
       "    <tr>\n",
       "      <th>gender</th>\n",
       "      <td>0</td>\n",
       "    </tr>\n",
       "    <tr>\n",
       "      <th>senior_citizen</th>\n",
       "      <td>0</td>\n",
       "    </tr>\n",
       "    <tr>\n",
       "      <th>partner</th>\n",
       "      <td>0</td>\n",
       "    </tr>\n",
       "    <tr>\n",
       "      <th>dependents</th>\n",
       "      <td>0</td>\n",
       "    </tr>\n",
       "    <tr>\n",
       "      <th>tenure</th>\n",
       "      <td>0</td>\n",
       "    </tr>\n",
       "    <tr>\n",
       "      <th>phone_service</th>\n",
       "      <td>0</td>\n",
       "    </tr>\n",
       "    <tr>\n",
       "      <th>multiple_lines</th>\n",
       "      <td>0</td>\n",
       "    </tr>\n",
       "    <tr>\n",
       "      <th>internet_service</th>\n",
       "      <td>0</td>\n",
       "    </tr>\n",
       "    <tr>\n",
       "      <th>online_security</th>\n",
       "      <td>0</td>\n",
       "    </tr>\n",
       "    <tr>\n",
       "      <th>online_backup</th>\n",
       "      <td>0</td>\n",
       "    </tr>\n",
       "    <tr>\n",
       "      <th>device_protection</th>\n",
       "      <td>0</td>\n",
       "    </tr>\n",
       "    <tr>\n",
       "      <th>tech_support</th>\n",
       "      <td>0</td>\n",
       "    </tr>\n",
       "    <tr>\n",
       "      <th>streaming_tv</th>\n",
       "      <td>0</td>\n",
       "    </tr>\n",
       "    <tr>\n",
       "      <th>streaming_movies</th>\n",
       "      <td>0</td>\n",
       "    </tr>\n",
       "    <tr>\n",
       "      <th>contract</th>\n",
       "      <td>0</td>\n",
       "    </tr>\n",
       "    <tr>\n",
       "      <th>paperless_billing</th>\n",
       "      <td>0</td>\n",
       "    </tr>\n",
       "    <tr>\n",
       "      <th>payment_method</th>\n",
       "      <td>0</td>\n",
       "    </tr>\n",
       "    <tr>\n",
       "      <th>monthly_charges</th>\n",
       "      <td>0</td>\n",
       "    </tr>\n",
       "    <tr>\n",
       "      <th>total_charges</th>\n",
       "      <td>0</td>\n",
       "    </tr>\n",
       "    <tr>\n",
       "      <th>churn</th>\n",
       "      <td>0</td>\n",
       "    </tr>\n",
       "  </tbody>\n",
       "</table>\n",
       "</div>"
      ],
      "text/plain": [
       "                   Number of Missing Value (%)\n",
       "customer_id                                  0\n",
       "gender                                       0\n",
       "senior_citizen                               0\n",
       "partner                                      0\n",
       "dependents                                   0\n",
       "tenure                                       0\n",
       "phone_service                                0\n",
       "multiple_lines                               0\n",
       "internet_service                             0\n",
       "online_security                              0\n",
       "online_backup                                0\n",
       "device_protection                            0\n",
       "tech_support                                 0\n",
       "streaming_tv                                 0\n",
       "streaming_movies                             0\n",
       "contract                                     0\n",
       "paperless_billing                            0\n",
       "payment_method                               0\n",
       "monthly_charges                              0\n",
       "total_charges                                0\n",
       "churn                                        0"
      ]
     },
     "execution_count": 9,
     "metadata": {},
     "output_type": "execute_result"
    }
   ],
   "source": [
    "raw_rename_columns_df.isna().sum().to_frame().rename(columns={0 : 'Number of Missing Value (%)'})"
   ]
  },
  {
   "cell_type": "markdown",
   "metadata": {},
   "source": [
    "## Duplicate Value"
   ]
  },
  {
   "cell_type": "code",
   "execution_count": 10,
   "metadata": {
    "ExecuteTime": {
     "end_time": "2021-03-30T03:08:17.340461Z",
     "start_time": "2021-03-30T03:08:17.300801Z"
    }
   },
   "outputs": [
    {
     "name": "stdout",
     "output_type": "stream",
     "text": [
      "Number of duplicate value : 0\n"
     ]
    }
   ],
   "source": [
    "print(f'Number of duplicate value : {raw_rename_columns_df.duplicated().sum()}')"
   ]
  },
  {
   "cell_type": "markdown",
   "metadata": {},
   "source": [
    "## Mismatch Value\n",
    "Pada fitur total_charges datatype nya adalah object, yang seharusnya float."
   ]
  },
  {
   "cell_type": "code",
   "execution_count": 11,
   "metadata": {
    "ExecuteTime": {
     "end_time": "2021-03-30T03:08:17.360761Z",
     "start_time": "2021-03-30T03:08:17.340461Z"
    }
   },
   "outputs": [
    {
     "data": {
      "text/html": [
       "<div>\n",
       "<style scoped>\n",
       "    .dataframe tbody tr th:only-of-type {\n",
       "        vertical-align: middle;\n",
       "    }\n",
       "\n",
       "    .dataframe tbody tr th {\n",
       "        vertical-align: top;\n",
       "    }\n",
       "\n",
       "    .dataframe thead th {\n",
       "        text-align: right;\n",
       "    }\n",
       "</style>\n",
       "<table border=\"1\" class=\"dataframe\">\n",
       "  <thead>\n",
       "    <tr style=\"text-align: right;\">\n",
       "      <th></th>\n",
       "      <th>Datatype</th>\n",
       "    </tr>\n",
       "  </thead>\n",
       "  <tbody>\n",
       "    <tr>\n",
       "      <th>customer_id</th>\n",
       "      <td>object</td>\n",
       "    </tr>\n",
       "    <tr>\n",
       "      <th>gender</th>\n",
       "      <td>object</td>\n",
       "    </tr>\n",
       "    <tr>\n",
       "      <th>senior_citizen</th>\n",
       "      <td>int64</td>\n",
       "    </tr>\n",
       "    <tr>\n",
       "      <th>partner</th>\n",
       "      <td>object</td>\n",
       "    </tr>\n",
       "    <tr>\n",
       "      <th>dependents</th>\n",
       "      <td>object</td>\n",
       "    </tr>\n",
       "    <tr>\n",
       "      <th>tenure</th>\n",
       "      <td>int64</td>\n",
       "    </tr>\n",
       "    <tr>\n",
       "      <th>phone_service</th>\n",
       "      <td>object</td>\n",
       "    </tr>\n",
       "    <tr>\n",
       "      <th>multiple_lines</th>\n",
       "      <td>object</td>\n",
       "    </tr>\n",
       "    <tr>\n",
       "      <th>internet_service</th>\n",
       "      <td>object</td>\n",
       "    </tr>\n",
       "    <tr>\n",
       "      <th>online_security</th>\n",
       "      <td>object</td>\n",
       "    </tr>\n",
       "    <tr>\n",
       "      <th>online_backup</th>\n",
       "      <td>object</td>\n",
       "    </tr>\n",
       "    <tr>\n",
       "      <th>device_protection</th>\n",
       "      <td>object</td>\n",
       "    </tr>\n",
       "    <tr>\n",
       "      <th>tech_support</th>\n",
       "      <td>object</td>\n",
       "    </tr>\n",
       "    <tr>\n",
       "      <th>streaming_tv</th>\n",
       "      <td>object</td>\n",
       "    </tr>\n",
       "    <tr>\n",
       "      <th>streaming_movies</th>\n",
       "      <td>object</td>\n",
       "    </tr>\n",
       "    <tr>\n",
       "      <th>contract</th>\n",
       "      <td>object</td>\n",
       "    </tr>\n",
       "    <tr>\n",
       "      <th>paperless_billing</th>\n",
       "      <td>object</td>\n",
       "    </tr>\n",
       "    <tr>\n",
       "      <th>payment_method</th>\n",
       "      <td>object</td>\n",
       "    </tr>\n",
       "    <tr>\n",
       "      <th>monthly_charges</th>\n",
       "      <td>float64</td>\n",
       "    </tr>\n",
       "    <tr>\n",
       "      <th>total_charges</th>\n",
       "      <td>object</td>\n",
       "    </tr>\n",
       "    <tr>\n",
       "      <th>churn</th>\n",
       "      <td>object</td>\n",
       "    </tr>\n",
       "  </tbody>\n",
       "</table>\n",
       "</div>"
      ],
      "text/plain": [
       "                  Datatype\n",
       "customer_id         object\n",
       "gender              object\n",
       "senior_citizen       int64\n",
       "partner             object\n",
       "dependents          object\n",
       "tenure               int64\n",
       "phone_service       object\n",
       "multiple_lines      object\n",
       "internet_service    object\n",
       "online_security     object\n",
       "online_backup       object\n",
       "device_protection   object\n",
       "tech_support        object\n",
       "streaming_tv        object\n",
       "streaming_movies    object\n",
       "contract            object\n",
       "paperless_billing   object\n",
       "payment_method      object\n",
       "monthly_charges    float64\n",
       "total_charges       object\n",
       "churn               object"
      ]
     },
     "execution_count": 11,
     "metadata": {},
     "output_type": "execute_result"
    }
   ],
   "source": [
    "raw_rename_columns_df.dtypes.to_frame().rename(columns={0 : 'Datatype'})"
   ]
  },
  {
   "cell_type": "code",
   "execution_count": 12,
   "metadata": {
    "ExecuteTime": {
     "end_time": "2021-03-30T03:08:17.380698Z",
     "start_time": "2021-03-30T03:08:17.360761Z"
    }
   },
   "outputs": [],
   "source": [
    "raw_rename_columns_df['total_charges'] = pd.to_numeric(raw_rename_columns_df['total_charges'], errors='coerce')\n",
    "raw_mismatch_value_df = raw_rename_columns_df"
   ]
  },
  {
   "cell_type": "code",
   "execution_count": 13,
   "metadata": {
    "ExecuteTime": {
     "end_time": "2021-03-30T03:08:17.400454Z",
     "start_time": "2021-03-30T03:08:17.380698Z"
    }
   },
   "outputs": [
    {
     "data": {
      "text/html": [
       "<div>\n",
       "<style scoped>\n",
       "    .dataframe tbody tr th:only-of-type {\n",
       "        vertical-align: middle;\n",
       "    }\n",
       "\n",
       "    .dataframe tbody tr th {\n",
       "        vertical-align: top;\n",
       "    }\n",
       "\n",
       "    .dataframe thead th {\n",
       "        text-align: right;\n",
       "    }\n",
       "</style>\n",
       "<table border=\"1\" class=\"dataframe\">\n",
       "  <thead>\n",
       "    <tr style=\"text-align: right;\">\n",
       "      <th></th>\n",
       "      <th>Datatype</th>\n",
       "    </tr>\n",
       "  </thead>\n",
       "  <tbody>\n",
       "    <tr>\n",
       "      <th>customer_id</th>\n",
       "      <td>object</td>\n",
       "    </tr>\n",
       "    <tr>\n",
       "      <th>gender</th>\n",
       "      <td>object</td>\n",
       "    </tr>\n",
       "    <tr>\n",
       "      <th>senior_citizen</th>\n",
       "      <td>int64</td>\n",
       "    </tr>\n",
       "    <tr>\n",
       "      <th>partner</th>\n",
       "      <td>object</td>\n",
       "    </tr>\n",
       "    <tr>\n",
       "      <th>dependents</th>\n",
       "      <td>object</td>\n",
       "    </tr>\n",
       "    <tr>\n",
       "      <th>tenure</th>\n",
       "      <td>int64</td>\n",
       "    </tr>\n",
       "    <tr>\n",
       "      <th>phone_service</th>\n",
       "      <td>object</td>\n",
       "    </tr>\n",
       "    <tr>\n",
       "      <th>multiple_lines</th>\n",
       "      <td>object</td>\n",
       "    </tr>\n",
       "    <tr>\n",
       "      <th>internet_service</th>\n",
       "      <td>object</td>\n",
       "    </tr>\n",
       "    <tr>\n",
       "      <th>online_security</th>\n",
       "      <td>object</td>\n",
       "    </tr>\n",
       "    <tr>\n",
       "      <th>online_backup</th>\n",
       "      <td>object</td>\n",
       "    </tr>\n",
       "    <tr>\n",
       "      <th>device_protection</th>\n",
       "      <td>object</td>\n",
       "    </tr>\n",
       "    <tr>\n",
       "      <th>tech_support</th>\n",
       "      <td>object</td>\n",
       "    </tr>\n",
       "    <tr>\n",
       "      <th>streaming_tv</th>\n",
       "      <td>object</td>\n",
       "    </tr>\n",
       "    <tr>\n",
       "      <th>streaming_movies</th>\n",
       "      <td>object</td>\n",
       "    </tr>\n",
       "    <tr>\n",
       "      <th>contract</th>\n",
       "      <td>object</td>\n",
       "    </tr>\n",
       "    <tr>\n",
       "      <th>paperless_billing</th>\n",
       "      <td>object</td>\n",
       "    </tr>\n",
       "    <tr>\n",
       "      <th>payment_method</th>\n",
       "      <td>object</td>\n",
       "    </tr>\n",
       "    <tr>\n",
       "      <th>monthly_charges</th>\n",
       "      <td>float64</td>\n",
       "    </tr>\n",
       "    <tr>\n",
       "      <th>total_charges</th>\n",
       "      <td>float64</td>\n",
       "    </tr>\n",
       "    <tr>\n",
       "      <th>churn</th>\n",
       "      <td>object</td>\n",
       "    </tr>\n",
       "  </tbody>\n",
       "</table>\n",
       "</div>"
      ],
      "text/plain": [
       "                  Datatype\n",
       "customer_id         object\n",
       "gender              object\n",
       "senior_citizen       int64\n",
       "partner             object\n",
       "dependents          object\n",
       "tenure               int64\n",
       "phone_service       object\n",
       "multiple_lines      object\n",
       "internet_service    object\n",
       "online_security     object\n",
       "online_backup       object\n",
       "device_protection   object\n",
       "tech_support        object\n",
       "streaming_tv        object\n",
       "streaming_movies    object\n",
       "contract            object\n",
       "paperless_billing   object\n",
       "payment_method      object\n",
       "monthly_charges    float64\n",
       "total_charges      float64\n",
       "churn               object"
      ]
     },
     "execution_count": 13,
     "metadata": {},
     "output_type": "execute_result"
    }
   ],
   "source": [
    "raw_rename_columns_df.dtypes.to_frame().rename(columns={0 : 'Datatype'})"
   ]
  },
  {
   "cell_type": "markdown",
   "metadata": {
    "slideshow": {
     "slide_type": "slide"
    }
   },
   "source": [
    "# Feature Engineering"
   ]
  },
  {
   "cell_type": "markdown",
   "metadata": {
    "slideshow": {
     "slide_type": "-"
    }
   },
   "source": [
    "## Feature Transformation"
   ]
  },
  {
   "cell_type": "code",
   "execution_count": 14,
   "metadata": {
    "ExecuteTime": {
     "end_time": "2021-03-30T03:08:17.420782Z",
     "start_time": "2021-03-30T03:08:17.400454Z"
    }
   },
   "outputs": [],
   "source": [
    "feature_tranformation_df = raw_mismatch_value_df"
   ]
  },
  {
   "cell_type": "code",
   "execution_count": 15,
   "metadata": {
    "ExecuteTime": {
     "end_time": "2021-03-30T03:08:17.440698Z",
     "start_time": "2021-03-30T03:08:17.420782Z"
    }
   },
   "outputs": [
    {
     "data": {
      "text/html": [
       "<div>\n",
       "<style scoped>\n",
       "    .dataframe tbody tr th:only-of-type {\n",
       "        vertical-align: middle;\n",
       "    }\n",
       "\n",
       "    .dataframe tbody tr th {\n",
       "        vertical-align: top;\n",
       "    }\n",
       "\n",
       "    .dataframe thead th {\n",
       "        text-align: right;\n",
       "    }\n",
       "</style>\n",
       "<table border=\"1\" class=\"dataframe\">\n",
       "  <thead>\n",
       "    <tr style=\"text-align: right;\">\n",
       "      <th></th>\n",
       "      <th>customer_id</th>\n",
       "      <th>gender</th>\n",
       "      <th>senior_citizen</th>\n",
       "      <th>partner</th>\n",
       "      <th>dependents</th>\n",
       "      <th>tenure</th>\n",
       "      <th>phone_service</th>\n",
       "      <th>multiple_lines</th>\n",
       "      <th>internet_service</th>\n",
       "      <th>online_security</th>\n",
       "      <th>online_backup</th>\n",
       "      <th>device_protection</th>\n",
       "      <th>tech_support</th>\n",
       "      <th>streaming_tv</th>\n",
       "      <th>streaming_movies</th>\n",
       "      <th>contract</th>\n",
       "      <th>paperless_billing</th>\n",
       "      <th>payment_method</th>\n",
       "      <th>monthly_charges</th>\n",
       "      <th>total_charges</th>\n",
       "      <th>churn</th>\n",
       "    </tr>\n",
       "  </thead>\n",
       "  <tbody>\n",
       "    <tr>\n",
       "      <th>0</th>\n",
       "      <td>7590-VHVEG</td>\n",
       "      <td>Female</td>\n",
       "      <td>0</td>\n",
       "      <td>Yes</td>\n",
       "      <td>No</td>\n",
       "      <td>1</td>\n",
       "      <td>No</td>\n",
       "      <td>No phone service</td>\n",
       "      <td>DSL</td>\n",
       "      <td>No</td>\n",
       "      <td>Yes</td>\n",
       "      <td>No</td>\n",
       "      <td>No</td>\n",
       "      <td>No</td>\n",
       "      <td>No</td>\n",
       "      <td>Month-to-month</td>\n",
       "      <td>Yes</td>\n",
       "      <td>Electronic check</td>\n",
       "      <td>29.85</td>\n",
       "      <td>29.85</td>\n",
       "      <td>No</td>\n",
       "    </tr>\n",
       "  </tbody>\n",
       "</table>\n",
       "</div>"
      ],
      "text/plain": [
       "  customer_id  gender  senior_citizen partner dependents  tenure  \\\n",
       "0  7590-VHVEG  Female               0     Yes         No       1   \n",
       "\n",
       "  phone_service    multiple_lines internet_service online_security  \\\n",
       "0            No  No phone service              DSL              No   \n",
       "\n",
       "  online_backup device_protection tech_support streaming_tv streaming_movies  \\\n",
       "0           Yes                No           No           No               No   \n",
       "\n",
       "         contract paperless_billing    payment_method  monthly_charges  \\\n",
       "0  Month-to-month               Yes  Electronic check            29.85   \n",
       "\n",
       "   total_charges churn  \n",
       "0          29.85    No  "
      ]
     },
     "execution_count": 15,
     "metadata": {},
     "output_type": "execute_result"
    }
   ],
   "source": [
    "feature_tranformation_df.head(1)"
   ]
  },
  {
   "cell_type": "markdown",
   "metadata": {},
   "source": [
    "### Binary Lable"
   ]
  },
  {
   "cell_type": "markdown",
   "metadata": {},
   "source": [
    "#### gender"
   ]
  },
  {
   "cell_type": "code",
   "execution_count": 16,
   "metadata": {
    "ExecuteTime": {
     "end_time": "2021-03-30T03:08:17.480754Z",
     "start_time": "2021-03-30T03:08:17.440698Z"
    }
   },
   "outputs": [
    {
     "data": {
      "text/plain": [
       "array(['Female', 'Male'], dtype='<U6')"
      ]
     },
     "execution_count": 16,
     "metadata": {},
     "output_type": "execute_result"
    }
   ],
   "source": [
    "gender_lb = preprocessing.LabelBinarizer()\n",
    "gender_lb.fit(feature_tranformation_df['gender'])\n",
    "gender_lb.classes_"
   ]
  },
  {
   "cell_type": "code",
   "execution_count": 17,
   "metadata": {
    "ExecuteTime": {
     "end_time": "2021-03-30T03:08:17.500797Z",
     "start_time": "2021-03-30T03:08:17.480754Z"
    }
   },
   "outputs": [],
   "source": [
    "feature_tranformation_df['gender'] = gender_lb.transform(raw_mismatch_value_df['gender'])"
   ]
  },
  {
   "cell_type": "markdown",
   "metadata": {},
   "source": [
    "#### partner"
   ]
  },
  {
   "cell_type": "code",
   "execution_count": 18,
   "metadata": {
    "ExecuteTime": {
     "end_time": "2021-03-30T03:08:17.520827Z",
     "start_time": "2021-03-30T03:08:17.500797Z"
    }
   },
   "outputs": [
    {
     "data": {
      "text/plain": [
       "array(['No', 'Yes'], dtype='<U3')"
      ]
     },
     "execution_count": 18,
     "metadata": {},
     "output_type": "execute_result"
    }
   ],
   "source": [
    "partner_lb = preprocessing.LabelBinarizer()\n",
    "partner_lb.fit(feature_tranformation_df['partner'])\n",
    "partner_lb.classes_"
   ]
  },
  {
   "cell_type": "code",
   "execution_count": 19,
   "metadata": {
    "ExecuteTime": {
     "end_time": "2021-03-30T03:08:17.540669Z",
     "start_time": "2021-03-30T03:08:17.520827Z"
    }
   },
   "outputs": [],
   "source": [
    "feature_tranformation_df['partner'] = gender_lb.transform(raw_mismatch_value_df['partner'])"
   ]
  },
  {
   "cell_type": "markdown",
   "metadata": {},
   "source": [
    "#### dependents"
   ]
  },
  {
   "cell_type": "code",
   "execution_count": 20,
   "metadata": {
    "ExecuteTime": {
     "end_time": "2021-03-30T03:08:17.560552Z",
     "start_time": "2021-03-30T03:08:17.540669Z"
    }
   },
   "outputs": [
    {
     "data": {
      "text/plain": [
       "array(['No', 'Yes'], dtype='<U3')"
      ]
     },
     "execution_count": 20,
     "metadata": {},
     "output_type": "execute_result"
    }
   ],
   "source": [
    "dependents_lb = preprocessing.LabelBinarizer()\n",
    "dependents_lb.fit(feature_tranformation_df['dependents'])\n",
    "dependents_lb.classes_"
   ]
  },
  {
   "cell_type": "code",
   "execution_count": 21,
   "metadata": {
    "ExecuteTime": {
     "end_time": "2021-03-30T03:08:17.580657Z",
     "start_time": "2021-03-30T03:08:17.560552Z"
    }
   },
   "outputs": [],
   "source": [
    "feature_tranformation_df['dependents'] = gender_lb.transform(raw_mismatch_value_df['dependents'])"
   ]
  },
  {
   "cell_type": "markdown",
   "metadata": {},
   "source": [
    "#### phone_service"
   ]
  },
  {
   "cell_type": "code",
   "execution_count": 22,
   "metadata": {
    "ExecuteTime": {
     "end_time": "2021-03-30T03:08:17.620478Z",
     "start_time": "2021-03-30T03:08:17.580657Z"
    }
   },
   "outputs": [
    {
     "data": {
      "text/plain": [
       "array(['No', 'Yes'], dtype='<U3')"
      ]
     },
     "execution_count": 22,
     "metadata": {},
     "output_type": "execute_result"
    }
   ],
   "source": [
    "phone_service_lb = preprocessing.LabelBinarizer()\n",
    "phone_service_lb.fit(feature_tranformation_df['phone_service'])\n",
    "phone_service_lb.classes_"
   ]
  },
  {
   "cell_type": "code",
   "execution_count": 23,
   "metadata": {
    "ExecuteTime": {
     "end_time": "2021-03-30T03:08:17.640591Z",
     "start_time": "2021-03-30T03:08:17.620478Z"
    }
   },
   "outputs": [],
   "source": [
    "feature_tranformation_df['phone_service'] = gender_lb.transform(raw_mismatch_value_df['phone_service'])"
   ]
  },
  {
   "cell_type": "markdown",
   "metadata": {},
   "source": [
    "#### paperless_billing"
   ]
  },
  {
   "cell_type": "code",
   "execution_count": 24,
   "metadata": {
    "ExecuteTime": {
     "end_time": "2021-03-30T03:08:17.660774Z",
     "start_time": "2021-03-30T03:08:17.640591Z"
    }
   },
   "outputs": [
    {
     "data": {
      "text/plain": [
       "array(['No', 'Yes'], dtype='<U3')"
      ]
     },
     "execution_count": 24,
     "metadata": {},
     "output_type": "execute_result"
    }
   ],
   "source": [
    "paperless_billing_lb = preprocessing.LabelBinarizer()\n",
    "paperless_billing_lb.fit(feature_tranformation_df['paperless_billing'])\n",
    "paperless_billing_lb.classes_"
   ]
  },
  {
   "cell_type": "code",
   "execution_count": 25,
   "metadata": {
    "ExecuteTime": {
     "end_time": "2021-03-30T03:08:17.680680Z",
     "start_time": "2021-03-30T03:08:17.660774Z"
    }
   },
   "outputs": [],
   "source": [
    "feature_tranformation_df['paperless_billing'] = paperless_billing_lb.transform(raw_mismatch_value_df['paperless_billing'])"
   ]
  },
  {
   "cell_type": "markdown",
   "metadata": {},
   "source": [
    "#### churn"
   ]
  },
  {
   "cell_type": "code",
   "execution_count": 26,
   "metadata": {
    "ExecuteTime": {
     "end_time": "2021-03-30T03:08:17.700829Z",
     "start_time": "2021-03-30T03:08:17.680680Z"
    }
   },
   "outputs": [
    {
     "data": {
      "text/plain": [
       "array(['No', 'Yes'], dtype='<U3')"
      ]
     },
     "execution_count": 26,
     "metadata": {},
     "output_type": "execute_result"
    }
   ],
   "source": [
    "churn_lb = preprocessing.LabelBinarizer()\n",
    "churn_lb.fit(feature_tranformation_df['churn'])\n",
    "churn_lb.classes_"
   ]
  },
  {
   "cell_type": "code",
   "execution_count": 27,
   "metadata": {
    "ExecuteTime": {
     "end_time": "2021-03-30T03:08:17.720777Z",
     "start_time": "2021-03-30T03:08:17.700829Z"
    }
   },
   "outputs": [],
   "source": [
    "feature_tranformation_df['churn'] = churn_lb.transform(raw_mismatch_value_df['churn'])"
   ]
  },
  {
   "cell_type": "markdown",
   "metadata": {},
   "source": [
    "### Multiple Lable"
   ]
  },
  {
   "cell_type": "markdown",
   "metadata": {},
   "source": [
    "#### multiple_lines"
   ]
  },
  {
   "cell_type": "code",
   "execution_count": 28,
   "metadata": {
    "ExecuteTime": {
     "end_time": "2021-03-30T03:08:17.740546Z",
     "start_time": "2021-03-30T03:08:17.720777Z"
    }
   },
   "outputs": [
    {
     "data": {
      "text/plain": [
       "array(['No', 'No phone service', 'Yes'], dtype='<U16')"
      ]
     },
     "execution_count": 28,
     "metadata": {},
     "output_type": "execute_result"
    }
   ],
   "source": [
    "multiple_lines_lb = preprocessing.LabelBinarizer()\n",
    "multiple_lines_lb.fit(feature_tranformation_df['multiple_lines'])\n",
    "multiple_lines_lb.classes_"
   ]
  },
  {
   "cell_type": "code",
   "execution_count": 29,
   "metadata": {
    "ExecuteTime": {
     "end_time": "2021-03-30T03:08:17.760757Z",
     "start_time": "2021-03-30T03:08:17.740546Z"
    }
   },
   "outputs": [],
   "source": [
    "feature_tranformation_df['multiple_lines'] = multiple_lines_lb.transform(raw_mismatch_value_df['multiple_lines'])"
   ]
  },
  {
   "cell_type": "markdown",
   "metadata": {},
   "source": [
    "#### internet_service"
   ]
  },
  {
   "cell_type": "code",
   "execution_count": 30,
   "metadata": {
    "ExecuteTime": {
     "end_time": "2021-03-30T03:08:17.780346Z",
     "start_time": "2021-03-30T03:08:17.760757Z"
    }
   },
   "outputs": [
    {
     "data": {
      "text/plain": [
       "array(['DSL', 'Fiber optic', 'No'], dtype=object)"
      ]
     },
     "execution_count": 30,
     "metadata": {},
     "output_type": "execute_result"
    }
   ],
   "source": [
    "internet_sevice_le = preprocessing.LabelEncoder()\n",
    "internet_sevice_le.fit(feature_tranformation_df['internet_service'])\n",
    "internet_sevice_le.classes_"
   ]
  },
  {
   "cell_type": "code",
   "execution_count": 31,
   "metadata": {
    "ExecuteTime": {
     "end_time": "2021-03-30T03:08:17.795430Z",
     "start_time": "2021-03-30T03:08:17.780346Z"
    }
   },
   "outputs": [],
   "source": [
    "feature_tranformation_df['internet_service'] = internet_sevice_le.transform(raw_mismatch_value_df['internet_service'])"
   ]
  },
  {
   "cell_type": "markdown",
   "metadata": {},
   "source": [
    "#### online_security"
   ]
  },
  {
   "cell_type": "code",
   "execution_count": 32,
   "metadata": {
    "ExecuteTime": {
     "end_time": "2021-03-30T03:08:17.810669Z",
     "start_time": "2021-03-30T03:08:17.795430Z"
    }
   },
   "outputs": [
    {
     "data": {
      "text/plain": [
       "array(['No', 'No internet service', 'Yes'], dtype=object)"
      ]
     },
     "execution_count": 32,
     "metadata": {},
     "output_type": "execute_result"
    }
   ],
   "source": [
    "online_security_lb = preprocessing.LabelEncoder()\n",
    "online_security_lb.fit(feature_tranformation_df['online_security'])\n",
    "online_security_lb.classes_"
   ]
  },
  {
   "cell_type": "code",
   "execution_count": 33,
   "metadata": {
    "ExecuteTime": {
     "end_time": "2021-03-30T03:08:17.830690Z",
     "start_time": "2021-03-30T03:08:17.810669Z"
    }
   },
   "outputs": [],
   "source": [
    "feature_tranformation_df['online_security'] = online_security_lb.transform(raw_mismatch_value_df['online_security'])"
   ]
  },
  {
   "cell_type": "markdown",
   "metadata": {
    "ExecuteTime": {
     "end_time": "2021-03-21T15:09:30.063145Z",
     "start_time": "2021-03-21T15:09:30.048584Z"
    }
   },
   "source": [
    "#### online_backup"
   ]
  },
  {
   "cell_type": "code",
   "execution_count": 34,
   "metadata": {
    "ExecuteTime": {
     "end_time": "2021-03-30T03:08:17.850657Z",
     "start_time": "2021-03-30T03:08:17.830690Z"
    }
   },
   "outputs": [
    {
     "data": {
      "text/plain": [
       "array(['No', 'No internet service', 'Yes'], dtype=object)"
      ]
     },
     "execution_count": 34,
     "metadata": {},
     "output_type": "execute_result"
    }
   ],
   "source": [
    "online_backup_lb = preprocessing.LabelEncoder()\n",
    "online_backup_lb.fit(feature_tranformation_df['online_backup'])\n",
    "online_backup_lb.classes_"
   ]
  },
  {
   "cell_type": "code",
   "execution_count": 35,
   "metadata": {
    "ExecuteTime": {
     "end_time": "2021-03-30T03:08:17.870819Z",
     "start_time": "2021-03-30T03:08:17.850657Z"
    }
   },
   "outputs": [],
   "source": [
    "feature_tranformation_df['online_backup'] = online_backup_lb.transform(raw_mismatch_value_df['online_backup'])"
   ]
  },
  {
   "cell_type": "markdown",
   "metadata": {},
   "source": [
    "#### device_protection"
   ]
  },
  {
   "cell_type": "code",
   "execution_count": 36,
   "metadata": {
    "ExecuteTime": {
     "end_time": "2021-03-30T03:08:17.890760Z",
     "start_time": "2021-03-30T03:08:17.870819Z"
    }
   },
   "outputs": [
    {
     "data": {
      "text/plain": [
       "array(['No', 'No internet service', 'Yes'], dtype='<U19')"
      ]
     },
     "execution_count": 36,
     "metadata": {},
     "output_type": "execute_result"
    }
   ],
   "source": [
    "device_protection_lb = preprocessing.LabelBinarizer()\n",
    "device_protection_lb.fit(feature_tranformation_df['device_protection'])\n",
    "device_protection_lb.classes_"
   ]
  },
  {
   "cell_type": "code",
   "execution_count": 37,
   "metadata": {
    "ExecuteTime": {
     "end_time": "2021-03-30T03:08:17.910763Z",
     "start_time": "2021-03-30T03:08:17.890760Z"
    }
   },
   "outputs": [],
   "source": [
    "feature_tranformation_df['device_protection'] = device_protection_lb.transform(raw_mismatch_value_df['device_protection'])"
   ]
  },
  {
   "cell_type": "markdown",
   "metadata": {},
   "source": [
    "#### tech_support"
   ]
  },
  {
   "cell_type": "code",
   "execution_count": 38,
   "metadata": {
    "ExecuteTime": {
     "end_time": "2021-03-30T03:08:17.930333Z",
     "start_time": "2021-03-30T03:08:17.910763Z"
    }
   },
   "outputs": [
    {
     "data": {
      "text/plain": [
       "array(['No', 'No internet service', 'Yes'], dtype='<U19')"
      ]
     },
     "execution_count": 38,
     "metadata": {},
     "output_type": "execute_result"
    }
   ],
   "source": [
    "tech_support_lb = preprocessing.LabelBinarizer()\n",
    "tech_support_lb.fit(feature_tranformation_df['tech_support'])\n",
    "tech_support_lb.classes_"
   ]
  },
  {
   "cell_type": "code",
   "execution_count": 39,
   "metadata": {
    "ExecuteTime": {
     "end_time": "2021-03-30T03:08:17.950388Z",
     "start_time": "2021-03-30T03:08:17.930333Z"
    }
   },
   "outputs": [],
   "source": [
    "feature_tranformation_df['tech_support'] = device_protection_lb.transform(raw_mismatch_value_df['tech_support'])"
   ]
  },
  {
   "cell_type": "markdown",
   "metadata": {},
   "source": [
    "#### streaming_movies"
   ]
  },
  {
   "cell_type": "code",
   "execution_count": 40,
   "metadata": {
    "ExecuteTime": {
     "end_time": "2021-03-30T03:08:17.970561Z",
     "start_time": "2021-03-30T03:08:17.950388Z"
    }
   },
   "outputs": [
    {
     "data": {
      "text/plain": [
       "array(['No', 'No internet service', 'Yes'], dtype='<U19')"
      ]
     },
     "execution_count": 40,
     "metadata": {},
     "output_type": "execute_result"
    }
   ],
   "source": [
    "streaming_tv_lb = preprocessing.LabelBinarizer()\n",
    "streaming_tv_lb.fit(feature_tranformation_df['streaming_tv'])\n",
    "streaming_tv_lb.classes_"
   ]
  },
  {
   "cell_type": "code",
   "execution_count": 41,
   "metadata": {
    "ExecuteTime": {
     "end_time": "2021-03-30T03:08:17.990755Z",
     "start_time": "2021-03-30T03:08:17.970561Z"
    }
   },
   "outputs": [],
   "source": [
    "feature_tranformation_df['streaming_tv'] = streaming_tv_lb.transform(raw_mismatch_value_df['streaming_tv'])"
   ]
  },
  {
   "cell_type": "markdown",
   "metadata": {},
   "source": [
    "#### streaming_movies"
   ]
  },
  {
   "cell_type": "code",
   "execution_count": 42,
   "metadata": {
    "ExecuteTime": {
     "end_time": "2021-03-30T03:08:18.010815Z",
     "start_time": "2021-03-30T03:08:17.990755Z"
    }
   },
   "outputs": [
    {
     "data": {
      "text/plain": [
       "array(['No', 'No internet service', 'Yes'], dtype='<U19')"
      ]
     },
     "execution_count": 42,
     "metadata": {},
     "output_type": "execute_result"
    }
   ],
   "source": [
    "streaming_movies_lb = preprocessing.LabelBinarizer()\n",
    "streaming_movies_lb.fit(feature_tranformation_df['streaming_movies'])\n",
    "streaming_movies_lb.classes_"
   ]
  },
  {
   "cell_type": "code",
   "execution_count": 43,
   "metadata": {
    "ExecuteTime": {
     "end_time": "2021-03-30T03:08:18.030788Z",
     "start_time": "2021-03-30T03:08:18.010815Z"
    }
   },
   "outputs": [],
   "source": [
    "feature_tranformation_df['streaming_movies'] = streaming_tv_lb.transform(raw_mismatch_value_df['streaming_movies'])"
   ]
  },
  {
   "cell_type": "markdown",
   "metadata": {},
   "source": [
    "#### contract"
   ]
  },
  {
   "cell_type": "code",
   "execution_count": 44,
   "metadata": {
    "ExecuteTime": {
     "end_time": "2021-03-30T03:08:18.050477Z",
     "start_time": "2021-03-30T03:08:18.030788Z"
    }
   },
   "outputs": [
    {
     "data": {
      "text/plain": [
       "array(['Month-to-month', 'One year', 'Two year'], dtype=object)"
      ]
     },
     "execution_count": 44,
     "metadata": {},
     "output_type": "execute_result"
    }
   ],
   "source": [
    "contract_le = preprocessing.LabelEncoder()\n",
    "contract_le.fit(feature_tranformation_df['contract'])\n",
    "contract_le.classes_"
   ]
  },
  {
   "cell_type": "code",
   "execution_count": 45,
   "metadata": {
    "ExecuteTime": {
     "end_time": "2021-03-30T03:08:18.070397Z",
     "start_time": "2021-03-30T03:08:18.050477Z"
    }
   },
   "outputs": [],
   "source": [
    "feature_tranformation_df['contract'] = contract_le.transform(raw_mismatch_value_df['contract'])"
   ]
  },
  {
   "cell_type": "markdown",
   "metadata": {},
   "source": [
    "#### payment_method"
   ]
  },
  {
   "cell_type": "code",
   "execution_count": 46,
   "metadata": {
    "ExecuteTime": {
     "end_time": "2021-03-30T03:08:18.085617Z",
     "start_time": "2021-03-30T03:08:18.070397Z"
    }
   },
   "outputs": [
    {
     "data": {
      "text/plain": [
       "array(['Bank transfer (automatic)', 'Credit card (automatic)',\n",
       "       'Electronic check', 'Mailed check'], dtype=object)"
      ]
     },
     "execution_count": 46,
     "metadata": {},
     "output_type": "execute_result"
    }
   ],
   "source": [
    "payment_method_le = preprocessing.LabelEncoder()\n",
    "payment_method_le.fit(feature_tranformation_df['payment_method'])\n",
    "payment_method_le.classes_"
   ]
  },
  {
   "cell_type": "code",
   "execution_count": 47,
   "metadata": {
    "ExecuteTime": {
     "end_time": "2021-03-30T03:08:18.100791Z",
     "start_time": "2021-03-30T03:08:18.085617Z"
    }
   },
   "outputs": [],
   "source": [
    "feature_tranformation_df['payment_method'] = payment_method_le.transform(raw_mismatch_value_df['payment_method'])"
   ]
  },
  {
   "cell_type": "markdown",
   "metadata": {},
   "source": [
    "### New feature"
   ]
  },
  {
   "cell_type": "markdown",
   "metadata": {},
   "source": [
    "#### total_charges\n",
    "Nilai dari feature tidak sesuai tidak sesuai dengan hasil kalkulasi dari tenure * monthly_charges. Maka akan dibuat dibuat fitur baru dari hasil perkalian tenure dan monthly_charges"
   ]
  },
  {
   "cell_type": "code",
   "execution_count": 48,
   "metadata": {
    "ExecuteTime": {
     "end_time": "2021-03-30T03:08:18.120468Z",
     "start_time": "2021-03-30T03:08:18.100791Z"
    }
   },
   "outputs": [
    {
     "data": {
      "text/html": [
       "<div>\n",
       "<style scoped>\n",
       "    .dataframe tbody tr th:only-of-type {\n",
       "        vertical-align: middle;\n",
       "    }\n",
       "\n",
       "    .dataframe tbody tr th {\n",
       "        vertical-align: top;\n",
       "    }\n",
       "\n",
       "    .dataframe thead th {\n",
       "        text-align: right;\n",
       "    }\n",
       "</style>\n",
       "<table border=\"1\" class=\"dataframe\">\n",
       "  <thead>\n",
       "    <tr style=\"text-align: right;\">\n",
       "      <th></th>\n",
       "      <th>customer_id</th>\n",
       "      <th>gender</th>\n",
       "      <th>senior_citizen</th>\n",
       "      <th>partner</th>\n",
       "      <th>dependents</th>\n",
       "      <th>tenure</th>\n",
       "      <th>phone_service</th>\n",
       "      <th>multiple_lines</th>\n",
       "      <th>internet_service</th>\n",
       "      <th>online_security</th>\n",
       "      <th>online_backup</th>\n",
       "      <th>device_protection</th>\n",
       "      <th>tech_support</th>\n",
       "      <th>streaming_tv</th>\n",
       "      <th>streaming_movies</th>\n",
       "      <th>contract</th>\n",
       "      <th>paperless_billing</th>\n",
       "      <th>payment_method</th>\n",
       "      <th>monthly_charges</th>\n",
       "      <th>churn</th>\n",
       "    </tr>\n",
       "  </thead>\n",
       "  <tbody>\n",
       "    <tr>\n",
       "      <th>0</th>\n",
       "      <td>7590-VHVEG</td>\n",
       "      <td>0</td>\n",
       "      <td>0</td>\n",
       "      <td>0</td>\n",
       "      <td>0</td>\n",
       "      <td>1</td>\n",
       "      <td>0</td>\n",
       "      <td>0</td>\n",
       "      <td>0</td>\n",
       "      <td>0</td>\n",
       "      <td>2</td>\n",
       "      <td>1</td>\n",
       "      <td>1</td>\n",
       "      <td>1</td>\n",
       "      <td>1</td>\n",
       "      <td>0</td>\n",
       "      <td>1</td>\n",
       "      <td>2</td>\n",
       "      <td>29.85</td>\n",
       "      <td>0</td>\n",
       "    </tr>\n",
       "    <tr>\n",
       "      <th>1</th>\n",
       "      <td>5575-GNVDE</td>\n",
       "      <td>1</td>\n",
       "      <td>0</td>\n",
       "      <td>0</td>\n",
       "      <td>0</td>\n",
       "      <td>34</td>\n",
       "      <td>0</td>\n",
       "      <td>1</td>\n",
       "      <td>0</td>\n",
       "      <td>2</td>\n",
       "      <td>0</td>\n",
       "      <td>0</td>\n",
       "      <td>1</td>\n",
       "      <td>1</td>\n",
       "      <td>1</td>\n",
       "      <td>1</td>\n",
       "      <td>0</td>\n",
       "      <td>3</td>\n",
       "      <td>56.95</td>\n",
       "      <td>0</td>\n",
       "    </tr>\n",
       "    <tr>\n",
       "      <th>2</th>\n",
       "      <td>3668-QPYBK</td>\n",
       "      <td>1</td>\n",
       "      <td>0</td>\n",
       "      <td>0</td>\n",
       "      <td>0</td>\n",
       "      <td>2</td>\n",
       "      <td>0</td>\n",
       "      <td>1</td>\n",
       "      <td>0</td>\n",
       "      <td>2</td>\n",
       "      <td>2</td>\n",
       "      <td>1</td>\n",
       "      <td>1</td>\n",
       "      <td>1</td>\n",
       "      <td>1</td>\n",
       "      <td>0</td>\n",
       "      <td>1</td>\n",
       "      <td>3</td>\n",
       "      <td>53.85</td>\n",
       "      <td>1</td>\n",
       "    </tr>\n",
       "    <tr>\n",
       "      <th>3</th>\n",
       "      <td>7795-CFOCW</td>\n",
       "      <td>1</td>\n",
       "      <td>0</td>\n",
       "      <td>0</td>\n",
       "      <td>0</td>\n",
       "      <td>45</td>\n",
       "      <td>0</td>\n",
       "      <td>0</td>\n",
       "      <td>0</td>\n",
       "      <td>2</td>\n",
       "      <td>0</td>\n",
       "      <td>0</td>\n",
       "      <td>0</td>\n",
       "      <td>1</td>\n",
       "      <td>1</td>\n",
       "      <td>1</td>\n",
       "      <td>0</td>\n",
       "      <td>0</td>\n",
       "      <td>42.30</td>\n",
       "      <td>0</td>\n",
       "    </tr>\n",
       "    <tr>\n",
       "      <th>4</th>\n",
       "      <td>9237-HQITU</td>\n",
       "      <td>0</td>\n",
       "      <td>0</td>\n",
       "      <td>0</td>\n",
       "      <td>0</td>\n",
       "      <td>2</td>\n",
       "      <td>0</td>\n",
       "      <td>1</td>\n",
       "      <td>1</td>\n",
       "      <td>0</td>\n",
       "      <td>0</td>\n",
       "      <td>1</td>\n",
       "      <td>1</td>\n",
       "      <td>1</td>\n",
       "      <td>1</td>\n",
       "      <td>0</td>\n",
       "      <td>1</td>\n",
       "      <td>2</td>\n",
       "      <td>70.70</td>\n",
       "      <td>1</td>\n",
       "    </tr>\n",
       "  </tbody>\n",
       "</table>\n",
       "</div>"
      ],
      "text/plain": [
       "  customer_id  gender  senior_citizen  partner  dependents  tenure  \\\n",
       "0  7590-VHVEG       0               0        0           0       1   \n",
       "1  5575-GNVDE       1               0        0           0      34   \n",
       "2  3668-QPYBK       1               0        0           0       2   \n",
       "3  7795-CFOCW       1               0        0           0      45   \n",
       "4  9237-HQITU       0               0        0           0       2   \n",
       "\n",
       "   phone_service  multiple_lines  internet_service  online_security  \\\n",
       "0              0               0                 0                0   \n",
       "1              0               1                 0                2   \n",
       "2              0               1                 0                2   \n",
       "3              0               0                 0                2   \n",
       "4              0               1                 1                0   \n",
       "\n",
       "   online_backup  device_protection  tech_support  streaming_tv  \\\n",
       "0              2                  1             1             1   \n",
       "1              0                  0             1             1   \n",
       "2              2                  1             1             1   \n",
       "3              0                  0             0             1   \n",
       "4              0                  1             1             1   \n",
       "\n",
       "   streaming_movies  contract  paperless_billing  payment_method  \\\n",
       "0                 1         0                  1               2   \n",
       "1                 1         1                  0               3   \n",
       "2                 1         0                  1               3   \n",
       "3                 1         1                  0               0   \n",
       "4                 1         0                  1               2   \n",
       "\n",
       "   monthly_charges  churn  \n",
       "0            29.85      0  \n",
       "1            56.95      0  \n",
       "2            53.85      1  \n",
       "3            42.30      0  \n",
       "4            70.70      1  "
      ]
     },
     "execution_count": 48,
     "metadata": {},
     "output_type": "execute_result"
    }
   ],
   "source": [
    "feature_tranformation_df.drop(['total_charges'], axis=1).head()"
   ]
  },
  {
   "cell_type": "code",
   "execution_count": 49,
   "metadata": {
    "ExecuteTime": {
     "end_time": "2021-03-30T03:08:18.155324Z",
     "start_time": "2021-03-30T03:08:18.120468Z"
    }
   },
   "outputs": [],
   "source": [
    "feature_tranformation_df['total_charges'] = feature_tranformation_df['tenure'] * feature_tranformation_df['monthly_charges']"
   ]
  },
  {
   "cell_type": "code",
   "execution_count": 50,
   "metadata": {
    "ExecuteTime": {
     "end_time": "2021-03-30T03:08:18.190346Z",
     "start_time": "2021-03-30T03:08:18.155324Z"
    }
   },
   "outputs": [
    {
     "data": {
      "text/html": [
       "<div>\n",
       "<style scoped>\n",
       "    .dataframe tbody tr th:only-of-type {\n",
       "        vertical-align: middle;\n",
       "    }\n",
       "\n",
       "    .dataframe tbody tr th {\n",
       "        vertical-align: top;\n",
       "    }\n",
       "\n",
       "    .dataframe thead th {\n",
       "        text-align: right;\n",
       "    }\n",
       "</style>\n",
       "<table border=\"1\" class=\"dataframe\">\n",
       "  <thead>\n",
       "    <tr style=\"text-align: right;\">\n",
       "      <th></th>\n",
       "      <th>customer_id</th>\n",
       "      <th>gender</th>\n",
       "      <th>senior_citizen</th>\n",
       "      <th>partner</th>\n",
       "      <th>dependents</th>\n",
       "      <th>tenure</th>\n",
       "      <th>phone_service</th>\n",
       "      <th>multiple_lines</th>\n",
       "      <th>internet_service</th>\n",
       "      <th>online_security</th>\n",
       "      <th>online_backup</th>\n",
       "      <th>device_protection</th>\n",
       "      <th>tech_support</th>\n",
       "      <th>streaming_tv</th>\n",
       "      <th>streaming_movies</th>\n",
       "      <th>contract</th>\n",
       "      <th>paperless_billing</th>\n",
       "      <th>payment_method</th>\n",
       "      <th>monthly_charges</th>\n",
       "      <th>total_charges</th>\n",
       "      <th>churn</th>\n",
       "    </tr>\n",
       "  </thead>\n",
       "  <tbody>\n",
       "    <tr>\n",
       "      <th>0</th>\n",
       "      <td>7590-VHVEG</td>\n",
       "      <td>0</td>\n",
       "      <td>0</td>\n",
       "      <td>0</td>\n",
       "      <td>0</td>\n",
       "      <td>1</td>\n",
       "      <td>0</td>\n",
       "      <td>0</td>\n",
       "      <td>0</td>\n",
       "      <td>0</td>\n",
       "      <td>2</td>\n",
       "      <td>1</td>\n",
       "      <td>1</td>\n",
       "      <td>1</td>\n",
       "      <td>1</td>\n",
       "      <td>0</td>\n",
       "      <td>1</td>\n",
       "      <td>2</td>\n",
       "      <td>29.85</td>\n",
       "      <td>29.85</td>\n",
       "      <td>0</td>\n",
       "    </tr>\n",
       "    <tr>\n",
       "      <th>1</th>\n",
       "      <td>5575-GNVDE</td>\n",
       "      <td>1</td>\n",
       "      <td>0</td>\n",
       "      <td>0</td>\n",
       "      <td>0</td>\n",
       "      <td>34</td>\n",
       "      <td>0</td>\n",
       "      <td>1</td>\n",
       "      <td>0</td>\n",
       "      <td>2</td>\n",
       "      <td>0</td>\n",
       "      <td>0</td>\n",
       "      <td>1</td>\n",
       "      <td>1</td>\n",
       "      <td>1</td>\n",
       "      <td>1</td>\n",
       "      <td>0</td>\n",
       "      <td>3</td>\n",
       "      <td>56.95</td>\n",
       "      <td>1936.30</td>\n",
       "      <td>0</td>\n",
       "    </tr>\n",
       "    <tr>\n",
       "      <th>2</th>\n",
       "      <td>3668-QPYBK</td>\n",
       "      <td>1</td>\n",
       "      <td>0</td>\n",
       "      <td>0</td>\n",
       "      <td>0</td>\n",
       "      <td>2</td>\n",
       "      <td>0</td>\n",
       "      <td>1</td>\n",
       "      <td>0</td>\n",
       "      <td>2</td>\n",
       "      <td>2</td>\n",
       "      <td>1</td>\n",
       "      <td>1</td>\n",
       "      <td>1</td>\n",
       "      <td>1</td>\n",
       "      <td>0</td>\n",
       "      <td>1</td>\n",
       "      <td>3</td>\n",
       "      <td>53.85</td>\n",
       "      <td>107.70</td>\n",
       "      <td>1</td>\n",
       "    </tr>\n",
       "    <tr>\n",
       "      <th>3</th>\n",
       "      <td>7795-CFOCW</td>\n",
       "      <td>1</td>\n",
       "      <td>0</td>\n",
       "      <td>0</td>\n",
       "      <td>0</td>\n",
       "      <td>45</td>\n",
       "      <td>0</td>\n",
       "      <td>0</td>\n",
       "      <td>0</td>\n",
       "      <td>2</td>\n",
       "      <td>0</td>\n",
       "      <td>0</td>\n",
       "      <td>0</td>\n",
       "      <td>1</td>\n",
       "      <td>1</td>\n",
       "      <td>1</td>\n",
       "      <td>0</td>\n",
       "      <td>0</td>\n",
       "      <td>42.30</td>\n",
       "      <td>1903.50</td>\n",
       "      <td>0</td>\n",
       "    </tr>\n",
       "    <tr>\n",
       "      <th>4</th>\n",
       "      <td>9237-HQITU</td>\n",
       "      <td>0</td>\n",
       "      <td>0</td>\n",
       "      <td>0</td>\n",
       "      <td>0</td>\n",
       "      <td>2</td>\n",
       "      <td>0</td>\n",
       "      <td>1</td>\n",
       "      <td>1</td>\n",
       "      <td>0</td>\n",
       "      <td>0</td>\n",
       "      <td>1</td>\n",
       "      <td>1</td>\n",
       "      <td>1</td>\n",
       "      <td>1</td>\n",
       "      <td>0</td>\n",
       "      <td>1</td>\n",
       "      <td>2</td>\n",
       "      <td>70.70</td>\n",
       "      <td>141.40</td>\n",
       "      <td>1</td>\n",
       "    </tr>\n",
       "  </tbody>\n",
       "</table>\n",
       "</div>"
      ],
      "text/plain": [
       "  customer_id  gender  senior_citizen  partner  dependents  tenure  \\\n",
       "0  7590-VHVEG       0               0        0           0       1   \n",
       "1  5575-GNVDE       1               0        0           0      34   \n",
       "2  3668-QPYBK       1               0        0           0       2   \n",
       "3  7795-CFOCW       1               0        0           0      45   \n",
       "4  9237-HQITU       0               0        0           0       2   \n",
       "\n",
       "   phone_service  multiple_lines  internet_service  online_security  \\\n",
       "0              0               0                 0                0   \n",
       "1              0               1                 0                2   \n",
       "2              0               1                 0                2   \n",
       "3              0               0                 0                2   \n",
       "4              0               1                 1                0   \n",
       "\n",
       "   online_backup  device_protection  tech_support  streaming_tv  \\\n",
       "0              2                  1             1             1   \n",
       "1              0                  0             1             1   \n",
       "2              2                  1             1             1   \n",
       "3              0                  0             0             1   \n",
       "4              0                  1             1             1   \n",
       "\n",
       "   streaming_movies  contract  paperless_billing  payment_method  \\\n",
       "0                 1         0                  1               2   \n",
       "1                 1         1                  0               3   \n",
       "2                 1         0                  1               3   \n",
       "3                 1         1                  0               0   \n",
       "4                 1         0                  1               2   \n",
       "\n",
       "   monthly_charges  total_charges  churn  \n",
       "0            29.85          29.85      0  \n",
       "1            56.95        1936.30      0  \n",
       "2            53.85         107.70      1  \n",
       "3            42.30        1903.50      0  \n",
       "4            70.70         141.40      1  "
      ]
     },
     "execution_count": 50,
     "metadata": {},
     "output_type": "execute_result"
    }
   ],
   "source": [
    "feature_tranformation_df[['customer_id', 'gender', 'senior_citizen', 'partner', 'dependents',\n",
    "                              'tenure', 'phone_service', 'multiple_lines', 'internet_service',\n",
    "                              'online_security', 'online_backup', 'device_protection', 'tech_support',\n",
    "                              'streaming_tv', 'streaming_movies', 'contract', 'paperless_billing',\n",
    "                              'payment_method', 'monthly_charges', 'total_charges', 'churn',\n",
    "                             ]].head()"
   ]
  },
  {
   "cell_type": "code",
   "execution_count": 51,
   "metadata": {
    "ExecuteTime": {
     "end_time": "2021-03-30T03:08:18.210478Z",
     "start_time": "2021-03-30T03:08:18.190346Z"
    }
   },
   "outputs": [
    {
     "data": {
      "text/plain": [
       "0"
      ]
     },
     "execution_count": 51,
     "metadata": {},
     "output_type": "execute_result"
    }
   ],
   "source": [
    "feature_tranformation_df['customer_id'].duplicated().sum()"
   ]
  },
  {
   "cell_type": "markdown",
   "metadata": {},
   "source": [
    "## Feature Extraction"
   ]
  },
  {
   "cell_type": "code",
   "execution_count": 52,
   "metadata": {
    "ExecuteTime": {
     "end_time": "2021-03-30T03:08:18.225560Z",
     "start_time": "2021-03-30T03:08:18.210478Z"
    }
   },
   "outputs": [],
   "source": [
    "feature_extraction_df = feature_tranformation_df.drop(['customer_id', 'churn'], axis=1)"
   ]
  },
  {
   "cell_type": "markdown",
   "metadata": {},
   "source": [
    "### Principal Component Analysis"
   ]
  },
  {
   "cell_type": "code",
   "execution_count": 53,
   "metadata": {
    "ExecuteTime": {
     "end_time": "2021-03-30T03:08:18.260364Z",
     "start_time": "2021-03-30T03:08:18.225560Z"
    }
   },
   "outputs": [
    {
     "data": {
      "text/plain": [
       "PCA(n_components=19)"
      ]
     },
     "execution_count": 53,
     "metadata": {},
     "output_type": "execute_result"
    }
   ],
   "source": [
    "pca = PCA(n_components=19)\n",
    "pca.fit(feature_extraction_df)"
   ]
  },
  {
   "cell_type": "code",
   "execution_count": 54,
   "metadata": {
    "ExecuteTime": {
     "end_time": "2021-03-30T03:08:18.280721Z",
     "start_time": "2021-03-30T03:08:18.260364Z"
    }
   },
   "outputs": [
    {
     "name": "stdout",
     "output_type": "stream",
     "text": [
      "1 component : 99.9860%\n",
      "2 component : 0.0122%\n",
      "3 component : 0.0017%\n",
      "4 component : 0.0000%\n",
      "5 component : 0.0000%\n",
      "6 component : 0.0000%\n",
      "7 component : 0.0000%\n",
      "8 component : 0.0000%\n",
      "9 component : 0.0000%\n",
      "10 component : 0.0000%\n",
      "11 component : 0.0000%\n",
      "12 component : 0.0000%\n",
      "13 component : 0.0000%\n",
      "14 component : 0.0000%\n",
      "15 component : 0.0000%\n",
      "16 component : 0.0000%\n",
      "17 component : 0.0000%\n",
      "18 component : 0.0000%\n",
      "19 component : 0.0000%\n"
     ]
    }
   ],
   "source": [
    "for component, explained_variance_ratio in enumerate(pca.explained_variance_ratio_):\n",
    "    print(f'{component + 1} component : {(explained_variance_ratio * 100):.4f}%')"
   ]
  },
  {
   "cell_type": "markdown",
   "metadata": {},
   "source": [
    "Dengan 1 component, explained variance yang dihasilkan sebesar 99.986%. Sehingga berhasil mereduksi dimensi sebanyak 18 dimensi, yang dimana dimensi awal sebanyak 19 dimensi."
   ]
  },
  {
   "cell_type": "markdown",
   "metadata": {
    "ExecuteTime": {
     "end_time": "2021-03-22T14:53:54.820525Z",
     "start_time": "2021-03-22T14:53:54.804922Z"
    }
   },
   "source": [
    "### Explained Variance Ratio Plot"
   ]
  },
  {
   "cell_type": "code",
   "execution_count": 55,
   "metadata": {
    "ExecuteTime": {
     "end_time": "2021-03-30T03:08:18.620450Z",
     "start_time": "2021-03-30T03:08:18.280721Z"
    }
   },
   "outputs": [
    {
     "data": {
      "image/png": "[encoded data removed]",
      "text/plain": [
       "<Figure size 720x360 with 1 Axes>"
      ]
     },
     "metadata": {},
     "output_type": "display_data"
    }
   ],
   "source": [
    "pca = PCA().fit(feature_extraction_df)\n",
    "\n",
    "plt.plot(np.cumsum(pca.explained_variance_ratio_))\n",
    "\n",
    "plt.xlabel('Number of components')\n",
    "plt.ylabel('Cumulative explained variance');"
   ]
  },
  {
   "cell_type": "markdown",
   "metadata": {
    "ExecuteTime": {
     "end_time": "2021-03-22T15:54:21.929060Z",
     "start_time": "2021-03-22T15:54:21.913420Z"
    }
   },
   "source": [
    "### Show Component in Table"
   ]
  },
  {
   "cell_type": "code",
   "execution_count": 56,
   "metadata": {
    "ExecuteTime": {
     "end_time": "2021-03-30T03:08:18.660727Z",
     "start_time": "2021-03-30T03:08:18.620450Z"
    },
    "scrolled": true
   },
   "outputs": [
    {
     "data": {
      "text/html": [
       "<div>\n",
       "<style scoped>\n",
       "    .dataframe tbody tr th:only-of-type {\n",
       "        vertical-align: middle;\n",
       "    }\n",
       "\n",
       "    .dataframe tbody tr th {\n",
       "        vertical-align: top;\n",
       "    }\n",
       "\n",
       "    .dataframe thead th {\n",
       "        text-align: right;\n",
       "    }\n",
       "</style>\n",
       "<table border=\"1\" class=\"dataframe\">\n",
       "  <thead>\n",
       "    <tr style=\"text-align: right;\">\n",
       "      <th></th>\n",
       "      <th>PC1</th>\n",
       "      <th>PC2</th>\n",
       "      <th>PC3</th>\n",
       "      <th>PC4</th>\n",
       "      <th>PC5</th>\n",
       "      <th>PC6</th>\n",
       "      <th>PC7</th>\n",
       "      <th>PC8</th>\n",
       "      <th>PC9</th>\n",
       "      <th>PC10</th>\n",
       "      <th>PC11</th>\n",
       "      <th>PC12</th>\n",
       "      <th>PC13</th>\n",
       "      <th>PC14</th>\n",
       "      <th>PC15</th>\n",
       "      <th>PC16</th>\n",
       "      <th>PC17</th>\n",
       "      <th>PC18</th>\n",
       "      <th>PC19</th>\n",
       "    </tr>\n",
       "  </thead>\n",
       "  <tbody>\n",
       "    <tr>\n",
       "      <th>0</th>\n",
       "      <td>-2250.140045</td>\n",
       "      <td>-8.858334</td>\n",
       "      <td>-16.866177</td>\n",
       "      <td>0.537938</td>\n",
       "      <td>0.863554</td>\n",
       "      <td>0.285455</td>\n",
       "      <td>2.012932</td>\n",
       "      <td>0.231845</td>\n",
       "      <td>-0.575978</td>\n",
       "      <td>-0.659881</td>\n",
       "      <td>-0.069719</td>\n",
       "      <td>-0.326789</td>\n",
       "      <td>-0.046973</td>\n",
       "      <td>0.067055</td>\n",
       "      <td>-0.258124</td>\n",
       "      <td>-0.061853</td>\n",
       "      <td>1.834687e-16</td>\n",
       "      <td>-7.279575e-17</td>\n",
       "      <td>1.109482e-17</td>\n",
       "    </tr>\n",
       "    <tr>\n",
       "      <th>1</th>\n",
       "      <td>-343.307955</td>\n",
       "      <td>-6.421186</td>\n",
       "      <td>2.050109</td>\n",
       "      <td>-1.210040</td>\n",
       "      <td>1.000175</td>\n",
       "      <td>1.622959</td>\n",
       "      <td>-0.808348</td>\n",
       "      <td>0.177327</td>\n",
       "      <td>0.534054</td>\n",
       "      <td>0.606820</td>\n",
       "      <td>0.105766</td>\n",
       "      <td>0.098789</td>\n",
       "      <td>0.762816</td>\n",
       "      <td>0.361595</td>\n",
       "      <td>-0.218744</td>\n",
       "      <td>0.022169</td>\n",
       "      <td>-1.145575e-16</td>\n",
       "      <td>-1.244364e-17</td>\n",
       "      <td>-9.051102e-18</td>\n",
       "    </tr>\n",
       "    <tr>\n",
       "      <th>2</th>\n",
       "      <td>-2172.079419</td>\n",
       "      <td>11.903544</td>\n",
       "      <td>-6.320750</td>\n",
       "      <td>-0.750781</td>\n",
       "      <td>-0.114083</td>\n",
       "      <td>2.107724</td>\n",
       "      <td>1.208150</td>\n",
       "      <td>-0.365683</td>\n",
       "      <td>0.512765</td>\n",
       "      <td>-0.080937</td>\n",
       "      <td>-0.611786</td>\n",
       "      <td>-0.021365</td>\n",
       "      <td>0.010818</td>\n",
       "      <td>0.263277</td>\n",
       "      <td>-0.169433</td>\n",
       "      <td>-0.046724</td>\n",
       "      <td>2.565501e-14</td>\n",
       "      <td>-4.615056e-16</td>\n",
       "      <td>2.621772e-16</td>\n",
       "    </tr>\n",
       "    <tr>\n",
       "      <th>3</th>\n",
       "      <td>-376.133063</td>\n",
       "      <td>-24.310237</td>\n",
       "      <td>5.894243</td>\n",
       "      <td>1.654425</td>\n",
       "      <td>0.794520</td>\n",
       "      <td>1.311847</td>\n",
       "      <td>-0.810647</td>\n",
       "      <td>0.070013</td>\n",
       "      <td>0.514845</td>\n",
       "      <td>-0.080275</td>\n",
       "      <td>0.615834</td>\n",
       "      <td>0.118805</td>\n",
       "      <td>0.488248</td>\n",
       "      <td>-0.602599</td>\n",
       "      <td>0.071657</td>\n",
       "      <td>0.055378</td>\n",
       "      <td>-7.064958e-15</td>\n",
       "      <td>-1.282951e-15</td>\n",
       "      <td>9.775247e-16</td>\n",
       "    </tr>\n",
       "    <tr>\n",
       "      <th>4</th>\n",
       "      <td>-2138.236555</td>\n",
       "      <td>26.903713</td>\n",
       "      <td>0.763079</td>\n",
       "      <td>0.029638</td>\n",
       "      <td>0.496248</td>\n",
       "      <td>-0.233726</td>\n",
       "      <td>-0.172891</td>\n",
       "      <td>0.012398</td>\n",
       "      <td>-0.493317</td>\n",
       "      <td>0.447699</td>\n",
       "      <td>-0.573066</td>\n",
       "      <td>-0.398175</td>\n",
       "      <td>0.050407</td>\n",
       "      <td>-0.100429</td>\n",
       "      <td>-0.230195</td>\n",
       "      <td>-0.069092</td>\n",
       "      <td>-1.422434e-17</td>\n",
       "      <td>-5.338028e-17</td>\n",
       "      <td>-3.077091e-18</td>\n",
       "    </tr>\n",
       "  </tbody>\n",
       "</table>\n",
       "</div>"
      ],
      "text/plain": [
       "           PC1        PC2        PC3       PC4       PC5       PC6       PC7  \\\n",
       "0 -2250.140045  -8.858334 -16.866177  0.537938  0.863554  0.285455  2.012932   \n",
       "1  -343.307955  -6.421186   2.050109 -1.210040  1.000175  1.622959 -0.808348   \n",
       "2 -2172.079419  11.903544  -6.320750 -0.750781 -0.114083  2.107724  1.208150   \n",
       "3  -376.133063 -24.310237   5.894243  1.654425  0.794520  1.311847 -0.810647   \n",
       "4 -2138.236555  26.903713   0.763079  0.029638  0.496248 -0.233726 -0.172891   \n",
       "\n",
       "        PC8       PC9      PC10      PC11      PC12      PC13      PC14  \\\n",
       "0  0.231845 -0.575978 -0.659881 -0.069719 -0.326789 -0.046973  0.067055   \n",
       "1  0.177327  0.534054  0.606820  0.105766  0.098789  0.762816  0.361595   \n",
       "2 -0.365683  0.512765 -0.080937 -0.611786 -0.021365  0.010818  0.263277   \n",
       "3  0.070013  0.514845 -0.080275  0.615834  0.118805  0.488248 -0.602599   \n",
       "4  0.012398 -0.493317  0.447699 -0.573066 -0.398175  0.050407 -0.100429   \n",
       "\n",
       "       PC15      PC16          PC17          PC18          PC19  \n",
       "0 -0.258124 -0.061853  1.834687e-16 -7.279575e-17  1.109482e-17  \n",
       "1 -0.218744  0.022169 -1.145575e-16 -1.244364e-17 -9.051102e-18  \n",
       "2 -0.169433 -0.046724  2.565501e-14 -4.615056e-16  2.621772e-16  \n",
       "3  0.071657  0.055378 -7.064958e-15 -1.282951e-15  9.775247e-16  \n",
       "4 -0.230195 -0.069092 -1.422434e-17 -5.338028e-17 -3.077091e-18  "
      ]
     },
     "execution_count": 56,
     "metadata": {},
     "output_type": "execute_result"
    }
   ],
   "source": [
    "pca = PCA()\n",
    "\n",
    "X_pca = pca.fit_transform(feature_extraction_df)\n",
    "\n",
    "component_names = [f\"PC{i+1}\" for i in range(X_pca.shape[1])]\n",
    "X_pca = pd.DataFrame(X_pca, columns=component_names)\n",
    "\n",
    "X_pca.head()"
   ]
  },
  {
   "cell_type": "markdown",
   "metadata": {},
   "source": [
    "### Factor Loading"
   ]
  },
  {
   "cell_type": "code",
   "execution_count": 57,
   "metadata": {
    "ExecuteTime": {
     "end_time": "2021-03-30T03:08:18.715491Z",
     "start_time": "2021-03-30T03:08:18.660727Z"
    },
    "scrolled": false
   },
   "outputs": [
    {
     "data": {
      "text/html": [
       "<div>\n",
       "<style scoped>\n",
       "    .dataframe tbody tr th:only-of-type {\n",
       "        vertical-align: middle;\n",
       "    }\n",
       "\n",
       "    .dataframe tbody tr th {\n",
       "        vertical-align: top;\n",
       "    }\n",
       "\n",
       "    .dataframe thead th {\n",
       "        text-align: right;\n",
       "    }\n",
       "</style>\n",
       "<table border=\"1\" class=\"dataframe\">\n",
       "  <thead>\n",
       "    <tr style=\"text-align: right;\">\n",
       "      <th></th>\n",
       "      <th>PC1</th>\n",
       "      <th>PC2</th>\n",
       "      <th>PC3</th>\n",
       "      <th>PC4</th>\n",
       "      <th>PC5</th>\n",
       "      <th>PC6</th>\n",
       "      <th>PC7</th>\n",
       "      <th>PC8</th>\n",
       "      <th>PC9</th>\n",
       "      <th>PC10</th>\n",
       "      <th>PC11</th>\n",
       "      <th>PC12</th>\n",
       "      <th>PC13</th>\n",
       "      <th>PC14</th>\n",
       "      <th>PC15</th>\n",
       "      <th>PC16</th>\n",
       "      <th>PC17</th>\n",
       "      <th>PC18</th>\n",
       "      <th>PC19</th>\n",
       "    </tr>\n",
       "  </thead>\n",
       "  <tbody>\n",
       "    <tr>\n",
       "      <th>gender</th>\n",
       "      <td>-6.753369e-09</td>\n",
       "      <td>-3.572193e-04</td>\n",
       "      <td>-4.761319e-04</td>\n",
       "      <td>-1.077697e-02</td>\n",
       "      <td>2.182351e-02</td>\n",
       "      <td>-1.397326e-02</td>\n",
       "      <td>-1.531263e-03</td>\n",
       "      <td>1.420921e-02</td>\n",
       "      <td>9.967306e-01</td>\n",
       "      <td>-7.024061e-02</td>\n",
       "      <td>-2.106550e-02</td>\n",
       "      <td>-5.973240e-03</td>\n",
       "      <td>-7.180509e-03</td>\n",
       "      <td>-7.017264e-03</td>\n",
       "      <td>3.711184e-03</td>\n",
       "      <td>-2.854268e-03</td>\n",
       "      <td>7.505763e-16</td>\n",
       "      <td>-3.434564e-16</td>\n",
       "      <td>-7.226942e-17</td>\n",
       "    </tr>\n",
       "    <tr>\n",
       "      <th>senior_citizen</th>\n",
       "      <td>1.680736e-05</td>\n",
       "      <td>2.866770e-03</td>\n",
       "      <td>2.244735e-03</td>\n",
       "      <td>4.735772e-03</td>\n",
       "      <td>4.111486e-02</td>\n",
       "      <td>-6.172048e-02</td>\n",
       "      <td>2.798029e-02</td>\n",
       "      <td>-1.222496e-01</td>\n",
       "      <td>-6.721324e-03</td>\n",
       "      <td>-9.938473e-02</td>\n",
       "      <td>2.527944e-02</td>\n",
       "      <td>-1.569901e-01</td>\n",
       "      <td>1.600722e-01</td>\n",
       "      <td>3.028032e-01</td>\n",
       "      <td>8.829723e-01</td>\n",
       "      <td>2.158150e-01</td>\n",
       "      <td>4.550317e-14</td>\n",
       "      <td>-1.811092e-14</td>\n",
       "      <td>-4.236503e-15</td>\n",
       "    </tr>\n",
       "    <tr>\n",
       "      <th>partner</th>\n",
       "      <td>-0.000000e+00</td>\n",
       "      <td>-1.082467e-15</td>\n",
       "      <td>5.689893e-16</td>\n",
       "      <td>-7.164408e-16</td>\n",
       "      <td>-2.105954e-15</td>\n",
       "      <td>3.475518e-15</td>\n",
       "      <td>-1.602288e-15</td>\n",
       "      <td>4.949600e-15</td>\n",
       "      <td>-2.956348e-16</td>\n",
       "      <td>7.977776e-15</td>\n",
       "      <td>-3.239705e-15</td>\n",
       "      <td>3.389758e-15</td>\n",
       "      <td>-2.729696e-15</td>\n",
       "      <td>-1.365563e-14</td>\n",
       "      <td>-4.426803e-14</td>\n",
       "      <td>-1.463077e-14</td>\n",
       "      <td>9.208904e-01</td>\n",
       "      <td>-3.806114e-01</td>\n",
       "      <td>-8.423751e-02</td>\n",
       "    </tr>\n",
       "    <tr>\n",
       "      <th>dependents</th>\n",
       "      <td>2.710505e-20</td>\n",
       "      <td>0.000000e+00</td>\n",
       "      <td>-2.220446e-16</td>\n",
       "      <td>2.775558e-17</td>\n",
       "      <td>3.885781e-16</td>\n",
       "      <td>2.775558e-17</td>\n",
       "      <td>-2.550044e-16</td>\n",
       "      <td>7.285839e-17</td>\n",
       "      <td>-2.515349e-17</td>\n",
       "      <td>2.220446e-16</td>\n",
       "      <td>3.122502e-17</td>\n",
       "      <td>4.683753e-16</td>\n",
       "      <td>-6.245005e-17</td>\n",
       "      <td>-1.457168e-16</td>\n",
       "      <td>5.065393e-16</td>\n",
       "      <td>4.475587e-16</td>\n",
       "      <td>-3.898203e-01</td>\n",
       "      <td>-8.997001e-01</td>\n",
       "      <td>-1.964174e-01</td>\n",
       "    </tr>\n",
       "    <tr>\n",
       "      <th>tenure</th>\n",
       "      <td>8.962857e-03</td>\n",
       "      <td>-4.419918e-01</td>\n",
       "      <td>8.963800e-01</td>\n",
       "      <td>-2.088114e-02</td>\n",
       "      <td>1.154759e-02</td>\n",
       "      <td>-8.182898e-04</td>\n",
       "      <td>6.065257e-03</td>\n",
       "      <td>-1.745246e-02</td>\n",
       "      <td>4.188367e-04</td>\n",
       "      <td>4.318539e-03</td>\n",
       "      <td>1.835837e-03</td>\n",
       "      <td>1.091208e-02</td>\n",
       "      <td>-3.575379e-04</td>\n",
       "      <td>-3.582540e-03</td>\n",
       "      <td>-2.195591e-04</td>\n",
       "      <td>-1.865566e-04</td>\n",
       "      <td>-8.805572e-16</td>\n",
       "      <td>1.780449e-16</td>\n",
       "      <td>1.098246e-16</td>\n",
       "    </tr>\n",
       "    <tr>\n",
       "      <th>phone_service</th>\n",
       "      <td>-0.000000e+00</td>\n",
       "      <td>0.000000e+00</td>\n",
       "      <td>1.084202e-19</td>\n",
       "      <td>-1.110223e-16</td>\n",
       "      <td>-6.245005e-17</td>\n",
       "      <td>1.665335e-16</td>\n",
       "      <td>1.942890e-16</td>\n",
       "      <td>1.110223e-16</td>\n",
       "      <td>-2.775558e-17</td>\n",
       "      <td>-1.110223e-16</td>\n",
       "      <td>-5.551115e-17</td>\n",
       "      <td>5.551115e-17</td>\n",
       "      <td>-1.942890e-16</td>\n",
       "      <td>-3.330669e-16</td>\n",
       "      <td>-1.942890e-16</td>\n",
       "      <td>1.665335e-16</td>\n",
       "      <td>-1.029808e-03</td>\n",
       "      <td>2.137164e-01</td>\n",
       "      <td>-9.768952e-01</td>\n",
       "    </tr>\n",
       "    <tr>\n",
       "      <th>multiple_lines</th>\n",
       "      <td>-8.741826e-05</td>\n",
       "      <td>-1.764310e-03</td>\n",
       "      <td>-5.696035e-03</td>\n",
       "      <td>-2.700293e-02</td>\n",
       "      <td>-1.024555e-01</td>\n",
       "      <td>3.185854e-03</td>\n",
       "      <td>-5.284583e-02</td>\n",
       "      <td>-8.091735e-03</td>\n",
       "      <td>4.407564e-02</td>\n",
       "      <td>7.094690e-01</td>\n",
       "      <td>-5.460185e-01</td>\n",
       "      <td>3.547980e-01</td>\n",
       "      <td>2.397581e-02</td>\n",
       "      <td>2.218970e-01</td>\n",
       "      <td>8.132809e-02</td>\n",
       "      <td>1.164995e-02</td>\n",
       "      <td>-1.720854e-15</td>\n",
       "      <td>9.803775e-16</td>\n",
       "      <td>3.730270e-16</td>\n",
       "    </tr>\n",
       "    <tr>\n",
       "      <th>internet_service</th>\n",
       "      <td>-5.735368e-05</td>\n",
       "      <td>-8.103677e-03</td>\n",
       "      <td>-2.082550e-03</td>\n",
       "      <td>-1.279681e-01</td>\n",
       "      <td>-4.982366e-01</td>\n",
       "      <td>-4.536032e-01</td>\n",
       "      <td>-2.238822e-01</td>\n",
       "      <td>-3.940878e-01</td>\n",
       "      <td>1.600493e-02</td>\n",
       "      <td>1.749302e-01</td>\n",
       "      <td>-4.596583e-02</td>\n",
       "      <td>-5.190682e-01</td>\n",
       "      <td>-3.039485e-03</td>\n",
       "      <td>-1.225169e-01</td>\n",
       "      <td>-7.707862e-02</td>\n",
       "      <td>-2.771266e-02</td>\n",
       "      <td>-3.088057e-15</td>\n",
       "      <td>1.018141e-15</td>\n",
       "      <td>1.992392e-16</td>\n",
       "    </tr>\n",
       "    <tr>\n",
       "      <th>online_security</th>\n",
       "      <td>9.611093e-05</td>\n",
       "      <td>-9.842196e-03</td>\n",
       "      <td>-3.563893e-03</td>\n",
       "      <td>-1.776767e-03</td>\n",
       "      <td>-3.094382e-01</td>\n",
       "      <td>8.118263e-01</td>\n",
       "      <td>-3.321640e-01</td>\n",
       "      <td>-3.496702e-01</td>\n",
       "      <td>1.654622e-02</td>\n",
       "      <td>-8.400109e-02</td>\n",
       "      <td>-1.312834e-02</td>\n",
       "      <td>-4.266651e-02</td>\n",
       "      <td>-3.636970e-03</td>\n",
       "      <td>5.563145e-02</td>\n",
       "      <td>-3.005416e-03</td>\n",
       "      <td>5.594579e-03</td>\n",
       "      <td>-7.644482e-16</td>\n",
       "      <td>1.066779e-16</td>\n",
       "      <td>1.090502e-16</td>\n",
       "    </tr>\n",
       "    <tr>\n",
       "      <th>online_backup</th>\n",
       "      <td>1.456334e-04</td>\n",
       "      <td>-5.652883e-03</td>\n",
       "      <td>-3.217151e-03</td>\n",
       "      <td>-4.194347e-02</td>\n",
       "      <td>-4.929242e-01</td>\n",
       "      <td>1.491814e-01</td>\n",
       "      <td>8.551184e-01</td>\n",
       "      <td>-2.072939e-02</td>\n",
       "      <td>1.349512e-02</td>\n",
       "      <td>-1.078881e-02</td>\n",
       "      <td>4.620174e-03</td>\n",
       "      <td>-8.816680e-03</td>\n",
       "      <td>-3.696593e-03</td>\n",
       "      <td>2.832393e-02</td>\n",
       "      <td>-6.322981e-03</td>\n",
       "      <td>-7.639895e-03</td>\n",
       "      <td>-1.609723e-16</td>\n",
       "      <td>-2.703676e-16</td>\n",
       "      <td>-3.161977e-17</td>\n",
       "    </tr>\n",
       "    <tr>\n",
       "      <th>device_protection</th>\n",
       "      <td>-4.108684e-05</td>\n",
       "      <td>7.644186e-03</td>\n",
       "      <td>2.545624e-03</td>\n",
       "      <td>4.485835e-02</td>\n",
       "      <td>2.571430e-01</td>\n",
       "      <td>9.881662e-02</td>\n",
       "      <td>1.251313e-01</td>\n",
       "      <td>-8.314635e-02</td>\n",
       "      <td>-6.484643e-03</td>\n",
       "      <td>9.947806e-02</td>\n",
       "      <td>-1.378227e-01</td>\n",
       "      <td>-3.078385e-01</td>\n",
       "      <td>-8.744989e-01</td>\n",
       "      <td>4.970069e-02</td>\n",
       "      <td>8.798232e-02</td>\n",
       "      <td>-2.841451e-02</td>\n",
       "      <td>2.162002e-15</td>\n",
       "      <td>-1.032393e-15</td>\n",
       "      <td>-1.299496e-17</td>\n",
       "    </tr>\n",
       "    <tr>\n",
       "      <th>tech_support</th>\n",
       "      <td>-1.819238e-05</td>\n",
       "      <td>9.774481e-03</td>\n",
       "      <td>4.260588e-03</td>\n",
       "      <td>3.369098e-02</td>\n",
       "      <td>2.418918e-01</td>\n",
       "      <td>-1.514328e-02</td>\n",
       "      <td>1.073913e-01</td>\n",
       "      <td>-1.928911e-01</td>\n",
       "      <td>5.002706e-03</td>\n",
       "      <td>-5.746075e-03</td>\n",
       "      <td>4.082370e-02</td>\n",
       "      <td>-2.612280e-01</td>\n",
       "      <td>1.971454e-01</td>\n",
       "      <td>7.935514e-01</td>\n",
       "      <td>-3.885527e-01</td>\n",
       "      <td>-4.174210e-02</td>\n",
       "      <td>-3.564071e-15</td>\n",
       "      <td>1.115202e-15</td>\n",
       "      <td>1.878705e-16</td>\n",
       "    </tr>\n",
       "    <tr>\n",
       "      <th>streaming_tv</th>\n",
       "      <td>-4.233200e-05</td>\n",
       "      <td>3.758905e-03</td>\n",
       "      <td>5.233572e-04</td>\n",
       "      <td>6.961632e-02</td>\n",
       "      <td>2.938751e-01</td>\n",
       "      <td>1.905933e-01</td>\n",
       "      <td>1.437248e-01</td>\n",
       "      <td>-2.582593e-02</td>\n",
       "      <td>9.451819e-03</td>\n",
       "      <td>2.457958e-01</td>\n",
       "      <td>-5.955658e-02</td>\n",
       "      <td>-3.469323e-01</td>\n",
       "      <td>3.174505e-01</td>\n",
       "      <td>-2.612975e-01</td>\n",
       "      <td>1.589322e-01</td>\n",
       "      <td>-6.873154e-01</td>\n",
       "      <td>-6.029716e-15</td>\n",
       "      <td>2.047612e-15</td>\n",
       "      <td>2.525598e-16</td>\n",
       "    </tr>\n",
       "    <tr>\n",
       "      <th>streaming_movies</th>\n",
       "      <td>-4.354029e-05</td>\n",
       "      <td>3.877182e-03</td>\n",
       "      <td>6.091174e-04</td>\n",
       "      <td>6.608284e-02</td>\n",
       "      <td>2.881478e-01</td>\n",
       "      <td>1.852805e-01</td>\n",
       "      <td>1.530092e-01</td>\n",
       "      <td>-2.416386e-02</td>\n",
       "      <td>1.298338e-02</td>\n",
       "      <td>2.491375e-01</td>\n",
       "      <td>-9.936733e-02</td>\n",
       "      <td>-3.510830e-01</td>\n",
       "      <td>2.457175e-01</td>\n",
       "      <td>-3.180377e-01</td>\n",
       "      <td>-1.446533e-01</td>\n",
       "      <td>6.902486e-01</td>\n",
       "      <td>-6.838791e-16</td>\n",
       "      <td>3.464228e-16</td>\n",
       "      <td>1.335063e-16</td>\n",
       "    </tr>\n",
       "    <tr>\n",
       "      <th>contract</th>\n",
       "      <td>1.645316e-04</td>\n",
       "      <td>-1.748969e-02</td>\n",
       "      <td>1.761028e-02</td>\n",
       "      <td>-1.956235e-02</td>\n",
       "      <td>-2.745554e-01</td>\n",
       "      <td>1.278434e-01</td>\n",
       "      <td>-1.715055e-01</td>\n",
       "      <td>7.978614e-01</td>\n",
       "      <td>-1.215661e-02</td>\n",
       "      <td>-4.092697e-02</td>\n",
       "      <td>-1.930037e-01</td>\n",
       "      <td>-4.138469e-01</td>\n",
       "      <td>1.387393e-02</td>\n",
       "      <td>1.753259e-01</td>\n",
       "      <td>2.050666e-03</td>\n",
       "      <td>1.196712e-03</td>\n",
       "      <td>-1.549557e-15</td>\n",
       "      <td>3.705712e-16</td>\n",
       "      <td>1.911274e-16</td>\n",
       "    </tr>\n",
       "    <tr>\n",
       "      <th>paperless_billing</th>\n",
       "      <td>3.447052e-05</td>\n",
       "      <td>6.328467e-03</td>\n",
       "      <td>3.185673e-03</td>\n",
       "      <td>1.939923e-02</td>\n",
       "      <td>7.761287e-02</td>\n",
       "      <td>-7.738575e-02</td>\n",
       "      <td>5.617310e-02</td>\n",
       "      <td>-1.552980e-01</td>\n",
       "      <td>-5.611318e-02</td>\n",
       "      <td>-5.565668e-01</td>\n",
       "      <td>-7.918902e-01</td>\n",
       "      <td>-7.505411e-03</td>\n",
       "      <td>9.319675e-02</td>\n",
       "      <td>-8.768594e-02</td>\n",
       "      <td>-5.317395e-02</td>\n",
       "      <td>-3.200882e-02</td>\n",
       "      <td>-5.622178e-16</td>\n",
       "      <td>5.785674e-17</td>\n",
       "      <td>-1.303023e-16</td>\n",
       "    </tr>\n",
       "    <tr>\n",
       "      <th>payment_method</th>\n",
       "      <td>-1.563066e-04</td>\n",
       "      <td>2.825646e-03</td>\n",
       "      <td>-2.313588e-02</td>\n",
       "      <td>-9.835278e-01</td>\n",
       "      <td>1.563083e-01</td>\n",
       "      <td>7.676970e-02</td>\n",
       "      <td>2.914657e-02</td>\n",
       "      <td>1.981389e-02</td>\n",
       "      <td>-1.432206e-02</td>\n",
       "      <td>-1.316397e-02</td>\n",
       "      <td>-6.474610e-03</td>\n",
       "      <td>-5.744079e-03</td>\n",
       "      <td>8.148984e-03</td>\n",
       "      <td>-5.424049e-03</td>\n",
       "      <td>3.426919e-03</td>\n",
       "      <td>-9.756129e-04</td>\n",
       "      <td>-4.779973e-16</td>\n",
       "      <td>2.245820e-16</td>\n",
       "      <td>-1.542790e-17</td>\n",
       "    </tr>\n",
       "    <tr>\n",
       "      <th>monthly_charges</th>\n",
       "      <td>8.656787e-03</td>\n",
       "      <td>8.965968e-01</td>\n",
       "      <td>4.420589e-01</td>\n",
       "      <td>-1.055255e-02</td>\n",
       "      <td>-1.934219e-02</td>\n",
       "      <td>6.066840e-03</td>\n",
       "      <td>-4.818470e-03</td>\n",
       "      <td>3.868071e-03</td>\n",
       "      <td>1.232180e-03</td>\n",
       "      <td>4.684172e-03</td>\n",
       "      <td>2.465048e-03</td>\n",
       "      <td>1.804610e-03</td>\n",
       "      <td>1.765692e-03</td>\n",
       "      <td>-5.166340e-03</td>\n",
       "      <td>3.100352e-04</td>\n",
       "      <td>-1.511440e-04</td>\n",
       "      <td>4.753329e-16</td>\n",
       "      <td>-2.793066e-16</td>\n",
       "      <td>-3.986687e-17</td>\n",
       "    </tr>\n",
       "    <tr>\n",
       "      <th>total_charges</th>\n",
       "      <td>9.999223e-01</td>\n",
       "      <td>-3.795409e-03</td>\n",
       "      <td>-1.186809e-02</td>\n",
       "      <td>1.321138e-04</td>\n",
       "      <td>2.341454e-04</td>\n",
       "      <td>-1.560957e-04</td>\n",
       "      <td>-7.251614e-05</td>\n",
       "      <td>6.416466e-06</td>\n",
       "      <td>-1.060072e-05</td>\n",
       "      <td>5.321236e-05</td>\n",
       "      <td>-4.172897e-05</td>\n",
       "      <td>-8.408476e-05</td>\n",
       "      <td>-2.439192e-05</td>\n",
       "      <td>3.954480e-05</td>\n",
       "      <td>-1.265185e-05</td>\n",
       "      <td>-8.576366e-07</td>\n",
       "      <td>1.242781e-16</td>\n",
       "      <td>9.697825e-19</td>\n",
       "      <td>-1.117807e-17</td>\n",
       "    </tr>\n",
       "  </tbody>\n",
       "</table>\n",
       "</div>"
      ],
      "text/plain": [
       "                            PC1           PC2           PC3           PC4  \\\n",
       "gender            -6.753369e-09 -3.572193e-04 -4.761319e-04 -1.077697e-02   \n",
       "senior_citizen     1.680736e-05  2.866770e-03  2.244735e-03  4.735772e-03   \n",
       "partner           -0.000000e+00 -1.082467e-15  5.689893e-16 -7.164408e-16   \n",
       "dependents         2.710505e-20  0.000000e+00 -2.220446e-16  2.775558e-17   \n",
       "tenure             8.962857e-03 -4.419918e-01  8.963800e-01 -2.088114e-02   \n",
       "phone_service     -0.000000e+00  0.000000e+00  1.084202e-19 -1.110223e-16   \n",
       "multiple_lines    -8.741826e-05 -1.764310e-03 -5.696035e-03 -2.700293e-02   \n",
       "internet_service  -5.735368e-05 -8.103677e-03 -2.082550e-03 -1.279681e-01   \n",
       "online_security    9.611093e-05 -9.842196e-03 -3.563893e-03 -1.776767e-03   \n",
       "online_backup      1.456334e-04 -5.652883e-03 -3.217151e-03 -4.194347e-02   \n",
       "device_protection -4.108684e-05  7.644186e-03  2.545624e-03  4.485835e-02   \n",
       "tech_support      -1.819238e-05  9.774481e-03  4.260588e-03  3.369098e-02   \n",
       "streaming_tv      -4.233200e-05  3.758905e-03  5.233572e-04  6.961632e-02   \n",
       "streaming_movies  -4.354029e-05  3.877182e-03  6.091174e-04  6.608284e-02   \n",
       "contract           1.645316e-04 -1.748969e-02  1.761028e-02 -1.956235e-02   \n",
       "paperless_billing  3.447052e-05  6.328467e-03  3.185673e-03  1.939923e-02   \n",
       "payment_method    -1.563066e-04  2.825646e-03 -2.313588e-02 -9.835278e-01   \n",
       "monthly_charges    8.656787e-03  8.965968e-01  4.420589e-01 -1.055255e-02   \n",
       "total_charges      9.999223e-01 -3.795409e-03 -1.186809e-02  1.321138e-04   \n",
       "\n",
       "                            PC5           PC6           PC7           PC8  \\\n",
       "gender             2.182351e-02 -1.397326e-02 -1.531263e-03  1.420921e-02   \n",
       "senior_citizen     4.111486e-02 -6.172048e-02  2.798029e-02 -1.222496e-01   \n",
       "partner           -2.105954e-15  3.475518e-15 -1.602288e-15  4.949600e-15   \n",
       "dependents         3.885781e-16  2.775558e-17 -2.550044e-16  7.285839e-17   \n",
       "tenure             1.154759e-02 -8.182898e-04  6.065257e-03 -1.745246e-02   \n",
       "phone_service     -6.245005e-17  1.665335e-16  1.942890e-16  1.110223e-16   \n",
       "multiple_lines    -1.024555e-01  3.185854e-03 -5.284583e-02 -8.091735e-03   \n",
       "internet_service  -4.982366e-01 -4.536032e-01 -2.238822e-01 -3.940878e-01   \n",
       "online_security   -3.094382e-01  8.118263e-01 -3.321640e-01 -3.496702e-01   \n",
       "online_backup     -4.929242e-01  1.491814e-01  8.551184e-01 -2.072939e-02   \n",
       "device_protection  2.571430e-01  9.881662e-02  1.251313e-01 -8.314635e-02   \n",
       "tech_support       2.418918e-01 -1.514328e-02  1.073913e-01 -1.928911e-01   \n",
       "streaming_tv       2.938751e-01  1.905933e-01  1.437248e-01 -2.582593e-02   \n",
       "streaming_movies   2.881478e-01  1.852805e-01  1.530092e-01 -2.416386e-02   \n",
       "contract          -2.745554e-01  1.278434e-01 -1.715055e-01  7.978614e-01   \n",
       "paperless_billing  7.761287e-02 -7.738575e-02  5.617310e-02 -1.552980e-01   \n",
       "payment_method     1.563083e-01  7.676970e-02  2.914657e-02  1.981389e-02   \n",
       "monthly_charges   -1.934219e-02  6.066840e-03 -4.818470e-03  3.868071e-03   \n",
       "total_charges      2.341454e-04 -1.560957e-04 -7.251614e-05  6.416466e-06   \n",
       "\n",
       "                            PC9          PC10          PC11          PC12  \\\n",
       "gender             9.967306e-01 -7.024061e-02 -2.106550e-02 -5.973240e-03   \n",
       "senior_citizen    -6.721324e-03 -9.938473e-02  2.527944e-02 -1.569901e-01   \n",
       "partner           -2.956348e-16  7.977776e-15 -3.239705e-15  3.389758e-15   \n",
       "dependents        -2.515349e-17  2.220446e-16  3.122502e-17  4.683753e-16   \n",
       "tenure             4.188367e-04  4.318539e-03  1.835837e-03  1.091208e-02   \n",
       "phone_service     -2.775558e-17 -1.110223e-16 -5.551115e-17  5.551115e-17   \n",
       "multiple_lines     4.407564e-02  7.094690e-01 -5.460185e-01  3.547980e-01   \n",
       "internet_service   1.600493e-02  1.749302e-01 -4.596583e-02 -5.190682e-01   \n",
       "online_security    1.654622e-02 -8.400109e-02 -1.312834e-02 -4.266651e-02   \n",
       "online_backup      1.349512e-02 -1.078881e-02  4.620174e-03 -8.816680e-03   \n",
       "device_protection -6.484643e-03  9.947806e-02 -1.378227e-01 -3.078385e-01   \n",
       "tech_support       5.002706e-03 -5.746075e-03  4.082370e-02 -2.612280e-01   \n",
       "streaming_tv       9.451819e-03  2.457958e-01 -5.955658e-02 -3.469323e-01   \n",
       "streaming_movies   1.298338e-02  2.491375e-01 -9.936733e-02 -3.510830e-01   \n",
       "contract          -1.215661e-02 -4.092697e-02 -1.930037e-01 -4.138469e-01   \n",
       "paperless_billing -5.611318e-02 -5.565668e-01 -7.918902e-01 -7.505411e-03   \n",
       "payment_method    -1.432206e-02 -1.316397e-02 -6.474610e-03 -5.744079e-03   \n",
       "monthly_charges    1.232180e-03  4.684172e-03  2.465048e-03  1.804610e-03   \n",
       "total_charges     -1.060072e-05  5.321236e-05 -4.172897e-05 -8.408476e-05   \n",
       "\n",
       "                           PC13          PC14          PC15          PC16  \\\n",
       "gender            -7.180509e-03 -7.017264e-03  3.711184e-03 -2.854268e-03   \n",
       "senior_citizen     1.600722e-01  3.028032e-01  8.829723e-01  2.158150e-01   \n",
       "partner           -2.729696e-15 -1.365563e-14 -4.426803e-14 -1.463077e-14   \n",
       "dependents        -6.245005e-17 -1.457168e-16  5.065393e-16  4.475587e-16   \n",
       "tenure            -3.575379e-04 -3.582540e-03 -2.195591e-04 -1.865566e-04   \n",
       "phone_service     -1.942890e-16 -3.330669e-16 -1.942890e-16  1.665335e-16   \n",
       "multiple_lines     2.397581e-02  2.218970e-01  8.132809e-02  1.164995e-02   \n",
       "internet_service  -3.039485e-03 -1.225169e-01 -7.707862e-02 -2.771266e-02   \n",
       "online_security   -3.636970e-03  5.563145e-02 -3.005416e-03  5.594579e-03   \n",
       "online_backup     -3.696593e-03  2.832393e-02 -6.322981e-03 -7.639895e-03   \n",
       "device_protection -8.744989e-01  4.970069e-02  8.798232e-02 -2.841451e-02   \n",
       "tech_support       1.971454e-01  7.935514e-01 -3.885527e-01 -4.174210e-02   \n",
       "streaming_tv       3.174505e-01 -2.612975e-01  1.589322e-01 -6.873154e-01   \n",
       "streaming_movies   2.457175e-01 -3.180377e-01 -1.446533e-01  6.902486e-01   \n",
       "contract           1.387393e-02  1.753259e-01  2.050666e-03  1.196712e-03   \n",
       "paperless_billing  9.319675e-02 -8.768594e-02 -5.317395e-02 -3.200882e-02   \n",
       "payment_method     8.148984e-03 -5.424049e-03  3.426919e-03 -9.756129e-04   \n",
       "monthly_charges    1.765692e-03 -5.166340e-03  3.100352e-04 -1.511440e-04   \n",
       "total_charges     -2.439192e-05  3.954480e-05 -1.265185e-05 -8.576366e-07   \n",
       "\n",
       "                           PC17          PC18          PC19  \n",
       "gender             7.505763e-16 -3.434564e-16 -7.226942e-17  \n",
       "senior_citizen     4.550317e-14 -1.811092e-14 -4.236503e-15  \n",
       "partner            9.208904e-01 -3.806114e-01 -8.423751e-02  \n",
       "dependents        -3.898203e-01 -8.997001e-01 -1.964174e-01  \n",
       "tenure            -8.805572e-16  1.780449e-16  1.098246e-16  \n",
       "phone_service     -1.029808e-03  2.137164e-01 -9.768952e-01  \n",
       "multiple_lines    -1.720854e-15  9.803775e-16  3.730270e-16  \n",
       "internet_service  -3.088057e-15  1.018141e-15  1.992392e-16  \n",
       "online_security   -7.644482e-16  1.066779e-16  1.090502e-16  \n",
       "online_backup     -1.609723e-16 -2.703676e-16 -3.161977e-17  \n",
       "device_protection  2.162002e-15 -1.032393e-15 -1.299496e-17  \n",
       "tech_support      -3.564071e-15  1.115202e-15  1.878705e-16  \n",
       "streaming_tv      -6.029716e-15  2.047612e-15  2.525598e-16  \n",
       "streaming_movies  -6.838791e-16  3.464228e-16  1.335063e-16  \n",
       "contract          -1.549557e-15  3.705712e-16  1.911274e-16  \n",
       "paperless_billing -5.622178e-16  5.785674e-17 -1.303023e-16  \n",
       "payment_method    -4.779973e-16  2.245820e-16 -1.542790e-17  \n",
       "monthly_charges    4.753329e-16 -2.793066e-16 -3.986687e-17  \n",
       "total_charges      1.242781e-16  9.697825e-19 -1.117807e-17  "
      ]
     },
     "execution_count": 57,
     "metadata": {},
     "output_type": "execute_result"
    }
   ],
   "source": [
    "factor_loadings = pd.DataFrame(\n",
    "    pca.components_.T,\n",
    "    \n",
    "    columns = component_names,\n",
    "    index   = feature_extraction_df.columns,\n",
    ")\n",
    "\n",
    "factor_loadings"
   ]
  },
  {
   "cell_type": "markdown",
   "metadata": {},
   "source": [
    "### Concate PCA Value with Churn Feature"
   ]
  },
  {
   "cell_type": "code",
   "execution_count": 58,
   "metadata": {
    "ExecuteTime": {
     "end_time": "2021-03-30T03:08:18.750764Z",
     "start_time": "2021-03-30T03:08:18.715491Z"
    }
   },
   "outputs": [
    {
     "data": {
      "text/html": [
       "<div>\n",
       "<style scoped>\n",
       "    .dataframe tbody tr th:only-of-type {\n",
       "        vertical-align: middle;\n",
       "    }\n",
       "\n",
       "    .dataframe tbody tr th {\n",
       "        vertical-align: top;\n",
       "    }\n",
       "\n",
       "    .dataframe thead th {\n",
       "        text-align: right;\n",
       "    }\n",
       "</style>\n",
       "<table border=\"1\" class=\"dataframe\">\n",
       "  <thead>\n",
       "    <tr style=\"text-align: right;\">\n",
       "      <th></th>\n",
       "      <th>PC1</th>\n",
       "      <th>PC2</th>\n",
       "      <th>PC3</th>\n",
       "      <th>PC4</th>\n",
       "      <th>PC5</th>\n",
       "      <th>PC6</th>\n",
       "      <th>PC7</th>\n",
       "      <th>PC8</th>\n",
       "      <th>PC9</th>\n",
       "      <th>PC10</th>\n",
       "      <th>PC11</th>\n",
       "      <th>PC12</th>\n",
       "      <th>PC13</th>\n",
       "      <th>PC14</th>\n",
       "      <th>PC15</th>\n",
       "      <th>PC16</th>\n",
       "      <th>PC17</th>\n",
       "      <th>PC18</th>\n",
       "      <th>PC19</th>\n",
       "      <th>churn</th>\n",
       "    </tr>\n",
       "  </thead>\n",
       "  <tbody>\n",
       "    <tr>\n",
       "      <th>0</th>\n",
       "      <td>-2250.140045</td>\n",
       "      <td>-8.858334</td>\n",
       "      <td>-16.866177</td>\n",
       "      <td>0.537938</td>\n",
       "      <td>0.863554</td>\n",
       "      <td>0.285455</td>\n",
       "      <td>2.012932</td>\n",
       "      <td>0.231845</td>\n",
       "      <td>-0.575978</td>\n",
       "      <td>-0.659881</td>\n",
       "      <td>-0.069719</td>\n",
       "      <td>-0.326789</td>\n",
       "      <td>-0.046973</td>\n",
       "      <td>0.067055</td>\n",
       "      <td>-0.258124</td>\n",
       "      <td>-0.061853</td>\n",
       "      <td>1.834687e-16</td>\n",
       "      <td>-7.279575e-17</td>\n",
       "      <td>1.109482e-17</td>\n",
       "      <td>0</td>\n",
       "    </tr>\n",
       "    <tr>\n",
       "      <th>1</th>\n",
       "      <td>-343.307955</td>\n",
       "      <td>-6.421186</td>\n",
       "      <td>2.050109</td>\n",
       "      <td>-1.210040</td>\n",
       "      <td>1.000175</td>\n",
       "      <td>1.622959</td>\n",
       "      <td>-0.808348</td>\n",
       "      <td>0.177327</td>\n",
       "      <td>0.534054</td>\n",
       "      <td>0.606820</td>\n",
       "      <td>0.105766</td>\n",
       "      <td>0.098789</td>\n",
       "      <td>0.762816</td>\n",
       "      <td>0.361595</td>\n",
       "      <td>-0.218744</td>\n",
       "      <td>0.022169</td>\n",
       "      <td>-1.145575e-16</td>\n",
       "      <td>-1.244364e-17</td>\n",
       "      <td>-9.051102e-18</td>\n",
       "      <td>0</td>\n",
       "    </tr>\n",
       "    <tr>\n",
       "      <th>2</th>\n",
       "      <td>-2172.079419</td>\n",
       "      <td>11.903544</td>\n",
       "      <td>-6.320750</td>\n",
       "      <td>-0.750781</td>\n",
       "      <td>-0.114083</td>\n",
       "      <td>2.107724</td>\n",
       "      <td>1.208150</td>\n",
       "      <td>-0.365683</td>\n",
       "      <td>0.512765</td>\n",
       "      <td>-0.080937</td>\n",
       "      <td>-0.611786</td>\n",
       "      <td>-0.021365</td>\n",
       "      <td>0.010818</td>\n",
       "      <td>0.263277</td>\n",
       "      <td>-0.169433</td>\n",
       "      <td>-0.046724</td>\n",
       "      <td>2.565501e-14</td>\n",
       "      <td>-4.615056e-16</td>\n",
       "      <td>2.621772e-16</td>\n",
       "      <td>1</td>\n",
       "    </tr>\n",
       "    <tr>\n",
       "      <th>3</th>\n",
       "      <td>-376.133063</td>\n",
       "      <td>-24.310237</td>\n",
       "      <td>5.894243</td>\n",
       "      <td>1.654425</td>\n",
       "      <td>0.794520</td>\n",
       "      <td>1.311847</td>\n",
       "      <td>-0.810647</td>\n",
       "      <td>0.070013</td>\n",
       "      <td>0.514845</td>\n",
       "      <td>-0.080275</td>\n",
       "      <td>0.615834</td>\n",
       "      <td>0.118805</td>\n",
       "      <td>0.488248</td>\n",
       "      <td>-0.602599</td>\n",
       "      <td>0.071657</td>\n",
       "      <td>0.055378</td>\n",
       "      <td>-7.064958e-15</td>\n",
       "      <td>-1.282951e-15</td>\n",
       "      <td>9.775247e-16</td>\n",
       "      <td>0</td>\n",
       "    </tr>\n",
       "    <tr>\n",
       "      <th>4</th>\n",
       "      <td>-2138.236555</td>\n",
       "      <td>26.903713</td>\n",
       "      <td>0.763079</td>\n",
       "      <td>0.029638</td>\n",
       "      <td>0.496248</td>\n",
       "      <td>-0.233726</td>\n",
       "      <td>-0.172891</td>\n",
       "      <td>0.012398</td>\n",
       "      <td>-0.493317</td>\n",
       "      <td>0.447699</td>\n",
       "      <td>-0.573066</td>\n",
       "      <td>-0.398175</td>\n",
       "      <td>0.050407</td>\n",
       "      <td>-0.100429</td>\n",
       "      <td>-0.230195</td>\n",
       "      <td>-0.069092</td>\n",
       "      <td>-1.422434e-17</td>\n",
       "      <td>-5.338028e-17</td>\n",
       "      <td>-3.077091e-18</td>\n",
       "      <td>1</td>\n",
       "    </tr>\n",
       "  </tbody>\n",
       "</table>\n",
       "</div>"
      ],
      "text/plain": [
       "           PC1        PC2        PC3       PC4       PC5       PC6       PC7  \\\n",
       "0 -2250.140045  -8.858334 -16.866177  0.537938  0.863554  0.285455  2.012932   \n",
       "1  -343.307955  -6.421186   2.050109 -1.210040  1.000175  1.622959 -0.808348   \n",
       "2 -2172.079419  11.903544  -6.320750 -0.750781 -0.114083  2.107724  1.208150   \n",
       "3  -376.133063 -24.310237   5.894243  1.654425  0.794520  1.311847 -0.810647   \n",
       "4 -2138.236555  26.903713   0.763079  0.029638  0.496248 -0.233726 -0.172891   \n",
       "\n",
       "        PC8       PC9      PC10      PC11      PC12      PC13      PC14  \\\n",
       "0  0.231845 -0.575978 -0.659881 -0.069719 -0.326789 -0.046973  0.067055   \n",
       "1  0.177327  0.534054  0.606820  0.105766  0.098789  0.762816  0.361595   \n",
       "2 -0.365683  0.512765 -0.080937 -0.611786 -0.021365  0.010818  0.263277   \n",
       "3  0.070013  0.514845 -0.080275  0.615834  0.118805  0.488248 -0.602599   \n",
       "4  0.012398 -0.493317  0.447699 -0.573066 -0.398175  0.050407 -0.100429   \n",
       "\n",
       "       PC15      PC16          PC17          PC18          PC19  churn  \n",
       "0 -0.258124 -0.061853  1.834687e-16 -7.279575e-17  1.109482e-17      0  \n",
       "1 -0.218744  0.022169 -1.145575e-16 -1.244364e-17 -9.051102e-18      0  \n",
       "2 -0.169433 -0.046724  2.565501e-14 -4.615056e-16  2.621772e-16      1  \n",
       "3  0.071657  0.055378 -7.064958e-15 -1.282951e-15  9.775247e-16      0  \n",
       "4 -0.230195 -0.069092 -1.422434e-17 -5.338028e-17 -3.077091e-18      1  "
      ]
     },
     "execution_count": 58,
     "metadata": {},
     "output_type": "execute_result"
    }
   ],
   "source": [
    "PCA_df = pd.concat([X_pca, feature_tranformation_df['churn']], axis=1)\n",
    "PCA_df.head()"
   ]
  },
  {
   "cell_type": "markdown",
   "metadata": {},
   "source": [
    "### Save PCA Value"
   ]
  },
  {
   "cell_type": "code",
   "execution_count": 59,
   "metadata": {
    "ExecuteTime": {
     "end_time": "2021-03-30T03:08:19.050765Z",
     "start_time": "2021-03-30T03:08:18.750764Z"
    }
   },
   "outputs": [],
   "source": [
    "PCA_df.to_csv('../datasets/PCA_telco_customer_churn.csv', index=False)"
   ]
  },
  {
   "cell_type": "markdown",
   "metadata": {
    "ExecuteTime": {
     "end_time": "2021-03-21T13:25:23.036536Z",
     "start_time": "2021-03-21T13:25:23.026745Z"
    }
   },
   "source": [
    "## Feature Selection"
   ]
  },
  {
   "cell_type": "code",
   "execution_count": 60,
   "metadata": {
    "ExecuteTime": {
     "end_time": "2021-03-30T03:08:19.070788Z",
     "start_time": "2021-03-30T03:08:19.050765Z"
    }
   },
   "outputs": [],
   "source": [
    "feature_selection_df = feature_tranformation_df"
   ]
  },
  {
   "cell_type": "markdown",
   "metadata": {},
   "source": [
    "### Pearson Correlation"
   ]
  },
  {
   "cell_type": "code",
   "execution_count": 61,
   "metadata": {
    "ExecuteTime": {
     "end_time": "2021-03-30T03:08:22.090692Z",
     "start_time": "2021-03-30T03:08:19.070788Z"
    }
   },
   "outputs": [
    {
     "data": {
      "text/plain": [
       "<matplotlib.axes._subplots.AxesSubplot at 0x1e78f023730>"
      ]
     },
     "execution_count": 61,
     "metadata": {},
     "output_type": "execute_result"
    },
    {
     "data": {
      "image/png": "[encoded data removed]",
      "text/plain": [
       "<Figure size 1440x1440 with 2 Axes>"
      ]
     },
     "metadata": {},
     "output_type": "display_data"
    }
   ],
   "source": [
    "sns.set(rc={'figure.figsize':(20, 20)})\n",
    "sns.heatmap(feature_selection_df.corr(), annot=True)"
   ]
  },
  {
   "cell_type": "markdown",
   "metadata": {},
   "source": [
    "### Spearman Correlation (Non-Linier)"
   ]
  },
  {
   "cell_type": "code",
   "execution_count": 62,
   "metadata": {
    "ExecuteTime": {
     "end_time": "2021-03-30T03:08:24.900578Z",
     "start_time": "2021-03-30T03:08:22.090692Z"
    },
    "scrolled": false
   },
   "outputs": [
    {
     "data": {
      "text/plain": [
       "<matplotlib.axes._subplots.AxesSubplot at 0x1e78eee5d30>"
      ]
     },
     "execution_count": 62,
     "metadata": {},
     "output_type": "execute_result"
    },
    {
     "data": {
      "image/png": "[encoded data removed]",
      "text/plain": [
       "<Figure size 1440x1440 with 2 Axes>"
      ]
     },
     "metadata": {},
     "output_type": "display_data"
    }
   ],
   "source": [
    "sns.heatmap(feature_selection_df.corr('spearman'), annot=True)"
   ]
  },
  {
   "cell_type": "markdown",
   "metadata": {},
   "source": [
    "### Mutual Information"
   ]
  },
  {
   "cell_type": "code",
   "execution_count": 63,
   "metadata": {
    "ExecuteTime": {
     "end_time": "2021-03-30T03:08:26.330465Z",
     "start_time": "2021-03-30T03:08:24.900578Z"
    },
    "scrolled": false
   },
   "outputs": [
    {
     "data": {
      "image/png": "[encoded data removed]",
      "text/plain": [
       "<Figure size 1440x1440 with 1 Axes>"
      ]
     },
     "metadata": {},
     "output_type": "display_data"
    }
   ],
   "source": [
    "X = feature_selection_df.iloc[:, 1:20]\n",
    "y = feature_selection_df.iloc[:, 20:21]\n",
    "importance = mutual_info_classif(X, np.ravel(y))\n",
    "\n",
    "feat_importance = pd.Series(importance, feature_selection_df.columns[0:19])\n",
    "feat_importance.plot(kind='barh')\n",
    "plt.show()"
   ]
  },
  {
   "cell_type": "markdown",
   "metadata": {},
   "source": [
    "### Seleksi fitur berdasarkan korelasi positif terhadap target churn"
   ]
  },
  {
   "cell_type": "code",
   "execution_count": 64,
   "metadata": {
    "ExecuteTime": {
     "end_time": "2021-03-30T03:08:26.350357Z",
     "start_time": "2021-03-30T03:08:26.330465Z"
    }
   },
   "outputs": [],
   "source": [
    "feature_selection_df = feature_tranformation_df[['senior_citizen', 'dependents', 'tenure', 'multiple_lines', 'streaming_tv', 'streaming_movies', 'paperless_billing', 'payment_method', 'monthly_charges', 'churn']]"
   ]
  },
  {
   "cell_type": "code",
   "execution_count": 65,
   "metadata": {
    "ExecuteTime": {
     "end_time": "2021-03-30T03:08:26.365639Z",
     "start_time": "2021-03-30T03:08:26.350357Z"
    }
   },
   "outputs": [
    {
     "data": {
      "text/html": [
       "<div>\n",
       "<style scoped>\n",
       "    .dataframe tbody tr th:only-of-type {\n",
       "        vertical-align: middle;\n",
       "    }\n",
       "\n",
       "    .dataframe tbody tr th {\n",
       "        vertical-align: top;\n",
       "    }\n",
       "\n",
       "    .dataframe thead th {\n",
       "        text-align: right;\n",
       "    }\n",
       "</style>\n",
       "<table border=\"1\" class=\"dataframe\">\n",
       "  <thead>\n",
       "    <tr style=\"text-align: right;\">\n",
       "      <th></th>\n",
       "      <th>senior_citizen</th>\n",
       "      <th>dependents</th>\n",
       "      <th>tenure</th>\n",
       "      <th>multiple_lines</th>\n",
       "      <th>streaming_tv</th>\n",
       "      <th>streaming_movies</th>\n",
       "      <th>paperless_billing</th>\n",
       "      <th>payment_method</th>\n",
       "      <th>monthly_charges</th>\n",
       "      <th>churn</th>\n",
       "    </tr>\n",
       "  </thead>\n",
       "  <tbody>\n",
       "    <tr>\n",
       "      <th>0</th>\n",
       "      <td>0</td>\n",
       "      <td>0</td>\n",
       "      <td>1</td>\n",
       "      <td>0</td>\n",
       "      <td>1</td>\n",
       "      <td>1</td>\n",
       "      <td>1</td>\n",
       "      <td>2</td>\n",
       "      <td>29.85</td>\n",
       "      <td>0</td>\n",
       "    </tr>\n",
       "    <tr>\n",
       "      <th>1</th>\n",
       "      <td>0</td>\n",
       "      <td>0</td>\n",
       "      <td>34</td>\n",
       "      <td>1</td>\n",
       "      <td>1</td>\n",
       "      <td>1</td>\n",
       "      <td>0</td>\n",
       "      <td>3</td>\n",
       "      <td>56.95</td>\n",
       "      <td>0</td>\n",
       "    </tr>\n",
       "    <tr>\n",
       "      <th>2</th>\n",
       "      <td>0</td>\n",
       "      <td>0</td>\n",
       "      <td>2</td>\n",
       "      <td>1</td>\n",
       "      <td>1</td>\n",
       "      <td>1</td>\n",
       "      <td>1</td>\n",
       "      <td>3</td>\n",
       "      <td>53.85</td>\n",
       "      <td>1</td>\n",
       "    </tr>\n",
       "    <tr>\n",
       "      <th>3</th>\n",
       "      <td>0</td>\n",
       "      <td>0</td>\n",
       "      <td>45</td>\n",
       "      <td>0</td>\n",
       "      <td>1</td>\n",
       "      <td>1</td>\n",
       "      <td>0</td>\n",
       "      <td>0</td>\n",
       "      <td>42.30</td>\n",
       "      <td>0</td>\n",
       "    </tr>\n",
       "    <tr>\n",
       "      <th>4</th>\n",
       "      <td>0</td>\n",
       "      <td>0</td>\n",
       "      <td>2</td>\n",
       "      <td>1</td>\n",
       "      <td>1</td>\n",
       "      <td>1</td>\n",
       "      <td>1</td>\n",
       "      <td>2</td>\n",
       "      <td>70.70</td>\n",
       "      <td>1</td>\n",
       "    </tr>\n",
       "  </tbody>\n",
       "</table>\n",
       "</div>"
      ],
      "text/plain": [
       "   senior_citizen  dependents  tenure  multiple_lines  streaming_tv  \\\n",
       "0               0           0       1               0             1   \n",
       "1               0           0      34               1             1   \n",
       "2               0           0       2               1             1   \n",
       "3               0           0      45               0             1   \n",
       "4               0           0       2               1             1   \n",
       "\n",
       "   streaming_movies  paperless_billing  payment_method  monthly_charges  churn  \n",
       "0                 1                  1               2            29.85      0  \n",
       "1                 1                  0               3            56.95      0  \n",
       "2                 1                  1               3            53.85      1  \n",
       "3                 1                  0               0            42.30      0  \n",
       "4                 1                  1               2            70.70      1  "
      ]
     },
     "execution_count": 65,
     "metadata": {},
     "output_type": "execute_result"
    }
   ],
   "source": [
    "feature_selection_df.head()"
   ]
  },
  {
   "cell_type": "markdown",
   "metadata": {},
   "source": [
    "### Save feature selection"
   ]
  },
  {
   "cell_type": "code",
   "execution_count": 66,
   "metadata": {
    "ExecuteTime": {
     "end_time": "2021-03-30T03:08:26.420475Z",
     "start_time": "2021-03-30T03:08:26.370708Z"
    }
   },
   "outputs": [],
   "source": [
    "feature_selection_df.to_csv('../datasets/feature_engineering_telco_customer_churn.csv', index=False)"
   ]
  },
  {
   "cell_type": "markdown",
   "metadata": {},
   "source": [
    "# Split dataset"
   ]
  },
  {
   "cell_type": "markdown",
   "metadata": {},
   "source": [
    "## EDA\n"
   ]
  },
  {
   "cell_type": "markdown",
   "metadata": {
    "ExecuteTime": {
     "end_time": "2021-03-29T03:53:59.599355Z",
     "start_time": "2021-03-29T03:53:59.579633Z"
    }
   },
   "source": [
    "### Split feature and target"
   ]
  },
  {
   "cell_type": "code",
   "execution_count": 67,
   "metadata": {
    "ExecuteTime": {
     "end_time": "2021-03-30T03:08:26.460387Z",
     "start_time": "2021-03-30T03:08:26.423007Z"
    }
   },
   "outputs": [],
   "source": [
    "EDA_df = pd.read_csv('../datasets/EDA_df.csv')\n",
    "X_EDA = EDA_df.iloc[:, 0:20]\n",
    "y_EDA = EDA_df.iloc[:, 20:21]\n",
    "\n",
    "X_EDA_train, X_EDA_test, y_EDA_train, y_EDA_test = train_test_split(X_EDA, y_EDA, test_size=0.2, random_state=42)"
   ]
  },
  {
   "cell_type": "markdown",
   "metadata": {},
   "source": [
    "### Show composostion train and test dataset"
   ]
  },
  {
   "cell_type": "code",
   "execution_count": 68,
   "metadata": {
    "ExecuteTime": {
     "end_time": "2021-03-30T03:08:26.480720Z",
     "start_time": "2021-03-30T03:08:26.460387Z"
    }
   },
   "outputs": [
    {
     "name": "stdout",
     "output_type": "stream",
     "text": [
      "Train dataset\n",
      "X_EDA_train: (5634, 20)\n",
      "y_EDA_train: (5634, 1)\n",
      "\n",
      "Test dataset\n",
      "X_EDA_test: (1409, 20)\n",
      "y_EDA_test: (1409, 1)\n"
     ]
    }
   ],
   "source": [
    "print(f'Train dataset')\n",
    "print(f'X_EDA_train: {X_EDA_train.shape}')\n",
    "print(f'y_EDA_train: {y_EDA_train.shape}')\n",
    "\n",
    "print(f'\\nTest dataset')\n",
    "print(f'X_EDA_test: {X_EDA_test.shape}')\n",
    "print(f'y_EDA_test: {y_EDA_test.shape}')"
   ]
  },
  {
   "cell_type": "markdown",
   "metadata": {},
   "source": [
    "### Concate X_train and y_train / X_test and y_test"
   ]
  },
  {
   "cell_type": "code",
   "execution_count": 69,
   "metadata": {
    "ExecuteTime": {
     "end_time": "2021-03-30T03:08:26.500670Z",
     "start_time": "2021-03-30T03:08:26.480720Z"
    }
   },
   "outputs": [],
   "source": [
    "EDA_train_df = pd.concat([X_EDA_train, y_EDA_train], axis=1)\n",
    "EDA_test_df  = pd.concat([X_EDA_test, y_EDA_test], axis=1)"
   ]
  },
  {
   "cell_type": "markdown",
   "metadata": {},
   "source": [
    "### Save train and test dataset"
   ]
  },
  {
   "cell_type": "code",
   "execution_count": 70,
   "metadata": {
    "ExecuteTime": {
     "end_time": "2021-03-30T03:08:26.550708Z",
     "start_time": "2021-03-30T03:08:26.500670Z"
    }
   },
   "outputs": [],
   "source": [
    "EDA_train_df.to_csv('../datasets/train/EDA_train.csv', index=False)\n",
    "EDA_test_df.to_csv('../datasets/test/EDA_test.csv', index=False)"
   ]
  },
  {
   "cell_type": "markdown",
   "metadata": {},
   "source": [
    "## Feature Engineering"
   ]
  },
  {
   "cell_type": "markdown",
   "metadata": {},
   "source": [
    "### Split feature and target"
   ]
  },
  {
   "cell_type": "code",
   "execution_count": 71,
   "metadata": {
    "ExecuteTime": {
     "end_time": "2021-03-30T03:08:26.590474Z",
     "start_time": "2021-03-30T03:08:26.550708Z"
    }
   },
   "outputs": [],
   "source": [
    "feature_engineering = pd.read_csv('../datasets/feature_engineering_telco_customer_churn.csv')\n",
    "X = feature_engineering.iloc[:, 0:8]\n",
    "y = feature_engineering.iloc[:, 8:9]\n",
    "\n",
    "X_feature_engineering_train, X_feature_engineering_test, y_feature_engineering_train, y_feature_engineering_test = train_test_split(X, y, test_size=0.2, random_state=42)"
   ]
  },
  {
   "cell_type": "markdown",
   "metadata": {},
   "source": [
    "### Show composostion train and test dataset"
   ]
  },
  {
   "cell_type": "code",
   "execution_count": 72,
   "metadata": {
    "ExecuteTime": {
     "end_time": "2021-03-30T03:08:26.605688Z",
     "start_time": "2021-03-30T03:08:26.590474Z"
    }
   },
   "outputs": [
    {
     "name": "stdout",
     "output_type": "stream",
     "text": [
      "Train dataset\n",
      "X_feature_engineering_train: (5634, 8)\n",
      "y_feature_engineering_train: (5634, 1)\n",
      "\n",
      "Test dataset\n",
      "X_feature_engineering_test: (1409, 8)\n",
      "y_feature_engineering_test: (1409, 1)\n"
     ]
    }
   ],
   "source": [
    "print(f'Train dataset')\n",
    "print(f'X_feature_engineering_train: {X_feature_engineering_train.shape}')\n",
    "print(f'y_feature_engineering_train: {y_feature_engineering_train.shape}')\n",
    "\n",
    "print(f'\\nTest dataset')\n",
    "print(f'X_feature_engineering_test: {X_feature_engineering_test.shape}')\n",
    "print(f'y_feature_engineering_test: {y_feature_engineering_test.shape}')"
   ]
  },
  {
   "cell_type": "markdown",
   "metadata": {},
   "source": [
    "### Concate X_train and y_train / X_test and y_test"
   ]
  },
  {
   "cell_type": "code",
   "execution_count": 73,
   "metadata": {
    "ExecuteTime": {
     "end_time": "2021-03-30T03:08:26.623087Z",
     "start_time": "2021-03-30T03:08:26.605688Z"
    }
   },
   "outputs": [],
   "source": [
    "feature_engineering_train_df = pd.concat([X_feature_engineering_train, y_feature_engineering_train], axis=1)\n",
    "feature_engineering_test_df  = pd.concat([X_feature_engineering_test, y_feature_engineering_test], axis=1)"
   ]
  },
  {
   "cell_type": "markdown",
   "metadata": {
    "ExecuteTime": {
     "end_time": "2021-03-29T06:01:28.081880Z",
     "start_time": "2021-03-29T06:01:28.065989Z"
    }
   },
   "source": [
    "### Save train and test dataset"
   ]
  },
  {
   "cell_type": "code",
   "execution_count": 74,
   "metadata": {
    "ExecuteTime": {
     "end_time": "2021-03-30T03:08:26.655627Z",
     "start_time": "2021-03-30T03:08:26.623087Z"
    }
   },
   "outputs": [],
   "source": [
    "feature_engineering_train_df.to_csv('../datasets/train/feature_engineering_train.csv', index=False)\n",
    "feature_engineering_test_df.to_csv('../datasets/test/feature_engineering_test.csv', index=False)"
   ]
  },
  {
   "cell_type": "markdown",
   "metadata": {},
   "source": [
    "## PCA"
   ]
  },
  {
   "cell_type": "markdown",
   "metadata": {},
   "source": [
    "### Split feature and target"
   ]
  },
  {
   "cell_type": "code",
   "execution_count": 75,
   "metadata": {
    "ExecuteTime": {
     "end_time": "2021-03-30T03:08:26.710779Z",
     "start_time": "2021-03-30T03:08:26.655627Z"
    }
   },
   "outputs": [],
   "source": [
    "PCA_df = pd.read_csv('../datasets/PCA_telco_customer_churn.csv')\n",
    "X_PCA = PCA_df.iloc[:, 0:19]\n",
    "y_PCA = PCA_df.iloc[:, 19:20]\n",
    "\n",
    "X_PCA_train, X_PCA_test, y_PCA_train, y_PCA_test = train_test_split(X_PCA, y_PCA, test_size=0.2, random_state=42)"
   ]
  },
  {
   "cell_type": "markdown",
   "metadata": {},
   "source": [
    "### Show composostion train and test dataset"
   ]
  },
  {
   "cell_type": "code",
   "execution_count": 76,
   "metadata": {
    "ExecuteTime": {
     "end_time": "2021-03-30T03:08:26.730715Z",
     "start_time": "2021-03-30T03:08:26.710779Z"
    }
   },
   "outputs": [
    {
     "name": "stdout",
     "output_type": "stream",
     "text": [
      "Train dataset\n",
      "X_EDA_train: (5634, 19)\n",
      "y_EDA_train: (5634, 1)\n",
      "\n",
      "Test dataset\n",
      "X_EDA_test: (1409, 19)\n",
      "y_EDA_test: (1409, 1)\n"
     ]
    }
   ],
   "source": [
    "print(f'Train dataset')\n",
    "print(f'X_EDA_train: {X_PCA_train.shape}')\n",
    "print(f'y_EDA_train: {y_PCA_train.shape}')\n",
    "\n",
    "print(f'\\nTest dataset')\n",
    "print(f'X_EDA_test: {X_PCA_test.shape}')\n",
    "print(f'y_EDA_test: {y_PCA_test.shape}')"
   ]
  },
  {
   "cell_type": "markdown",
   "metadata": {},
   "source": [
    "### Concate X_train and y_train / X_test and y_test"
   ]
  },
  {
   "cell_type": "code",
   "execution_count": 77,
   "metadata": {
    "ExecuteTime": {
     "end_time": "2021-03-30T03:08:26.750735Z",
     "start_time": "2021-03-30T03:08:26.730715Z"
    }
   },
   "outputs": [],
   "source": [
    "PCA_train_df = pd.concat([X_PCA_train, y_PCA_train], axis=1)\n",
    "PCA_test_df  = pd.concat([X_PCA_test, y_PCA_test], axis=1)"
   ]
  },
  {
   "cell_type": "markdown",
   "metadata": {},
   "source": [
    "### Save train and test dataset"
   ]
  },
  {
   "cell_type": "code",
   "execution_count": 78,
   "metadata": {
    "ExecuteTime": {
     "end_time": "2021-03-30T03:08:27.010958Z",
     "start_time": "2021-03-30T03:08:26.750735Z"
    }
   },
   "outputs": [],
   "source": [
    "PCA_train_df.to_csv('../datasets/train/PCA_train.csv', index=False)\n",
    "PCA_test_df.to_csv('../datasets/test/PCA_test.csv', index=False)"
   ]
  }
 ],
 "metadata": {
  "celltoolbar": "Slideshow",
  "kernelspec": {
   "display_name": "Python 3",
   "language": "python",
   "name": "python3"
  },
  "language_info": {
   "codemirror_mode": {
    "name": "ipython",
    "version": 3
   },
   "file_extension": ".py",
   "mimetype": "text/x-python",
   "name": "python",
   "nbconvert_exporter": "python",
   "pygments_lexer": "ipython3",
   "version": "3.8.3"
  },
  "toc": {
   "base_numbering": 1,
   "nav_menu": {},
   "number_sections": true,
   "sideBar": true,
   "skip_h1_title": false,
   "title_cell": "Table of Contents",
   "title_sidebar": "Contents",
   "toc_cell": false,
   "toc_position": {
    "height": "calc(100% - 180px)",
    "left": "10px",
    "top": "150px",
    "width": "304.667px"
   },
   "toc_section_display": true,
   "toc_window_display": true
  }
 },
 "nbformat": 4,
 "nbformat_minor": 4
}
