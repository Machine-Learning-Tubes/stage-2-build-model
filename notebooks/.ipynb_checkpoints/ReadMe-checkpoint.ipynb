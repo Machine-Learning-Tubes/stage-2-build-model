{
 "cells": [
  {
   "cell_type": "markdown",
   "metadata": {
    "slideshow": {
     "slide_type": "slide"
    }
   },
   "source": [
    "# Contributors\n",
    "- 1117041 – Alfiyanto Kondolele\n",
    "- 1118002 – Steven Wijaya\n",
    "- 1118003 – Anthony Wijaya\n",
    "- 1118010 – Dave Septian N.\n",
    "- 1118042 – Yoel Agustinus\n",
    "- 1118044 – Reynold Yehezkiel"
   ]
  },
  {
   "cell_type": "markdown",
   "metadata": {
    "slideshow": {
     "slide_type": "slide"
    }
   },
   "source": [
    "# Kesan\n",
    "- Tahap data preprocessing dan evaluasi model adalah tahap yang paling menghabiskan banyak waktu, pikiran, dan tenaga."
   ]
  },
  {
   "cell_type": "markdown",
   "metadata": {
    "slideshow": {
     "slide_type": "slide"
    }
   },
   "source": [
    "# Thanks to\n",
    "- Tuhan Yang Maha Esa untuk penyertaan-Nya dalam proyek ini.\n",
    "- Ventje Jeremias Lewi Engel, selaku dosen dari matakuliah Machine Learning yang telah membimbing dari awal sampai akhir, sehingga project Machine Learning ini dapat selesai dengan baik.\n",
    "- Semua anggota tim yang luar biasa, yang selalu siap meeting tengah malam :)\n",
    "- Modul-modul Machine Learning open source yang sangat membantu untuk mempercepat dalam proses pengerjaan tugas besar kami.\n",
    "- Internet 24 jam.\n",
    "- Referensi dari berbagai macam sumber, seperti Youtube, Github, dan media-media lain di internet.\n",
    "- Gorengan dan minuman abang-abang pinggir jalan."
   ]
  }
 ],
 "metadata": {
  "celltoolbar": "Slideshow",
  "kernelspec": {
   "display_name": "Python 3",
   "language": "python",
   "name": "python3"
  },
  "language_info": {
   "codemirror_mode": {
    "name": "ipython",
    "version": 3
   },
   "file_extension": ".py",
   "mimetype": "text/x-python",
   "name": "python",
   "nbconvert_exporter": "python",
   "pygments_lexer": "ipython3",
   "version": "3.8.5"
  },
  "toc": {
   "base_numbering": 1,
   "nav_menu": {},
   "number_sections": true,
   "sideBar": true,
   "skip_h1_title": false,
   "title_cell": "Table of Contents",
   "title_sidebar": "Contents",
   "toc_cell": false,
   "toc_position": {},
   "toc_section_display": true,
   "toc_window_display": true
  }
 },
 "nbformat": 4,
 "nbformat_minor": 4
}
