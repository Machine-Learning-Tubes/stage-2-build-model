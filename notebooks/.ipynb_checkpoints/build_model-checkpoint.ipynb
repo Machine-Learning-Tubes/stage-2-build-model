{
 "cells": [
  {
   "cell_type": "markdown",
   "metadata": {
    "slideshow": {
     "slide_type": "slide"
    }
   },
   "source": [
    "# Descriptions\n",
    "- Prediksi yang dilakukan adalah klasifikasi untuk target churn (1-Yes atau 0-No) dan regresi untuk target tenure.\n",
    "- Prediksi klasifikasi menggunakan model machine learning decision tree classifier.\n",
    "- Prediksi regresi menggunakan model machine learning decision tree regressor."
   ]
  },
  {
   "cell_type": "markdown",
   "metadata": {
    "slideshow": {
     "slide_type": "slide"
    }
   },
   "source": [
    "# Import modules"
   ]
  },
  {
   "cell_type": "code",
   "execution_count": 1,
   "metadata": {
    "ExecuteTime": {
     "end_time": "2021-04-01T08:32:36.284805Z",
     "start_time": "2021-04-01T08:32:33.687734Z"
    }
   },
   "outputs": [],
   "source": [
    "import numpy as np\n",
    "import pandas as pd\n",
    "import matplotlib.pyplot as plt\n",
    "\n",
    "from sklearn.tree import DecisionTreeRegressor\n",
    "from sklearn.tree import DecisionTreeClassifier\n",
    "\n",
    "from sklearn.model_selection import cross_val_score\n",
    "from sklearn.model_selection import cross_val_predict\n",
    "\n",
    "from sklearn.metrics import f1_score\n",
    "from sklearn.metrics import roc_curve\n",
    "from sklearn.metrics import recall_score\n",
    "from sklearn.metrics import accuracy_score\n",
    "from sklearn.metrics import precision_score\n",
    "\n",
    "from sklearn.metrics import roc_auc_score\n",
    "from sklearn.metrics import confusion_matrix\n",
    "from sklearn.metrics import classification_report\n",
    "from sklearn.metrics import precision_recall_curve\n",
    "\n",
    "from sklearn.metrics import r2_score\n",
    "from sklearn.metrics import mean_squared_error\n",
    "from sklearn.metrics import mean_absolute_error\n",
    "from sklearn.metrics import explained_variance_score\n",
    "\n",
    "from sklearn.model_selection import learning_curve\n",
    "from sklearn.model_selection import ShuffleSplit"
   ]
  },
  {
   "cell_type": "markdown",
   "metadata": {
    "slideshow": {
     "slide_type": "slide"
    }
   },
   "source": [
    "# Initialize and load dataset\n",
    "Terdapat tiga dataset, antara lain:\n",
    "- EDA dataset, yaitu dataset yang telah bersih dari outlier, missing, duplikat, dan mismatch. Siap untuk digunakan untuk eksplorasi.\n",
    "- Feature engineering dataset, yaitu dataset hasil dari feature engineering yang meliputi, feature transformation, feature extraction, dan feture selection. Dataset terbagi lagi atas 2, yaitu untuk model classification dan model regression.\n",
    "- PCA dataset adalah hasil reduki fitur menggunakan metode PCA (Principal Component Analysis)."
   ]
  },
  {
   "cell_type": "markdown",
   "metadata": {
    "ExecuteTime": {
     "end_time": "2021-03-29T03:36:12.260462Z",
     "start_time": "2021-03-29T03:36:12.250714Z"
    },
    "slideshow": {
     "slide_type": "slide"
    }
   },
   "source": [
    "## EDA"
   ]
  },
  {
   "cell_type": "code",
   "execution_count": 2,
   "metadata": {
    "ExecuteTime": {
     "end_time": "2021-04-01T08:32:36.329746Z",
     "start_time": "2021-04-01T08:32:36.289789Z"
    }
   },
   "outputs": [],
   "source": [
    "EDA_train_df = pd.read_csv('../datasets/train/EDA_train.csv')\n",
    "EDA_test_df = pd.read_csv('../datasets/test/EDA_test.csv')"
   ]
  },
  {
   "cell_type": "markdown",
   "metadata": {
    "slideshow": {
     "slide_type": "-"
    }
   },
   "source": [
    "### Classification - Split dataset to X_train and y_train / X_test and y_test"
   ]
  },
  {
   "cell_type": "code",
   "execution_count": 3,
   "metadata": {
    "ExecuteTime": {
     "end_time": "2021-04-01T08:32:36.345761Z",
     "start_time": "2021-04-01T08:32:36.331755Z"
    }
   },
   "outputs": [],
   "source": [
    "X_EDA_classification_train = EDA_train_df.iloc[:, 1:20]\n",
    "y_EDA_classification_train = EDA_train_df.iloc[:, 20:21]\n",
    "X_EDA_classification_test  = EDA_test_df.iloc[:, 1:20]\n",
    "y_EDA_classification_test  = EDA_test_df.iloc[:, 20:21]"
   ]
  },
  {
   "cell_type": "markdown",
   "metadata": {
    "slideshow": {
     "slide_type": "-"
    }
   },
   "source": [
    "### Regression - Split dataset to X_train and y_train / X_test and y_test"
   ]
  },
  {
   "cell_type": "code",
   "execution_count": 4,
   "metadata": {
    "ExecuteTime": {
     "end_time": "2021-04-01T08:32:36.375767Z",
     "start_time": "2021-04-01T08:32:36.352775Z"
    }
   },
   "outputs": [],
   "source": [
    "X_EDA_regression_train = EDA_train_df.loc[:, ['gender', 'senior_citizen', 'partner', 'dependents',\n",
    "                                              'phone_service', 'multiple_lines', 'internet_service',\n",
    "                                              'online_security', 'online_backup', 'device_protection', 'tech_support',\n",
    "                                              'streaming_tv', 'streaming_movies', 'contract', 'paperless_billing',\n",
    "                                              'payment_method', 'monthly_charges', 'total_charges', 'churn']]\n",
    "\n",
    "y_EDA_regression_train = EDA_train_df.loc[:, 'tenure']\n",
    "\n",
    "X_EDA_regression_test  = EDA_test_df.loc[:, ['gender', 'senior_citizen', 'partner', 'dependents',\n",
    "                                             'phone_service', 'multiple_lines', 'internet_service',\n",
    "                                             'online_security', 'online_backup', 'device_protection', 'tech_support',\n",
    "                                             'streaming_tv', 'streaming_movies', 'contract', 'paperless_billing',\n",
    "                                             'payment_method', 'monthly_charges', 'total_charges', 'churn']]\n",
    "\n",
    "y_EDA_regression_test  = EDA_test_df.loc[:, 'tenure']"
   ]
  },
  {
   "cell_type": "markdown",
   "metadata": {
    "slideshow": {
     "slide_type": "slide"
    }
   },
   "source": [
    "## Feature Engineering"
   ]
  },
  {
   "cell_type": "markdown",
   "metadata": {},
   "source": [
    "### Classification Model"
   ]
  },
  {
   "cell_type": "code",
   "execution_count": 5,
   "metadata": {
    "ExecuteTime": {
     "end_time": "2021-04-01T08:32:36.405775Z",
     "start_time": "2021-04-01T08:32:36.380756Z"
    }
   },
   "outputs": [],
   "source": [
    "feature_engineering_classification_train_df = pd.read_csv('../datasets/train/feature_engineering_classification_train.csv')\n",
    "feature_engineering_classification_test_df = pd.read_csv('../datasets/test/feature_engineering_classification_test.csv')"
   ]
  },
  {
   "cell_type": "markdown",
   "metadata": {},
   "source": [
    "#### Split dataset to X_train and y_train / X_test and y_test "
   ]
  },
  {
   "cell_type": "code",
   "execution_count": 6,
   "metadata": {
    "ExecuteTime": {
     "end_time": "2021-04-01T08:32:36.420765Z",
     "start_time": "2021-04-01T08:32:36.409754Z"
    }
   },
   "outputs": [],
   "source": [
    "X_feature_engineering_classification_train = feature_engineering_classification_train_df.iloc[:, 0:5]\n",
    "y_feature_engineering_classification_train = feature_engineering_classification_train_df.iloc[:, 5:6]\n",
    "X_feature_engineering_classification_test  = feature_engineering_classification_test_df.iloc[:, 0:5]\n",
    "y_feature_engineering_classification_test  = feature_engineering_classification_test_df.iloc[:, 5:6]"
   ]
  },
  {
   "cell_type": "markdown",
   "metadata": {
    "slideshow": {
     "slide_type": "subslide"
    }
   },
   "source": [
    "### Regression Model"
   ]
  },
  {
   "cell_type": "code",
   "execution_count": 7,
   "metadata": {
    "ExecuteTime": {
     "end_time": "2021-04-01T08:32:36.466752Z",
     "start_time": "2021-04-01T08:32:36.428755Z"
    }
   },
   "outputs": [],
   "source": [
    "feature_engineering_regression_train_df = pd.read_csv('../datasets/train/feature_engineering_regression_train.csv')\n",
    "feature_engineering_regression_test_df = pd.read_csv('../datasets/test/feature_engineering_regression_test.csv')"
   ]
  },
  {
   "cell_type": "markdown",
   "metadata": {},
   "source": [
    "#### Split dataset to X_train and y_train / X_test and y_test"
   ]
  },
  {
   "cell_type": "code",
   "execution_count": 8,
   "metadata": {
    "ExecuteTime": {
     "end_time": "2021-04-01T08:32:36.482760Z",
     "start_time": "2021-04-01T08:32:36.468755Z"
    }
   },
   "outputs": [],
   "source": [
    "X_feature_engineering_regression_train = feature_engineering_regression_train_df.iloc[:, 0:4]\n",
    "y_feature_engineering_regression_train = feature_engineering_regression_train_df.iloc[:, 4:5]\n",
    "X_feature_engineering_regression_test  = feature_engineering_regression_test_df.iloc[:, 0:4]\n",
    "y_feature_engineering_regression_test  = feature_engineering_regression_test_df.iloc[:, 4:5]"
   ]
  },
  {
   "cell_type": "markdown",
   "metadata": {
    "slideshow": {
     "slide_type": "slide"
    }
   },
   "source": [
    "## PCA"
   ]
  },
  {
   "cell_type": "markdown",
   "metadata": {},
   "source": [
    "### Classification Model"
   ]
  },
  {
   "cell_type": "code",
   "execution_count": 9,
   "metadata": {
    "ExecuteTime": {
     "end_time": "2021-04-01T08:32:36.559753Z",
     "start_time": "2021-04-01T08:32:36.485771Z"
    }
   },
   "outputs": [],
   "source": [
    "PCA_classification_train_df = pd.read_csv('../datasets/train/PCA_classification_train.csv')\n",
    "PCA_classification_test_df = pd.read_csv('../datasets/test/PCA_classification_test.csv')"
   ]
  },
  {
   "cell_type": "markdown",
   "metadata": {},
   "source": [
    "#### Split dataset to X_train and y_train / X_test and y_test"
   ]
  },
  {
   "cell_type": "code",
   "execution_count": 10,
   "metadata": {
    "ExecuteTime": {
     "end_time": "2021-04-01T08:32:36.575751Z",
     "start_time": "2021-04-01T08:32:36.561755Z"
    }
   },
   "outputs": [],
   "source": [
    "X_PCA_classification_train = PCA_classification_train_df.iloc[:, 0:1]\n",
    "y_PCA_classification_train = PCA_classification_train_df.iloc[:, 19:20]\n",
    "X_PCA_classification_test  = PCA_classification_test_df.iloc[:, 0:1]\n",
    "y_PCA_classification_test  = PCA_classification_test_df.iloc[:, 19:20]"
   ]
  },
  {
   "cell_type": "markdown",
   "metadata": {
    "slideshow": {
     "slide_type": "subslide"
    }
   },
   "source": [
    "### Regression Model"
   ]
  },
  {
   "cell_type": "code",
   "execution_count": 11,
   "metadata": {
    "ExecuteTime": {
     "end_time": "2021-04-01T08:32:36.653759Z",
     "start_time": "2021-04-01T08:32:36.576754Z"
    }
   },
   "outputs": [],
   "source": [
    "PCA_regression_train_df = pd.read_csv('../datasets/train/PCA_regression_train.csv')\n",
    "PCA_regression_test_df  = pd.read_csv('../datasets/test/PCA_regression_test.csv')"
   ]
  },
  {
   "cell_type": "markdown",
   "metadata": {
    "ExecuteTime": {
     "end_time": "2021-03-31T02:06:37.541709Z",
     "start_time": "2021-03-31T02:06:37.531686Z"
    }
   },
   "source": [
    "#### Split dataset to X_train and y_train / X_test and y_test"
   ]
  },
  {
   "cell_type": "code",
   "execution_count": 12,
   "metadata": {
    "ExecuteTime": {
     "end_time": "2021-04-01T08:32:36.669757Z",
     "start_time": "2021-04-01T08:32:36.657757Z"
    }
   },
   "outputs": [],
   "source": [
    "X_PCA_regression_train = PCA_regression_train_df.iloc[:, 0:2]\n",
    "y_PCA_regression_train = PCA_regression_train_df.iloc[:, 19:20]\n",
    "X_PCA_regression_test  = PCA_regression_test_df.iloc[:, 0:2]\n",
    "y_PCA_regression_test  = PCA_regression_test_df.iloc[:, 19:20]"
   ]
  },
  {
   "cell_type": "markdown",
   "metadata": {
    "ExecuteTime": {
     "end_time": "2021-03-29T03:31:00.351696Z",
     "start_time": "2021-03-29T03:31:00.331425Z"
    },
    "slideshow": {
     "slide_type": "slide"
    }
   },
   "source": [
    "# Build model"
   ]
  },
  {
   "cell_type": "markdown",
   "metadata": {},
   "source": [
    "## Decision Tree\n",
    "- Semua model menggunakan hyperparameter max_dept = 20 dan criterion = entropy, sesuai dengan referensi dari jurnal yang digunakan (Customer churn prediction in telecom using machine learning in big data platform - Abdelrahim Kasem Ahmad and Assef Jafar and Kadan Aljoumaa)."
   ]
  },
  {
   "cell_type": "markdown",
   "metadata": {
    "slideshow": {
     "slide_type": "subslide"
    }
   },
   "source": [
    "### EDA Dataset"
   ]
  },
  {
   "cell_type": "markdown",
   "metadata": {
    "ExecuteTime": {
     "end_time": "2021-03-30T16:09:59.115223Z",
     "start_time": "2021-03-30T16:09:59.096646Z"
    }
   },
   "source": [
    "#### Classification"
   ]
  },
  {
   "cell_type": "code",
   "execution_count": 13,
   "metadata": {
    "ExecuteTime": {
     "end_time": "2021-04-01T08:32:36.730753Z",
     "start_time": "2021-04-01T08:32:36.672755Z"
    }
   },
   "outputs": [
    {
     "data": {
      "text/plain": [
       "DecisionTreeClassifier(criterion='entropy', max_depth=20, random_state=42)"
      ]
     },
     "execution_count": 13,
     "metadata": {},
     "output_type": "execute_result"
    }
   ],
   "source": [
    "clf = DecisionTreeClassifier(max_depth=20, criterion='entropy', random_state=42)\n",
    "clf.fit(X_EDA_classification_train, y_EDA_classification_train)"
   ]
  },
  {
   "cell_type": "code",
   "execution_count": 14,
   "metadata": {
    "ExecuteTime": {
     "end_time": "2021-04-01T08:32:37.386753Z",
     "start_time": "2021-04-01T08:32:36.732753Z"
    }
   },
   "outputs": [],
   "source": [
    "accuracy_scores = []\n",
    "\n",
    "for i in range(1, 22):\n",
    "    clf = DecisionTreeClassifier(max_depth=i, criterion='entropy', random_state=42)\n",
    "    \n",
    "    clf.fit(X_EDA_classification_train, y_EDA_classification_train)\n",
    "    accuracy_score_n = accuracy_score(y_EDA_classification_test, clf.predict(X_EDA_classification_test))\n",
    "    accuracy_scores.append(accuracy_score_n)"
   ]
  },
  {
   "cell_type": "code",
   "execution_count": 15,
   "metadata": {
    "ExecuteTime": {
     "end_time": "2021-04-01T08:32:37.417760Z",
     "start_time": "2021-04-01T08:32:37.393767Z"
    },
    "scrolled": true
   },
   "outputs": [
    {
     "name": "stdout",
     "output_type": "stream",
     "text": [
      "max_depth 1 : 0.766501%\n",
      "max_depth 2 : 0.789212%\n",
      "max_depth 3 : 0.792761%\n",
      "max_depth 4 : 0.792051%\n",
      "max_depth 5 : 0.794890%\n",
      "max_depth 6 : 0.789212%\n",
      "max_depth 7 : 0.781405%\n",
      "max_depth 8 : 0.784244%\n",
      "max_depth 9 : 0.777857%\n",
      "max_depth 10 : 0.775727%\n",
      "max_depth 11 : 0.765791%\n",
      "max_depth 12 : 0.764372%\n",
      "max_depth 13 : 0.758694%\n",
      "max_depth 14 : 0.744500%\n",
      "max_depth 15 : 0.745919%\n",
      "max_depth 16 : 0.743790%\n",
      "max_depth 17 : 0.750177%\n",
      "max_depth 18 : 0.754436%\n",
      "max_depth 19 : 0.740241%\n",
      "max_depth 20 : 0.743080%\n"
     ]
    }
   ],
   "source": [
    "for i in range(1, 21):\n",
    "    print(f'max_depth {i} : {accuracy_scores[i]:.6f}%')"
   ]
  },
  {
   "cell_type": "markdown",
   "metadata": {},
   "source": [
    "###### Cross Validation Score"
   ]
  },
  {
   "cell_type": "code",
   "execution_count": 96,
   "metadata": {
    "ExecuteTime": {
     "end_time": "2021-04-01T08:57:00.405434Z",
     "start_time": "2021-04-01T08:57:00.079350Z"
    }
   },
   "outputs": [
    {
     "data": {
      "text/plain": [
       "array([0.75886525, 0.7322695 , 0.71631206, 0.7429078 , 0.73534636,\n",
       "       0.74422735, 0.72646536, 0.74422735, 0.73712256, 0.72291297])"
      ]
     },
     "execution_count": 96,
     "metadata": {},
     "output_type": "execute_result"
    }
   ],
   "source": [
    "cross_val_score(clf, X_EDA_classification_train, y_EDA_classification_train, cv=10)"
   ]
  },
  {
   "cell_type": "markdown",
   "metadata": {},
   "source": [
    "##### Confusion Matrix"
   ]
  },
  {
   "cell_type": "code",
   "execution_count": 17,
   "metadata": {
    "ExecuteTime": {
     "end_time": "2021-04-01T08:32:37.931784Z",
     "start_time": "2021-04-01T08:32:37.810793Z"
    }
   },
   "outputs": [
    {
     "name": "stdout",
     "output_type": "stream",
     "text": [
      "True positive  : 762\n",
      "True negative  : 3378\n",
      "False positive : 760\n",
      "False negative : 734\n"
     ]
    }
   ],
   "source": [
    "y_train_pred = cross_val_predict(clf, X_EDA_classification_train, np.ravel(y_EDA_classification_train), cv=3)\n",
    "\n",
    "print(f'True positive  : {confusion_matrix(np.ravel(y_EDA_classification_train), y_train_pred)[1, 1]}')\n",
    "print(f'True negative  : {confusion_matrix(np.ravel(y_EDA_classification_train), y_train_pred)[0, 0]}')\n",
    "print(f'False positive : {confusion_matrix(np.ravel(y_EDA_classification_train), y_train_pred)[0, 1]}')\n",
    "print(f'False negative : {confusion_matrix(np.ravel(y_EDA_classification_train), y_train_pred)[1, 0]}')"
   ]
  },
  {
   "cell_type": "markdown",
   "metadata": {},
   "source": [
    "###### Precision"
   ]
  },
  {
   "cell_type": "code",
   "execution_count": 18,
   "metadata": {
    "ExecuteTime": {
     "end_time": "2021-04-01T08:32:37.962758Z",
     "start_time": "2021-04-01T08:32:37.936766Z"
    },
    "scrolled": true
   },
   "outputs": [
    {
     "name": "stdout",
     "output_type": "stream",
     "text": [
      "Precision: 50.07%\n"
     ]
    }
   ],
   "source": [
    "print(f'Precision: {round(precision_score(np.ravel(y_EDA_classification_train), y_train_pred) * 100, 2)}%')"
   ]
  },
  {
   "cell_type": "markdown",
   "metadata": {},
   "source": [
    "##### Recall"
   ]
  },
  {
   "cell_type": "code",
   "execution_count": 19,
   "metadata": {
    "ExecuteTime": {
     "end_time": "2021-04-01T08:32:37.978759Z",
     "start_time": "2021-04-01T08:32:37.965759Z"
    }
   },
   "outputs": [
    {
     "name": "stdout",
     "output_type": "stream",
     "text": [
      "Recall: 50.94%\n"
     ]
    }
   ],
   "source": [
    "print(f'Recall: {round(recall_score(np.ravel(y_EDA_classification_train), y_train_pred) * 100, 2)}%')"
   ]
  },
  {
   "cell_type": "markdown",
   "metadata": {},
   "source": [
    "##### F1-Score"
   ]
  },
  {
   "cell_type": "code",
   "execution_count": 20,
   "metadata": {
    "ExecuteTime": {
     "end_time": "2021-04-01T08:32:38.010752Z",
     "start_time": "2021-04-01T08:32:37.987756Z"
    }
   },
   "outputs": [
    {
     "name": "stdout",
     "output_type": "stream",
     "text": [
      "F-1 Score: 50.5%\n"
     ]
    }
   ],
   "source": [
    "print(f'F-1 Score: {round(f1_score(np.ravel(y_EDA_classification_train), y_train_pred) * 100, 2)}%')"
   ]
  },
  {
   "cell_type": "markdown",
   "metadata": {},
   "source": [
    "##### Classification Report"
   ]
  },
  {
   "cell_type": "code",
   "execution_count": 21,
   "metadata": {
    "ExecuteTime": {
     "end_time": "2021-04-01T08:32:38.056759Z",
     "start_time": "2021-04-01T08:32:38.012755Z"
    }
   },
   "outputs": [
    {
     "name": "stdout",
     "output_type": "stream",
     "text": [
      "              precision    recall  f1-score   support\n",
      "\n",
      "           0       0.99      0.99      0.99      4138\n",
      "           1       0.98      0.97      0.98      1496\n",
      "\n",
      "    accuracy                           0.99      5634\n",
      "   macro avg       0.99      0.98      0.98      5634\n",
      "weighted avg       0.99      0.99      0.99      5634\n",
      "\n"
     ]
    }
   ],
   "source": [
    "print(classification_report(y_EDA_classification_train, clf.predict(X_EDA_classification_train)))"
   ]
  },
  {
   "cell_type": "markdown",
   "metadata": {},
   "source": [
    "##### Precision-Recall Trade off - Precision Recall VS Threshold Plot"
   ]
  },
  {
   "cell_type": "code",
   "execution_count": 22,
   "metadata": {
    "ExecuteTime": {
     "end_time": "2021-04-01T08:32:38.182755Z",
     "start_time": "2021-04-01T08:32:38.061767Z"
    }
   },
   "outputs": [],
   "source": [
    "y_scores = cross_val_predict(clf, X_EDA_classification_train, np.ravel(y_EDA_classification_train), cv=3)\n",
    "precisions, recalls, thresholds = precision_recall_curve(y_EDA_classification_train, y_scores)"
   ]
  },
  {
   "cell_type": "code",
   "execution_count": 23,
   "metadata": {
    "ExecuteTime": {
     "end_time": "2021-04-01T08:32:38.416794Z",
     "start_time": "2021-04-01T08:32:38.185755Z"
    }
   },
   "outputs": [
    {
     "data": {
      "image/png": "[encoded data removed]",
      "text/plain": [
       "<Figure size 576x432 with 1 Axes>"
      ]
     },
     "metadata": {
      "needs_background": "light"
     },
     "output_type": "display_data"
    }
   ],
   "source": [
    "def plot_precision_vs_recall(precisions, recalls):\n",
    "    plt.plot(recalls, precisions, \"b-\", linewidth=2)\n",
    "    plt.title('Precision and Recall Plot')\n",
    "    plt.xlabel(\"Recall\")\n",
    "    plt.ylabel(\"Precision\")\n",
    "    plt.axis([0, 1, 0, 1])\n",
    "    plt.grid(True)\n",
    "\n",
    "plt.figure(figsize=(8, 6))\n",
    "plot_precision_vs_recall(precisions, recalls)\n",
    "plt.plot([0.4368, 0.4368], [0., 0.9], \"r:\")\n",
    "plt.plot([0.0, 0.4368], [0.9, 0.9], \"r:\")\n",
    "plt.plot([0.4368], [0.9], \"ro\")\n",
    "plt.show()"
   ]
  },
  {
   "cell_type": "markdown",
   "metadata": {},
   "source": [
    "##### ROC and AUC Curve"
   ]
  },
  {
   "cell_type": "code",
   "execution_count": 24,
   "metadata": {
    "ExecuteTime": {
     "end_time": "2021-04-01T08:32:38.432754Z",
     "start_time": "2021-04-01T08:32:38.417755Z"
    }
   },
   "outputs": [],
   "source": [
    "fpr, tpr, thresholds = roc_curve(y_EDA_classification_train, y_scores)"
   ]
  },
  {
   "cell_type": "code",
   "execution_count": 25,
   "metadata": {
    "ExecuteTime": {
     "end_time": "2021-04-01T08:32:38.606753Z",
     "start_time": "2021-04-01T08:32:38.433758Z"
    }
   },
   "outputs": [
    {
     "data": {
      "image/png": "[encoded data removed]",
      "text/plain": [
       "<Figure size 576x432 with 1 Axes>"
      ]
     },
     "metadata": {
      "needs_background": "light"
     },
     "output_type": "display_data"
    }
   ],
   "source": [
    "def plot_roc_curve(fpr, tpr, label=None):\n",
    "    plt.plot(fpr, tpr, linewidth=2, label=label)\n",
    "    plt.plot([0, 1], [0, 1], 'k--')\n",
    "    plt.axis([0, 1, 0, 1])\n",
    "    plt.xlabel('False Positive Rate (Fall-Out)')\n",
    "    plt.ylabel('True Positive Rate (Recall)')\n",
    "    plt.grid(True)\n",
    "\n",
    "plt.figure(figsize=(8, 6))\n",
    "plot_roc_curve(fpr, tpr)\n",
    "plt.plot([4.837e-3, 4.837e-3], [0., 0.4368], \"r:\")\n",
    "plt.plot([0.0, 4.837e-3], [0.4368, 0.4368], \"r:\")\n",
    "plt.plot([4.837e-3], [0.4368], \"ro\")\n",
    "plt.show()"
   ]
  },
  {
   "cell_type": "code",
   "execution_count": 26,
   "metadata": {
    "ExecuteTime": {
     "end_time": "2021-04-01T08:32:38.622756Z",
     "start_time": "2021-04-01T08:32:38.608754Z"
    }
   },
   "outputs": [
    {
     "data": {
      "text/plain": [
       "0.6628473415817401"
      ]
     },
     "execution_count": 26,
     "metadata": {},
     "output_type": "execute_result"
    }
   ],
   "source": [
    "roc_auc_score(y_EDA_classification_train, y_scores)"
   ]
  },
  {
   "cell_type": "markdown",
   "metadata": {},
   "source": [
    "##### Predict with some feature"
   ]
  },
  {
   "cell_type": "code",
   "execution_count": 27,
   "metadata": {
    "ExecuteTime": {
     "end_time": "2021-04-01T08:32:38.638752Z",
     "start_time": "2021-04-01T08:32:38.625754Z"
    }
   },
   "outputs": [
    {
     "data": {
      "text/plain": [
       "array([0, 0, 0, 0, 1, 0, 0, 1, 0, 1], dtype=int64)"
      ]
     },
     "execution_count": 27,
     "metadata": {},
     "output_type": "execute_result"
    }
   ],
   "source": [
    "clf.predict(X_EDA_classification_test.iloc[50:60, :])"
   ]
  },
  {
   "cell_type": "code",
   "execution_count": 28,
   "metadata": {
    "ExecuteTime": {
     "end_time": "2021-04-01T08:32:38.670755Z",
     "start_time": "2021-04-01T08:32:38.641756Z"
    }
   },
   "outputs": [
    {
     "data": {
      "text/html": [
       "<div>\n",
       "<style scoped>\n",
       "    .dataframe tbody tr th:only-of-type {\n",
       "        vertical-align: middle;\n",
       "    }\n",
       "\n",
       "    .dataframe tbody tr th {\n",
       "        vertical-align: top;\n",
       "    }\n",
       "\n",
       "    .dataframe thead th {\n",
       "        text-align: right;\n",
       "    }\n",
       "</style>\n",
       "<table border=\"1\" class=\"dataframe\">\n",
       "  <thead>\n",
       "    <tr style=\"text-align: right;\">\n",
       "      <th></th>\n",
       "      <th>churn</th>\n",
       "    </tr>\n",
       "  </thead>\n",
       "  <tbody>\n",
       "    <tr>\n",
       "      <th>50</th>\n",
       "      <td>0</td>\n",
       "    </tr>\n",
       "    <tr>\n",
       "      <th>51</th>\n",
       "      <td>0</td>\n",
       "    </tr>\n",
       "    <tr>\n",
       "      <th>52</th>\n",
       "      <td>0</td>\n",
       "    </tr>\n",
       "    <tr>\n",
       "      <th>53</th>\n",
       "      <td>0</td>\n",
       "    </tr>\n",
       "    <tr>\n",
       "      <th>54</th>\n",
       "      <td>0</td>\n",
       "    </tr>\n",
       "    <tr>\n",
       "      <th>55</th>\n",
       "      <td>0</td>\n",
       "    </tr>\n",
       "    <tr>\n",
       "      <th>56</th>\n",
       "      <td>0</td>\n",
       "    </tr>\n",
       "    <tr>\n",
       "      <th>57</th>\n",
       "      <td>0</td>\n",
       "    </tr>\n",
       "    <tr>\n",
       "      <th>58</th>\n",
       "      <td>0</td>\n",
       "    </tr>\n",
       "    <tr>\n",
       "      <th>59</th>\n",
       "      <td>0</td>\n",
       "    </tr>\n",
       "  </tbody>\n",
       "</table>\n",
       "</div>"
      ],
      "text/plain": [
       "    churn\n",
       "50      0\n",
       "51      0\n",
       "52      0\n",
       "53      0\n",
       "54      0\n",
       "55      0\n",
       "56      0\n",
       "57      0\n",
       "58      0\n",
       "59      0"
      ]
     },
     "execution_count": 28,
     "metadata": {},
     "output_type": "execute_result"
    }
   ],
   "source": [
    "y_EDA_classification_test.iloc[50:60, :]"
   ]
  },
  {
   "cell_type": "markdown",
   "metadata": {
    "slideshow": {
     "slide_type": "subslide"
    }
   },
   "source": [
    "#### Regression"
   ]
  },
  {
   "cell_type": "code",
   "execution_count": 29,
   "metadata": {
    "ExecuteTime": {
     "end_time": "2021-04-01T08:32:38.748753Z",
     "start_time": "2021-04-01T08:32:38.672756Z"
    }
   },
   "outputs": [
    {
     "data": {
      "text/plain": [
       "array([0.99736208, 0.99671765, 0.99535866])"
      ]
     },
     "execution_count": 29,
     "metadata": {},
     "output_type": "execute_result"
    }
   ],
   "source": [
    "regressor = DecisionTreeRegressor(max_depth=20, random_state=42)\n",
    "cross_val_score(regressor, X_EDA_regression_train, y_EDA_regression_train, cv=3)"
   ]
  },
  {
   "cell_type": "markdown",
   "metadata": {},
   "source": [
    "##### R Squared"
   ]
  },
  {
   "cell_type": "code",
   "execution_count": 30,
   "metadata": {
    "ExecuteTime": {
     "end_time": "2021-04-01T08:32:38.794752Z",
     "start_time": "2021-04-01T08:32:38.750757Z"
    }
   },
   "outputs": [
    {
     "data": {
      "text/plain": [
       "0.9981332388386155"
      ]
     },
     "execution_count": 30,
     "metadata": {},
     "output_type": "execute_result"
    }
   ],
   "source": [
    "regressor.fit(X_EDA_regression_train, y_EDA_regression_train)\n",
    "r2_score(y_EDA_regression_test, regressor.predict(X_EDA_regression_test))"
   ]
  },
  {
   "cell_type": "markdown",
   "metadata": {},
   "source": [
    "##### Explained Variance Score"
   ]
  },
  {
   "cell_type": "code",
   "execution_count": 31,
   "metadata": {
    "ExecuteTime": {
     "end_time": "2021-04-01T08:32:38.826800Z",
     "start_time": "2021-04-01T08:32:38.796757Z"
    }
   },
   "outputs": [
    {
     "data": {
      "text/plain": [
       "0.9981350821550954"
      ]
     },
     "execution_count": 31,
     "metadata": {},
     "output_type": "execute_result"
    }
   ],
   "source": [
    "explained_variance_score(y_EDA_regression_test, regressor.predict(X_EDA_regression_test))"
   ]
  },
  {
   "cell_type": "markdown",
   "metadata": {},
   "source": [
    "##### Mean Absolute Error"
   ]
  },
  {
   "cell_type": "code",
   "execution_count": 32,
   "metadata": {
    "ExecuteTime": {
     "end_time": "2021-04-01T08:32:38.842767Z",
     "start_time": "2021-04-01T08:32:38.829755Z"
    }
   },
   "outputs": [
    {
     "data": {
      "text/plain": [
       "0.5777146912704045"
      ]
     },
     "execution_count": 32,
     "metadata": {},
     "output_type": "execute_result"
    }
   ],
   "source": [
    "mean_absolute_error(y_EDA_regression_test, regressor.predict(X_EDA_regression_test))"
   ]
  },
  {
   "cell_type": "markdown",
   "metadata": {},
   "source": [
    "##### Mean Squared Error"
   ]
  },
  {
   "cell_type": "code",
   "execution_count": 33,
   "metadata": {
    "ExecuteTime": {
     "end_time": "2021-04-01T08:32:38.858757Z",
     "start_time": "2021-04-01T08:32:38.844752Z"
    }
   },
   "outputs": [
    {
     "data": {
      "text/plain": [
       "1.1753016323633783"
      ]
     },
     "execution_count": 33,
     "metadata": {},
     "output_type": "execute_result"
    }
   ],
   "source": [
    "mean_squared_error(y_EDA_regression_test, regressor.predict(X_EDA_regression_test))"
   ]
  },
  {
   "cell_type": "markdown",
   "metadata": {},
   "source": [
    "###### Predict with some feature"
   ]
  },
  {
   "cell_type": "code",
   "execution_count": 34,
   "metadata": {
    "ExecuteTime": {
     "end_time": "2021-04-01T08:32:38.874759Z",
     "start_time": "2021-04-01T08:32:38.860758Z"
    }
   },
   "outputs": [
    {
     "data": {
      "text/plain": [
       "array([19., 23., 72., 72., 61., 67., 68.,  8.,  3., 17.])"
      ]
     },
     "execution_count": 34,
     "metadata": {},
     "output_type": "execute_result"
    }
   ],
   "source": [
    "regressor.predict(X_EDA_regression_test.iloc[50:60, 0:19])"
   ]
  },
  {
   "cell_type": "code",
   "execution_count": 35,
   "metadata": {
    "ExecuteTime": {
     "end_time": "2021-04-01T08:32:38.890752Z",
     "start_time": "2021-04-01T08:32:38.876753Z"
    }
   },
   "outputs": [
    {
     "data": {
      "text/plain": [
       "50    19\n",
       "51    23\n",
       "52    72\n",
       "53    72\n",
       "54    59\n",
       "55    70\n",
       "56    70\n",
       "57     9\n",
       "58     3\n",
       "59    17\n",
       "Name: tenure, dtype: int64"
      ]
     },
     "execution_count": 35,
     "metadata": {},
     "output_type": "execute_result"
    }
   ],
   "source": [
    "y_EDA_regression_test[50:60]"
   ]
  },
  {
   "cell_type": "markdown",
   "metadata": {
    "slideshow": {
     "slide_type": "subslide"
    }
   },
   "source": [
    "### Feature Engineering Dataset"
   ]
  },
  {
   "cell_type": "markdown",
   "metadata": {},
   "source": [
    "#### Classification"
   ]
  },
  {
   "cell_type": "code",
   "execution_count": 36,
   "metadata": {
    "ExecuteTime": {
     "end_time": "2021-04-01T08:32:38.920753Z",
     "start_time": "2021-04-01T08:32:38.893760Z"
    }
   },
   "outputs": [
    {
     "data": {
      "text/plain": [
       "DecisionTreeClassifier(criterion='entropy', max_depth=20, random_state=42)"
      ]
     },
     "execution_count": 36,
     "metadata": {},
     "output_type": "execute_result"
    }
   ],
   "source": [
    "clf = DecisionTreeClassifier(max_depth=20, criterion='entropy', random_state=42)\n",
    "clf.fit(X_feature_engineering_classification_train, y_feature_engineering_classification_train)"
   ]
  },
  {
   "cell_type": "code",
   "execution_count": 37,
   "metadata": {
    "ExecuteTime": {
     "end_time": "2021-04-01T08:32:39.077752Z",
     "start_time": "2021-04-01T08:32:38.922753Z"
    }
   },
   "outputs": [],
   "source": [
    "accuracy_scores = []\n",
    "\n",
    "for i in range(1, 22):\n",
    "    clf = DecisionTreeClassifier(max_depth=i, criterion='entropy', random_state=42)\n",
    "\n",
    "    clf.fit(X_feature_engineering_classification_train, y_feature_engineering_classification_train)\n",
    "    accuracy_score_n = accuracy_score(y_feature_engineering_classification_train, clf.predict(X_feature_engineering_classification_train))\n",
    "    accuracy_scores.append(accuracy_score_n)"
   ]
  },
  {
   "cell_type": "code",
   "execution_count": 38,
   "metadata": {
    "ExecuteTime": {
     "end_time": "2021-04-01T08:32:39.093757Z",
     "start_time": "2021-04-01T08:32:39.079753Z"
    }
   },
   "outputs": [
    {
     "name": "stdout",
     "output_type": "stream",
     "text": [
      "max_depth 1 : 0.734469%\n",
      "max_depth 2 : 0.736954%\n",
      "max_depth 3 : 0.739262%\n",
      "max_depth 4 : 0.739262%\n",
      "max_depth 5 : 0.739262%\n",
      "max_depth 6 : 0.739262%\n",
      "max_depth 7 : 0.739262%\n",
      "max_depth 8 : 0.739262%\n",
      "max_depth 9 : 0.739262%\n",
      "max_depth 10 : 0.739262%\n",
      "max_depth 11 : 0.739262%\n",
      "max_depth 12 : 0.739262%\n",
      "max_depth 13 : 0.739262%\n",
      "max_depth 14 : 0.739262%\n",
      "max_depth 15 : 0.739262%\n",
      "max_depth 16 : 0.739262%\n",
      "max_depth 17 : 0.739262%\n",
      "max_depth 18 : 0.739262%\n",
      "max_depth 19 : 0.739262%\n",
      "max_depth 20 : 0.739262%\n"
     ]
    }
   ],
   "source": [
    "for i in range(1, 21):\n",
    "    print(f'max_depth {i} : {accuracy_scores[i]:.6f}%')"
   ]
  },
  {
   "cell_type": "markdown",
   "metadata": {},
   "source": [
    "##### Cross Validation Score"
   ]
  },
  {
   "cell_type": "code",
   "execution_count": 39,
   "metadata": {
    "ExecuteTime": {
     "end_time": "2021-04-01T08:32:39.203755Z",
     "start_time": "2021-04-01T08:32:39.095758Z"
    }
   },
   "outputs": [
    {
     "data": {
      "text/plain": [
       "array([0.72163121, 0.73049645, 0.7358156 , 0.7535461 , 0.74245115,\n",
       "       0.73534636, 0.75133215, 0.73889876, 0.73534636, 0.74777975])"
      ]
     },
     "execution_count": 39,
     "metadata": {},
     "output_type": "execute_result"
    }
   ],
   "source": [
    "cross_val_score(clf, X_feature_engineering_classification_train, y_feature_engineering_classification_train, cv=10)"
   ]
  },
  {
   "cell_type": "markdown",
   "metadata": {},
   "source": [
    "##### Confusion Matrix"
   ]
  },
  {
   "cell_type": "code",
   "execution_count": 40,
   "metadata": {
    "ExecuteTime": {
     "end_time": "2021-04-01T08:32:39.267752Z",
     "start_time": "2021-04-01T08:32:39.206761Z"
    }
   },
   "outputs": [
    {
     "name": "stdout",
     "output_type": "stream",
     "text": [
      "True positive  : 271\n",
      "True negative  : 3880\n",
      "False positive : 258\n",
      "False negative : 1225\n"
     ]
    }
   ],
   "source": [
    "y_train_pred = cross_val_predict(clf, X_feature_engineering_classification_train, np.ravel(y_feature_engineering_classification_train), cv=3)\n",
    "\n",
    "print(f'True positive  : {confusion_matrix(np.ravel(y_feature_engineering_classification_train), y_train_pred)[1, 1]}')\n",
    "print(f'True negative  : {confusion_matrix(np.ravel(y_feature_engineering_classification_train), y_train_pred)[0, 0]}')\n",
    "print(f'False positive : {confusion_matrix(np.ravel(y_feature_engineering_classification_train), y_train_pred)[0, 1]}')\n",
    "print(f'False negative : {confusion_matrix(np.ravel(y_feature_engineering_classification_train), y_train_pred)[1, 0]}')"
   ]
  },
  {
   "cell_type": "markdown",
   "metadata": {},
   "source": [
    "##### Precision"
   ]
  },
  {
   "cell_type": "code",
   "execution_count": 41,
   "metadata": {
    "ExecuteTime": {
     "end_time": "2021-04-01T08:32:39.283752Z",
     "start_time": "2021-04-01T08:32:39.270753Z"
    }
   },
   "outputs": [
    {
     "name": "stdout",
     "output_type": "stream",
     "text": [
      "Precision: 51.23%\n"
     ]
    }
   ],
   "source": [
    "print(f'Precision: {round(precision_score(np.ravel(y_feature_engineering_classification_train), y_train_pred) * 100, 2)}%')"
   ]
  },
  {
   "cell_type": "markdown",
   "metadata": {},
   "source": [
    "##### Recall"
   ]
  },
  {
   "cell_type": "code",
   "execution_count": 42,
   "metadata": {
    "ExecuteTime": {
     "end_time": "2021-04-01T08:32:39.299753Z",
     "start_time": "2021-04-01T08:32:39.285753Z"
    }
   },
   "outputs": [
    {
     "name": "stdout",
     "output_type": "stream",
     "text": [
      "Recall: 18.11%\n"
     ]
    }
   ],
   "source": [
    "print(f'Recall: {round(recall_score(np.ravel(y_feature_engineering_classification_train), y_train_pred) * 100, 2)}%')"
   ]
  },
  {
   "cell_type": "markdown",
   "metadata": {},
   "source": [
    "##### F1-Score"
   ]
  },
  {
   "cell_type": "code",
   "execution_count": 43,
   "metadata": {
    "ExecuteTime": {
     "end_time": "2021-04-01T08:32:39.314752Z",
     "start_time": "2021-04-01T08:32:39.303757Z"
    }
   },
   "outputs": [
    {
     "name": "stdout",
     "output_type": "stream",
     "text": [
      "F-1 Score: 26.77%\n"
     ]
    }
   ],
   "source": [
    "print(f'F-1 Score: {round(f1_score(np.ravel(y_feature_engineering_classification_train), y_train_pred) * 100, 2)}%')"
   ]
  },
  {
   "cell_type": "markdown",
   "metadata": {
    "ExecuteTime": {
     "end_time": "2021-03-31T08:32:56.526992Z",
     "start_time": "2021-03-31T08:32:56.513033Z"
    }
   },
   "source": [
    "##### Classification Report"
   ]
  },
  {
   "cell_type": "code",
   "execution_count": 44,
   "metadata": {
    "ExecuteTime": {
     "end_time": "2021-04-01T08:32:39.344752Z",
     "start_time": "2021-04-01T08:32:39.316755Z"
    }
   },
   "outputs": [
    {
     "name": "stdout",
     "output_type": "stream",
     "text": [
      "              precision    recall  f1-score   support\n",
      "\n",
      "           0       0.75      0.96      0.84      4138\n",
      "           1       0.53      0.14      0.22      1496\n",
      "\n",
      "    accuracy                           0.74      5634\n",
      "   macro avg       0.64      0.55      0.53      5634\n",
      "weighted avg       0.70      0.74      0.68      5634\n",
      "\n"
     ]
    }
   ],
   "source": [
    "print(classification_report(y_feature_engineering_classification_train, clf.predict(X_feature_engineering_classification_train)))"
   ]
  },
  {
   "cell_type": "markdown",
   "metadata": {},
   "source": [
    "##### Precision-Recall Trade off - Precision Recall VS Threshold Plot"
   ]
  },
  {
   "cell_type": "code",
   "execution_count": 45,
   "metadata": {
    "ExecuteTime": {
     "end_time": "2021-04-01T08:32:39.390759Z",
     "start_time": "2021-04-01T08:32:39.348766Z"
    }
   },
   "outputs": [],
   "source": [
    "y_scores = cross_val_predict(clf, X_feature_engineering_classification_train, np.ravel(y_feature_engineering_classification_train), cv=3,)\n",
    "precisions, recalls, thresholds = precision_recall_curve(y_feature_engineering_classification_train, y_scores)"
   ]
  },
  {
   "cell_type": "code",
   "execution_count": 46,
   "metadata": {
    "ExecuteTime": {
     "end_time": "2021-04-01T08:32:39.606755Z",
     "start_time": "2021-04-01T08:32:39.395756Z"
    }
   },
   "outputs": [
    {
     "data": {
      "image/png": "[encoded data removed]",
      "text/plain": [
       "<Figure size 576x432 with 1 Axes>"
      ]
     },
     "metadata": {
      "needs_background": "light"
     },
     "output_type": "display_data"
    }
   ],
   "source": [
    "def plot_precision_vs_recall(precisions, recalls):\n",
    "    plt.plot(recalls, precisions, \"b-\", linewidth=2)\n",
    "    plt.title('Precision and Recall Plot')\n",
    "    plt.xlabel(\"Recall\")\n",
    "    plt.ylabel(\"Precision\")\n",
    "    plt.axis([0, 1, 0, 1])\n",
    "    plt.grid(True)\n",
    "\n",
    "plt.figure(figsize=(8, 6))\n",
    "plot_precision_vs_recall(precisions, recalls)\n",
    "plt.plot([0.4368, 0.4368], [0., 0.9], \"r:\")\n",
    "plt.plot([0.0, 0.4368], [0.9, 0.9], \"r:\")\n",
    "plt.plot([0.4368], [0.9], \"ro\")\n",
    "plt.show()"
   ]
  },
  {
   "cell_type": "markdown",
   "metadata": {},
   "source": [
    "##### ROC and AUC Curve"
   ]
  },
  {
   "cell_type": "code",
   "execution_count": 47,
   "metadata": {
    "ExecuteTime": {
     "end_time": "2021-04-01T08:32:39.621759Z",
     "start_time": "2021-04-01T08:32:39.607757Z"
    }
   },
   "outputs": [],
   "source": [
    "fpr, tpr, thresholds = roc_curve(y_feature_engineering_classification_train, y_scores)"
   ]
  },
  {
   "cell_type": "code",
   "execution_count": 48,
   "metadata": {
    "ExecuteTime": {
     "end_time": "2021-04-01T08:32:39.794753Z",
     "start_time": "2021-04-01T08:32:39.623755Z"
    }
   },
   "outputs": [
    {
     "data": {
      "image/png": "[encoded data removed]",
      "text/plain": [
       "<Figure size 576x432 with 1 Axes>"
      ]
     },
     "metadata": {
      "needs_background": "light"
     },
     "output_type": "display_data"
    }
   ],
   "source": [
    "def plot_roc_curve(fpr, tpr, label=None):\n",
    "    plt.plot(fpr, tpr, linewidth=2, label=label)\n",
    "    plt.plot([0, 1], [0, 1], 'k--')\n",
    "    plt.axis([0, 1, 0, 1])\n",
    "    plt.xlabel('False Positive Rate (Fall-Out)')\n",
    "    plt.ylabel('True Positive Rate (Recall)')\n",
    "    plt.grid(True)\n",
    "\n",
    "plt.figure(figsize=(8, 6))\n",
    "plot_roc_curve(fpr, tpr)\n",
    "plt.plot([4.837e-3, 4.837e-3], [0., 0.4368], \"r:\")\n",
    "plt.plot([0.0, 4.837e-3], [0.4368, 0.4368], \"r:\")\n",
    "plt.plot([4.837e-3], [0.4368], \"ro\")\n",
    "plt.show()"
   ]
  },
  {
   "cell_type": "code",
   "execution_count": 49,
   "metadata": {
    "ExecuteTime": {
     "end_time": "2021-04-01T08:32:39.824753Z",
     "start_time": "2021-04-01T08:32:39.796759Z"
    }
   },
   "outputs": [
    {
     "data": {
      "text/plain": [
       "0.5594003858848342"
      ]
     },
     "execution_count": 49,
     "metadata": {},
     "output_type": "execute_result"
    }
   ],
   "source": [
    "roc_auc_score(y_feature_engineering_classification_train, y_scores)"
   ]
  },
  {
   "cell_type": "markdown",
   "metadata": {},
   "source": [
    "##### Predict with some feature"
   ]
  },
  {
   "cell_type": "code",
   "execution_count": 50,
   "metadata": {
    "ExecuteTime": {
     "end_time": "2021-04-01T08:32:39.839758Z",
     "start_time": "2021-04-01T08:32:39.827757Z"
    }
   },
   "outputs": [
    {
     "data": {
      "text/plain": [
       "array([0, 0, 0, 0, 0, 0, 0, 0, 0, 0], dtype=int64)"
      ]
     },
     "execution_count": 50,
     "metadata": {},
     "output_type": "execute_result"
    }
   ],
   "source": [
    "clf.predict(X_feature_engineering_classification_test.iloc[50:60, :])"
   ]
  },
  {
   "cell_type": "code",
   "execution_count": 51,
   "metadata": {
    "ExecuteTime": {
     "end_time": "2021-04-01T08:32:39.855782Z",
     "start_time": "2021-04-01T08:32:39.842760Z"
    }
   },
   "outputs": [
    {
     "data": {
      "text/html": [
       "<div>\n",
       "<style scoped>\n",
       "    .dataframe tbody tr th:only-of-type {\n",
       "        vertical-align: middle;\n",
       "    }\n",
       "\n",
       "    .dataframe tbody tr th {\n",
       "        vertical-align: top;\n",
       "    }\n",
       "\n",
       "    .dataframe thead th {\n",
       "        text-align: right;\n",
       "    }\n",
       "</style>\n",
       "<table border=\"1\" class=\"dataframe\">\n",
       "  <thead>\n",
       "    <tr style=\"text-align: right;\">\n",
       "      <th></th>\n",
       "      <th>churn</th>\n",
       "    </tr>\n",
       "  </thead>\n",
       "  <tbody>\n",
       "    <tr>\n",
       "      <th>50</th>\n",
       "      <td>0</td>\n",
       "    </tr>\n",
       "    <tr>\n",
       "      <th>51</th>\n",
       "      <td>0</td>\n",
       "    </tr>\n",
       "    <tr>\n",
       "      <th>52</th>\n",
       "      <td>0</td>\n",
       "    </tr>\n",
       "    <tr>\n",
       "      <th>53</th>\n",
       "      <td>0</td>\n",
       "    </tr>\n",
       "    <tr>\n",
       "      <th>54</th>\n",
       "      <td>0</td>\n",
       "    </tr>\n",
       "    <tr>\n",
       "      <th>55</th>\n",
       "      <td>0</td>\n",
       "    </tr>\n",
       "    <tr>\n",
       "      <th>56</th>\n",
       "      <td>0</td>\n",
       "    </tr>\n",
       "    <tr>\n",
       "      <th>57</th>\n",
       "      <td>0</td>\n",
       "    </tr>\n",
       "    <tr>\n",
       "      <th>58</th>\n",
       "      <td>0</td>\n",
       "    </tr>\n",
       "    <tr>\n",
       "      <th>59</th>\n",
       "      <td>0</td>\n",
       "    </tr>\n",
       "  </tbody>\n",
       "</table>\n",
       "</div>"
      ],
      "text/plain": [
       "    churn\n",
       "50      0\n",
       "51      0\n",
       "52      0\n",
       "53      0\n",
       "54      0\n",
       "55      0\n",
       "56      0\n",
       "57      0\n",
       "58      0\n",
       "59      0"
      ]
     },
     "execution_count": 51,
     "metadata": {},
     "output_type": "execute_result"
    }
   ],
   "source": [
    "y_feature_engineering_classification_test.iloc[50:60, :]"
   ]
  },
  {
   "cell_type": "markdown",
   "metadata": {
    "slideshow": {
     "slide_type": "subslide"
    }
   },
   "source": [
    "#### Regression"
   ]
  },
  {
   "cell_type": "code",
   "execution_count": 52,
   "metadata": {
    "ExecuteTime": {
     "end_time": "2021-04-01T08:32:40.120766Z",
     "start_time": "2021-04-01T08:32:39.858754Z"
    }
   },
   "outputs": [
    {
     "data": {
      "text/plain": [
       "array([0.99860715, 0.99848824, 0.9983613 , 0.99760376, 0.99831757,\n",
       "       0.99715371, 0.99750505, 0.99732478, 0.99576601, 0.99833165])"
      ]
     },
     "execution_count": 52,
     "metadata": {},
     "output_type": "execute_result"
    }
   ],
   "source": [
    "regressor = DecisionTreeRegressor(max_depth=20, random_state=42)\n",
    "cross_val_score(regressor, X_feature_engineering_regression_train, y_feature_engineering_regression_train, cv=10)"
   ]
  },
  {
   "cell_type": "markdown",
   "metadata": {},
   "source": [
    "##### R Squared"
   ]
  },
  {
   "cell_type": "code",
   "execution_count": 53,
   "metadata": {
    "ExecuteTime": {
     "end_time": "2021-04-01T08:32:40.166754Z",
     "start_time": "2021-04-01T08:32:40.124775Z"
    }
   },
   "outputs": [
    {
     "data": {
      "text/plain": [
       "0.9986562926905976"
      ]
     },
     "execution_count": 53,
     "metadata": {},
     "output_type": "execute_result"
    }
   ],
   "source": [
    "regressor.fit(X_feature_engineering_regression_train, y_feature_engineering_regression_train)\n",
    "r2_score(y_feature_engineering_regression_test, regressor.predict(X_feature_engineering_regression_test))"
   ]
  },
  {
   "cell_type": "markdown",
   "metadata": {},
   "source": [
    "##### Mean Absolute Error"
   ]
  },
  {
   "cell_type": "code",
   "execution_count": 54,
   "metadata": {
    "ExecuteTime": {
     "end_time": "2021-04-01T08:32:40.182755Z",
     "start_time": "2021-04-01T08:32:40.170761Z"
    }
   },
   "outputs": [
    {
     "data": {
      "text/plain": [
       "0.47977288857345635"
      ]
     },
     "execution_count": 54,
     "metadata": {},
     "output_type": "execute_result"
    }
   ],
   "source": [
    "mean_absolute_error(y_feature_engineering_regression_test, regressor.predict(X_feature_engineering_regression_test))"
   ]
  },
  {
   "cell_type": "markdown",
   "metadata": {},
   "source": [
    "##### Mean Squared Error"
   ]
  },
  {
   "cell_type": "code",
   "execution_count": 55,
   "metadata": {
    "ExecuteTime": {
     "end_time": "2021-04-01T08:32:40.214772Z",
     "start_time": "2021-04-01T08:32:40.185759Z"
    }
   },
   "outputs": [
    {
     "data": {
      "text/plain": [
       "0.8459900638750887"
      ]
     },
     "execution_count": 55,
     "metadata": {},
     "output_type": "execute_result"
    }
   ],
   "source": [
    "mean_squared_error(y_feature_engineering_regression_test, regressor.predict(X_feature_engineering_regression_test))"
   ]
  },
  {
   "cell_type": "markdown",
   "metadata": {},
   "source": [
    "##### Predict with some feature"
   ]
  },
  {
   "cell_type": "code",
   "execution_count": 56,
   "metadata": {
    "ExecuteTime": {
     "end_time": "2021-04-01T08:32:40.246758Z",
     "start_time": "2021-04-01T08:32:40.217767Z"
    }
   },
   "outputs": [
    {
     "data": {
      "text/plain": [
       "array([19., 23., 72., 72., 60., 68., 68.,  8.,  3., 17.])"
      ]
     },
     "execution_count": 56,
     "metadata": {},
     "output_type": "execute_result"
    }
   ],
   "source": [
    "regressor.predict(X_feature_engineering_regression_test.iloc[50:60, 0:19])"
   ]
  },
  {
   "cell_type": "code",
   "execution_count": 57,
   "metadata": {
    "ExecuteTime": {
     "end_time": "2021-04-01T08:32:40.278763Z",
     "start_time": "2021-04-01T08:32:40.250764Z"
    }
   },
   "outputs": [
    {
     "data": {
      "text/html": [
       "<div>\n",
       "<style scoped>\n",
       "    .dataframe tbody tr th:only-of-type {\n",
       "        vertical-align: middle;\n",
       "    }\n",
       "\n",
       "    .dataframe tbody tr th {\n",
       "        vertical-align: top;\n",
       "    }\n",
       "\n",
       "    .dataframe thead th {\n",
       "        text-align: right;\n",
       "    }\n",
       "</style>\n",
       "<table border=\"1\" class=\"dataframe\">\n",
       "  <thead>\n",
       "    <tr style=\"text-align: right;\">\n",
       "      <th></th>\n",
       "      <th>tenure</th>\n",
       "    </tr>\n",
       "  </thead>\n",
       "  <tbody>\n",
       "    <tr>\n",
       "      <th>50</th>\n",
       "      <td>19</td>\n",
       "    </tr>\n",
       "    <tr>\n",
       "      <th>51</th>\n",
       "      <td>23</td>\n",
       "    </tr>\n",
       "    <tr>\n",
       "      <th>52</th>\n",
       "      <td>72</td>\n",
       "    </tr>\n",
       "    <tr>\n",
       "      <th>53</th>\n",
       "      <td>72</td>\n",
       "    </tr>\n",
       "    <tr>\n",
       "      <th>54</th>\n",
       "      <td>59</td>\n",
       "    </tr>\n",
       "    <tr>\n",
       "      <th>55</th>\n",
       "      <td>70</td>\n",
       "    </tr>\n",
       "    <tr>\n",
       "      <th>56</th>\n",
       "      <td>70</td>\n",
       "    </tr>\n",
       "    <tr>\n",
       "      <th>57</th>\n",
       "      <td>9</td>\n",
       "    </tr>\n",
       "    <tr>\n",
       "      <th>58</th>\n",
       "      <td>3</td>\n",
       "    </tr>\n",
       "    <tr>\n",
       "      <th>59</th>\n",
       "      <td>17</td>\n",
       "    </tr>\n",
       "  </tbody>\n",
       "</table>\n",
       "</div>"
      ],
      "text/plain": [
       "    tenure\n",
       "50      19\n",
       "51      23\n",
       "52      72\n",
       "53      72\n",
       "54      59\n",
       "55      70\n",
       "56      70\n",
       "57       9\n",
       "58       3\n",
       "59      17"
      ]
     },
     "execution_count": 57,
     "metadata": {},
     "output_type": "execute_result"
    }
   ],
   "source": [
    "y_feature_engineering_regression_test[50:60]"
   ]
  },
  {
   "cell_type": "markdown",
   "metadata": {
    "slideshow": {
     "slide_type": "subslide"
    }
   },
   "source": [
    "### PCA Dataset"
   ]
  },
  {
   "cell_type": "markdown",
   "metadata": {},
   "source": [
    "#### Classification"
   ]
  },
  {
   "cell_type": "code",
   "execution_count": 58,
   "metadata": {
    "ExecuteTime": {
     "end_time": "2021-04-01T08:32:40.326753Z",
     "start_time": "2021-04-01T08:32:40.281758Z"
    }
   },
   "outputs": [
    {
     "data": {
      "text/plain": [
       "DecisionTreeClassifier(criterion='entropy', max_depth=20, random_state=42)"
      ]
     },
     "execution_count": 58,
     "metadata": {},
     "output_type": "execute_result"
    }
   ],
   "source": [
    "clf = DecisionTreeClassifier(max_depth=20, criterion='entropy', random_state=42)\n",
    "clf.fit(X_PCA_classification_train, y_PCA_classification_train)"
   ]
  },
  {
   "cell_type": "code",
   "execution_count": 59,
   "metadata": {
    "ExecuteTime": {
     "end_time": "2021-04-01T08:32:40.682766Z",
     "start_time": "2021-04-01T08:32:40.329766Z"
    }
   },
   "outputs": [],
   "source": [
    "accuracy_scores = []\n",
    "\n",
    "for i in range(1, 22):\n",
    "    clf = DecisionTreeClassifier(max_depth=i, criterion='entropy', random_state=42)\n",
    "\n",
    "    clf.fit(X_PCA_classification_train, y_PCA_classification_train)\n",
    "    accuracy_score_n = accuracy_score(y_PCA_classification_train, clf.predict(X_PCA_classification_train))\n",
    "    \n",
    "    accuracy_scores.append(accuracy_score_n)"
   ]
  },
  {
   "cell_type": "code",
   "execution_count": 60,
   "metadata": {
    "ExecuteTime": {
     "end_time": "2021-04-01T08:32:40.697755Z",
     "start_time": "2021-04-01T08:32:40.684760Z"
    }
   },
   "outputs": [
    {
     "name": "stdout",
     "output_type": "stream",
     "text": [
      "max_depth 1 : 0.741569%\n",
      "max_depth 2 : 0.754171%\n",
      "max_depth 3 : 0.754349%\n",
      "max_depth 4 : 0.755591%\n",
      "max_depth 5 : 0.760738%\n",
      "max_depth 6 : 0.765176%\n",
      "max_depth 7 : 0.771565%\n",
      "max_depth 8 : 0.778488%\n",
      "max_depth 9 : 0.783103%\n",
      "max_depth 10 : 0.790202%\n",
      "max_depth 11 : 0.796947%\n",
      "max_depth 12 : 0.802804%\n",
      "max_depth 13 : 0.808307%\n",
      "max_depth 14 : 0.817181%\n",
      "max_depth 15 : 0.823926%\n",
      "max_depth 16 : 0.830138%\n",
      "max_depth 17 : 0.837416%\n",
      "max_depth 18 : 0.843450%\n",
      "max_depth 19 : 0.849663%\n",
      "max_depth 20 : 0.855165%\n"
     ]
    }
   ],
   "source": [
    "for i in range(1, 21):\n",
    "    print(f'max_depth {i} : {accuracy_scores[i]:.6f}%')"
   ]
  },
  {
   "cell_type": "markdown",
   "metadata": {},
   "source": [
    "##### Cross Validation Score"
   ]
  },
  {
   "cell_type": "code",
   "execution_count": 97,
   "metadata": {
    "ExecuteTime": {
     "end_time": "2021-04-01T08:57:18.460906Z",
     "start_time": "2021-04-01T08:57:18.244686Z"
    }
   },
   "outputs": [
    {
     "data": {
      "text/plain": [
       "array([0.74113475, 0.71453901, 0.71453901, 0.73404255, 0.71403197,\n",
       "       0.71580817, 0.69982238, 0.73357016, 0.73889876, 0.71936057])"
      ]
     },
     "execution_count": 97,
     "metadata": {},
     "output_type": "execute_result"
    }
   ],
   "source": [
    "cross_val_score(clf, X_PCA_classification_train, y_PCA_classification_train, cv=10)"
   ]
  },
  {
   "cell_type": "markdown",
   "metadata": {},
   "source": [
    "##### Precision"
   ]
  },
  {
   "cell_type": "code",
   "execution_count": 62,
   "metadata": {
    "ExecuteTime": {
     "end_time": "2021-04-01T08:32:40.867755Z",
     "start_time": "2021-04-01T08:32:40.787756Z"
    }
   },
   "outputs": [
    {
     "name": "stdout",
     "output_type": "stream",
     "text": [
      "Precision: 41.38%\n"
     ]
    }
   ],
   "source": [
    "y_train_pred = cross_val_predict(clf, X_PCA_classification_train, np.ravel(y_PCA_classification_train), cv=3)\n",
    "\n",
    "print(f'Precision: {round(precision_score(np.ravel(y_PCA_classification_train), y_train_pred) * 100, 2)}%')"
   ]
  },
  {
   "cell_type": "markdown",
   "metadata": {
    "ExecuteTime": {
     "end_time": "2021-03-31T08:59:47.633427Z",
     "start_time": "2021-03-31T08:59:47.619284Z"
    }
   },
   "source": [
    "##### Recall"
   ]
  },
  {
   "cell_type": "code",
   "execution_count": 63,
   "metadata": {
    "ExecuteTime": {
     "end_time": "2021-04-01T08:32:40.883754Z",
     "start_time": "2021-04-01T08:32:40.872755Z"
    }
   },
   "outputs": [
    {
     "name": "stdout",
     "output_type": "stream",
     "text": [
      "Recall: 23.73%\n"
     ]
    }
   ],
   "source": [
    "print(f'Recall: {round(recall_score(np.ravel(y_PCA_classification_train), y_train_pred) * 100, 2)}%')"
   ]
  },
  {
   "cell_type": "markdown",
   "metadata": {},
   "source": [
    "##### F1-Score"
   ]
  },
  {
   "cell_type": "code",
   "execution_count": 64,
   "metadata": {
    "ExecuteTime": {
     "end_time": "2021-04-01T08:32:40.898761Z",
     "start_time": "2021-04-01T08:32:40.886760Z"
    }
   },
   "outputs": [
    {
     "name": "stdout",
     "output_type": "stream",
     "text": [
      "F-1 Score: 30.16%\n"
     ]
    }
   ],
   "source": [
    "print(f'F-1 Score: {round(f1_score(np.ravel(y_PCA_classification_train), y_train_pred) * 100, 2)}%')"
   ]
  },
  {
   "cell_type": "markdown",
   "metadata": {},
   "source": [
    "##### Classification Report"
   ]
  },
  {
   "cell_type": "code",
   "execution_count": 65,
   "metadata": {
    "ExecuteTime": {
     "end_time": "2021-04-01T08:32:40.929800Z",
     "start_time": "2021-04-01T08:32:40.900759Z"
    }
   },
   "outputs": [
    {
     "name": "stdout",
     "output_type": "stream",
     "text": [
      "              precision    recall  f1-score   support\n",
      "\n",
      "           0       0.84      0.99      0.91      4138\n",
      "           1       0.94      0.49      0.64      1496\n",
      "\n",
      "    accuracy                           0.86      5634\n",
      "   macro avg       0.89      0.74      0.78      5634\n",
      "weighted avg       0.87      0.86      0.84      5634\n",
      "\n"
     ]
    }
   ],
   "source": [
    "print(classification_report(y_PCA_classification_train, clf.predict(X_PCA_classification_train)))"
   ]
  },
  {
   "cell_type": "markdown",
   "metadata": {},
   "source": [
    "##### Precision-Recall Trade off - Precision Recall VS Threshold Plot"
   ]
  },
  {
   "cell_type": "code",
   "execution_count": 66,
   "metadata": {
    "ExecuteTime": {
     "end_time": "2021-04-01T08:32:41.008753Z",
     "start_time": "2021-04-01T08:32:40.933759Z"
    }
   },
   "outputs": [],
   "source": [
    "y_scores = cross_val_predict(clf, X_PCA_classification_train, np.ravel(y_PCA_classification_train), cv=3,)\n",
    "precisions, recalls, thresholds = precision_recall_curve(y_PCA_classification_train, y_scores)"
   ]
  },
  {
   "cell_type": "code",
   "execution_count": 67,
   "metadata": {
    "ExecuteTime": {
     "end_time": "2021-04-01T08:32:41.226752Z",
     "start_time": "2021-04-01T08:32:41.013756Z"
    }
   },
   "outputs": [
    {
     "data": {
      "image/png": "[encoded data removed]",
      "text/plain": [
       "<Figure size 576x432 with 1 Axes>"
      ]
     },
     "metadata": {
      "needs_background": "light"
     },
     "output_type": "display_data"
    }
   ],
   "source": [
    "def plot_precision_vs_recall(precisions, recalls):\n",
    "    plt.plot(recalls, precisions, \"b-\", linewidth=2)\n",
    "    plt.title('Precision and Recall Plot')\n",
    "    plt.xlabel(\"Recall\")\n",
    "    plt.ylabel(\"Precision\")\n",
    "    plt.axis([0, 1, 0, 1])\n",
    "    plt.grid(True)\n",
    "\n",
    "plt.figure(figsize=(8, 6))\n",
    "plot_precision_vs_recall(precisions, recalls)\n",
    "plt.plot([0.4368, 0.4368], [0., 0.9], \"r:\")\n",
    "plt.plot([0.0, 0.4368], [0.9, 0.9], \"r:\")\n",
    "plt.plot([0.4368], [0.9], \"ro\")\n",
    "plt.show()"
   ]
  },
  {
   "cell_type": "markdown",
   "metadata": {},
   "source": [
    "##### Precision-Recall Trade off - Precision Recall VS Threshold Plot"
   ]
  },
  {
   "cell_type": "code",
   "execution_count": 68,
   "metadata": {
    "ExecuteTime": {
     "end_time": "2021-04-01T08:32:41.242753Z",
     "start_time": "2021-04-01T08:32:41.228753Z"
    }
   },
   "outputs": [],
   "source": [
    "fpr, tpr, thresholds = roc_curve(y_PCA_classification_train, y_scores)"
   ]
  },
  {
   "cell_type": "code",
   "execution_count": 69,
   "metadata": {
    "ExecuteTime": {
     "end_time": "2021-04-01T08:32:41.459754Z",
     "start_time": "2021-04-01T08:32:41.244754Z"
    }
   },
   "outputs": [
    {
     "data": {
      "image/png": "[encoded data removed]",
      "text/plain": [
       "<Figure size 576x432 with 1 Axes>"
      ]
     },
     "metadata": {
      "needs_background": "light"
     },
     "output_type": "display_data"
    }
   ],
   "source": [
    "def plot_roc_curve(fpr, tpr, label=None):\n",
    "    plt.plot(fpr, tpr, linewidth=2, label=label)\n",
    "    plt.plot([0, 1], [0, 1], 'k--')\n",
    "    plt.axis([0, 1, 0, 1])\n",
    "    plt.xlabel('False Positive Rate (Fall-Out)')\n",
    "    plt.ylabel('True Positive Rate (Recall)')\n",
    "    plt.grid(True)\n",
    "\n",
    "plt.figure(figsize=(8, 6))\n",
    "plot_roc_curve(fpr, tpr)\n",
    "plt.plot([4.837e-3, 4.837e-3], [0., 0.4368], \"r:\")\n",
    "plt.plot([0.0, 4.837e-3], [0.4368, 0.4368], \"r:\")\n",
    "plt.plot([4.837e-3], [0.4368], \"ro\")\n",
    "plt.show()"
   ]
  },
  {
   "cell_type": "code",
   "execution_count": 70,
   "metadata": {
    "ExecuteTime": {
     "end_time": "2021-04-01T08:32:41.474761Z",
     "start_time": "2021-04-01T08:32:41.461754Z"
    }
   },
   "outputs": [
    {
     "data": {
      "text/plain": [
       "0.5578715789228824"
      ]
     },
     "execution_count": 70,
     "metadata": {},
     "output_type": "execute_result"
    }
   ],
   "source": [
    "roc_auc_score(y_PCA_classification_train, y_scores)"
   ]
  },
  {
   "cell_type": "markdown",
   "metadata": {},
   "source": [
    "##### Predict with some feature"
   ]
  },
  {
   "cell_type": "code",
   "execution_count": 71,
   "metadata": {
    "ExecuteTime": {
     "end_time": "2021-04-01T08:32:41.490755Z",
     "start_time": "2021-04-01T08:32:41.477756Z"
    }
   },
   "outputs": [
    {
     "data": {
      "text/plain": [
       "array([0, 0, 0, 0, 0, 0, 0, 0, 1, 0], dtype=int64)"
      ]
     },
     "execution_count": 71,
     "metadata": {},
     "output_type": "execute_result"
    }
   ],
   "source": [
    "clf.predict(X_PCA_classification_test.iloc[50:60, :])"
   ]
  },
  {
   "cell_type": "code",
   "execution_count": 72,
   "metadata": {
    "ExecuteTime": {
     "end_time": "2021-04-01T08:32:41.521769Z",
     "start_time": "2021-04-01T08:32:41.493755Z"
    }
   },
   "outputs": [
    {
     "data": {
      "text/html": [
       "<div>\n",
       "<style scoped>\n",
       "    .dataframe tbody tr th:only-of-type {\n",
       "        vertical-align: middle;\n",
       "    }\n",
       "\n",
       "    .dataframe tbody tr th {\n",
       "        vertical-align: top;\n",
       "    }\n",
       "\n",
       "    .dataframe thead th {\n",
       "        text-align: right;\n",
       "    }\n",
       "</style>\n",
       "<table border=\"1\" class=\"dataframe\">\n",
       "  <thead>\n",
       "    <tr style=\"text-align: right;\">\n",
       "      <th></th>\n",
       "      <th>churn</th>\n",
       "    </tr>\n",
       "  </thead>\n",
       "  <tbody>\n",
       "    <tr>\n",
       "      <th>50</th>\n",
       "      <td>0</td>\n",
       "    </tr>\n",
       "    <tr>\n",
       "      <th>51</th>\n",
       "      <td>0</td>\n",
       "    </tr>\n",
       "    <tr>\n",
       "      <th>52</th>\n",
       "      <td>0</td>\n",
       "    </tr>\n",
       "    <tr>\n",
       "      <th>53</th>\n",
       "      <td>0</td>\n",
       "    </tr>\n",
       "    <tr>\n",
       "      <th>54</th>\n",
       "      <td>0</td>\n",
       "    </tr>\n",
       "    <tr>\n",
       "      <th>55</th>\n",
       "      <td>0</td>\n",
       "    </tr>\n",
       "    <tr>\n",
       "      <th>56</th>\n",
       "      <td>0</td>\n",
       "    </tr>\n",
       "    <tr>\n",
       "      <th>57</th>\n",
       "      <td>0</td>\n",
       "    </tr>\n",
       "    <tr>\n",
       "      <th>58</th>\n",
       "      <td>0</td>\n",
       "    </tr>\n",
       "    <tr>\n",
       "      <th>59</th>\n",
       "      <td>0</td>\n",
       "    </tr>\n",
       "  </tbody>\n",
       "</table>\n",
       "</div>"
      ],
      "text/plain": [
       "    churn\n",
       "50      0\n",
       "51      0\n",
       "52      0\n",
       "53      0\n",
       "54      0\n",
       "55      0\n",
       "56      0\n",
       "57      0\n",
       "58      0\n",
       "59      0"
      ]
     },
     "execution_count": 72,
     "metadata": {},
     "output_type": "execute_result"
    }
   ],
   "source": [
    "y_PCA_classification_test.iloc[50:60, :]"
   ]
  },
  {
   "cell_type": "markdown",
   "metadata": {
    "slideshow": {
     "slide_type": "subslide"
    }
   },
   "source": [
    "#### Regression"
   ]
  },
  {
   "cell_type": "code",
   "execution_count": 73,
   "metadata": {
    "ExecuteTime": {
     "end_time": "2021-04-01T08:32:41.659796Z",
     "start_time": "2021-04-01T08:32:41.524763Z"
    }
   },
   "outputs": [
    {
     "data": {
      "text/plain": [
       "array([0.99730084, 0.99699891, 0.99541192, 0.99802213, 0.99766373,\n",
       "       0.99409278, 0.9976941 , 0.99662098, 0.99820557, 0.99603575])"
      ]
     },
     "execution_count": 73,
     "metadata": {},
     "output_type": "execute_result"
    }
   ],
   "source": [
    "regressor = DecisionTreeRegressor(max_depth=20, random_state=42)\n",
    "cross_val_score(regressor, X_PCA_regression_test, y_PCA_regression_test, cv=10)"
   ]
  },
  {
   "cell_type": "markdown",
   "metadata": {},
   "source": [
    "##### R Squared"
   ]
  },
  {
   "cell_type": "code",
   "execution_count": 74,
   "metadata": {
    "ExecuteTime": {
     "end_time": "2021-04-01T08:32:41.690759Z",
     "start_time": "2021-04-01T08:32:41.662768Z"
    }
   },
   "outputs": [
    {
     "data": {
      "text/plain": [
       "0.9994126916877528"
      ]
     },
     "execution_count": 74,
     "metadata": {},
     "output_type": "execute_result"
    }
   ],
   "source": [
    "regressor.fit(X_PCA_regression_train, y_PCA_regression_train)\n",
    "r2_score(y_PCA_regression_test, regressor.predict(X_PCA_regression_test))"
   ]
  },
  {
   "cell_type": "markdown",
   "metadata": {},
   "source": [
    "##### Mean Absolute Error"
   ]
  },
  {
   "cell_type": "code",
   "execution_count": 75,
   "metadata": {
    "ExecuteTime": {
     "end_time": "2021-04-01T08:32:41.706753Z",
     "start_time": "2021-04-01T08:32:41.692754Z"
    }
   },
   "outputs": [
    {
     "data": {
      "text/plain": [
       "0.2817601135557133"
      ]
     },
     "execution_count": 75,
     "metadata": {},
     "output_type": "execute_result"
    }
   ],
   "source": [
    "mean_absolute_error(y_PCA_regression_test, regressor.predict(X_PCA_regression_test))"
   ]
  },
  {
   "cell_type": "markdown",
   "metadata": {},
   "source": [
    "##### Mean Squared Error"
   ]
  },
  {
   "cell_type": "code",
   "execution_count": 76,
   "metadata": {
    "ExecuteTime": {
     "end_time": "2021-04-01T08:32:41.721754Z",
     "start_time": "2021-04-01T08:32:41.707754Z"
    }
   },
   "outputs": [
    {
     "data": {
      "text/plain": [
       "0.3697657913413769"
      ]
     },
     "execution_count": 76,
     "metadata": {},
     "output_type": "execute_result"
    }
   ],
   "source": [
    "mean_squared_error(y_PCA_regression_test, regressor.predict(X_PCA_regression_test))"
   ]
  },
  {
   "cell_type": "markdown",
   "metadata": {},
   "source": [
    "##### Predict with some feature"
   ]
  },
  {
   "cell_type": "code",
   "execution_count": 77,
   "metadata": {
    "ExecuteTime": {
     "end_time": "2021-04-01T08:32:41.737756Z",
     "start_time": "2021-04-01T08:32:41.724759Z"
    }
   },
   "outputs": [
    {
     "data": {
      "text/plain": [
       "array([19., 24., 72., 72., 60., 70., 69.,  9.,  3., 16.])"
      ]
     },
     "execution_count": 77,
     "metadata": {},
     "output_type": "execute_result"
    }
   ],
   "source": [
    "regressor.predict(X_PCA_regression_test.iloc[50:60, 0:19])"
   ]
  },
  {
   "cell_type": "code",
   "execution_count": 78,
   "metadata": {
    "ExecuteTime": {
     "end_time": "2021-04-01T08:32:41.767753Z",
     "start_time": "2021-04-01T08:32:41.742763Z"
    }
   },
   "outputs": [
    {
     "data": {
      "text/html": [
       "<div>\n",
       "<style scoped>\n",
       "    .dataframe tbody tr th:only-of-type {\n",
       "        vertical-align: middle;\n",
       "    }\n",
       "\n",
       "    .dataframe tbody tr th {\n",
       "        vertical-align: top;\n",
       "    }\n",
       "\n",
       "    .dataframe thead th {\n",
       "        text-align: right;\n",
       "    }\n",
       "</style>\n",
       "<table border=\"1\" class=\"dataframe\">\n",
       "  <thead>\n",
       "    <tr style=\"text-align: right;\">\n",
       "      <th></th>\n",
       "      <th>tenure</th>\n",
       "    </tr>\n",
       "  </thead>\n",
       "  <tbody>\n",
       "    <tr>\n",
       "      <th>50</th>\n",
       "      <td>19</td>\n",
       "    </tr>\n",
       "    <tr>\n",
       "      <th>51</th>\n",
       "      <td>23</td>\n",
       "    </tr>\n",
       "    <tr>\n",
       "      <th>52</th>\n",
       "      <td>72</td>\n",
       "    </tr>\n",
       "    <tr>\n",
       "      <th>53</th>\n",
       "      <td>72</td>\n",
       "    </tr>\n",
       "    <tr>\n",
       "      <th>54</th>\n",
       "      <td>59</td>\n",
       "    </tr>\n",
       "    <tr>\n",
       "      <th>55</th>\n",
       "      <td>70</td>\n",
       "    </tr>\n",
       "    <tr>\n",
       "      <th>56</th>\n",
       "      <td>70</td>\n",
       "    </tr>\n",
       "    <tr>\n",
       "      <th>57</th>\n",
       "      <td>9</td>\n",
       "    </tr>\n",
       "    <tr>\n",
       "      <th>58</th>\n",
       "      <td>3</td>\n",
       "    </tr>\n",
       "    <tr>\n",
       "      <th>59</th>\n",
       "      <td>17</td>\n",
       "    </tr>\n",
       "  </tbody>\n",
       "</table>\n",
       "</div>"
      ],
      "text/plain": [
       "    tenure\n",
       "50      19\n",
       "51      23\n",
       "52      72\n",
       "53      72\n",
       "54      59\n",
       "55      70\n",
       "56      70\n",
       "57       9\n",
       "58       3\n",
       "59      17"
      ]
     },
     "execution_count": 78,
     "metadata": {},
     "output_type": "execute_result"
    }
   ],
   "source": [
    "y_PCA_regression_test[50:60]"
   ]
  },
  {
   "cell_type": "markdown",
   "metadata": {
    "slideshow": {
     "slide_type": "slide"
    }
   },
   "source": [
    "#  Learning curves classification model"
   ]
  },
  {
   "cell_type": "markdown",
   "metadata": {
    "slideshow": {
     "slide_type": "subslide"
    }
   },
   "source": [
    "## Create function for plot learning curves"
   ]
  },
  {
   "cell_type": "code",
   "execution_count": 79,
   "metadata": {
    "ExecuteTime": {
     "end_time": "2021-04-01T08:32:41.892756Z",
     "start_time": "2021-04-01T08:32:41.771774Z"
    }
   },
   "outputs": [],
   "source": [
    "def plot_learning_curve(estimator, title, X, y, axes=None, ylim=None, cv=None, n_jobs=None, train_sizes=np.linspace(.1, 1.0, 5)): \n",
    "    if axes is None:\n",
    "        _, axes = plt.subplots(1, 3, figsize=(20, 5))\n",
    "\n",
    "    axes[0].set_title(title)\n",
    "    \n",
    "    if ylim is not None:\n",
    "        axes[0].set_ylim(*ylim)\n",
    "    \n",
    "    axes[0].set_xlabel(\"Training examples\")\n",
    "    axes[0].set_ylabel(\"Score\")\n",
    "\n",
    "    train_sizes, train_scores, test_scores, fit_times, _ = learning_curve(estimator, X_feature_engineering_classification_train, y_feature_engineering_classification_train, cv=cv, n_jobs=n_jobs,train_sizes=train_sizes,return_times=True)\n",
    "    \n",
    "    train_scores_mean = np.mean(train_scores, axis=1)\n",
    "    train_scores_std  = np.std(train_scores, axis=1)\n",
    "    test_scores_mean  = np.mean(test_scores, axis=1)\n",
    "    test_scores_std   = np.std(test_scores, axis=1)\n",
    "    fit_times_mean    = np.mean(fit_times, axis=1)\n",
    "    fit_times_std     = np.std(fit_times, axis=1)\n",
    "\n",
    "    # Plot learning curve\n",
    "    axes[0].grid()\n",
    "    axes[0].fill_between(train_sizes, train_scores_mean - train_scores_std, train_scores_mean + train_scores_std, alpha=0.1, color=\"r\")\n",
    "    axes[0].fill_between(train_sizes, test_scores_mean - test_scores_std, test_scores_mean + test_scores_std, alpha=0.1, color=\"g\")\n",
    "    axes[0].plot(train_sizes, train_scores_mean, 'o-', color=\"r\", label=\"Training score\")\n",
    "    axes[0].plot(train_sizes, test_scores_mean, 'o-', color=\"g\", label=\"Cross-validation score\")\n",
    "    axes[0].legend(loc=\"best\")\n",
    "\n",
    "    # Plot n_samples vs fit_times\n",
    "    axes[1].grid()\n",
    "    axes[1].plot(train_sizes, fit_times_mean, 'o-')\n",
    "    axes[1].fill_between(train_sizes, fit_times_mean - fit_times_std, fit_times_mean + fit_times_std, alpha=0.1)\n",
    "    axes[1].set_xlabel(\"Training examples\")\n",
    "    axes[1].set_ylabel(\"fit_times\")\n",
    "    axes[1].set_title(\"Scalability of the model\")\n",
    "\n",
    "    # Plot fit_time vs score\n",
    "    axes[2].grid()\n",
    "    axes[2].plot(fit_times_mean, test_scores_mean, 'o-')\n",
    "    axes[2].fill_between(fit_times_mean, test_scores_mean - test_scores_std, test_scores_mean + test_scores_std, alpha=0.1)\n",
    "    axes[2].set_xlabel(\"fit_times\")\n",
    "    axes[2].set_ylabel(\"Score\")\n",
    "    axes[2].set_title(\"Performance of the model\")\n",
    "\n",
    "    return plt"
   ]
  },
  {
   "cell_type": "markdown",
   "metadata": {
    "slideshow": {
     "slide_type": "subslide"
    }
   },
   "source": [
    "## Plotting Learning Curves for evaluate underfitting and overfitting"
   ]
  },
  {
   "cell_type": "code",
   "execution_count": 98,
   "metadata": {
    "ExecuteTime": {
     "end_time": "2021-04-01T08:57:43.768939Z",
     "start_time": "2021-04-01T08:57:41.916708Z"
    },
    "scrolled": false
   },
   "outputs": [
    {
     "data": {
      "image/png": "[encoded data removed]",
      "text/plain": [
       "<Figure size 1080x1440 with 9 Axes>"
      ]
     },
     "metadata": {
      "needs_background": "light"
     },
     "output_type": "display_data"
    }
   ],
   "source": [
    "fig, axes = plt.subplots(3, 3, figsize=(15, 20))\n",
    "cv        = 10\n",
    "estimator = DecisionTreeClassifier(max_depth=20, criterion='entropy')\n",
    "\n",
    "title = \"EDA Dataset\"\n",
    "plot_learning_curve(estimator, title, X_EDA_classification_train, y_EDA_classification_train, axes=axes[:, 0], ylim=(0.7, 1.01), cv=cv, n_jobs=3)\n",
    "\n",
    "title = \"Feature Engineering Dataset\"\n",
    "plot_learning_curve(estimator, title, X_feature_engineering_classification_train, y_feature_engineering_classification_train, axes=axes[:, 1], ylim=(0.7, 1.01), cv=cv, n_jobs=3)\n",
    "\n",
    "title = \"PCA Dataset\"\n",
    "plot_learning_curve(estimator, title, X_PCA_classification_train, y_PCA_classification_train, axes=axes[:, 2], ylim=(0.7, 1.01), cv=cv, n_jobs=3)\n",
    "\n",
    "plt.show()"
   ]
  },
  {
   "cell_type": "markdown",
   "metadata": {},
   "source": [
    "- Dari ketiga dataset yang berbeda, performa dari tiap model kurang lebih sama atau tidak memiliki perbedaan yang cukup signifikan. Ketiga model menunjukkan train score dan validation scorenya sama, dapat dilihat dari plot garis antara train score (merah) dan validation score (hijau), gapnya tidak besar."
   ]
  },
  {
   "cell_type": "markdown",
   "metadata": {
    "slideshow": {
     "slide_type": "slide"
    }
   },
   "source": [
    "# Conclusion"
   ]
  },
  {
   "cell_type": "markdown",
   "metadata": {},
   "source": [
    "- Untuk classification menggunakan classification model dengan dataset feature engineering. Alasan accuracy tinggi pada model yang sama dengan dataset berbeda dan fitur telah diseleksi.\n",
    "- Untuk regression menggunakan regresi model dengan dataset PCA. Alasannya akurasi tinggi dibanding dengan model yang sama dengan dataset berbeda dan dimensi feature hanya dua komponen."
   ]
  }
 ],
 "metadata": {
  "celltoolbar": "Slideshow",
  "kernelspec": {
   "display_name": "Python 3",
   "language": "python",
   "name": "python3"
  },
  "language_info": {
   "codemirror_mode": {
    "name": "ipython",
    "version": 3
   },
   "file_extension": ".py",
   "mimetype": "text/x-python",
   "name": "python",
   "nbconvert_exporter": "python",
   "pygments_lexer": "ipython3",
   "version": "3.8.5"
  },
  "toc": {
   "base_numbering": 1,
   "nav_menu": {},
   "number_sections": true,
   "sideBar": true,
   "skip_h1_title": false,
   "title_cell": "Table of Contents",
   "title_sidebar": "Contents",
   "toc_cell": false,
   "toc_position": {
    "height": "calc(100% - 180px)",
    "left": "10px",
    "top": "150px",
    "width": "288.667px"
   },
   "toc_section_display": true,
   "toc_window_display": true
  }
 },
 "nbformat": 4,
 "nbformat_minor": 4
}
