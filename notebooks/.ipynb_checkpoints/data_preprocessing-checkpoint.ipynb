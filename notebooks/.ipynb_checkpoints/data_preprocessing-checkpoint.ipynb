{
 "cells": [
  {
   "cell_type": "markdown",
   "metadata": {
    "slideshow": {
     "slide_type": "slide"
    }
   },
   "source": [
    "# Import Modules"
   ]
  },
  {
   "cell_type": "code",
   "execution_count": 1,
   "metadata": {
    "ExecuteTime": {
     "end_time": "2021-04-05T10:53:41.410339Z",
     "start_time": "2021-04-05T10:53:37.320754Z"
    }
   },
   "outputs": [],
   "source": [
    "import numpy as np\n",
    "import pandas as pd\n",
    "import seaborn as sns;\n",
    "import matplotlib.pyplot as plt\n",
    "\n",
    "from sklearn import preprocessing\n",
    "from sklearn.decomposition import PCA\n",
    "from sklearn.model_selection import train_test_split\n",
    "from sklearn.feature_selection import mutual_info_classif\n",
    "from sklearn.feature_selection import mutual_info_regression\n",
    "\n",
    "pd.set_option('display.max_columns', 21)"
   ]
  },
  {
   "cell_type": "markdown",
   "metadata": {
    "slideshow": {
     "slide_type": "slide"
    }
   },
   "source": [
    "# Raw Dataset"
   ]
  },
  {
   "cell_type": "code",
   "execution_count": 2,
   "metadata": {
    "ExecuteTime": {
     "end_time": "2021-04-05T10:53:41.487176Z",
     "start_time": "2021-04-05T10:53:41.417459Z"
    }
   },
   "outputs": [],
   "source": [
    "raw_df = pd.read_csv(\"../datasets/raw_telco_customer_churn.csv\")"
   ]
  },
  {
   "cell_type": "markdown",
   "metadata": {},
   "source": [
    "## Table"
   ]
  },
  {
   "cell_type": "code",
   "execution_count": 3,
   "metadata": {
    "ExecuteTime": {
     "end_time": "2021-04-05T10:53:41.549702Z",
     "start_time": "2021-04-05T10:53:41.490323Z"
    },
    "scrolled": true
   },
   "outputs": [
    {
     "data": {
      "text/html": [
       "<div>\n",
       "<style scoped>\n",
       "    .dataframe tbody tr th:only-of-type {\n",
       "        vertical-align: middle;\n",
       "    }\n",
       "\n",
       "    .dataframe tbody tr th {\n",
       "        vertical-align: top;\n",
       "    }\n",
       "\n",
       "    .dataframe thead th {\n",
       "        text-align: right;\n",
       "    }\n",
       "</style>\n",
       "<table border=\"1\" class=\"dataframe\">\n",
       "  <thead>\n",
       "    <tr style=\"text-align: right;\">\n",
       "      <th></th>\n",
       "      <th>customerID</th>\n",
       "      <th>gender</th>\n",
       "      <th>SeniorCitizen</th>\n",
       "      <th>Partner</th>\n",
       "      <th>Dependents</th>\n",
       "      <th>tenure</th>\n",
       "      <th>PhoneService</th>\n",
       "      <th>MultipleLines</th>\n",
       "      <th>InternetService</th>\n",
       "      <th>OnlineSecurity</th>\n",
       "      <th>OnlineBackup</th>\n",
       "      <th>DeviceProtection</th>\n",
       "      <th>TechSupport</th>\n",
       "      <th>StreamingTV</th>\n",
       "      <th>StreamingMovies</th>\n",
       "      <th>Contract</th>\n",
       "      <th>PaperlessBilling</th>\n",
       "      <th>PaymentMethod</th>\n",
       "      <th>MonthlyCharges</th>\n",
       "      <th>TotalCharges</th>\n",
       "      <th>Churn</th>\n",
       "    </tr>\n",
       "  </thead>\n",
       "  <tbody>\n",
       "    <tr>\n",
       "      <th>0</th>\n",
       "      <td>7590-VHVEG</td>\n",
       "      <td>Female</td>\n",
       "      <td>0</td>\n",
       "      <td>Yes</td>\n",
       "      <td>No</td>\n",
       "      <td>1</td>\n",
       "      <td>No</td>\n",
       "      <td>No phone service</td>\n",
       "      <td>DSL</td>\n",
       "      <td>No</td>\n",
       "      <td>Yes</td>\n",
       "      <td>No</td>\n",
       "      <td>No</td>\n",
       "      <td>No</td>\n",
       "      <td>No</td>\n",
       "      <td>Month-to-month</td>\n",
       "      <td>Yes</td>\n",
       "      <td>Electronic check</td>\n",
       "      <td>29.85</td>\n",
       "      <td>29.85</td>\n",
       "      <td>No</td>\n",
       "    </tr>\n",
       "    <tr>\n",
       "      <th>1</th>\n",
       "      <td>5575-GNVDE</td>\n",
       "      <td>Male</td>\n",
       "      <td>0</td>\n",
       "      <td>No</td>\n",
       "      <td>No</td>\n",
       "      <td>34</td>\n",
       "      <td>Yes</td>\n",
       "      <td>No</td>\n",
       "      <td>DSL</td>\n",
       "      <td>Yes</td>\n",
       "      <td>No</td>\n",
       "      <td>Yes</td>\n",
       "      <td>No</td>\n",
       "      <td>No</td>\n",
       "      <td>No</td>\n",
       "      <td>One year</td>\n",
       "      <td>No</td>\n",
       "      <td>Mailed check</td>\n",
       "      <td>56.95</td>\n",
       "      <td>1889.5</td>\n",
       "      <td>No</td>\n",
       "    </tr>\n",
       "    <tr>\n",
       "      <th>2</th>\n",
       "      <td>3668-QPYBK</td>\n",
       "      <td>Male</td>\n",
       "      <td>0</td>\n",
       "      <td>No</td>\n",
       "      <td>No</td>\n",
       "      <td>2</td>\n",
       "      <td>Yes</td>\n",
       "      <td>No</td>\n",
       "      <td>DSL</td>\n",
       "      <td>Yes</td>\n",
       "      <td>Yes</td>\n",
       "      <td>No</td>\n",
       "      <td>No</td>\n",
       "      <td>No</td>\n",
       "      <td>No</td>\n",
       "      <td>Month-to-month</td>\n",
       "      <td>Yes</td>\n",
       "      <td>Mailed check</td>\n",
       "      <td>53.85</td>\n",
       "      <td>108.15</td>\n",
       "      <td>Yes</td>\n",
       "    </tr>\n",
       "    <tr>\n",
       "      <th>3</th>\n",
       "      <td>7795-CFOCW</td>\n",
       "      <td>Male</td>\n",
       "      <td>0</td>\n",
       "      <td>No</td>\n",
       "      <td>No</td>\n",
       "      <td>45</td>\n",
       "      <td>No</td>\n",
       "      <td>No phone service</td>\n",
       "      <td>DSL</td>\n",
       "      <td>Yes</td>\n",
       "      <td>No</td>\n",
       "      <td>Yes</td>\n",
       "      <td>Yes</td>\n",
       "      <td>No</td>\n",
       "      <td>No</td>\n",
       "      <td>One year</td>\n",
       "      <td>No</td>\n",
       "      <td>Bank transfer (automatic)</td>\n",
       "      <td>42.30</td>\n",
       "      <td>1840.75</td>\n",
       "      <td>No</td>\n",
       "    </tr>\n",
       "    <tr>\n",
       "      <th>4</th>\n",
       "      <td>9237-HQITU</td>\n",
       "      <td>Female</td>\n",
       "      <td>0</td>\n",
       "      <td>No</td>\n",
       "      <td>No</td>\n",
       "      <td>2</td>\n",
       "      <td>Yes</td>\n",
       "      <td>No</td>\n",
       "      <td>Fiber optic</td>\n",
       "      <td>No</td>\n",
       "      <td>No</td>\n",
       "      <td>No</td>\n",
       "      <td>No</td>\n",
       "      <td>No</td>\n",
       "      <td>No</td>\n",
       "      <td>Month-to-month</td>\n",
       "      <td>Yes</td>\n",
       "      <td>Electronic check</td>\n",
       "      <td>70.70</td>\n",
       "      <td>151.65</td>\n",
       "      <td>Yes</td>\n",
       "    </tr>\n",
       "  </tbody>\n",
       "</table>\n",
       "</div>"
      ],
      "text/plain": [
       "   customerID  gender  SeniorCitizen Partner Dependents  tenure PhoneService  \\\n",
       "0  7590-VHVEG  Female              0     Yes         No       1           No   \n",
       "1  5575-GNVDE    Male              0      No         No      34          Yes   \n",
       "2  3668-QPYBK    Male              0      No         No       2          Yes   \n",
       "3  7795-CFOCW    Male              0      No         No      45           No   \n",
       "4  9237-HQITU  Female              0      No         No       2          Yes   \n",
       "\n",
       "      MultipleLines InternetService OnlineSecurity OnlineBackup  \\\n",
       "0  No phone service             DSL             No          Yes   \n",
       "1                No             DSL            Yes           No   \n",
       "2                No             DSL            Yes          Yes   \n",
       "3  No phone service             DSL            Yes           No   \n",
       "4                No     Fiber optic             No           No   \n",
       "\n",
       "  DeviceProtection TechSupport StreamingTV StreamingMovies        Contract  \\\n",
       "0               No          No          No              No  Month-to-month   \n",
       "1              Yes          No          No              No        One year   \n",
       "2               No          No          No              No  Month-to-month   \n",
       "3              Yes         Yes          No              No        One year   \n",
       "4               No          No          No              No  Month-to-month   \n",
       "\n",
       "  PaperlessBilling              PaymentMethod  MonthlyCharges TotalCharges  \\\n",
       "0              Yes           Electronic check           29.85        29.85   \n",
       "1               No               Mailed check           56.95       1889.5   \n",
       "2              Yes               Mailed check           53.85       108.15   \n",
       "3               No  Bank transfer (automatic)           42.30      1840.75   \n",
       "4              Yes           Electronic check           70.70       151.65   \n",
       "\n",
       "  Churn  \n",
       "0    No  \n",
       "1    No  \n",
       "2   Yes  \n",
       "3    No  \n",
       "4   Yes  "
      ]
     },
     "execution_count": 3,
     "metadata": {},
     "output_type": "execute_result"
    }
   ],
   "source": [
    "raw_df.head()"
   ]
  },
  {
   "cell_type": "markdown",
   "metadata": {
    "slideshow": {
     "slide_type": "slide"
    }
   },
   "source": [
    "# Data Cleaning"
   ]
  },
  {
   "cell_type": "markdown",
   "metadata": {},
   "source": [
    "## Rename column"
   ]
  },
  {
   "cell_type": "code",
   "execution_count": 4,
   "metadata": {
    "ExecuteTime": {
     "end_time": "2021-04-05T10:53:41.564945Z",
     "start_time": "2021-04-05T10:53:41.552702Z"
    }
   },
   "outputs": [],
   "source": [
    "raw_rename_columns_df = raw_df.rename(columns={'customerID' : 'customer_id',\n",
    "                                               'SeniorCitizen' : 'senior_citizen',\n",
    "                                               'Partner' : 'partner',\n",
    "                                               'Dependents' : 'dependents',\n",
    "                                               'PhoneService' : 'phone_service',\n",
    "                                               'MultipleLines' : 'multiple_lines',\n",
    "                                               'InternetService' : 'internet_service',\n",
    "                                               'OnlineSecurity' : 'online_security',\n",
    "                                               'OnlineBackup' : 'online_backup',\n",
    "                                               'DeviceProtection' : 'device_protection',\n",
    "                                               'TechSupport' : 'tech_support',\n",
    "                                               'StreamingTV' : 'streaming_tv',\n",
    "                                               'StreamingMovies' : 'streaming_movies',\n",
    "                                               'Contract' : 'contract',\n",
    "                                               'PaperlessBilling' : 'paperless_billing',\n",
    "                                               'PaymentMethod' : 'payment_method',\n",
    "                                               'MonthlyCharges' : 'monthly_charges',\n",
    "                                               'TotalCharges' : 'total_charges',\n",
    "                                               'Churn' : 'churn'})"
   ]
  },
  {
   "cell_type": "code",
   "execution_count": 5,
   "metadata": {
    "ExecuteTime": {
     "end_time": "2021-04-05T10:53:41.612157Z",
     "start_time": "2021-04-05T10:53:41.567947Z"
    },
    "scrolled": true
   },
   "outputs": [
    {
     "data": {
      "text/html": [
       "<div>\n",
       "<style scoped>\n",
       "    .dataframe tbody tr th:only-of-type {\n",
       "        vertical-align: middle;\n",
       "    }\n",
       "\n",
       "    .dataframe tbody tr th {\n",
       "        vertical-align: top;\n",
       "    }\n",
       "\n",
       "    .dataframe thead th {\n",
       "        text-align: right;\n",
       "    }\n",
       "</style>\n",
       "<table border=\"1\" class=\"dataframe\">\n",
       "  <thead>\n",
       "    <tr style=\"text-align: right;\">\n",
       "      <th></th>\n",
       "      <th>customer_id</th>\n",
       "      <th>gender</th>\n",
       "      <th>senior_citizen</th>\n",
       "      <th>partner</th>\n",
       "      <th>dependents</th>\n",
       "      <th>tenure</th>\n",
       "      <th>phone_service</th>\n",
       "      <th>multiple_lines</th>\n",
       "      <th>internet_service</th>\n",
       "      <th>online_security</th>\n",
       "      <th>online_backup</th>\n",
       "      <th>device_protection</th>\n",
       "      <th>tech_support</th>\n",
       "      <th>streaming_tv</th>\n",
       "      <th>streaming_movies</th>\n",
       "      <th>contract</th>\n",
       "      <th>paperless_billing</th>\n",
       "      <th>payment_method</th>\n",
       "      <th>monthly_charges</th>\n",
       "      <th>total_charges</th>\n",
       "      <th>churn</th>\n",
       "    </tr>\n",
       "  </thead>\n",
       "  <tbody>\n",
       "    <tr>\n",
       "      <th>0</th>\n",
       "      <td>7590-VHVEG</td>\n",
       "      <td>Female</td>\n",
       "      <td>0</td>\n",
       "      <td>Yes</td>\n",
       "      <td>No</td>\n",
       "      <td>1</td>\n",
       "      <td>No</td>\n",
       "      <td>No phone service</td>\n",
       "      <td>DSL</td>\n",
       "      <td>No</td>\n",
       "      <td>Yes</td>\n",
       "      <td>No</td>\n",
       "      <td>No</td>\n",
       "      <td>No</td>\n",
       "      <td>No</td>\n",
       "      <td>Month-to-month</td>\n",
       "      <td>Yes</td>\n",
       "      <td>Electronic check</td>\n",
       "      <td>29.85</td>\n",
       "      <td>29.85</td>\n",
       "      <td>No</td>\n",
       "    </tr>\n",
       "    <tr>\n",
       "      <th>1</th>\n",
       "      <td>5575-GNVDE</td>\n",
       "      <td>Male</td>\n",
       "      <td>0</td>\n",
       "      <td>No</td>\n",
       "      <td>No</td>\n",
       "      <td>34</td>\n",
       "      <td>Yes</td>\n",
       "      <td>No</td>\n",
       "      <td>DSL</td>\n",
       "      <td>Yes</td>\n",
       "      <td>No</td>\n",
       "      <td>Yes</td>\n",
       "      <td>No</td>\n",
       "      <td>No</td>\n",
       "      <td>No</td>\n",
       "      <td>One year</td>\n",
       "      <td>No</td>\n",
       "      <td>Mailed check</td>\n",
       "      <td>56.95</td>\n",
       "      <td>1889.5</td>\n",
       "      <td>No</td>\n",
       "    </tr>\n",
       "    <tr>\n",
       "      <th>2</th>\n",
       "      <td>3668-QPYBK</td>\n",
       "      <td>Male</td>\n",
       "      <td>0</td>\n",
       "      <td>No</td>\n",
       "      <td>No</td>\n",
       "      <td>2</td>\n",
       "      <td>Yes</td>\n",
       "      <td>No</td>\n",
       "      <td>DSL</td>\n",
       "      <td>Yes</td>\n",
       "      <td>Yes</td>\n",
       "      <td>No</td>\n",
       "      <td>No</td>\n",
       "      <td>No</td>\n",
       "      <td>No</td>\n",
       "      <td>Month-to-month</td>\n",
       "      <td>Yes</td>\n",
       "      <td>Mailed check</td>\n",
       "      <td>53.85</td>\n",
       "      <td>108.15</td>\n",
       "      <td>Yes</td>\n",
       "    </tr>\n",
       "    <tr>\n",
       "      <th>3</th>\n",
       "      <td>7795-CFOCW</td>\n",
       "      <td>Male</td>\n",
       "      <td>0</td>\n",
       "      <td>No</td>\n",
       "      <td>No</td>\n",
       "      <td>45</td>\n",
       "      <td>No</td>\n",
       "      <td>No phone service</td>\n",
       "      <td>DSL</td>\n",
       "      <td>Yes</td>\n",
       "      <td>No</td>\n",
       "      <td>Yes</td>\n",
       "      <td>Yes</td>\n",
       "      <td>No</td>\n",
       "      <td>No</td>\n",
       "      <td>One year</td>\n",
       "      <td>No</td>\n",
       "      <td>Bank transfer (automatic)</td>\n",
       "      <td>42.30</td>\n",
       "      <td>1840.75</td>\n",
       "      <td>No</td>\n",
       "    </tr>\n",
       "    <tr>\n",
       "      <th>4</th>\n",
       "      <td>9237-HQITU</td>\n",
       "      <td>Female</td>\n",
       "      <td>0</td>\n",
       "      <td>No</td>\n",
       "      <td>No</td>\n",
       "      <td>2</td>\n",
       "      <td>Yes</td>\n",
       "      <td>No</td>\n",
       "      <td>Fiber optic</td>\n",
       "      <td>No</td>\n",
       "      <td>No</td>\n",
       "      <td>No</td>\n",
       "      <td>No</td>\n",
       "      <td>No</td>\n",
       "      <td>No</td>\n",
       "      <td>Month-to-month</td>\n",
       "      <td>Yes</td>\n",
       "      <td>Electronic check</td>\n",
       "      <td>70.70</td>\n",
       "      <td>151.65</td>\n",
       "      <td>Yes</td>\n",
       "    </tr>\n",
       "  </tbody>\n",
       "</table>\n",
       "</div>"
      ],
      "text/plain": [
       "  customer_id  gender  senior_citizen partner dependents  tenure  \\\n",
       "0  7590-VHVEG  Female               0     Yes         No       1   \n",
       "1  5575-GNVDE    Male               0      No         No      34   \n",
       "2  3668-QPYBK    Male               0      No         No       2   \n",
       "3  7795-CFOCW    Male               0      No         No      45   \n",
       "4  9237-HQITU  Female               0      No         No       2   \n",
       "\n",
       "  phone_service    multiple_lines internet_service online_security  \\\n",
       "0            No  No phone service              DSL              No   \n",
       "1           Yes                No              DSL             Yes   \n",
       "2           Yes                No              DSL             Yes   \n",
       "3            No  No phone service              DSL             Yes   \n",
       "4           Yes                No      Fiber optic              No   \n",
       "\n",
       "  online_backup device_protection tech_support streaming_tv streaming_movies  \\\n",
       "0           Yes                No           No           No               No   \n",
       "1            No               Yes           No           No               No   \n",
       "2           Yes                No           No           No               No   \n",
       "3            No               Yes          Yes           No               No   \n",
       "4            No                No           No           No               No   \n",
       "\n",
       "         contract paperless_billing             payment_method  \\\n",
       "0  Month-to-month               Yes           Electronic check   \n",
       "1        One year                No               Mailed check   \n",
       "2  Month-to-month               Yes               Mailed check   \n",
       "3        One year                No  Bank transfer (automatic)   \n",
       "4  Month-to-month               Yes           Electronic check   \n",
       "\n",
       "   monthly_charges total_charges churn  \n",
       "0            29.85         29.85    No  \n",
       "1            56.95        1889.5    No  \n",
       "2            53.85        108.15   Yes  \n",
       "3            42.30       1840.75    No  \n",
       "4            70.70        151.65   Yes  "
      ]
     },
     "execution_count": 5,
     "metadata": {},
     "output_type": "execute_result"
    }
   ],
   "source": [
    "raw_rename_columns_df.head(5)"
   ]
  },
  {
   "cell_type": "markdown",
   "metadata": {},
   "source": [
    "## Outlier"
   ]
  },
  {
   "cell_type": "markdown",
   "metadata": {},
   "source": [
    "### tenure\n",
    "Tidak ada outlier"
   ]
  },
  {
   "cell_type": "code",
   "execution_count": 6,
   "metadata": {
    "ExecuteTime": {
     "end_time": "2021-04-05T10:53:41.909109Z",
     "start_time": "2021-04-05T10:53:41.618131Z"
    }
   },
   "outputs": [
    {
     "data": {
      "image/png": "[encoded data removed]",
      "text/plain": [
       "<Figure size 720x360 with 1 Axes>"
      ]
     },
     "metadata": {},
     "output_type": "display_data"
    }
   ],
   "source": [
    "sns.set(rc={'figure.figsize':(10, 5)})\n",
    "ax = sns.boxplot(x=raw_rename_columns_df[\"tenure\"])"
   ]
  },
  {
   "cell_type": "markdown",
   "metadata": {},
   "source": [
    "### monthly_charges\n",
    "Tidak ada outlier"
   ]
  },
  {
   "cell_type": "code",
   "execution_count": 7,
   "metadata": {
    "ExecuteTime": {
     "end_time": "2021-04-05T10:53:42.095353Z",
     "start_time": "2021-04-05T10:53:41.912111Z"
    }
   },
   "outputs": [
    {
     "data": {
      "image/png": "[encoded data removed]",
      "text/plain": [
       "<Figure size 720x360 with 1 Axes>"
      ]
     },
     "metadata": {},
     "output_type": "display_data"
    }
   ],
   "source": [
    "sns.set(rc={'figure.figsize':(10, 5)})\n",
    "ax = sns.boxplot(x=raw_rename_columns_df[\"monthly_charges\"])"
   ]
  },
  {
   "cell_type": "markdown",
   "metadata": {
    "ExecuteTime": {
     "end_time": "2021-03-27T09:11:59.920711Z",
     "start_time": "2021-03-27T09:11:59.911236Z"
    }
   },
   "source": [
    "### total_charges\n",
    "Tidak ada outlier"
   ]
  },
  {
   "cell_type": "code",
   "execution_count": 8,
   "metadata": {
    "ExecuteTime": {
     "end_time": "2021-04-05T10:53:42.313435Z",
     "start_time": "2021-04-05T10:53:42.097335Z"
    }
   },
   "outputs": [
    {
     "data": {
      "image/png": "[encoded data removed]",
      "text/plain": [
       "<Figure size 720x360 with 1 Axes>"
      ]
     },
     "metadata": {},
     "output_type": "display_data"
    }
   ],
   "source": [
    "sns.set(rc={'figure.figsize':(10, 5)})\n",
    "ax = sns.boxplot(x=pd.to_numeric(raw_rename_columns_df['total_charges'], errors='coerce'))"
   ]
  },
  {
   "cell_type": "markdown",
   "metadata": {},
   "source": [
    "## Missing Value"
   ]
  },
  {
   "cell_type": "code",
   "execution_count": 9,
   "metadata": {
    "ExecuteTime": {
     "end_time": "2021-04-05T10:53:42.360750Z",
     "start_time": "2021-04-05T10:53:42.318479Z"
    }
   },
   "outputs": [
    {
     "data": {
      "text/html": [
       "<div>\n",
       "<style scoped>\n",
       "    .dataframe tbody tr th:only-of-type {\n",
       "        vertical-align: middle;\n",
       "    }\n",
       "\n",
       "    .dataframe tbody tr th {\n",
       "        vertical-align: top;\n",
       "    }\n",
       "\n",
       "    .dataframe thead th {\n",
       "        text-align: right;\n",
       "    }\n",
       "</style>\n",
       "<table border=\"1\" class=\"dataframe\">\n",
       "  <thead>\n",
       "    <tr style=\"text-align: right;\">\n",
       "      <th></th>\n",
       "      <th>Number of Missing Value (%)</th>\n",
       "    </tr>\n",
       "  </thead>\n",
       "  <tbody>\n",
       "    <tr>\n",
       "      <th>customer_id</th>\n",
       "      <td>0</td>\n",
       "    </tr>\n",
       "    <tr>\n",
       "      <th>gender</th>\n",
       "      <td>0</td>\n",
       "    </tr>\n",
       "    <tr>\n",
       "      <th>senior_citizen</th>\n",
       "      <td>0</td>\n",
       "    </tr>\n",
       "    <tr>\n",
       "      <th>partner</th>\n",
       "      <td>0</td>\n",
       "    </tr>\n",
       "    <tr>\n",
       "      <th>dependents</th>\n",
       "      <td>0</td>\n",
       "    </tr>\n",
       "    <tr>\n",
       "      <th>tenure</th>\n",
       "      <td>0</td>\n",
       "    </tr>\n",
       "    <tr>\n",
       "      <th>phone_service</th>\n",
       "      <td>0</td>\n",
       "    </tr>\n",
       "    <tr>\n",
       "      <th>multiple_lines</th>\n",
       "      <td>0</td>\n",
       "    </tr>\n",
       "    <tr>\n",
       "      <th>internet_service</th>\n",
       "      <td>0</td>\n",
       "    </tr>\n",
       "    <tr>\n",
       "      <th>online_security</th>\n",
       "      <td>0</td>\n",
       "    </tr>\n",
       "    <tr>\n",
       "      <th>online_backup</th>\n",
       "      <td>0</td>\n",
       "    </tr>\n",
       "    <tr>\n",
       "      <th>device_protection</th>\n",
       "      <td>0</td>\n",
       "    </tr>\n",
       "    <tr>\n",
       "      <th>tech_support</th>\n",
       "      <td>0</td>\n",
       "    </tr>\n",
       "    <tr>\n",
       "      <th>streaming_tv</th>\n",
       "      <td>0</td>\n",
       "    </tr>\n",
       "    <tr>\n",
       "      <th>streaming_movies</th>\n",
       "      <td>0</td>\n",
       "    </tr>\n",
       "    <tr>\n",
       "      <th>contract</th>\n",
       "      <td>0</td>\n",
       "    </tr>\n",
       "    <tr>\n",
       "      <th>paperless_billing</th>\n",
       "      <td>0</td>\n",
       "    </tr>\n",
       "    <tr>\n",
       "      <th>payment_method</th>\n",
       "      <td>0</td>\n",
       "    </tr>\n",
       "    <tr>\n",
       "      <th>monthly_charges</th>\n",
       "      <td>0</td>\n",
       "    </tr>\n",
       "    <tr>\n",
       "      <th>total_charges</th>\n",
       "      <td>0</td>\n",
       "    </tr>\n",
       "    <tr>\n",
       "      <th>churn</th>\n",
       "      <td>0</td>\n",
       "    </tr>\n",
       "  </tbody>\n",
       "</table>\n",
       "</div>"
      ],
      "text/plain": [
       "                   Number of Missing Value (%)\n",
       "customer_id                                  0\n",
       "gender                                       0\n",
       "senior_citizen                               0\n",
       "partner                                      0\n",
       "dependents                                   0\n",
       "tenure                                       0\n",
       "phone_service                                0\n",
       "multiple_lines                               0\n",
       "internet_service                             0\n",
       "online_security                              0\n",
       "online_backup                                0\n",
       "device_protection                            0\n",
       "tech_support                                 0\n",
       "streaming_tv                                 0\n",
       "streaming_movies                             0\n",
       "contract                                     0\n",
       "paperless_billing                            0\n",
       "payment_method                               0\n",
       "monthly_charges                              0\n",
       "total_charges                                0\n",
       "churn                                        0"
      ]
     },
     "execution_count": 9,
     "metadata": {},
     "output_type": "execute_result"
    }
   ],
   "source": [
    "raw_rename_columns_df.isna().sum().to_frame().rename(columns={0 : 'Number of Missing Value (%)'})"
   ]
  },
  {
   "cell_type": "markdown",
   "metadata": {},
   "source": [
    "## Duplicate Value"
   ]
  },
  {
   "cell_type": "code",
   "execution_count": 10,
   "metadata": {
    "ExecuteTime": {
     "end_time": "2021-04-05T10:53:42.424048Z",
     "start_time": "2021-04-05T10:53:42.363860Z"
    }
   },
   "outputs": [
    {
     "name": "stdout",
     "output_type": "stream",
     "text": [
      "Number of duplicate value : 0\n"
     ]
    }
   ],
   "source": [
    "print(f'Number of duplicate value : {raw_rename_columns_df.duplicated().sum()}')"
   ]
  },
  {
   "cell_type": "markdown",
   "metadata": {},
   "source": [
    "## Mismatch Value\n",
    "Pada fitur total_charges datatype nya adalah object, yang seharusnya float."
   ]
  },
  {
   "cell_type": "code",
   "execution_count": 11,
   "metadata": {
    "ExecuteTime": {
     "end_time": "2021-04-05T10:53:42.439444Z",
     "start_time": "2021-04-05T10:53:42.427101Z"
    }
   },
   "outputs": [
    {
     "data": {
      "text/html": [
       "<div>\n",
       "<style scoped>\n",
       "    .dataframe tbody tr th:only-of-type {\n",
       "        vertical-align: middle;\n",
       "    }\n",
       "\n",
       "    .dataframe tbody tr th {\n",
       "        vertical-align: top;\n",
       "    }\n",
       "\n",
       "    .dataframe thead th {\n",
       "        text-align: right;\n",
       "    }\n",
       "</style>\n",
       "<table border=\"1\" class=\"dataframe\">\n",
       "  <thead>\n",
       "    <tr style=\"text-align: right;\">\n",
       "      <th></th>\n",
       "      <th>Datatype</th>\n",
       "    </tr>\n",
       "  </thead>\n",
       "  <tbody>\n",
       "    <tr>\n",
       "      <th>customer_id</th>\n",
       "      <td>object</td>\n",
       "    </tr>\n",
       "    <tr>\n",
       "      <th>gender</th>\n",
       "      <td>object</td>\n",
       "    </tr>\n",
       "    <tr>\n",
       "      <th>senior_citizen</th>\n",
       "      <td>int64</td>\n",
       "    </tr>\n",
       "    <tr>\n",
       "      <th>partner</th>\n",
       "      <td>object</td>\n",
       "    </tr>\n",
       "    <tr>\n",
       "      <th>dependents</th>\n",
       "      <td>object</td>\n",
       "    </tr>\n",
       "    <tr>\n",
       "      <th>tenure</th>\n",
       "      <td>int64</td>\n",
       "    </tr>\n",
       "    <tr>\n",
       "      <th>phone_service</th>\n",
       "      <td>object</td>\n",
       "    </tr>\n",
       "    <tr>\n",
       "      <th>multiple_lines</th>\n",
       "      <td>object</td>\n",
       "    </tr>\n",
       "    <tr>\n",
       "      <th>internet_service</th>\n",
       "      <td>object</td>\n",
       "    </tr>\n",
       "    <tr>\n",
       "      <th>online_security</th>\n",
       "      <td>object</td>\n",
       "    </tr>\n",
       "    <tr>\n",
       "      <th>online_backup</th>\n",
       "      <td>object</td>\n",
       "    </tr>\n",
       "    <tr>\n",
       "      <th>device_protection</th>\n",
       "      <td>object</td>\n",
       "    </tr>\n",
       "    <tr>\n",
       "      <th>tech_support</th>\n",
       "      <td>object</td>\n",
       "    </tr>\n",
       "    <tr>\n",
       "      <th>streaming_tv</th>\n",
       "      <td>object</td>\n",
       "    </tr>\n",
       "    <tr>\n",
       "      <th>streaming_movies</th>\n",
       "      <td>object</td>\n",
       "    </tr>\n",
       "    <tr>\n",
       "      <th>contract</th>\n",
       "      <td>object</td>\n",
       "    </tr>\n",
       "    <tr>\n",
       "      <th>paperless_billing</th>\n",
       "      <td>object</td>\n",
       "    </tr>\n",
       "    <tr>\n",
       "      <th>payment_method</th>\n",
       "      <td>object</td>\n",
       "    </tr>\n",
       "    <tr>\n",
       "      <th>monthly_charges</th>\n",
       "      <td>float64</td>\n",
       "    </tr>\n",
       "    <tr>\n",
       "      <th>total_charges</th>\n",
       "      <td>object</td>\n",
       "    </tr>\n",
       "    <tr>\n",
       "      <th>churn</th>\n",
       "      <td>object</td>\n",
       "    </tr>\n",
       "  </tbody>\n",
       "</table>\n",
       "</div>"
      ],
      "text/plain": [
       "                  Datatype\n",
       "customer_id         object\n",
       "gender              object\n",
       "senior_citizen       int64\n",
       "partner             object\n",
       "dependents          object\n",
       "tenure               int64\n",
       "phone_service       object\n",
       "multiple_lines      object\n",
       "internet_service    object\n",
       "online_security     object\n",
       "online_backup       object\n",
       "device_protection   object\n",
       "tech_support        object\n",
       "streaming_tv        object\n",
       "streaming_movies    object\n",
       "contract            object\n",
       "paperless_billing   object\n",
       "payment_method      object\n",
       "monthly_charges    float64\n",
       "total_charges       object\n",
       "churn               object"
      ]
     },
     "execution_count": 11,
     "metadata": {},
     "output_type": "execute_result"
    }
   ],
   "source": [
    "raw_rename_columns_df.dtypes.to_frame().rename(columns={0 : 'Datatype'})"
   ]
  },
  {
   "cell_type": "code",
   "execution_count": 12,
   "metadata": {
    "ExecuteTime": {
     "end_time": "2021-04-05T10:53:42.470781Z",
     "start_time": "2021-04-05T10:53:42.441640Z"
    }
   },
   "outputs": [],
   "source": [
    "raw_rename_columns_df['total_charges'] = pd.to_numeric(raw_rename_columns_df['total_charges'], errors='coerce')\n",
    "raw_mismatch_value_df = raw_rename_columns_df"
   ]
  },
  {
   "cell_type": "code",
   "execution_count": 13,
   "metadata": {
    "ExecuteTime": {
     "end_time": "2021-04-05T10:53:42.532881Z",
     "start_time": "2021-04-05T10:53:42.474961Z"
    }
   },
   "outputs": [
    {
     "data": {
      "text/html": [
       "<div>\n",
       "<style scoped>\n",
       "    .dataframe tbody tr th:only-of-type {\n",
       "        vertical-align: middle;\n",
       "    }\n",
       "\n",
       "    .dataframe tbody tr th {\n",
       "        vertical-align: top;\n",
       "    }\n",
       "\n",
       "    .dataframe thead th {\n",
       "        text-align: right;\n",
       "    }\n",
       "</style>\n",
       "<table border=\"1\" class=\"dataframe\">\n",
       "  <thead>\n",
       "    <tr style=\"text-align: right;\">\n",
       "      <th></th>\n",
       "      <th>Datatype</th>\n",
       "    </tr>\n",
       "  </thead>\n",
       "  <tbody>\n",
       "    <tr>\n",
       "      <th>customer_id</th>\n",
       "      <td>object</td>\n",
       "    </tr>\n",
       "    <tr>\n",
       "      <th>gender</th>\n",
       "      <td>object</td>\n",
       "    </tr>\n",
       "    <tr>\n",
       "      <th>senior_citizen</th>\n",
       "      <td>int64</td>\n",
       "    </tr>\n",
       "    <tr>\n",
       "      <th>partner</th>\n",
       "      <td>object</td>\n",
       "    </tr>\n",
       "    <tr>\n",
       "      <th>dependents</th>\n",
       "      <td>object</td>\n",
       "    </tr>\n",
       "    <tr>\n",
       "      <th>tenure</th>\n",
       "      <td>int64</td>\n",
       "    </tr>\n",
       "    <tr>\n",
       "      <th>phone_service</th>\n",
       "      <td>object</td>\n",
       "    </tr>\n",
       "    <tr>\n",
       "      <th>multiple_lines</th>\n",
       "      <td>object</td>\n",
       "    </tr>\n",
       "    <tr>\n",
       "      <th>internet_service</th>\n",
       "      <td>object</td>\n",
       "    </tr>\n",
       "    <tr>\n",
       "      <th>online_security</th>\n",
       "      <td>object</td>\n",
       "    </tr>\n",
       "    <tr>\n",
       "      <th>online_backup</th>\n",
       "      <td>object</td>\n",
       "    </tr>\n",
       "    <tr>\n",
       "      <th>device_protection</th>\n",
       "      <td>object</td>\n",
       "    </tr>\n",
       "    <tr>\n",
       "      <th>tech_support</th>\n",
       "      <td>object</td>\n",
       "    </tr>\n",
       "    <tr>\n",
       "      <th>streaming_tv</th>\n",
       "      <td>object</td>\n",
       "    </tr>\n",
       "    <tr>\n",
       "      <th>streaming_movies</th>\n",
       "      <td>object</td>\n",
       "    </tr>\n",
       "    <tr>\n",
       "      <th>contract</th>\n",
       "      <td>object</td>\n",
       "    </tr>\n",
       "    <tr>\n",
       "      <th>paperless_billing</th>\n",
       "      <td>object</td>\n",
       "    </tr>\n",
       "    <tr>\n",
       "      <th>payment_method</th>\n",
       "      <td>object</td>\n",
       "    </tr>\n",
       "    <tr>\n",
       "      <th>monthly_charges</th>\n",
       "      <td>float64</td>\n",
       "    </tr>\n",
       "    <tr>\n",
       "      <th>total_charges</th>\n",
       "      <td>float64</td>\n",
       "    </tr>\n",
       "    <tr>\n",
       "      <th>churn</th>\n",
       "      <td>object</td>\n",
       "    </tr>\n",
       "  </tbody>\n",
       "</table>\n",
       "</div>"
      ],
      "text/plain": [
       "                  Datatype\n",
       "customer_id         object\n",
       "gender              object\n",
       "senior_citizen       int64\n",
       "partner             object\n",
       "dependents          object\n",
       "tenure               int64\n",
       "phone_service       object\n",
       "multiple_lines      object\n",
       "internet_service    object\n",
       "online_security     object\n",
       "online_backup       object\n",
       "device_protection   object\n",
       "tech_support        object\n",
       "streaming_tv        object\n",
       "streaming_movies    object\n",
       "contract            object\n",
       "paperless_billing   object\n",
       "payment_method      object\n",
       "monthly_charges    float64\n",
       "total_charges      float64\n",
       "churn               object"
      ]
     },
     "execution_count": 13,
     "metadata": {},
     "output_type": "execute_result"
    }
   ],
   "source": [
    "raw_rename_columns_df.dtypes.to_frame().rename(columns={0 : 'Datatype'})"
   ]
  },
  {
   "cell_type": "markdown",
   "metadata": {
    "slideshow": {
     "slide_type": "slide"
    }
   },
   "source": [
    "# Feature Engineering"
   ]
  },
  {
   "cell_type": "markdown",
   "metadata": {
    "slideshow": {
     "slide_type": "-"
    }
   },
   "source": [
    "## Feature Transformation"
   ]
  },
  {
   "cell_type": "code",
   "execution_count": 14,
   "metadata": {
    "ExecuteTime": {
     "end_time": "2021-04-05T10:53:42.580729Z",
     "start_time": "2021-04-05T10:53:42.536673Z"
    }
   },
   "outputs": [],
   "source": [
    "feature_tranformation_df = raw_mismatch_value_df"
   ]
  },
  {
   "cell_type": "markdown",
   "metadata": {},
   "source": [
    "### Binary Lable"
   ]
  },
  {
   "cell_type": "markdown",
   "metadata": {},
   "source": [
    "#### gender"
   ]
  },
  {
   "cell_type": "code",
   "execution_count": 15,
   "metadata": {
    "ExecuteTime": {
     "end_time": "2021-04-05T10:53:42.627632Z",
     "start_time": "2021-04-05T10:53:42.583787Z"
    }
   },
   "outputs": [
    {
     "data": {
      "text/plain": [
       "array(['Female', 'Male'], dtype='<U6')"
      ]
     },
     "execution_count": 15,
     "metadata": {},
     "output_type": "execute_result"
    }
   ],
   "source": [
    "gender_lb = preprocessing.LabelBinarizer()\n",
    "gender_lb.fit(feature_tranformation_df['gender'])\n",
    "gender_lb.classes_"
   ]
  },
  {
   "cell_type": "code",
   "execution_count": 16,
   "metadata": {
    "ExecuteTime": {
     "end_time": "2021-04-05T10:53:42.689529Z",
     "start_time": "2021-04-05T10:53:42.633297Z"
    }
   },
   "outputs": [],
   "source": [
    "feature_tranformation_df['gender'] = gender_lb.transform(raw_mismatch_value_df['gender'])"
   ]
  },
  {
   "cell_type": "markdown",
   "metadata": {},
   "source": [
    "#### partner"
   ]
  },
  {
   "cell_type": "code",
   "execution_count": 17,
   "metadata": {
    "ExecuteTime": {
     "end_time": "2021-04-05T10:53:42.736509Z",
     "start_time": "2021-04-05T10:53:42.693341Z"
    }
   },
   "outputs": [
    {
     "data": {
      "text/plain": [
       "array(['No', 'Yes'], dtype='<U3')"
      ]
     },
     "execution_count": 17,
     "metadata": {},
     "output_type": "execute_result"
    }
   ],
   "source": [
    "partner_lb = preprocessing.LabelBinarizer()\n",
    "partner_lb.fit(feature_tranformation_df['partner'])\n",
    "partner_lb.classes_"
   ]
  },
  {
   "cell_type": "code",
   "execution_count": 18,
   "metadata": {
    "ExecuteTime": {
     "end_time": "2021-04-05T10:53:42.799610Z",
     "start_time": "2021-04-05T10:53:42.739905Z"
    }
   },
   "outputs": [],
   "source": [
    "feature_tranformation_df['partner'] = gender_lb.transform(raw_mismatch_value_df['partner'])"
   ]
  },
  {
   "cell_type": "markdown",
   "metadata": {},
   "source": [
    "#### dependents"
   ]
  },
  {
   "cell_type": "code",
   "execution_count": 19,
   "metadata": {
    "ExecuteTime": {
     "end_time": "2021-04-05T10:53:42.916734Z",
     "start_time": "2021-04-05T10:53:42.804234Z"
    }
   },
   "outputs": [
    {
     "data": {
      "text/plain": [
       "array(['No', 'Yes'], dtype='<U3')"
      ]
     },
     "execution_count": 19,
     "metadata": {},
     "output_type": "execute_result"
    }
   ],
   "source": [
    "dependents_lb = preprocessing.LabelBinarizer()\n",
    "dependents_lb.fit(feature_tranformation_df['dependents'])\n",
    "dependents_lb.classes_"
   ]
  },
  {
   "cell_type": "code",
   "execution_count": 20,
   "metadata": {
    "ExecuteTime": {
     "end_time": "2021-04-05T10:53:42.947282Z",
     "start_time": "2021-04-05T10:53:42.924268Z"
    }
   },
   "outputs": [],
   "source": [
    "feature_tranformation_df['dependents'] = gender_lb.transform(raw_mismatch_value_df['dependents'])"
   ]
  },
  {
   "cell_type": "markdown",
   "metadata": {},
   "source": [
    "#### phone_service"
   ]
  },
  {
   "cell_type": "code",
   "execution_count": 21,
   "metadata": {
    "ExecuteTime": {
     "end_time": "2021-04-05T10:53:42.978559Z",
     "start_time": "2021-04-05T10:53:42.955583Z"
    }
   },
   "outputs": [
    {
     "data": {
      "text/plain": [
       "array(['No', 'Yes'], dtype='<U3')"
      ]
     },
     "execution_count": 21,
     "metadata": {},
     "output_type": "execute_result"
    }
   ],
   "source": [
    "phone_service_lb = preprocessing.LabelBinarizer()\n",
    "phone_service_lb.fit(feature_tranformation_df['phone_service'])\n",
    "phone_service_lb.classes_"
   ]
  },
  {
   "cell_type": "code",
   "execution_count": 22,
   "metadata": {
    "ExecuteTime": {
     "end_time": "2021-04-05T10:53:43.009490Z",
     "start_time": "2021-04-05T10:53:42.984705Z"
    }
   },
   "outputs": [],
   "source": [
    "feature_tranformation_df['phone_service'] = gender_lb.transform(raw_mismatch_value_df['phone_service'])"
   ]
  },
  {
   "cell_type": "markdown",
   "metadata": {},
   "source": [
    "#### paperless_billing"
   ]
  },
  {
   "cell_type": "code",
   "execution_count": 23,
   "metadata": {
    "ExecuteTime": {
     "end_time": "2021-04-05T10:53:43.040452Z",
     "start_time": "2021-04-05T10:53:43.011492Z"
    }
   },
   "outputs": [
    {
     "data": {
      "text/plain": [
       "array(['No', 'Yes'], dtype='<U3')"
      ]
     },
     "execution_count": 23,
     "metadata": {},
     "output_type": "execute_result"
    }
   ],
   "source": [
    "paperless_billing_lb = preprocessing.LabelBinarizer()\n",
    "paperless_billing_lb.fit(feature_tranformation_df['paperless_billing'])\n",
    "paperless_billing_lb.classes_"
   ]
  },
  {
   "cell_type": "code",
   "execution_count": 24,
   "metadata": {
    "ExecuteTime": {
     "end_time": "2021-04-05T10:53:43.072320Z",
     "start_time": "2021-04-05T10:53:43.044356Z"
    }
   },
   "outputs": [],
   "source": [
    "feature_tranformation_df['paperless_billing'] = paperless_billing_lb.transform(raw_mismatch_value_df['paperless_billing'])"
   ]
  },
  {
   "cell_type": "markdown",
   "metadata": {},
   "source": [
    "#### churn"
   ]
  },
  {
   "cell_type": "code",
   "execution_count": 25,
   "metadata": {
    "ExecuteTime": {
     "end_time": "2021-04-05T10:53:43.104111Z",
     "start_time": "2021-04-05T10:53:43.074319Z"
    }
   },
   "outputs": [
    {
     "data": {
      "text/plain": [
       "array(['No', 'Yes'], dtype='<U3')"
      ]
     },
     "execution_count": 25,
     "metadata": {},
     "output_type": "execute_result"
    }
   ],
   "source": [
    "churn_lb = preprocessing.LabelBinarizer()\n",
    "churn_lb.fit(feature_tranformation_df['churn'])\n",
    "churn_lb.classes_"
   ]
  },
  {
   "cell_type": "code",
   "execution_count": 26,
   "metadata": {
    "ExecuteTime": {
     "end_time": "2021-04-05T10:53:43.139551Z",
     "start_time": "2021-04-05T10:53:43.108118Z"
    }
   },
   "outputs": [],
   "source": [
    "feature_tranformation_df['churn'] = churn_lb.transform(raw_mismatch_value_df['churn'])"
   ]
  },
  {
   "cell_type": "markdown",
   "metadata": {},
   "source": [
    "### Multiple Lable"
   ]
  },
  {
   "cell_type": "markdown",
   "metadata": {},
   "source": [
    "#### multiple_lines"
   ]
  },
  {
   "cell_type": "code",
   "execution_count": 27,
   "metadata": {
    "ExecuteTime": {
     "end_time": "2021-04-05T10:53:43.170378Z",
     "start_time": "2021-04-05T10:53:43.144553Z"
    }
   },
   "outputs": [
    {
     "data": {
      "text/plain": [
       "array(['No', 'No phone service', 'Yes'], dtype='<U16')"
      ]
     },
     "execution_count": 27,
     "metadata": {},
     "output_type": "execute_result"
    }
   ],
   "source": [
    "multiple_lines_lb = preprocessing.LabelBinarizer()\n",
    "multiple_lines_lb.fit(feature_tranformation_df['multiple_lines'])\n",
    "multiple_lines_lb.classes_"
   ]
  },
  {
   "cell_type": "code",
   "execution_count": 28,
   "metadata": {
    "ExecuteTime": {
     "end_time": "2021-04-05T10:53:43.220359Z",
     "start_time": "2021-04-05T10:53:43.173385Z"
    }
   },
   "outputs": [],
   "source": [
    "feature_tranformation_df['multiple_lines'] = multiple_lines_lb.transform(raw_mismatch_value_df['multiple_lines'])"
   ]
  },
  {
   "cell_type": "markdown",
   "metadata": {},
   "source": [
    "#### internet_service"
   ]
  },
  {
   "cell_type": "code",
   "execution_count": 29,
   "metadata": {
    "ExecuteTime": {
     "end_time": "2021-04-05T10:53:43.263345Z",
     "start_time": "2021-04-05T10:53:43.242547Z"
    }
   },
   "outputs": [
    {
     "data": {
      "text/plain": [
       "array(['DSL', 'Fiber optic', 'No'], dtype=object)"
      ]
     },
     "execution_count": 29,
     "metadata": {},
     "output_type": "execute_result"
    }
   ],
   "source": [
    "internet_sevice_le = preprocessing.LabelEncoder()\n",
    "internet_sevice_le.fit(feature_tranformation_df['internet_service'])\n",
    "internet_sevice_le.classes_"
   ]
  },
  {
   "cell_type": "code",
   "execution_count": 30,
   "metadata": {
    "ExecuteTime": {
     "end_time": "2021-04-05T10:53:43.294615Z",
     "start_time": "2021-04-05T10:53:43.267826Z"
    }
   },
   "outputs": [],
   "source": [
    "feature_tranformation_df['internet_service'] = internet_sevice_le.transform(raw_mismatch_value_df['internet_service'])"
   ]
  },
  {
   "cell_type": "markdown",
   "metadata": {},
   "source": [
    "#### online_security"
   ]
  },
  {
   "cell_type": "code",
   "execution_count": 31,
   "metadata": {
    "ExecuteTime": {
     "end_time": "2021-04-05T10:53:43.325928Z",
     "start_time": "2021-04-05T10:53:43.299773Z"
    }
   },
   "outputs": [
    {
     "data": {
      "text/plain": [
       "array(['No', 'No internet service', 'Yes'], dtype=object)"
      ]
     },
     "execution_count": 31,
     "metadata": {},
     "output_type": "execute_result"
    }
   ],
   "source": [
    "online_security_lb = preprocessing.LabelEncoder()\n",
    "online_security_lb.fit(feature_tranformation_df['online_security'])\n",
    "online_security_lb.classes_"
   ]
  },
  {
   "cell_type": "code",
   "execution_count": 32,
   "metadata": {
    "ExecuteTime": {
     "end_time": "2021-04-05T10:53:43.356620Z",
     "start_time": "2021-04-05T10:53:43.332091Z"
    }
   },
   "outputs": [],
   "source": [
    "feature_tranformation_df['online_security'] = online_security_lb.transform(raw_mismatch_value_df['online_security'])"
   ]
  },
  {
   "cell_type": "markdown",
   "metadata": {
    "ExecuteTime": {
     "end_time": "2021-03-21T15:09:30.063145Z",
     "start_time": "2021-03-21T15:09:30.048584Z"
    }
   },
   "source": [
    "#### online_backup"
   ]
  },
  {
   "cell_type": "code",
   "execution_count": 33,
   "metadata": {
    "ExecuteTime": {
     "end_time": "2021-04-05T10:53:43.372470Z",
     "start_time": "2021-04-05T10:53:43.361651Z"
    }
   },
   "outputs": [
    {
     "data": {
      "text/plain": [
       "array(['No', 'No internet service', 'Yes'], dtype=object)"
      ]
     },
     "execution_count": 33,
     "metadata": {},
     "output_type": "execute_result"
    }
   ],
   "source": [
    "online_backup_lb = preprocessing.LabelEncoder()\n",
    "online_backup_lb.fit(feature_tranformation_df['online_backup'])\n",
    "online_backup_lb.classes_"
   ]
  },
  {
   "cell_type": "code",
   "execution_count": 34,
   "metadata": {
    "ExecuteTime": {
     "end_time": "2021-04-05T10:53:43.388367Z",
     "start_time": "2021-04-05T10:53:43.376476Z"
    }
   },
   "outputs": [],
   "source": [
    "feature_tranformation_df['online_backup'] = online_backup_lb.transform(raw_mismatch_value_df['online_backup'])"
   ]
  },
  {
   "cell_type": "markdown",
   "metadata": {},
   "source": [
    "#### device_protection"
   ]
  },
  {
   "cell_type": "code",
   "execution_count": 35,
   "metadata": {
    "ExecuteTime": {
     "end_time": "2021-04-05T10:53:43.435499Z",
     "start_time": "2021-04-05T10:53:43.392607Z"
    }
   },
   "outputs": [
    {
     "data": {
      "text/plain": [
       "array(['No', 'No internet service', 'Yes'], dtype='<U19')"
      ]
     },
     "execution_count": 35,
     "metadata": {},
     "output_type": "execute_result"
    }
   ],
   "source": [
    "device_protection_lb = preprocessing.LabelBinarizer()\n",
    "device_protection_lb.fit(feature_tranformation_df['device_protection'])\n",
    "device_protection_lb.classes_"
   ]
  },
  {
   "cell_type": "code",
   "execution_count": 36,
   "metadata": {
    "ExecuteTime": {
     "end_time": "2021-04-05T10:53:43.467256Z",
     "start_time": "2021-04-05T10:53:43.439498Z"
    }
   },
   "outputs": [],
   "source": [
    "feature_tranformation_df['device_protection'] = device_protection_lb.transform(raw_mismatch_value_df['device_protection'])"
   ]
  },
  {
   "cell_type": "markdown",
   "metadata": {},
   "source": [
    "#### tech_support"
   ]
  },
  {
   "cell_type": "code",
   "execution_count": 37,
   "metadata": {
    "ExecuteTime": {
     "end_time": "2021-04-05T10:53:43.498544Z",
     "start_time": "2021-04-05T10:53:43.470878Z"
    }
   },
   "outputs": [
    {
     "data": {
      "text/plain": [
       "array(['No', 'No internet service', 'Yes'], dtype='<U19')"
      ]
     },
     "execution_count": 37,
     "metadata": {},
     "output_type": "execute_result"
    }
   ],
   "source": [
    "tech_support_lb = preprocessing.LabelBinarizer()\n",
    "tech_support_lb.fit(feature_tranformation_df['tech_support'])\n",
    "tech_support_lb.classes_"
   ]
  },
  {
   "cell_type": "code",
   "execution_count": 38,
   "metadata": {
    "ExecuteTime": {
     "end_time": "2021-04-05T10:53:43.529377Z",
     "start_time": "2021-04-05T10:53:43.501546Z"
    }
   },
   "outputs": [],
   "source": [
    "feature_tranformation_df['tech_support'] = device_protection_lb.transform(raw_mismatch_value_df['tech_support'])"
   ]
  },
  {
   "cell_type": "markdown",
   "metadata": {},
   "source": [
    "#### streaming_movies"
   ]
  },
  {
   "cell_type": "code",
   "execution_count": 39,
   "metadata": {
    "ExecuteTime": {
     "end_time": "2021-04-05T10:53:43.560354Z",
     "start_time": "2021-04-05T10:53:43.533380Z"
    }
   },
   "outputs": [
    {
     "data": {
      "text/plain": [
       "array(['No', 'No internet service', 'Yes'], dtype='<U19')"
      ]
     },
     "execution_count": 39,
     "metadata": {},
     "output_type": "execute_result"
    }
   ],
   "source": [
    "streaming_tv_lb = preprocessing.LabelBinarizer()\n",
    "streaming_tv_lb.fit(feature_tranformation_df['streaming_tv'])\n",
    "streaming_tv_lb.classes_"
   ]
  },
  {
   "cell_type": "code",
   "execution_count": 40,
   "metadata": {
    "ExecuteTime": {
     "end_time": "2021-04-05T10:53:43.591339Z",
     "start_time": "2021-04-05T10:53:43.563786Z"
    }
   },
   "outputs": [],
   "source": [
    "feature_tranformation_df['streaming_tv'] = streaming_tv_lb.transform(raw_mismatch_value_df['streaming_tv'])"
   ]
  },
  {
   "cell_type": "markdown",
   "metadata": {},
   "source": [
    "#### streaming_movies"
   ]
  },
  {
   "cell_type": "code",
   "execution_count": 41,
   "metadata": {
    "ExecuteTime": {
     "end_time": "2021-04-05T10:53:43.622117Z",
     "start_time": "2021-04-05T10:53:43.594545Z"
    }
   },
   "outputs": [
    {
     "data": {
      "text/plain": [
       "array(['No', 'No internet service', 'Yes'], dtype='<U19')"
      ]
     },
     "execution_count": 41,
     "metadata": {},
     "output_type": "execute_result"
    }
   ],
   "source": [
    "streaming_movies_lb = preprocessing.LabelBinarizer()\n",
    "streaming_movies_lb.fit(feature_tranformation_df['streaming_movies'])\n",
    "streaming_movies_lb.classes_"
   ]
  },
  {
   "cell_type": "code",
   "execution_count": 42,
   "metadata": {
    "ExecuteTime": {
     "end_time": "2021-04-05T10:53:43.653139Z",
     "start_time": "2021-04-05T10:53:43.625168Z"
    }
   },
   "outputs": [],
   "source": [
    "feature_tranformation_df['streaming_movies'] = streaming_tv_lb.transform(raw_mismatch_value_df['streaming_movies'])"
   ]
  },
  {
   "cell_type": "markdown",
   "metadata": {},
   "source": [
    "#### contract"
   ]
  },
  {
   "cell_type": "code",
   "execution_count": 43,
   "metadata": {
    "ExecuteTime": {
     "end_time": "2021-04-05T10:53:43.700852Z",
     "start_time": "2021-04-05T10:53:43.657211Z"
    }
   },
   "outputs": [
    {
     "data": {
      "text/plain": [
       "array(['Month-to-month', 'One year', 'Two year'], dtype=object)"
      ]
     },
     "execution_count": 43,
     "metadata": {},
     "output_type": "execute_result"
    }
   ],
   "source": [
    "contract_le = preprocessing.LabelEncoder()\n",
    "contract_le.fit(feature_tranformation_df['contract'])\n",
    "contract_le.classes_"
   ]
  },
  {
   "cell_type": "code",
   "execution_count": 44,
   "metadata": {
    "ExecuteTime": {
     "end_time": "2021-04-05T10:53:43.716773Z",
     "start_time": "2021-04-05T10:53:43.704850Z"
    }
   },
   "outputs": [],
   "source": [
    "feature_tranformation_df['contract'] = contract_le.transform(raw_mismatch_value_df['contract'])"
   ]
  },
  {
   "cell_type": "markdown",
   "metadata": {},
   "source": [
    "#### payment_method"
   ]
  },
  {
   "cell_type": "code",
   "execution_count": 45,
   "metadata": {
    "ExecuteTime": {
     "end_time": "2021-04-05T10:53:43.732183Z",
     "start_time": "2021-04-05T10:53:43.719770Z"
    }
   },
   "outputs": [
    {
     "data": {
      "text/plain": [
       "array(['Bank transfer (automatic)', 'Credit card (automatic)',\n",
       "       'Electronic check', 'Mailed check'], dtype=object)"
      ]
     },
     "execution_count": 45,
     "metadata": {},
     "output_type": "execute_result"
    }
   ],
   "source": [
    "payment_method_le = preprocessing.LabelEncoder()\n",
    "payment_method_le.fit(feature_tranformation_df['payment_method'])\n",
    "payment_method_le.classes_"
   ]
  },
  {
   "cell_type": "code",
   "execution_count": 46,
   "metadata": {
    "ExecuteTime": {
     "end_time": "2021-04-05T10:53:43.747413Z",
     "start_time": "2021-04-05T10:53:43.736185Z"
    }
   },
   "outputs": [],
   "source": [
    "feature_tranformation_df['payment_method'] = payment_method_le.transform(raw_mismatch_value_df['payment_method'])"
   ]
  },
  {
   "cell_type": "markdown",
   "metadata": {},
   "source": [
    "### New feature"
   ]
  },
  {
   "cell_type": "markdown",
   "metadata": {},
   "source": [
    "#### total_charges\n",
    "Nilai dari feature tidak sesuai tidak sesuai dengan hasil kalkulasi dari tenure * monthly_charges. Maka akan dibuat dibuat fitur baru dari hasil perkalian tenure dan monthly_charges"
   ]
  },
  {
   "cell_type": "code",
   "execution_count": 47,
   "metadata": {
    "ExecuteTime": {
     "end_time": "2021-04-05T10:53:43.795038Z",
     "start_time": "2021-04-05T10:53:43.751210Z"
    }
   },
   "outputs": [
    {
     "data": {
      "text/html": [
       "<div>\n",
       "<style scoped>\n",
       "    .dataframe tbody tr th:only-of-type {\n",
       "        vertical-align: middle;\n",
       "    }\n",
       "\n",
       "    .dataframe tbody tr th {\n",
       "        vertical-align: top;\n",
       "    }\n",
       "\n",
       "    .dataframe thead th {\n",
       "        text-align: right;\n",
       "    }\n",
       "</style>\n",
       "<table border=\"1\" class=\"dataframe\">\n",
       "  <thead>\n",
       "    <tr style=\"text-align: right;\">\n",
       "      <th></th>\n",
       "      <th>customer_id</th>\n",
       "      <th>gender</th>\n",
       "      <th>senior_citizen</th>\n",
       "      <th>partner</th>\n",
       "      <th>dependents</th>\n",
       "      <th>tenure</th>\n",
       "      <th>phone_service</th>\n",
       "      <th>multiple_lines</th>\n",
       "      <th>internet_service</th>\n",
       "      <th>online_security</th>\n",
       "      <th>online_backup</th>\n",
       "      <th>device_protection</th>\n",
       "      <th>tech_support</th>\n",
       "      <th>streaming_tv</th>\n",
       "      <th>streaming_movies</th>\n",
       "      <th>contract</th>\n",
       "      <th>paperless_billing</th>\n",
       "      <th>payment_method</th>\n",
       "      <th>monthly_charges</th>\n",
       "      <th>churn</th>\n",
       "    </tr>\n",
       "  </thead>\n",
       "  <tbody>\n",
       "    <tr>\n",
       "      <th>0</th>\n",
       "      <td>7590-VHVEG</td>\n",
       "      <td>0</td>\n",
       "      <td>0</td>\n",
       "      <td>0</td>\n",
       "      <td>0</td>\n",
       "      <td>1</td>\n",
       "      <td>0</td>\n",
       "      <td>0</td>\n",
       "      <td>0</td>\n",
       "      <td>0</td>\n",
       "      <td>2</td>\n",
       "      <td>1</td>\n",
       "      <td>1</td>\n",
       "      <td>1</td>\n",
       "      <td>1</td>\n",
       "      <td>0</td>\n",
       "      <td>1</td>\n",
       "      <td>2</td>\n",
       "      <td>29.85</td>\n",
       "      <td>0</td>\n",
       "    </tr>\n",
       "    <tr>\n",
       "      <th>1</th>\n",
       "      <td>5575-GNVDE</td>\n",
       "      <td>1</td>\n",
       "      <td>0</td>\n",
       "      <td>0</td>\n",
       "      <td>0</td>\n",
       "      <td>34</td>\n",
       "      <td>0</td>\n",
       "      <td>1</td>\n",
       "      <td>0</td>\n",
       "      <td>2</td>\n",
       "      <td>0</td>\n",
       "      <td>0</td>\n",
       "      <td>1</td>\n",
       "      <td>1</td>\n",
       "      <td>1</td>\n",
       "      <td>1</td>\n",
       "      <td>0</td>\n",
       "      <td>3</td>\n",
       "      <td>56.95</td>\n",
       "      <td>0</td>\n",
       "    </tr>\n",
       "    <tr>\n",
       "      <th>2</th>\n",
       "      <td>3668-QPYBK</td>\n",
       "      <td>1</td>\n",
       "      <td>0</td>\n",
       "      <td>0</td>\n",
       "      <td>0</td>\n",
       "      <td>2</td>\n",
       "      <td>0</td>\n",
       "      <td>1</td>\n",
       "      <td>0</td>\n",
       "      <td>2</td>\n",
       "      <td>2</td>\n",
       "      <td>1</td>\n",
       "      <td>1</td>\n",
       "      <td>1</td>\n",
       "      <td>1</td>\n",
       "      <td>0</td>\n",
       "      <td>1</td>\n",
       "      <td>3</td>\n",
       "      <td>53.85</td>\n",
       "      <td>1</td>\n",
       "    </tr>\n",
       "    <tr>\n",
       "      <th>3</th>\n",
       "      <td>7795-CFOCW</td>\n",
       "      <td>1</td>\n",
       "      <td>0</td>\n",
       "      <td>0</td>\n",
       "      <td>0</td>\n",
       "      <td>45</td>\n",
       "      <td>0</td>\n",
       "      <td>0</td>\n",
       "      <td>0</td>\n",
       "      <td>2</td>\n",
       "      <td>0</td>\n",
       "      <td>0</td>\n",
       "      <td>0</td>\n",
       "      <td>1</td>\n",
       "      <td>1</td>\n",
       "      <td>1</td>\n",
       "      <td>0</td>\n",
       "      <td>0</td>\n",
       "      <td>42.30</td>\n",
       "      <td>0</td>\n",
       "    </tr>\n",
       "    <tr>\n",
       "      <th>4</th>\n",
       "      <td>9237-HQITU</td>\n",
       "      <td>0</td>\n",
       "      <td>0</td>\n",
       "      <td>0</td>\n",
       "      <td>0</td>\n",
       "      <td>2</td>\n",
       "      <td>0</td>\n",
       "      <td>1</td>\n",
       "      <td>1</td>\n",
       "      <td>0</td>\n",
       "      <td>0</td>\n",
       "      <td>1</td>\n",
       "      <td>1</td>\n",
       "      <td>1</td>\n",
       "      <td>1</td>\n",
       "      <td>0</td>\n",
       "      <td>1</td>\n",
       "      <td>2</td>\n",
       "      <td>70.70</td>\n",
       "      <td>1</td>\n",
       "    </tr>\n",
       "  </tbody>\n",
       "</table>\n",
       "</div>"
      ],
      "text/plain": [
       "  customer_id  gender  senior_citizen  partner  dependents  tenure  \\\n",
       "0  7590-VHVEG       0               0        0           0       1   \n",
       "1  5575-GNVDE       1               0        0           0      34   \n",
       "2  3668-QPYBK       1               0        0           0       2   \n",
       "3  7795-CFOCW       1               0        0           0      45   \n",
       "4  9237-HQITU       0               0        0           0       2   \n",
       "\n",
       "   phone_service  multiple_lines  internet_service  online_security  \\\n",
       "0              0               0                 0                0   \n",
       "1              0               1                 0                2   \n",
       "2              0               1                 0                2   \n",
       "3              0               0                 0                2   \n",
       "4              0               1                 1                0   \n",
       "\n",
       "   online_backup  device_protection  tech_support  streaming_tv  \\\n",
       "0              2                  1             1             1   \n",
       "1              0                  0             1             1   \n",
       "2              2                  1             1             1   \n",
       "3              0                  0             0             1   \n",
       "4              0                  1             1             1   \n",
       "\n",
       "   streaming_movies  contract  paperless_billing  payment_method  \\\n",
       "0                 1         0                  1               2   \n",
       "1                 1         1                  0               3   \n",
       "2                 1         0                  1               3   \n",
       "3                 1         1                  0               0   \n",
       "4                 1         0                  1               2   \n",
       "\n",
       "   monthly_charges  churn  \n",
       "0            29.85      0  \n",
       "1            56.95      0  \n",
       "2            53.85      1  \n",
       "3            42.30      0  \n",
       "4            70.70      1  "
      ]
     },
     "execution_count": 47,
     "metadata": {},
     "output_type": "execute_result"
    }
   ],
   "source": [
    "feature_tranformation_df.drop(['total_charges'], axis=1).head()"
   ]
  },
  {
   "cell_type": "code",
   "execution_count": 48,
   "metadata": {
    "ExecuteTime": {
     "end_time": "2021-04-05T10:53:43.858848Z",
     "start_time": "2021-04-05T10:53:43.799037Z"
    }
   },
   "outputs": [],
   "source": [
    "feature_tranformation_df['total_charges'] = feature_tranformation_df['tenure'] * feature_tranformation_df['monthly_charges']"
   ]
  },
  {
   "cell_type": "code",
   "execution_count": 49,
   "metadata": {
    "ExecuteTime": {
     "end_time": "2021-04-05T10:53:43.921099Z",
     "start_time": "2021-04-05T10:53:43.862849Z"
    }
   },
   "outputs": [
    {
     "data": {
      "text/html": [
       "<div>\n",
       "<style scoped>\n",
       "    .dataframe tbody tr th:only-of-type {\n",
       "        vertical-align: middle;\n",
       "    }\n",
       "\n",
       "    .dataframe tbody tr th {\n",
       "        vertical-align: top;\n",
       "    }\n",
       "\n",
       "    .dataframe thead th {\n",
       "        text-align: right;\n",
       "    }\n",
       "</style>\n",
       "<table border=\"1\" class=\"dataframe\">\n",
       "  <thead>\n",
       "    <tr style=\"text-align: right;\">\n",
       "      <th></th>\n",
       "      <th>customer_id</th>\n",
       "      <th>gender</th>\n",
       "      <th>senior_citizen</th>\n",
       "      <th>partner</th>\n",
       "      <th>dependents</th>\n",
       "      <th>tenure</th>\n",
       "      <th>phone_service</th>\n",
       "      <th>multiple_lines</th>\n",
       "      <th>internet_service</th>\n",
       "      <th>online_security</th>\n",
       "      <th>online_backup</th>\n",
       "      <th>device_protection</th>\n",
       "      <th>tech_support</th>\n",
       "      <th>streaming_tv</th>\n",
       "      <th>streaming_movies</th>\n",
       "      <th>contract</th>\n",
       "      <th>paperless_billing</th>\n",
       "      <th>payment_method</th>\n",
       "      <th>monthly_charges</th>\n",
       "      <th>total_charges</th>\n",
       "      <th>churn</th>\n",
       "    </tr>\n",
       "  </thead>\n",
       "  <tbody>\n",
       "    <tr>\n",
       "      <th>0</th>\n",
       "      <td>7590-VHVEG</td>\n",
       "      <td>0</td>\n",
       "      <td>0</td>\n",
       "      <td>0</td>\n",
       "      <td>0</td>\n",
       "      <td>1</td>\n",
       "      <td>0</td>\n",
       "      <td>0</td>\n",
       "      <td>0</td>\n",
       "      <td>0</td>\n",
       "      <td>2</td>\n",
       "      <td>1</td>\n",
       "      <td>1</td>\n",
       "      <td>1</td>\n",
       "      <td>1</td>\n",
       "      <td>0</td>\n",
       "      <td>1</td>\n",
       "      <td>2</td>\n",
       "      <td>29.85</td>\n",
       "      <td>29.85</td>\n",
       "      <td>0</td>\n",
       "    </tr>\n",
       "    <tr>\n",
       "      <th>1</th>\n",
       "      <td>5575-GNVDE</td>\n",
       "      <td>1</td>\n",
       "      <td>0</td>\n",
       "      <td>0</td>\n",
       "      <td>0</td>\n",
       "      <td>34</td>\n",
       "      <td>0</td>\n",
       "      <td>1</td>\n",
       "      <td>0</td>\n",
       "      <td>2</td>\n",
       "      <td>0</td>\n",
       "      <td>0</td>\n",
       "      <td>1</td>\n",
       "      <td>1</td>\n",
       "      <td>1</td>\n",
       "      <td>1</td>\n",
       "      <td>0</td>\n",
       "      <td>3</td>\n",
       "      <td>56.95</td>\n",
       "      <td>1936.30</td>\n",
       "      <td>0</td>\n",
       "    </tr>\n",
       "    <tr>\n",
       "      <th>2</th>\n",
       "      <td>3668-QPYBK</td>\n",
       "      <td>1</td>\n",
       "      <td>0</td>\n",
       "      <td>0</td>\n",
       "      <td>0</td>\n",
       "      <td>2</td>\n",
       "      <td>0</td>\n",
       "      <td>1</td>\n",
       "      <td>0</td>\n",
       "      <td>2</td>\n",
       "      <td>2</td>\n",
       "      <td>1</td>\n",
       "      <td>1</td>\n",
       "      <td>1</td>\n",
       "      <td>1</td>\n",
       "      <td>0</td>\n",
       "      <td>1</td>\n",
       "      <td>3</td>\n",
       "      <td>53.85</td>\n",
       "      <td>107.70</td>\n",
       "      <td>1</td>\n",
       "    </tr>\n",
       "    <tr>\n",
       "      <th>3</th>\n",
       "      <td>7795-CFOCW</td>\n",
       "      <td>1</td>\n",
       "      <td>0</td>\n",
       "      <td>0</td>\n",
       "      <td>0</td>\n",
       "      <td>45</td>\n",
       "      <td>0</td>\n",
       "      <td>0</td>\n",
       "      <td>0</td>\n",
       "      <td>2</td>\n",
       "      <td>0</td>\n",
       "      <td>0</td>\n",
       "      <td>0</td>\n",
       "      <td>1</td>\n",
       "      <td>1</td>\n",
       "      <td>1</td>\n",
       "      <td>0</td>\n",
       "      <td>0</td>\n",
       "      <td>42.30</td>\n",
       "      <td>1903.50</td>\n",
       "      <td>0</td>\n",
       "    </tr>\n",
       "    <tr>\n",
       "      <th>4</th>\n",
       "      <td>9237-HQITU</td>\n",
       "      <td>0</td>\n",
       "      <td>0</td>\n",
       "      <td>0</td>\n",
       "      <td>0</td>\n",
       "      <td>2</td>\n",
       "      <td>0</td>\n",
       "      <td>1</td>\n",
       "      <td>1</td>\n",
       "      <td>0</td>\n",
       "      <td>0</td>\n",
       "      <td>1</td>\n",
       "      <td>1</td>\n",
       "      <td>1</td>\n",
       "      <td>1</td>\n",
       "      <td>0</td>\n",
       "      <td>1</td>\n",
       "      <td>2</td>\n",
       "      <td>70.70</td>\n",
       "      <td>141.40</td>\n",
       "      <td>1</td>\n",
       "    </tr>\n",
       "  </tbody>\n",
       "</table>\n",
       "</div>"
      ],
      "text/plain": [
       "  customer_id  gender  senior_citizen  partner  dependents  tenure  \\\n",
       "0  7590-VHVEG       0               0        0           0       1   \n",
       "1  5575-GNVDE       1               0        0           0      34   \n",
       "2  3668-QPYBK       1               0        0           0       2   \n",
       "3  7795-CFOCW       1               0        0           0      45   \n",
       "4  9237-HQITU       0               0        0           0       2   \n",
       "\n",
       "   phone_service  multiple_lines  internet_service  online_security  \\\n",
       "0              0               0                 0                0   \n",
       "1              0               1                 0                2   \n",
       "2              0               1                 0                2   \n",
       "3              0               0                 0                2   \n",
       "4              0               1                 1                0   \n",
       "\n",
       "   online_backup  device_protection  tech_support  streaming_tv  \\\n",
       "0              2                  1             1             1   \n",
       "1              0                  0             1             1   \n",
       "2              2                  1             1             1   \n",
       "3              0                  0             0             1   \n",
       "4              0                  1             1             1   \n",
       "\n",
       "   streaming_movies  contract  paperless_billing  payment_method  \\\n",
       "0                 1         0                  1               2   \n",
       "1                 1         1                  0               3   \n",
       "2                 1         0                  1               3   \n",
       "3                 1         1                  0               0   \n",
       "4                 1         0                  1               2   \n",
       "\n",
       "   monthly_charges  total_charges  churn  \n",
       "0            29.85          29.85      0  \n",
       "1            56.95        1936.30      0  \n",
       "2            53.85         107.70      1  \n",
       "3            42.30        1903.50      0  \n",
       "4            70.70         141.40      1  "
      ]
     },
     "execution_count": 49,
     "metadata": {},
     "output_type": "execute_result"
    }
   ],
   "source": [
    "feature_tranformation_df[['customer_id', 'gender', 'senior_citizen', 'partner', 'dependents',\n",
    "                          'tenure', 'phone_service', 'multiple_lines', 'internet_service',\n",
    "                          'online_security', 'online_backup', 'device_protection', 'tech_support',\n",
    "                          'streaming_tv', 'streaming_movies', 'contract', 'paperless_billing',\n",
    "                          'payment_method', 'monthly_charges', 'total_charges', 'churn',\n",
    "                        ]].head()"
   ]
  },
  {
   "cell_type": "code",
   "execution_count": 50,
   "metadata": {
    "ExecuteTime": {
     "end_time": "2021-04-05T10:53:43.952138Z",
     "start_time": "2021-04-05T10:53:43.925100Z"
    }
   },
   "outputs": [
    {
     "data": {
      "text/plain": [
       "0"
      ]
     },
     "execution_count": 50,
     "metadata": {},
     "output_type": "execute_result"
    }
   ],
   "source": [
    "feature_tranformation_df['customer_id'].duplicated().sum()"
   ]
  },
  {
   "cell_type": "markdown",
   "metadata": {},
   "source": [
    "## Feature Extraction"
   ]
  },
  {
   "cell_type": "markdown",
   "metadata": {},
   "source": [
    "### Principal Component Analysis"
   ]
  },
  {
   "cell_type": "markdown",
   "metadata": {},
   "source": [
    "#### Classification model"
   ]
  },
  {
   "cell_type": "code",
   "execution_count": 51,
   "metadata": {
    "ExecuteTime": {
     "end_time": "2021-04-05T10:53:44.030074Z",
     "start_time": "2021-04-05T10:53:43.957140Z"
    }
   },
   "outputs": [],
   "source": [
    "feature_extraction_classification_df = feature_tranformation_df.drop(['customer_id', 'churn'], axis=1)"
   ]
  },
  {
   "cell_type": "code",
   "execution_count": 52,
   "metadata": {
    "ExecuteTime": {
     "end_time": "2021-04-05T10:53:44.078908Z",
     "start_time": "2021-04-05T10:53:44.034399Z"
    }
   },
   "outputs": [
    {
     "data": {
      "text/plain": [
       "PCA(n_components=19)"
      ]
     },
     "execution_count": 52,
     "metadata": {},
     "output_type": "execute_result"
    }
   ],
   "source": [
    "pca_classification = PCA(n_components=19)\n",
    "pca_classification.fit(feature_extraction_classification_df)"
   ]
  },
  {
   "cell_type": "code",
   "execution_count": 53,
   "metadata": {
    "ExecuteTime": {
     "end_time": "2021-04-05T10:53:44.173509Z",
     "start_time": "2021-04-05T10:53:44.083561Z"
    }
   },
   "outputs": [
    {
     "name": "stdout",
     "output_type": "stream",
     "text": [
      "1 component : 99.9860%\n",
      "2 component : 0.0122%\n",
      "3 component : 0.0017%\n",
      "4 component : 0.0000%\n",
      "5 component : 0.0000%\n",
      "6 component : 0.0000%\n",
      "7 component : 0.0000%\n",
      "8 component : 0.0000%\n",
      "9 component : 0.0000%\n",
      "10 component : 0.0000%\n",
      "11 component : 0.0000%\n",
      "12 component : 0.0000%\n",
      "13 component : 0.0000%\n",
      "14 component : 0.0000%\n",
      "15 component : 0.0000%\n",
      "16 component : 0.0000%\n",
      "17 component : 0.0000%\n",
      "18 component : 0.0000%\n",
      "19 component : 0.0000%\n"
     ]
    }
   ],
   "source": [
    "for component, explained_variance_ratio in enumerate(pca_classification.explained_variance_ratio_):\n",
    "    print(f'{component + 1} component : {(explained_variance_ratio * 100):.4f}%')"
   ]
  },
  {
   "cell_type": "markdown",
   "metadata": {},
   "source": [
    "Dengan 1 component, explained variance yang dihasilkan sebesar 99.986%. Sehingga berhasil mereduksi dimensi sebanyak 18 dimensi, yang dimana dimensi awal sebanyak 19 dimensi."
   ]
  },
  {
   "cell_type": "markdown",
   "metadata": {
    "ExecuteTime": {
     "end_time": "2021-03-22T14:53:54.820525Z",
     "start_time": "2021-03-22T14:53:54.804922Z"
    }
   },
   "source": [
    "##### Explained Variance Ratio Plot"
   ]
  },
  {
   "cell_type": "code",
   "execution_count": 54,
   "metadata": {
    "ExecuteTime": {
     "end_time": "2021-04-05T10:53:44.582373Z",
     "start_time": "2021-04-05T10:53:44.177512Z"
    }
   },
   "outputs": [
    {
     "data": {
      "image/png": "[encoded data removed]",
      "text/plain": [
       "<Figure size 720x360 with 1 Axes>"
      ]
     },
     "metadata": {},
     "output_type": "display_data"
    }
   ],
   "source": [
    "pca_classification = PCA().fit(feature_extraction_classification_df)\n",
    "\n",
    "plt.plot(np.cumsum(pca_classification.explained_variance_ratio_))\n",
    "\n",
    "plt.xlabel('Number of components')\n",
    "plt.ylabel('Cumulative explained variance');"
   ]
  },
  {
   "cell_type": "markdown",
   "metadata": {
    "ExecuteTime": {
     "end_time": "2021-03-22T15:54:21.929060Z",
     "start_time": "2021-03-22T15:54:21.913420Z"
    }
   },
   "source": [
    "##### Show Component in Table"
   ]
  },
  {
   "cell_type": "code",
   "execution_count": 55,
   "metadata": {
    "ExecuteTime": {
     "end_time": "2021-04-05T10:53:44.647220Z",
     "start_time": "2021-04-05T10:53:44.585825Z"
    },
    "scrolled": true
   },
   "outputs": [
    {
     "data": {
      "text/html": [
       "<div>\n",
       "<style scoped>\n",
       "    .dataframe tbody tr th:only-of-type {\n",
       "        vertical-align: middle;\n",
       "    }\n",
       "\n",
       "    .dataframe tbody tr th {\n",
       "        vertical-align: top;\n",
       "    }\n",
       "\n",
       "    .dataframe thead th {\n",
       "        text-align: right;\n",
       "    }\n",
       "</style>\n",
       "<table border=\"1\" class=\"dataframe\">\n",
       "  <thead>\n",
       "    <tr style=\"text-align: right;\">\n",
       "      <th></th>\n",
       "      <th>PC1</th>\n",
       "      <th>PC2</th>\n",
       "      <th>PC3</th>\n",
       "      <th>PC4</th>\n",
       "      <th>PC5</th>\n",
       "      <th>PC6</th>\n",
       "      <th>PC7</th>\n",
       "      <th>PC8</th>\n",
       "      <th>PC9</th>\n",
       "      <th>PC10</th>\n",
       "      <th>PC11</th>\n",
       "      <th>PC12</th>\n",
       "      <th>PC13</th>\n",
       "      <th>PC14</th>\n",
       "      <th>PC15</th>\n",
       "      <th>PC16</th>\n",
       "      <th>PC17</th>\n",
       "      <th>PC18</th>\n",
       "      <th>PC19</th>\n",
       "    </tr>\n",
       "  </thead>\n",
       "  <tbody>\n",
       "    <tr>\n",
       "      <th>0</th>\n",
       "      <td>-2250.140045</td>\n",
       "      <td>-8.858334</td>\n",
       "      <td>-16.866177</td>\n",
       "      <td>0.537938</td>\n",
       "      <td>0.863554</td>\n",
       "      <td>0.285455</td>\n",
       "      <td>2.012932</td>\n",
       "      <td>0.231845</td>\n",
       "      <td>-0.575978</td>\n",
       "      <td>-0.659881</td>\n",
       "      <td>-0.069719</td>\n",
       "      <td>-0.326789</td>\n",
       "      <td>-0.046973</td>\n",
       "      <td>0.067055</td>\n",
       "      <td>-0.258124</td>\n",
       "      <td>-0.061853</td>\n",
       "      <td>-4.667532e-16</td>\n",
       "      <td>5.935060e-18</td>\n",
       "      <td>2.441275e-19</td>\n",
       "    </tr>\n",
       "    <tr>\n",
       "      <th>1</th>\n",
       "      <td>-343.307955</td>\n",
       "      <td>-6.421186</td>\n",
       "      <td>2.050109</td>\n",
       "      <td>-1.210040</td>\n",
       "      <td>1.000175</td>\n",
       "      <td>1.622959</td>\n",
       "      <td>-0.808348</td>\n",
       "      <td>0.177327</td>\n",
       "      <td>0.534054</td>\n",
       "      <td>0.606820</td>\n",
       "      <td>0.105766</td>\n",
       "      <td>0.098789</td>\n",
       "      <td>0.762816</td>\n",
       "      <td>0.361595</td>\n",
       "      <td>-0.218744</td>\n",
       "      <td>0.022169</td>\n",
       "      <td>9.308922e-17</td>\n",
       "      <td>-9.089911e-19</td>\n",
       "      <td>-1.305599e-17</td>\n",
       "    </tr>\n",
       "    <tr>\n",
       "      <th>2</th>\n",
       "      <td>-2172.079419</td>\n",
       "      <td>11.903544</td>\n",
       "      <td>-6.320750</td>\n",
       "      <td>-0.750781</td>\n",
       "      <td>-0.114083</td>\n",
       "      <td>2.107724</td>\n",
       "      <td>1.208150</td>\n",
       "      <td>-0.365683</td>\n",
       "      <td>0.512765</td>\n",
       "      <td>-0.080937</td>\n",
       "      <td>-0.611786</td>\n",
       "      <td>-0.021365</td>\n",
       "      <td>0.010818</td>\n",
       "      <td>0.263277</td>\n",
       "      <td>-0.169433</td>\n",
       "      <td>-0.046724</td>\n",
       "      <td>-1.335720e-14</td>\n",
       "      <td>-5.533034e-15</td>\n",
       "      <td>6.071554e-16</td>\n",
       "    </tr>\n",
       "    <tr>\n",
       "      <th>3</th>\n",
       "      <td>-376.133063</td>\n",
       "      <td>-24.310237</td>\n",
       "      <td>5.894243</td>\n",
       "      <td>1.654425</td>\n",
       "      <td>0.794520</td>\n",
       "      <td>1.311847</td>\n",
       "      <td>-0.810647</td>\n",
       "      <td>0.070013</td>\n",
       "      <td>0.514845</td>\n",
       "      <td>-0.080275</td>\n",
       "      <td>0.615834</td>\n",
       "      <td>0.118805</td>\n",
       "      <td>0.488248</td>\n",
       "      <td>-0.602599</td>\n",
       "      <td>0.071657</td>\n",
       "      <td>0.055378</td>\n",
       "      <td>-1.361344e-14</td>\n",
       "      <td>5.536331e-15</td>\n",
       "      <td>5.845863e-16</td>\n",
       "    </tr>\n",
       "    <tr>\n",
       "      <th>4</th>\n",
       "      <td>-2138.236555</td>\n",
       "      <td>26.903713</td>\n",
       "      <td>0.763079</td>\n",
       "      <td>0.029638</td>\n",
       "      <td>0.496248</td>\n",
       "      <td>-0.233726</td>\n",
       "      <td>-0.172891</td>\n",
       "      <td>0.012398</td>\n",
       "      <td>-0.493317</td>\n",
       "      <td>0.447699</td>\n",
       "      <td>-0.573066</td>\n",
       "      <td>-0.398175</td>\n",
       "      <td>0.050407</td>\n",
       "      <td>-0.100429</td>\n",
       "      <td>-0.230195</td>\n",
       "      <td>-0.069092</td>\n",
       "      <td>-1.654352e-16</td>\n",
       "      <td>2.204723e-18</td>\n",
       "      <td>-1.322404e-17</td>\n",
       "    </tr>\n",
       "  </tbody>\n",
       "</table>\n",
       "</div>"
      ],
      "text/plain": [
       "           PC1        PC2        PC3       PC4       PC5       PC6       PC7  \\\n",
       "0 -2250.140045  -8.858334 -16.866177  0.537938  0.863554  0.285455  2.012932   \n",
       "1  -343.307955  -6.421186   2.050109 -1.210040  1.000175  1.622959 -0.808348   \n",
       "2 -2172.079419  11.903544  -6.320750 -0.750781 -0.114083  2.107724  1.208150   \n",
       "3  -376.133063 -24.310237   5.894243  1.654425  0.794520  1.311847 -0.810647   \n",
       "4 -2138.236555  26.903713   0.763079  0.029638  0.496248 -0.233726 -0.172891   \n",
       "\n",
       "        PC8       PC9      PC10      PC11      PC12      PC13      PC14  \\\n",
       "0  0.231845 -0.575978 -0.659881 -0.069719 -0.326789 -0.046973  0.067055   \n",
       "1  0.177327  0.534054  0.606820  0.105766  0.098789  0.762816  0.361595   \n",
       "2 -0.365683  0.512765 -0.080937 -0.611786 -0.021365  0.010818  0.263277   \n",
       "3  0.070013  0.514845 -0.080275  0.615834  0.118805  0.488248 -0.602599   \n",
       "4  0.012398 -0.493317  0.447699 -0.573066 -0.398175  0.050407 -0.100429   \n",
       "\n",
       "       PC15      PC16          PC17          PC18          PC19  \n",
       "0 -0.258124 -0.061853 -4.667532e-16  5.935060e-18  2.441275e-19  \n",
       "1 -0.218744  0.022169  9.308922e-17 -9.089911e-19 -1.305599e-17  \n",
       "2 -0.169433 -0.046724 -1.335720e-14 -5.533034e-15  6.071554e-16  \n",
       "3  0.071657  0.055378 -1.361344e-14  5.536331e-15  5.845863e-16  \n",
       "4 -0.230195 -0.069092 -1.654352e-16  2.204723e-18 -1.322404e-17  "
      ]
     },
     "execution_count": 55,
     "metadata": {},
     "output_type": "execute_result"
    }
   ],
   "source": [
    "pca_classification = PCA()\n",
    "\n",
    "X_pca_classification = pca_classification.fit_transform(feature_extraction_classification_df)\n",
    "\n",
    "component_names = [f\"PC{i+1}\" for i in range(X_pca_classification.shape[1])]\n",
    "X_pca_classification = pd.DataFrame(X_pca_classification, columns=component_names)\n",
    "\n",
    "X_pca_classification.head()"
   ]
  },
  {
   "cell_type": "markdown",
   "metadata": {},
   "source": [
    "##### Factor Loading"
   ]
  },
  {
   "cell_type": "code",
   "execution_count": 56,
   "metadata": {
    "ExecuteTime": {
     "end_time": "2021-04-05T10:53:44.725860Z",
     "start_time": "2021-04-05T10:53:44.650219Z"
    },
    "scrolled": false
   },
   "outputs": [
    {
     "data": {
      "text/html": [
       "<div>\n",
       "<style scoped>\n",
       "    .dataframe tbody tr th:only-of-type {\n",
       "        vertical-align: middle;\n",
       "    }\n",
       "\n",
       "    .dataframe tbody tr th {\n",
       "        vertical-align: top;\n",
       "    }\n",
       "\n",
       "    .dataframe thead th {\n",
       "        text-align: right;\n",
       "    }\n",
       "</style>\n",
       "<table border=\"1\" class=\"dataframe\">\n",
       "  <thead>\n",
       "    <tr style=\"text-align: right;\">\n",
       "      <th></th>\n",
       "      <th>PC1</th>\n",
       "      <th>PC2</th>\n",
       "      <th>PC3</th>\n",
       "      <th>PC4</th>\n",
       "      <th>PC5</th>\n",
       "      <th>PC6</th>\n",
       "      <th>PC7</th>\n",
       "      <th>PC8</th>\n",
       "      <th>PC9</th>\n",
       "      <th>PC10</th>\n",
       "      <th>PC11</th>\n",
       "      <th>PC12</th>\n",
       "      <th>PC13</th>\n",
       "      <th>PC14</th>\n",
       "      <th>PC15</th>\n",
       "      <th>PC16</th>\n",
       "      <th>PC17</th>\n",
       "      <th>PC18</th>\n",
       "      <th>PC19</th>\n",
       "    </tr>\n",
       "  </thead>\n",
       "  <tbody>\n",
       "    <tr>\n",
       "      <th>gender</th>\n",
       "      <td>-6.753369e-09</td>\n",
       "      <td>-3.572193e-04</td>\n",
       "      <td>-4.761319e-04</td>\n",
       "      <td>-1.077697e-02</td>\n",
       "      <td>2.182351e-02</td>\n",
       "      <td>-1.397326e-02</td>\n",
       "      <td>-1.531263e-03</td>\n",
       "      <td>1.420921e-02</td>\n",
       "      <td>9.967306e-01</td>\n",
       "      <td>-7.024061e-02</td>\n",
       "      <td>-2.106550e-02</td>\n",
       "      <td>-5.973240e-03</td>\n",
       "      <td>-7.180509e-03</td>\n",
       "      <td>-7.017264e-03</td>\n",
       "      <td>3.711184e-03</td>\n",
       "      <td>-2.854268e-03</td>\n",
       "      <td>-7.618950e-16</td>\n",
       "      <td>1.789290e-16</td>\n",
       "      <td>9.116432e-17</td>\n",
       "    </tr>\n",
       "    <tr>\n",
       "      <th>senior_citizen</th>\n",
       "      <td>1.680736e-05</td>\n",
       "      <td>2.866770e-03</td>\n",
       "      <td>2.244735e-03</td>\n",
       "      <td>4.735772e-03</td>\n",
       "      <td>4.111486e-02</td>\n",
       "      <td>-6.172048e-02</td>\n",
       "      <td>2.798029e-02</td>\n",
       "      <td>-1.222496e-01</td>\n",
       "      <td>-6.721324e-03</td>\n",
       "      <td>-9.938473e-02</td>\n",
       "      <td>2.527944e-02</td>\n",
       "      <td>-1.569901e-01</td>\n",
       "      <td>1.600722e-01</td>\n",
       "      <td>3.028032e-01</td>\n",
       "      <td>8.829723e-01</td>\n",
       "      <td>2.158150e-01</td>\n",
       "      <td>5.438076e-15</td>\n",
       "      <td>-7.583783e-16</td>\n",
       "      <td>-4.893421e-16</td>\n",
       "    </tr>\n",
       "    <tr>\n",
       "      <th>partner</th>\n",
       "      <td>-0.000000e+00</td>\n",
       "      <td>9.159340e-16</td>\n",
       "      <td>6.938894e-17</td>\n",
       "      <td>2.209170e-15</td>\n",
       "      <td>6.012552e-15</td>\n",
       "      <td>8.239937e-16</td>\n",
       "      <td>3.634029e-15</td>\n",
       "      <td>-6.191120e-15</td>\n",
       "      <td>8.885037e-17</td>\n",
       "      <td>-1.002085e-14</td>\n",
       "      <td>3.707971e-17</td>\n",
       "      <td>-1.171751e-15</td>\n",
       "      <td>-5.620721e-15</td>\n",
       "      <td>3.938256e-15</td>\n",
       "      <td>-8.593549e-15</td>\n",
       "      <td>-1.805576e-15</td>\n",
       "      <td>9.797124e-01</td>\n",
       "      <td>-1.707080e-01</td>\n",
       "      <td>-1.049878e-01</td>\n",
       "    </tr>\n",
       "    <tr>\n",
       "      <th>dependents</th>\n",
       "      <td>2.710505e-20</td>\n",
       "      <td>-2.775558e-17</td>\n",
       "      <td>1.110223e-16</td>\n",
       "      <td>2.220446e-16</td>\n",
       "      <td>-1.110223e-16</td>\n",
       "      <td>2.220446e-16</td>\n",
       "      <td>-1.214306e-17</td>\n",
       "      <td>2.498002e-16</td>\n",
       "      <td>3.209238e-17</td>\n",
       "      <td>-1.804112e-16</td>\n",
       "      <td>6.938894e-18</td>\n",
       "      <td>2.966377e-16</td>\n",
       "      <td>-1.457168e-16</td>\n",
       "      <td>-4.336809e-16</td>\n",
       "      <td>6.245005e-16</td>\n",
       "      <td>-2.463307e-16</td>\n",
       "      <td>-1.906326e-01</td>\n",
       "      <td>-9.554316e-01</td>\n",
       "      <td>-2.254102e-01</td>\n",
       "    </tr>\n",
       "    <tr>\n",
       "      <th>tenure</th>\n",
       "      <td>8.962857e-03</td>\n",
       "      <td>-4.419918e-01</td>\n",
       "      <td>8.963800e-01</td>\n",
       "      <td>-2.088114e-02</td>\n",
       "      <td>1.154759e-02</td>\n",
       "      <td>-8.182898e-04</td>\n",
       "      <td>6.065257e-03</td>\n",
       "      <td>-1.745246e-02</td>\n",
       "      <td>4.188367e-04</td>\n",
       "      <td>4.318539e-03</td>\n",
       "      <td>1.835837e-03</td>\n",
       "      <td>1.091208e-02</td>\n",
       "      <td>-3.575379e-04</td>\n",
       "      <td>-3.582540e-03</td>\n",
       "      <td>-2.195591e-04</td>\n",
       "      <td>-1.865566e-04</td>\n",
       "      <td>2.543132e-16</td>\n",
       "      <td>-1.590905e-16</td>\n",
       "      <td>-1.980258e-17</td>\n",
       "    </tr>\n",
       "    <tr>\n",
       "      <th>phone_service</th>\n",
       "      <td>-0.000000e+00</td>\n",
       "      <td>-4.235165e-22</td>\n",
       "      <td>-1.084202e-19</td>\n",
       "      <td>2.220446e-16</td>\n",
       "      <td>9.020562e-17</td>\n",
       "      <td>0.000000e+00</td>\n",
       "      <td>2.775558e-17</td>\n",
       "      <td>2.220446e-16</td>\n",
       "      <td>-6.938894e-18</td>\n",
       "      <td>-0.000000e+00</td>\n",
       "      <td>-0.000000e+00</td>\n",
       "      <td>2.081668e-16</td>\n",
       "      <td>-1.387779e-16</td>\n",
       "      <td>-5.551115e-17</td>\n",
       "      <td>1.665335e-16</td>\n",
       "      <td>-1.249001e-16</td>\n",
       "      <td>-6.182936e-02</td>\n",
       "      <td>2.408512e-01</td>\n",
       "      <td>-9.685906e-01</td>\n",
       "    </tr>\n",
       "    <tr>\n",
       "      <th>multiple_lines</th>\n",
       "      <td>-8.741826e-05</td>\n",
       "      <td>-1.764310e-03</td>\n",
       "      <td>-5.696035e-03</td>\n",
       "      <td>-2.700293e-02</td>\n",
       "      <td>-1.024555e-01</td>\n",
       "      <td>3.185854e-03</td>\n",
       "      <td>-5.284583e-02</td>\n",
       "      <td>-8.091735e-03</td>\n",
       "      <td>4.407564e-02</td>\n",
       "      <td>7.094690e-01</td>\n",
       "      <td>-5.460185e-01</td>\n",
       "      <td>3.547980e-01</td>\n",
       "      <td>2.397581e-02</td>\n",
       "      <td>2.218970e-01</td>\n",
       "      <td>8.132809e-02</td>\n",
       "      <td>1.164995e-02</td>\n",
       "      <td>8.097379e-15</td>\n",
       "      <td>-1.695793e-15</td>\n",
       "      <td>-8.422021e-16</td>\n",
       "    </tr>\n",
       "    <tr>\n",
       "      <th>internet_service</th>\n",
       "      <td>-5.735368e-05</td>\n",
       "      <td>-8.103677e-03</td>\n",
       "      <td>-2.082550e-03</td>\n",
       "      <td>-1.279681e-01</td>\n",
       "      <td>-4.982366e-01</td>\n",
       "      <td>-4.536032e-01</td>\n",
       "      <td>-2.238822e-01</td>\n",
       "      <td>-3.940878e-01</td>\n",
       "      <td>1.600493e-02</td>\n",
       "      <td>1.749302e-01</td>\n",
       "      <td>-4.596583e-02</td>\n",
       "      <td>-5.190682e-01</td>\n",
       "      <td>-3.039485e-03</td>\n",
       "      <td>-1.225169e-01</td>\n",
       "      <td>-7.707862e-02</td>\n",
       "      <td>-2.771266e-02</td>\n",
       "      <td>2.874017e-15</td>\n",
       "      <td>-4.165424e-16</td>\n",
       "      <td>-3.154549e-16</td>\n",
       "    </tr>\n",
       "    <tr>\n",
       "      <th>online_security</th>\n",
       "      <td>9.611093e-05</td>\n",
       "      <td>-9.842196e-03</td>\n",
       "      <td>-3.563893e-03</td>\n",
       "      <td>-1.776767e-03</td>\n",
       "      <td>-3.094382e-01</td>\n",
       "      <td>8.118263e-01</td>\n",
       "      <td>-3.321640e-01</td>\n",
       "      <td>-3.496702e-01</td>\n",
       "      <td>1.654622e-02</td>\n",
       "      <td>-8.400109e-02</td>\n",
       "      <td>-1.312834e-02</td>\n",
       "      <td>-4.266651e-02</td>\n",
       "      <td>-3.636970e-03</td>\n",
       "      <td>5.563145e-02</td>\n",
       "      <td>-3.005416e-03</td>\n",
       "      <td>5.594579e-03</td>\n",
       "      <td>-8.868296e-16</td>\n",
       "      <td>2.686164e-16</td>\n",
       "      <td>1.375511e-17</td>\n",
       "    </tr>\n",
       "    <tr>\n",
       "      <th>online_backup</th>\n",
       "      <td>1.456334e-04</td>\n",
       "      <td>-5.652883e-03</td>\n",
       "      <td>-3.217151e-03</td>\n",
       "      <td>-4.194347e-02</td>\n",
       "      <td>-4.929242e-01</td>\n",
       "      <td>1.491814e-01</td>\n",
       "      <td>8.551184e-01</td>\n",
       "      <td>-2.072939e-02</td>\n",
       "      <td>1.349512e-02</td>\n",
       "      <td>-1.078881e-02</td>\n",
       "      <td>4.620174e-03</td>\n",
       "      <td>-8.816680e-03</td>\n",
       "      <td>-3.696593e-03</td>\n",
       "      <td>2.832393e-02</td>\n",
       "      <td>-6.322981e-03</td>\n",
       "      <td>-7.639895e-03</td>\n",
       "      <td>-6.487087e-16</td>\n",
       "      <td>-3.475288e-17</td>\n",
       "      <td>3.591920e-17</td>\n",
       "    </tr>\n",
       "    <tr>\n",
       "      <th>device_protection</th>\n",
       "      <td>-4.108684e-05</td>\n",
       "      <td>7.644186e-03</td>\n",
       "      <td>2.545624e-03</td>\n",
       "      <td>4.485835e-02</td>\n",
       "      <td>2.571430e-01</td>\n",
       "      <td>9.881662e-02</td>\n",
       "      <td>1.251313e-01</td>\n",
       "      <td>-8.314635e-02</td>\n",
       "      <td>-6.484643e-03</td>\n",
       "      <td>9.947806e-02</td>\n",
       "      <td>-1.378227e-01</td>\n",
       "      <td>-3.078385e-01</td>\n",
       "      <td>-8.744989e-01</td>\n",
       "      <td>4.970069e-02</td>\n",
       "      <td>8.798232e-02</td>\n",
       "      <td>-2.841451e-02</td>\n",
       "      <td>-6.311414e-15</td>\n",
       "      <td>1.130963e-15</td>\n",
       "      <td>8.174687e-16</td>\n",
       "    </tr>\n",
       "    <tr>\n",
       "      <th>tech_support</th>\n",
       "      <td>-1.819238e-05</td>\n",
       "      <td>9.774481e-03</td>\n",
       "      <td>4.260588e-03</td>\n",
       "      <td>3.369098e-02</td>\n",
       "      <td>2.418918e-01</td>\n",
       "      <td>-1.514328e-02</td>\n",
       "      <td>1.073913e-01</td>\n",
       "      <td>-1.928911e-01</td>\n",
       "      <td>5.002706e-03</td>\n",
       "      <td>-5.746075e-03</td>\n",
       "      <td>4.082370e-02</td>\n",
       "      <td>-2.612280e-01</td>\n",
       "      <td>1.971454e-01</td>\n",
       "      <td>7.935514e-01</td>\n",
       "      <td>-3.885527e-01</td>\n",
       "      <td>-4.174210e-02</td>\n",
       "      <td>-8.814058e-15</td>\n",
       "      <td>1.051474e-15</td>\n",
       "      <td>8.566945e-16</td>\n",
       "    </tr>\n",
       "    <tr>\n",
       "      <th>streaming_tv</th>\n",
       "      <td>-4.233200e-05</td>\n",
       "      <td>3.758905e-03</td>\n",
       "      <td>5.233572e-04</td>\n",
       "      <td>6.961632e-02</td>\n",
       "      <td>2.938751e-01</td>\n",
       "      <td>1.905933e-01</td>\n",
       "      <td>1.437248e-01</td>\n",
       "      <td>-2.582593e-02</td>\n",
       "      <td>9.451819e-03</td>\n",
       "      <td>2.457958e-01</td>\n",
       "      <td>-5.955658e-02</td>\n",
       "      <td>-3.469323e-01</td>\n",
       "      <td>3.174505e-01</td>\n",
       "      <td>-2.612975e-01</td>\n",
       "      <td>1.589322e-01</td>\n",
       "      <td>-6.873154e-01</td>\n",
       "      <td>2.262266e-15</td>\n",
       "      <td>-2.423978e-16</td>\n",
       "      <td>-2.386971e-16</td>\n",
       "    </tr>\n",
       "    <tr>\n",
       "      <th>streaming_movies</th>\n",
       "      <td>-4.354029e-05</td>\n",
       "      <td>3.877182e-03</td>\n",
       "      <td>6.091174e-04</td>\n",
       "      <td>6.608284e-02</td>\n",
       "      <td>2.881478e-01</td>\n",
       "      <td>1.852805e-01</td>\n",
       "      <td>1.530092e-01</td>\n",
       "      <td>-2.416386e-02</td>\n",
       "      <td>1.298338e-02</td>\n",
       "      <td>2.491375e-01</td>\n",
       "      <td>-9.936733e-02</td>\n",
       "      <td>-3.510830e-01</td>\n",
       "      <td>2.457175e-01</td>\n",
       "      <td>-3.180377e-01</td>\n",
       "      <td>-1.446533e-01</td>\n",
       "      <td>6.902486e-01</td>\n",
       "      <td>1.883815e-15</td>\n",
       "      <td>-4.688521e-16</td>\n",
       "      <td>-5.346493e-16</td>\n",
       "    </tr>\n",
       "    <tr>\n",
       "      <th>contract</th>\n",
       "      <td>1.645316e-04</td>\n",
       "      <td>-1.748969e-02</td>\n",
       "      <td>1.761028e-02</td>\n",
       "      <td>-1.956235e-02</td>\n",
       "      <td>-2.745554e-01</td>\n",
       "      <td>1.278434e-01</td>\n",
       "      <td>-1.715055e-01</td>\n",
       "      <td>7.978614e-01</td>\n",
       "      <td>-1.215661e-02</td>\n",
       "      <td>-4.092697e-02</td>\n",
       "      <td>-1.930037e-01</td>\n",
       "      <td>-4.138469e-01</td>\n",
       "      <td>1.387393e-02</td>\n",
       "      <td>1.753259e-01</td>\n",
       "      <td>2.050666e-03</td>\n",
       "      <td>1.196712e-03</td>\n",
       "      <td>5.570642e-15</td>\n",
       "      <td>-9.360399e-16</td>\n",
       "      <td>-5.724955e-16</td>\n",
       "    </tr>\n",
       "    <tr>\n",
       "      <th>paperless_billing</th>\n",
       "      <td>3.447052e-05</td>\n",
       "      <td>6.328467e-03</td>\n",
       "      <td>3.185673e-03</td>\n",
       "      <td>1.939923e-02</td>\n",
       "      <td>7.761287e-02</td>\n",
       "      <td>-7.738575e-02</td>\n",
       "      <td>5.617310e-02</td>\n",
       "      <td>-1.552980e-01</td>\n",
       "      <td>-5.611318e-02</td>\n",
       "      <td>-5.565668e-01</td>\n",
       "      <td>-7.918902e-01</td>\n",
       "      <td>-7.505411e-03</td>\n",
       "      <td>9.319675e-02</td>\n",
       "      <td>-8.768594e-02</td>\n",
       "      <td>-5.317395e-02</td>\n",
       "      <td>-3.200882e-02</td>\n",
       "      <td>-6.692817e-15</td>\n",
       "      <td>1.227635e-15</td>\n",
       "      <td>7.396136e-16</td>\n",
       "    </tr>\n",
       "    <tr>\n",
       "      <th>payment_method</th>\n",
       "      <td>-1.563066e-04</td>\n",
       "      <td>2.825646e-03</td>\n",
       "      <td>-2.313588e-02</td>\n",
       "      <td>-9.835278e-01</td>\n",
       "      <td>1.563083e-01</td>\n",
       "      <td>7.676970e-02</td>\n",
       "      <td>2.914657e-02</td>\n",
       "      <td>1.981389e-02</td>\n",
       "      <td>-1.432206e-02</td>\n",
       "      <td>-1.316397e-02</td>\n",
       "      <td>-6.474610e-03</td>\n",
       "      <td>-5.744079e-03</td>\n",
       "      <td>8.148984e-03</td>\n",
       "      <td>-5.424049e-03</td>\n",
       "      <td>3.426919e-03</td>\n",
       "      <td>-9.756129e-04</td>\n",
       "      <td>1.104816e-15</td>\n",
       "      <td>-3.277784e-16</td>\n",
       "      <td>-1.162866e-16</td>\n",
       "    </tr>\n",
       "    <tr>\n",
       "      <th>monthly_charges</th>\n",
       "      <td>8.656787e-03</td>\n",
       "      <td>8.965968e-01</td>\n",
       "      <td>4.420589e-01</td>\n",
       "      <td>-1.055255e-02</td>\n",
       "      <td>-1.934219e-02</td>\n",
       "      <td>6.066840e-03</td>\n",
       "      <td>-4.818470e-03</td>\n",
       "      <td>3.868071e-03</td>\n",
       "      <td>1.232180e-03</td>\n",
       "      <td>4.684172e-03</td>\n",
       "      <td>2.465048e-03</td>\n",
       "      <td>1.804610e-03</td>\n",
       "      <td>1.765692e-03</td>\n",
       "      <td>-5.166340e-03</td>\n",
       "      <td>3.100352e-04</td>\n",
       "      <td>-1.511440e-04</td>\n",
       "      <td>-5.657876e-16</td>\n",
       "      <td>1.064358e-16</td>\n",
       "      <td>7.365997e-17</td>\n",
       "    </tr>\n",
       "    <tr>\n",
       "      <th>total_charges</th>\n",
       "      <td>9.999223e-01</td>\n",
       "      <td>-3.795409e-03</td>\n",
       "      <td>-1.186809e-02</td>\n",
       "      <td>1.321138e-04</td>\n",
       "      <td>2.341454e-04</td>\n",
       "      <td>-1.560957e-04</td>\n",
       "      <td>-7.251614e-05</td>\n",
       "      <td>6.416466e-06</td>\n",
       "      <td>-1.060072e-05</td>\n",
       "      <td>5.321236e-05</td>\n",
       "      <td>-4.172897e-05</td>\n",
       "      <td>-8.408476e-05</td>\n",
       "      <td>-2.439192e-05</td>\n",
       "      <td>3.954480e-05</td>\n",
       "      <td>-1.265185e-05</td>\n",
       "      <td>-8.576366e-07</td>\n",
       "      <td>-1.124263e-16</td>\n",
       "      <td>2.966728e-17</td>\n",
       "      <td>1.310277e-17</td>\n",
       "    </tr>\n",
       "  </tbody>\n",
       "</table>\n",
       "</div>"
      ],
      "text/plain": [
       "                            PC1           PC2           PC3           PC4  \\\n",
       "gender            -6.753369e-09 -3.572193e-04 -4.761319e-04 -1.077697e-02   \n",
       "senior_citizen     1.680736e-05  2.866770e-03  2.244735e-03  4.735772e-03   \n",
       "partner           -0.000000e+00  9.159340e-16  6.938894e-17  2.209170e-15   \n",
       "dependents         2.710505e-20 -2.775558e-17  1.110223e-16  2.220446e-16   \n",
       "tenure             8.962857e-03 -4.419918e-01  8.963800e-01 -2.088114e-02   \n",
       "phone_service     -0.000000e+00 -4.235165e-22 -1.084202e-19  2.220446e-16   \n",
       "multiple_lines    -8.741826e-05 -1.764310e-03 -5.696035e-03 -2.700293e-02   \n",
       "internet_service  -5.735368e-05 -8.103677e-03 -2.082550e-03 -1.279681e-01   \n",
       "online_security    9.611093e-05 -9.842196e-03 -3.563893e-03 -1.776767e-03   \n",
       "online_backup      1.456334e-04 -5.652883e-03 -3.217151e-03 -4.194347e-02   \n",
       "device_protection -4.108684e-05  7.644186e-03  2.545624e-03  4.485835e-02   \n",
       "tech_support      -1.819238e-05  9.774481e-03  4.260588e-03  3.369098e-02   \n",
       "streaming_tv      -4.233200e-05  3.758905e-03  5.233572e-04  6.961632e-02   \n",
       "streaming_movies  -4.354029e-05  3.877182e-03  6.091174e-04  6.608284e-02   \n",
       "contract           1.645316e-04 -1.748969e-02  1.761028e-02 -1.956235e-02   \n",
       "paperless_billing  3.447052e-05  6.328467e-03  3.185673e-03  1.939923e-02   \n",
       "payment_method    -1.563066e-04  2.825646e-03 -2.313588e-02 -9.835278e-01   \n",
       "monthly_charges    8.656787e-03  8.965968e-01  4.420589e-01 -1.055255e-02   \n",
       "total_charges      9.999223e-01 -3.795409e-03 -1.186809e-02  1.321138e-04   \n",
       "\n",
       "                            PC5           PC6           PC7           PC8  \\\n",
       "gender             2.182351e-02 -1.397326e-02 -1.531263e-03  1.420921e-02   \n",
       "senior_citizen     4.111486e-02 -6.172048e-02  2.798029e-02 -1.222496e-01   \n",
       "partner            6.012552e-15  8.239937e-16  3.634029e-15 -6.191120e-15   \n",
       "dependents        -1.110223e-16  2.220446e-16 -1.214306e-17  2.498002e-16   \n",
       "tenure             1.154759e-02 -8.182898e-04  6.065257e-03 -1.745246e-02   \n",
       "phone_service      9.020562e-17  0.000000e+00  2.775558e-17  2.220446e-16   \n",
       "multiple_lines    -1.024555e-01  3.185854e-03 -5.284583e-02 -8.091735e-03   \n",
       "internet_service  -4.982366e-01 -4.536032e-01 -2.238822e-01 -3.940878e-01   \n",
       "online_security   -3.094382e-01  8.118263e-01 -3.321640e-01 -3.496702e-01   \n",
       "online_backup     -4.929242e-01  1.491814e-01  8.551184e-01 -2.072939e-02   \n",
       "device_protection  2.571430e-01  9.881662e-02  1.251313e-01 -8.314635e-02   \n",
       "tech_support       2.418918e-01 -1.514328e-02  1.073913e-01 -1.928911e-01   \n",
       "streaming_tv       2.938751e-01  1.905933e-01  1.437248e-01 -2.582593e-02   \n",
       "streaming_movies   2.881478e-01  1.852805e-01  1.530092e-01 -2.416386e-02   \n",
       "contract          -2.745554e-01  1.278434e-01 -1.715055e-01  7.978614e-01   \n",
       "paperless_billing  7.761287e-02 -7.738575e-02  5.617310e-02 -1.552980e-01   \n",
       "payment_method     1.563083e-01  7.676970e-02  2.914657e-02  1.981389e-02   \n",
       "monthly_charges   -1.934219e-02  6.066840e-03 -4.818470e-03  3.868071e-03   \n",
       "total_charges      2.341454e-04 -1.560957e-04 -7.251614e-05  6.416466e-06   \n",
       "\n",
       "                            PC9          PC10          PC11          PC12  \\\n",
       "gender             9.967306e-01 -7.024061e-02 -2.106550e-02 -5.973240e-03   \n",
       "senior_citizen    -6.721324e-03 -9.938473e-02  2.527944e-02 -1.569901e-01   \n",
       "partner            8.885037e-17 -1.002085e-14  3.707971e-17 -1.171751e-15   \n",
       "dependents         3.209238e-17 -1.804112e-16  6.938894e-18  2.966377e-16   \n",
       "tenure             4.188367e-04  4.318539e-03  1.835837e-03  1.091208e-02   \n",
       "phone_service     -6.938894e-18 -0.000000e+00 -0.000000e+00  2.081668e-16   \n",
       "multiple_lines     4.407564e-02  7.094690e-01 -5.460185e-01  3.547980e-01   \n",
       "internet_service   1.600493e-02  1.749302e-01 -4.596583e-02 -5.190682e-01   \n",
       "online_security    1.654622e-02 -8.400109e-02 -1.312834e-02 -4.266651e-02   \n",
       "online_backup      1.349512e-02 -1.078881e-02  4.620174e-03 -8.816680e-03   \n",
       "device_protection -6.484643e-03  9.947806e-02 -1.378227e-01 -3.078385e-01   \n",
       "tech_support       5.002706e-03 -5.746075e-03  4.082370e-02 -2.612280e-01   \n",
       "streaming_tv       9.451819e-03  2.457958e-01 -5.955658e-02 -3.469323e-01   \n",
       "streaming_movies   1.298338e-02  2.491375e-01 -9.936733e-02 -3.510830e-01   \n",
       "contract          -1.215661e-02 -4.092697e-02 -1.930037e-01 -4.138469e-01   \n",
       "paperless_billing -5.611318e-02 -5.565668e-01 -7.918902e-01 -7.505411e-03   \n",
       "payment_method    -1.432206e-02 -1.316397e-02 -6.474610e-03 -5.744079e-03   \n",
       "monthly_charges    1.232180e-03  4.684172e-03  2.465048e-03  1.804610e-03   \n",
       "total_charges     -1.060072e-05  5.321236e-05 -4.172897e-05 -8.408476e-05   \n",
       "\n",
       "                           PC13          PC14          PC15          PC16  \\\n",
       "gender            -7.180509e-03 -7.017264e-03  3.711184e-03 -2.854268e-03   \n",
       "senior_citizen     1.600722e-01  3.028032e-01  8.829723e-01  2.158150e-01   \n",
       "partner           -5.620721e-15  3.938256e-15 -8.593549e-15 -1.805576e-15   \n",
       "dependents        -1.457168e-16 -4.336809e-16  6.245005e-16 -2.463307e-16   \n",
       "tenure            -3.575379e-04 -3.582540e-03 -2.195591e-04 -1.865566e-04   \n",
       "phone_service     -1.387779e-16 -5.551115e-17  1.665335e-16 -1.249001e-16   \n",
       "multiple_lines     2.397581e-02  2.218970e-01  8.132809e-02  1.164995e-02   \n",
       "internet_service  -3.039485e-03 -1.225169e-01 -7.707862e-02 -2.771266e-02   \n",
       "online_security   -3.636970e-03  5.563145e-02 -3.005416e-03  5.594579e-03   \n",
       "online_backup     -3.696593e-03  2.832393e-02 -6.322981e-03 -7.639895e-03   \n",
       "device_protection -8.744989e-01  4.970069e-02  8.798232e-02 -2.841451e-02   \n",
       "tech_support       1.971454e-01  7.935514e-01 -3.885527e-01 -4.174210e-02   \n",
       "streaming_tv       3.174505e-01 -2.612975e-01  1.589322e-01 -6.873154e-01   \n",
       "streaming_movies   2.457175e-01 -3.180377e-01 -1.446533e-01  6.902486e-01   \n",
       "contract           1.387393e-02  1.753259e-01  2.050666e-03  1.196712e-03   \n",
       "paperless_billing  9.319675e-02 -8.768594e-02 -5.317395e-02 -3.200882e-02   \n",
       "payment_method     8.148984e-03 -5.424049e-03  3.426919e-03 -9.756129e-04   \n",
       "monthly_charges    1.765692e-03 -5.166340e-03  3.100352e-04 -1.511440e-04   \n",
       "total_charges     -2.439192e-05  3.954480e-05 -1.265185e-05 -8.576366e-07   \n",
       "\n",
       "                           PC17          PC18          PC19  \n",
       "gender            -7.618950e-16  1.789290e-16  9.116432e-17  \n",
       "senior_citizen     5.438076e-15 -7.583783e-16 -4.893421e-16  \n",
       "partner            9.797124e-01 -1.707080e-01 -1.049878e-01  \n",
       "dependents        -1.906326e-01 -9.554316e-01 -2.254102e-01  \n",
       "tenure             2.543132e-16 -1.590905e-16 -1.980258e-17  \n",
       "phone_service     -6.182936e-02  2.408512e-01 -9.685906e-01  \n",
       "multiple_lines     8.097379e-15 -1.695793e-15 -8.422021e-16  \n",
       "internet_service   2.874017e-15 -4.165424e-16 -3.154549e-16  \n",
       "online_security   -8.868296e-16  2.686164e-16  1.375511e-17  \n",
       "online_backup     -6.487087e-16 -3.475288e-17  3.591920e-17  \n",
       "device_protection -6.311414e-15  1.130963e-15  8.174687e-16  \n",
       "tech_support      -8.814058e-15  1.051474e-15  8.566945e-16  \n",
       "streaming_tv       2.262266e-15 -2.423978e-16 -2.386971e-16  \n",
       "streaming_movies   1.883815e-15 -4.688521e-16 -5.346493e-16  \n",
       "contract           5.570642e-15 -9.360399e-16 -5.724955e-16  \n",
       "paperless_billing -6.692817e-15  1.227635e-15  7.396136e-16  \n",
       "payment_method     1.104816e-15 -3.277784e-16 -1.162866e-16  \n",
       "monthly_charges   -5.657876e-16  1.064358e-16  7.365997e-17  \n",
       "total_charges     -1.124263e-16  2.966728e-17  1.310277e-17  "
      ]
     },
     "execution_count": 56,
     "metadata": {},
     "output_type": "execute_result"
    }
   ],
   "source": [
    "factor_loadings = pd.DataFrame(\n",
    "    pca_classification.components_.T,\n",
    "    \n",
    "    columns = component_names,\n",
    "    index   = feature_extraction_classification_df.columns,\n",
    ")\n",
    "\n",
    "factor_loadings"
   ]
  },
  {
   "cell_type": "markdown",
   "metadata": {},
   "source": [
    "##### Concate PCA Value with Churn Feature"
   ]
  },
  {
   "cell_type": "code",
   "execution_count": 57,
   "metadata": {
    "ExecuteTime": {
     "end_time": "2021-04-05T10:53:44.787722Z",
     "start_time": "2021-04-05T10:53:44.728079Z"
    }
   },
   "outputs": [
    {
     "data": {
      "text/html": [
       "<div>\n",
       "<style scoped>\n",
       "    .dataframe tbody tr th:only-of-type {\n",
       "        vertical-align: middle;\n",
       "    }\n",
       "\n",
       "    .dataframe tbody tr th {\n",
       "        vertical-align: top;\n",
       "    }\n",
       "\n",
       "    .dataframe thead th {\n",
       "        text-align: right;\n",
       "    }\n",
       "</style>\n",
       "<table border=\"1\" class=\"dataframe\">\n",
       "  <thead>\n",
       "    <tr style=\"text-align: right;\">\n",
       "      <th></th>\n",
       "      <th>PC1</th>\n",
       "      <th>PC2</th>\n",
       "      <th>PC3</th>\n",
       "      <th>PC4</th>\n",
       "      <th>PC5</th>\n",
       "      <th>PC6</th>\n",
       "      <th>PC7</th>\n",
       "      <th>PC8</th>\n",
       "      <th>PC9</th>\n",
       "      <th>PC10</th>\n",
       "      <th>PC11</th>\n",
       "      <th>PC12</th>\n",
       "      <th>PC13</th>\n",
       "      <th>PC14</th>\n",
       "      <th>PC15</th>\n",
       "      <th>PC16</th>\n",
       "      <th>PC17</th>\n",
       "      <th>PC18</th>\n",
       "      <th>PC19</th>\n",
       "      <th>churn</th>\n",
       "    </tr>\n",
       "  </thead>\n",
       "  <tbody>\n",
       "    <tr>\n",
       "      <th>0</th>\n",
       "      <td>-2250.140045</td>\n",
       "      <td>-8.858334</td>\n",
       "      <td>-16.866177</td>\n",
       "      <td>0.537938</td>\n",
       "      <td>0.863554</td>\n",
       "      <td>0.285455</td>\n",
       "      <td>2.012932</td>\n",
       "      <td>0.231845</td>\n",
       "      <td>-0.575978</td>\n",
       "      <td>-0.659881</td>\n",
       "      <td>-0.069719</td>\n",
       "      <td>-0.326789</td>\n",
       "      <td>-0.046973</td>\n",
       "      <td>0.067055</td>\n",
       "      <td>-0.258124</td>\n",
       "      <td>-0.061853</td>\n",
       "      <td>-4.667532e-16</td>\n",
       "      <td>5.935060e-18</td>\n",
       "      <td>2.441275e-19</td>\n",
       "      <td>0</td>\n",
       "    </tr>\n",
       "    <tr>\n",
       "      <th>1</th>\n",
       "      <td>-343.307955</td>\n",
       "      <td>-6.421186</td>\n",
       "      <td>2.050109</td>\n",
       "      <td>-1.210040</td>\n",
       "      <td>1.000175</td>\n",
       "      <td>1.622959</td>\n",
       "      <td>-0.808348</td>\n",
       "      <td>0.177327</td>\n",
       "      <td>0.534054</td>\n",
       "      <td>0.606820</td>\n",
       "      <td>0.105766</td>\n",
       "      <td>0.098789</td>\n",
       "      <td>0.762816</td>\n",
       "      <td>0.361595</td>\n",
       "      <td>-0.218744</td>\n",
       "      <td>0.022169</td>\n",
       "      <td>9.308922e-17</td>\n",
       "      <td>-9.089911e-19</td>\n",
       "      <td>-1.305599e-17</td>\n",
       "      <td>0</td>\n",
       "    </tr>\n",
       "    <tr>\n",
       "      <th>2</th>\n",
       "      <td>-2172.079419</td>\n",
       "      <td>11.903544</td>\n",
       "      <td>-6.320750</td>\n",
       "      <td>-0.750781</td>\n",
       "      <td>-0.114083</td>\n",
       "      <td>2.107724</td>\n",
       "      <td>1.208150</td>\n",
       "      <td>-0.365683</td>\n",
       "      <td>0.512765</td>\n",
       "      <td>-0.080937</td>\n",
       "      <td>-0.611786</td>\n",
       "      <td>-0.021365</td>\n",
       "      <td>0.010818</td>\n",
       "      <td>0.263277</td>\n",
       "      <td>-0.169433</td>\n",
       "      <td>-0.046724</td>\n",
       "      <td>-1.335720e-14</td>\n",
       "      <td>-5.533034e-15</td>\n",
       "      <td>6.071554e-16</td>\n",
       "      <td>1</td>\n",
       "    </tr>\n",
       "    <tr>\n",
       "      <th>3</th>\n",
       "      <td>-376.133063</td>\n",
       "      <td>-24.310237</td>\n",
       "      <td>5.894243</td>\n",
       "      <td>1.654425</td>\n",
       "      <td>0.794520</td>\n",
       "      <td>1.311847</td>\n",
       "      <td>-0.810647</td>\n",
       "      <td>0.070013</td>\n",
       "      <td>0.514845</td>\n",
       "      <td>-0.080275</td>\n",
       "      <td>0.615834</td>\n",
       "      <td>0.118805</td>\n",
       "      <td>0.488248</td>\n",
       "      <td>-0.602599</td>\n",
       "      <td>0.071657</td>\n",
       "      <td>0.055378</td>\n",
       "      <td>-1.361344e-14</td>\n",
       "      <td>5.536331e-15</td>\n",
       "      <td>5.845863e-16</td>\n",
       "      <td>0</td>\n",
       "    </tr>\n",
       "    <tr>\n",
       "      <th>4</th>\n",
       "      <td>-2138.236555</td>\n",
       "      <td>26.903713</td>\n",
       "      <td>0.763079</td>\n",
       "      <td>0.029638</td>\n",
       "      <td>0.496248</td>\n",
       "      <td>-0.233726</td>\n",
       "      <td>-0.172891</td>\n",
       "      <td>0.012398</td>\n",
       "      <td>-0.493317</td>\n",
       "      <td>0.447699</td>\n",
       "      <td>-0.573066</td>\n",
       "      <td>-0.398175</td>\n",
       "      <td>0.050407</td>\n",
       "      <td>-0.100429</td>\n",
       "      <td>-0.230195</td>\n",
       "      <td>-0.069092</td>\n",
       "      <td>-1.654352e-16</td>\n",
       "      <td>2.204723e-18</td>\n",
       "      <td>-1.322404e-17</td>\n",
       "      <td>1</td>\n",
       "    </tr>\n",
       "  </tbody>\n",
       "</table>\n",
       "</div>"
      ],
      "text/plain": [
       "           PC1        PC2        PC3       PC4       PC5       PC6       PC7  \\\n",
       "0 -2250.140045  -8.858334 -16.866177  0.537938  0.863554  0.285455  2.012932   \n",
       "1  -343.307955  -6.421186   2.050109 -1.210040  1.000175  1.622959 -0.808348   \n",
       "2 -2172.079419  11.903544  -6.320750 -0.750781 -0.114083  2.107724  1.208150   \n",
       "3  -376.133063 -24.310237   5.894243  1.654425  0.794520  1.311847 -0.810647   \n",
       "4 -2138.236555  26.903713   0.763079  0.029638  0.496248 -0.233726 -0.172891   \n",
       "\n",
       "        PC8       PC9      PC10      PC11      PC12      PC13      PC14  \\\n",
       "0  0.231845 -0.575978 -0.659881 -0.069719 -0.326789 -0.046973  0.067055   \n",
       "1  0.177327  0.534054  0.606820  0.105766  0.098789  0.762816  0.361595   \n",
       "2 -0.365683  0.512765 -0.080937 -0.611786 -0.021365  0.010818  0.263277   \n",
       "3  0.070013  0.514845 -0.080275  0.615834  0.118805  0.488248 -0.602599   \n",
       "4  0.012398 -0.493317  0.447699 -0.573066 -0.398175  0.050407 -0.100429   \n",
       "\n",
       "       PC15      PC16          PC17          PC18          PC19  churn  \n",
       "0 -0.258124 -0.061853 -4.667532e-16  5.935060e-18  2.441275e-19      0  \n",
       "1 -0.218744  0.022169  9.308922e-17 -9.089911e-19 -1.305599e-17      0  \n",
       "2 -0.169433 -0.046724 -1.335720e-14 -5.533034e-15  6.071554e-16      1  \n",
       "3  0.071657  0.055378 -1.361344e-14  5.536331e-15  5.845863e-16      0  \n",
       "4 -0.230195 -0.069092 -1.654352e-16  2.204723e-18 -1.322404e-17      1  "
      ]
     },
     "execution_count": 57,
     "metadata": {},
     "output_type": "execute_result"
    }
   ],
   "source": [
    "PCA_classification_df = pd.concat([X_pca_classification, feature_tranformation_df['churn']], axis=1)\n",
    "PCA_classification_df.head()"
   ]
  },
  {
   "cell_type": "markdown",
   "metadata": {},
   "source": [
    "##### Save PCA Value"
   ]
  },
  {
   "cell_type": "code",
   "execution_count": 58,
   "metadata": {
    "ExecuteTime": {
     "end_time": "2021-04-05T10:53:45.399862Z",
     "start_time": "2021-04-05T10:53:44.791791Z"
    }
   },
   "outputs": [],
   "source": [
    "PCA_classification_df.to_csv('../datasets/PCA_classification.csv', index=False)"
   ]
  },
  {
   "cell_type": "markdown",
   "metadata": {},
   "source": [
    "#### Regression Model"
   ]
  },
  {
   "cell_type": "code",
   "execution_count": 59,
   "metadata": {
    "ExecuteTime": {
     "end_time": "2021-04-05T10:53:45.415366Z",
     "start_time": "2021-04-05T10:53:45.404369Z"
    }
   },
   "outputs": [],
   "source": [
    "feature_extraction_regression_df = feature_tranformation_df.drop(['customer_id', 'tenure'], axis=1)"
   ]
  },
  {
   "cell_type": "code",
   "execution_count": 60,
   "metadata": {
    "ExecuteTime": {
     "end_time": "2021-04-05T10:53:45.493495Z",
     "start_time": "2021-04-05T10:53:45.420938Z"
    }
   },
   "outputs": [
    {
     "data": {
      "text/plain": [
       "PCA(n_components=19)"
      ]
     },
     "execution_count": 60,
     "metadata": {},
     "output_type": "execute_result"
    }
   ],
   "source": [
    "pca_regression = PCA(n_components=19)\n",
    "pca_regression.fit(feature_extraction_regression_df)"
   ]
  },
  {
   "cell_type": "code",
   "execution_count": 61,
   "metadata": {
    "ExecuteTime": {
     "end_time": "2021-04-05T10:53:45.509310Z",
     "start_time": "2021-04-05T10:53:45.497305Z"
    }
   },
   "outputs": [
    {
     "name": "stdout",
     "output_type": "stream",
     "text": [
      "1 component : 99.9897%\n",
      "2 component : 0.0102%\n",
      "3 component : 0.0000%\n",
      "4 component : 0.0000%\n",
      "5 component : 0.0000%\n",
      "6 component : 0.0000%\n",
      "7 component : 0.0000%\n",
      "8 component : 0.0000%\n",
      "9 component : 0.0000%\n",
      "10 component : 0.0000%\n",
      "11 component : 0.0000%\n",
      "12 component : 0.0000%\n",
      "13 component : 0.0000%\n",
      "14 component : 0.0000%\n",
      "15 component : 0.0000%\n",
      "16 component : 0.0000%\n",
      "17 component : 0.0000%\n",
      "18 component : 0.0000%\n",
      "19 component : 0.0000%\n"
     ]
    }
   ],
   "source": [
    "for component, explained_variance_ratio in enumerate(pca_regression.explained_variance_ratio_):\n",
    "    print(f'{component + 1} component : {(explained_variance_ratio * 100):.4f}%')"
   ]
  },
  {
   "cell_type": "markdown",
   "metadata": {},
   "source": [
    "##### Explained Variance Ratio Plot"
   ]
  },
  {
   "cell_type": "code",
   "execution_count": 62,
   "metadata": {
    "ExecuteTime": {
     "end_time": "2021-04-05T10:53:46.101521Z",
     "start_time": "2021-04-05T10:53:45.513201Z"
    }
   },
   "outputs": [
    {
     "data": {
      "image/png": "[encoded data removed]",
      "text/plain": [
       "<Figure size 720x360 with 1 Axes>"
      ]
     },
     "metadata": {},
     "output_type": "display_data"
    }
   ],
   "source": [
    "pca_regression = PCA().fit(feature_extraction_regression_df)\n",
    "\n",
    "plt.plot(np.cumsum(pca_regression.explained_variance_ratio_))\n",
    "\n",
    "plt.xlabel('Number of components')\n",
    "plt.ylabel('Cumulative explained variance');"
   ]
  },
  {
   "cell_type": "markdown",
   "metadata": {},
   "source": [
    "##### Show component in table"
   ]
  },
  {
   "cell_type": "code",
   "execution_count": 63,
   "metadata": {
    "ExecuteTime": {
     "end_time": "2021-04-05T10:53:46.178725Z",
     "start_time": "2021-04-05T10:53:46.106046Z"
    }
   },
   "outputs": [
    {
     "data": {
      "text/html": [
       "<div>\n",
       "<style scoped>\n",
       "    .dataframe tbody tr th:only-of-type {\n",
       "        vertical-align: middle;\n",
       "    }\n",
       "\n",
       "    .dataframe tbody tr th {\n",
       "        vertical-align: top;\n",
       "    }\n",
       "\n",
       "    .dataframe thead th {\n",
       "        text-align: right;\n",
       "    }\n",
       "</style>\n",
       "<table border=\"1\" class=\"dataframe\">\n",
       "  <thead>\n",
       "    <tr style=\"text-align: right;\">\n",
       "      <th></th>\n",
       "      <th>PC1</th>\n",
       "      <th>PC2</th>\n",
       "      <th>PC3</th>\n",
       "      <th>PC4</th>\n",
       "      <th>PC5</th>\n",
       "      <th>PC6</th>\n",
       "      <th>PC7</th>\n",
       "      <th>PC8</th>\n",
       "      <th>PC9</th>\n",
       "      <th>PC10</th>\n",
       "      <th>PC11</th>\n",
       "      <th>PC12</th>\n",
       "      <th>PC13</th>\n",
       "      <th>PC14</th>\n",
       "      <th>PC15</th>\n",
       "      <th>PC16</th>\n",
       "      <th>PC17</th>\n",
       "      <th>PC18</th>\n",
       "      <th>PC19</th>\n",
       "    </tr>\n",
       "  </thead>\n",
       "  <tbody>\n",
       "    <tr>\n",
       "      <th>0</th>\n",
       "      <td>-2249.949238</td>\n",
       "      <td>-15.399286</td>\n",
       "      <td>0.013108</td>\n",
       "      <td>-1.121957</td>\n",
       "      <td>0.310560</td>\n",
       "      <td>2.071569</td>\n",
       "      <td>0.132275</td>\n",
       "      <td>-0.573739</td>\n",
       "      <td>-0.536087</td>\n",
       "      <td>0.021436</td>\n",
       "      <td>-0.018417</td>\n",
       "      <td>-0.325611</td>\n",
       "      <td>-0.053427</td>\n",
       "      <td>-0.315280</td>\n",
       "      <td>-0.234229</td>\n",
       "      <td>-0.062617</td>\n",
       "      <td>-3.998095e-16</td>\n",
       "      <td>3.693959e-17</td>\n",
       "      <td>2.922484e-17</td>\n",
       "    </tr>\n",
       "    <tr>\n",
       "      <th>1</th>\n",
       "      <td>-343.336336</td>\n",
       "      <td>-4.843668</td>\n",
       "      <td>1.198897</td>\n",
       "      <td>-0.701238</td>\n",
       "      <td>1.703130</td>\n",
       "      <td>-0.885922</td>\n",
       "      <td>0.274738</td>\n",
       "      <td>0.543855</td>\n",
       "      <td>0.576525</td>\n",
       "      <td>-0.055202</td>\n",
       "      <td>0.101233</td>\n",
       "      <td>0.236564</td>\n",
       "      <td>0.788756</td>\n",
       "      <td>-0.261423</td>\n",
       "      <td>-0.207674</td>\n",
       "      <td>0.023318</td>\n",
       "      <td>-3.326105e-17</td>\n",
       "      <td>-5.657806e-17</td>\n",
       "      <td>-4.557332e-18</td>\n",
       "    </tr>\n",
       "    <tr>\n",
       "      <th>2</th>\n",
       "      <td>-2171.894470</td>\n",
       "      <td>7.900786</td>\n",
       "      <td>0.963824</td>\n",
       "      <td>0.109869</td>\n",
       "      <td>2.023840</td>\n",
       "      <td>1.281404</td>\n",
       "      <td>-0.478216</td>\n",
       "      <td>0.489537</td>\n",
       "      <td>-0.274124</td>\n",
       "      <td>0.623559</td>\n",
       "      <td>0.020466</td>\n",
       "      <td>0.631304</td>\n",
       "      <td>0.025380</td>\n",
       "      <td>0.270107</td>\n",
       "      <td>-0.207829</td>\n",
       "      <td>-0.051793</td>\n",
       "      <td>-1.992584e-14</td>\n",
       "      <td>4.288808e-15</td>\n",
       "      <td>-3.520518e-16</td>\n",
       "    </tr>\n",
       "    <tr>\n",
       "      <th>3</th>\n",
       "      <td>-376.261363</td>\n",
       "      <td>-19.215538</td>\n",
       "      <td>-1.772990</td>\n",
       "      <td>-0.817763</td>\n",
       "      <td>1.357039</td>\n",
       "      <td>-0.812044</td>\n",
       "      <td>0.064809</td>\n",
       "      <td>0.515784</td>\n",
       "      <td>-0.038812</td>\n",
       "      <td>-0.633096</td>\n",
       "      <td>-0.015904</td>\n",
       "      <td>-0.411984</td>\n",
       "      <td>0.451469</td>\n",
       "      <td>0.450047</td>\n",
       "      <td>0.058168</td>\n",
       "      <td>0.056143</td>\n",
       "      <td>6.679189e-15</td>\n",
       "      <td>2.359454e-15</td>\n",
       "      <td>1.878852e-15</td>\n",
       "    </tr>\n",
       "    <tr>\n",
       "      <th>4</th>\n",
       "      <td>-2138.050240</td>\n",
       "      <td>24.475624</td>\n",
       "      <td>0.048846</td>\n",
       "      <td>-0.532898</td>\n",
       "      <td>-0.246589</td>\n",
       "      <td>-0.188865</td>\n",
       "      <td>-0.000503</td>\n",
       "      <td>-0.500501</td>\n",
       "      <td>0.281227</td>\n",
       "      <td>0.676945</td>\n",
       "      <td>0.390620</td>\n",
       "      <td>0.158527</td>\n",
       "      <td>0.038881</td>\n",
       "      <td>0.341147</td>\n",
       "      <td>-0.259146</td>\n",
       "      <td>-0.072780</td>\n",
       "      <td>2.162971e-14</td>\n",
       "      <td>3.228406e-15</td>\n",
       "      <td>-9.048926e-16</td>\n",
       "    </tr>\n",
       "  </tbody>\n",
       "</table>\n",
       "</div>"
      ],
      "text/plain": [
       "           PC1        PC2       PC3       PC4       PC5       PC6       PC7  \\\n",
       "0 -2249.949238 -15.399286  0.013108 -1.121957  0.310560  2.071569  0.132275   \n",
       "1  -343.336336  -4.843668  1.198897 -0.701238  1.703130 -0.885922  0.274738   \n",
       "2 -2171.894470   7.900786  0.963824  0.109869  2.023840  1.281404 -0.478216   \n",
       "3  -376.261363 -19.215538 -1.772990 -0.817763  1.357039 -0.812044  0.064809   \n",
       "4 -2138.050240  24.475624  0.048846 -0.532898 -0.246589 -0.188865 -0.000503   \n",
       "\n",
       "        PC8       PC9      PC10      PC11      PC12      PC13      PC14  \\\n",
       "0 -0.573739 -0.536087  0.021436 -0.018417 -0.325611 -0.053427 -0.315280   \n",
       "1  0.543855  0.576525 -0.055202  0.101233  0.236564  0.788756 -0.261423   \n",
       "2  0.489537 -0.274124  0.623559  0.020466  0.631304  0.025380  0.270107   \n",
       "3  0.515784 -0.038812 -0.633096 -0.015904 -0.411984  0.451469  0.450047   \n",
       "4 -0.500501  0.281227  0.676945  0.390620  0.158527  0.038881  0.341147   \n",
       "\n",
       "       PC15      PC16          PC17          PC18          PC19  \n",
       "0 -0.234229 -0.062617 -3.998095e-16  3.693959e-17  2.922484e-17  \n",
       "1 -0.207674  0.023318 -3.326105e-17 -5.657806e-17 -4.557332e-18  \n",
       "2 -0.207829 -0.051793 -1.992584e-14  4.288808e-15 -3.520518e-16  \n",
       "3  0.058168  0.056143  6.679189e-15  2.359454e-15  1.878852e-15  \n",
       "4 -0.259146 -0.072780  2.162971e-14  3.228406e-15 -9.048926e-16  "
      ]
     },
     "execution_count": 63,
     "metadata": {},
     "output_type": "execute_result"
    }
   ],
   "source": [
    "pca_regression = PCA()\n",
    "\n",
    "X_pca_regression = pca_regression.fit_transform(feature_extraction_regression_df)\n",
    "\n",
    "component_names = [f\"PC{i+1}\" for i in range(X_pca_regression.shape[1])]\n",
    "X_pca_regression = pd.DataFrame(X_pca_regression, columns=component_names)\n",
    "\n",
    "X_pca_regression.head()"
   ]
  },
  {
   "cell_type": "markdown",
   "metadata": {},
   "source": [
    "##### Factor Loading"
   ]
  },
  {
   "cell_type": "code",
   "execution_count": 64,
   "metadata": {
    "ExecuteTime": {
     "end_time": "2021-04-05T10:53:46.303576Z",
     "start_time": "2021-04-05T10:53:46.182033Z"
    }
   },
   "outputs": [
    {
     "data": {
      "text/html": [
       "<div>\n",
       "<style scoped>\n",
       "    .dataframe tbody tr th:only-of-type {\n",
       "        vertical-align: middle;\n",
       "    }\n",
       "\n",
       "    .dataframe tbody tr th {\n",
       "        vertical-align: top;\n",
       "    }\n",
       "\n",
       "    .dataframe thead th {\n",
       "        text-align: right;\n",
       "    }\n",
       "</style>\n",
       "<table border=\"1\" class=\"dataframe\">\n",
       "  <thead>\n",
       "    <tr style=\"text-align: right;\">\n",
       "      <th></th>\n",
       "      <th>PC1</th>\n",
       "      <th>PC2</th>\n",
       "      <th>PC3</th>\n",
       "      <th>PC4</th>\n",
       "      <th>PC5</th>\n",
       "      <th>PC6</th>\n",
       "      <th>PC7</th>\n",
       "      <th>PC8</th>\n",
       "      <th>PC9</th>\n",
       "      <th>PC10</th>\n",
       "      <th>PC11</th>\n",
       "      <th>PC12</th>\n",
       "      <th>PC13</th>\n",
       "      <th>PC14</th>\n",
       "      <th>PC15</th>\n",
       "      <th>PC16</th>\n",
       "      <th>PC17</th>\n",
       "      <th>PC18</th>\n",
       "      <th>PC19</th>\n",
       "    </tr>\n",
       "  </thead>\n",
       "  <tbody>\n",
       "    <tr>\n",
       "      <th>gender</th>\n",
       "      <td>-6.863756e-09</td>\n",
       "      <td>-4.196274e-04</td>\n",
       "      <td>1.251507e-02</td>\n",
       "      <td>-2.004456e-02</td>\n",
       "      <td>-1.237788e-02</td>\n",
       "      <td>-3.533624e-03</td>\n",
       "      <td>1.559969e-02</td>\n",
       "      <td>9.950801e-01</td>\n",
       "      <td>-9.110687e-02</td>\n",
       "      <td>1.901518e-02</td>\n",
       "      <td>-3.001370e-03</td>\n",
       "      <td>-2.695100e-04</td>\n",
       "      <td>-7.751624e-03</td>\n",
       "      <td>9.936305e-03</td>\n",
       "      <td>3.097979e-03</td>\n",
       "      <td>-2.916851e-03</td>\n",
       "      <td>-1.623814e-15</td>\n",
       "      <td>1.885532e-16</td>\n",
       "      <td>3.153930e-16</td>\n",
       "    </tr>\n",
       "    <tr>\n",
       "      <th>senior_citizen</th>\n",
       "      <td>1.680913e-05</td>\n",
       "      <td>3.256572e-03</td>\n",
       "      <td>-6.371482e-04</td>\n",
       "      <td>-4.472554e-02</td>\n",
       "      <td>-6.161006e-02</td>\n",
       "      <td>2.552153e-02</td>\n",
       "      <td>-8.852651e-02</td>\n",
       "      <td>-1.144206e-02</td>\n",
       "      <td>-1.400283e-01</td>\n",
       "      <td>9.591682e-03</td>\n",
       "      <td>1.693710e-01</td>\n",
       "      <td>1.673541e-01</td>\n",
       "      <td>1.783397e-01</td>\n",
       "      <td>-1.936795e-01</td>\n",
       "      <td>8.905219e-01</td>\n",
       "      <td>2.164108e-01</td>\n",
       "      <td>-1.424644e-14</td>\n",
       "      <td>1.440651e-15</td>\n",
       "      <td>2.548521e-15</td>\n",
       "    </tr>\n",
       "    <tr>\n",
       "      <th>partner</th>\n",
       "      <td>-0.000000e+00</td>\n",
       "      <td>-1.582068e-15</td>\n",
       "      <td>3.097349e-15</td>\n",
       "      <td>-1.410330e-15</td>\n",
       "      <td>-2.253406e-15</td>\n",
       "      <td>-3.216611e-15</td>\n",
       "      <td>-7.749010e-15</td>\n",
       "      <td>-8.038004e-16</td>\n",
       "      <td>1.016591e-14</td>\n",
       "      <td>-4.413137e-15</td>\n",
       "      <td>-7.479884e-15</td>\n",
       "      <td>-9.594999e-15</td>\n",
       "      <td>-3.766302e-15</td>\n",
       "      <td>1.221148e-14</td>\n",
       "      <td>-8.218578e-15</td>\n",
       "      <td>-3.071274e-15</td>\n",
       "      <td>-9.751175e-01</td>\n",
       "      <td>1.067729e-01</td>\n",
       "      <td>1.942816e-01</td>\n",
       "    </tr>\n",
       "    <tr>\n",
       "      <th>dependents</th>\n",
       "      <td>6.776264e-21</td>\n",
       "      <td>-1.387779e-17</td>\n",
       "      <td>2.220446e-16</td>\n",
       "      <td>0.000000e+00</td>\n",
       "      <td>-2.220446e-16</td>\n",
       "      <td>2.775558e-17</td>\n",
       "      <td>-1.249001e-16</td>\n",
       "      <td>-2.949030e-17</td>\n",
       "      <td>-1.110223e-16</td>\n",
       "      <td>6.938894e-17</td>\n",
       "      <td>7.476658e-16</td>\n",
       "      <td>1.001803e-16</td>\n",
       "      <td>-4.163336e-17</td>\n",
       "      <td>-0.000000e+00</td>\n",
       "      <td>-3.642919e-16</td>\n",
       "      <td>1.491862e-16</td>\n",
       "      <td>-1.024232e-01</td>\n",
       "      <td>5.602452e-01</td>\n",
       "      <td>-8.219701e-01</td>\n",
       "    </tr>\n",
       "    <tr>\n",
       "      <th>phone_service</th>\n",
       "      <td>2.019484e-28</td>\n",
       "      <td>-3.388132e-21</td>\n",
       "      <td>-1.110223e-16</td>\n",
       "      <td>-5.551115e-17</td>\n",
       "      <td>-5.551115e-17</td>\n",
       "      <td>-1.665335e-16</td>\n",
       "      <td>-5.551115e-17</td>\n",
       "      <td>1.387779e-17</td>\n",
       "      <td>1.110223e-16</td>\n",
       "      <td>-1.387779e-16</td>\n",
       "      <td>4.093947e-16</td>\n",
       "      <td>-2.220446e-16</td>\n",
       "      <td>8.326673e-17</td>\n",
       "      <td>-1.665335e-16</td>\n",
       "      <td>-6.938894e-17</td>\n",
       "      <td>2.636780e-16</td>\n",
       "      <td>1.966095e-01</td>\n",
       "      <td>8.214164e-01</td>\n",
       "      <td>5.353689e-01</td>\n",
       "    </tr>\n",
       "    <tr>\n",
       "      <th>multiple_lines</th>\n",
       "      <td>-8.742187e-05</td>\n",
       "      <td>-2.315081e-03</td>\n",
       "      <td>2.849151e-02</td>\n",
       "      <td>9.832777e-02</td>\n",
       "      <td>6.158143e-04</td>\n",
       "      <td>-4.173359e-02</td>\n",
       "      <td>-6.146413e-02</td>\n",
       "      <td>5.737113e-02</td>\n",
       "      <td>7.114518e-01</td>\n",
       "      <td>5.264073e-01</td>\n",
       "      <td>-2.849676e-01</td>\n",
       "      <td>3.251782e-01</td>\n",
       "      <td>4.270401e-02</td>\n",
       "      <td>-4.949696e-02</td>\n",
       "      <td>7.794271e-02</td>\n",
       "      <td>1.177969e-02</td>\n",
       "      <td>2.902123e-15</td>\n",
       "      <td>-2.293515e-16</td>\n",
       "      <td>-7.158321e-16</td>\n",
       "    </tr>\n",
       "    <tr>\n",
       "      <th>internet_service</th>\n",
       "      <td>-5.735964e-05</td>\n",
       "      <td>-8.896262e-03</td>\n",
       "      <td>7.686236e-02</td>\n",
       "      <td>4.886615e-01</td>\n",
       "      <td>-4.742807e-01</td>\n",
       "      <td>-2.042258e-01</td>\n",
       "      <td>-3.698158e-01</td>\n",
       "      <td>1.319022e-02</td>\n",
       "      <td>7.585830e-02</td>\n",
       "      <td>1.651701e-01</td>\n",
       "      <td>5.182629e-01</td>\n",
       "      <td>-2.076154e-01</td>\n",
       "      <td>-1.508062e-02</td>\n",
       "      <td>1.845260e-02</td>\n",
       "      <td>-7.451351e-02</td>\n",
       "      <td>-2.790235e-02</td>\n",
       "      <td>3.173375e-15</td>\n",
       "      <td>-3.706260e-16</td>\n",
       "      <td>-4.786718e-16</td>\n",
       "    </tr>\n",
       "    <tr>\n",
       "      <th>online_security</th>\n",
       "      <td>9.611051e-05</td>\n",
       "      <td>-1.088223e-02</td>\n",
       "      <td>-3.379347e-02</td>\n",
       "      <td>3.355764e-01</td>\n",
       "      <td>7.939020e-01</td>\n",
       "      <td>-2.930180e-01</td>\n",
       "      <td>-3.849696e-01</td>\n",
       "      <td>1.097103e-02</td>\n",
       "      <td>-1.200853e-01</td>\n",
       "      <td>2.630100e-02</td>\n",
       "      <td>5.594574e-02</td>\n",
       "      <td>5.433914e-02</td>\n",
       "      <td>7.065901e-05</td>\n",
       "      <td>-2.066969e-02</td>\n",
       "      <td>-3.788158e-03</td>\n",
       "      <td>5.449547e-03</td>\n",
       "      <td>-9.149535e-16</td>\n",
       "      <td>1.086877e-16</td>\n",
       "      <td>1.802539e-17</td>\n",
       "    </tr>\n",
       "    <tr>\n",
       "      <th>online_backup</th>\n",
       "      <td>1.456370e-04</td>\n",
       "      <td>-6.334198e-03</td>\n",
       "      <td>1.426887e-02</td>\n",
       "      <td>4.657966e-01</td>\n",
       "      <td>1.151104e-01</td>\n",
       "      <td>8.757790e-01</td>\n",
       "      <td>-8.631349e-03</td>\n",
       "      <td>1.185820e-02</td>\n",
       "      <td>-2.320732e-02</td>\n",
       "      <td>-3.428469e-04</td>\n",
       "      <td>1.914388e-02</td>\n",
       "      <td>3.597059e-02</td>\n",
       "      <td>-1.814807e-03</td>\n",
       "      <td>-4.564822e-03</td>\n",
       "      <td>-7.201034e-03</td>\n",
       "      <td>-7.769403e-03</td>\n",
       "      <td>-4.168582e-15</td>\n",
       "      <td>3.232702e-16</td>\n",
       "      <td>9.761924e-16</td>\n",
       "    </tr>\n",
       "    <tr>\n",
       "      <th>device_protection</th>\n",
       "      <td>-4.108512e-05</td>\n",
       "      <td>8.435178e-03</td>\n",
       "      <td>-1.494884e-02</td>\n",
       "      <td>-2.587499e-01</td>\n",
       "      <td>1.077625e-01</td>\n",
       "      <td>1.157903e-01</td>\n",
       "      <td>-3.941030e-02</td>\n",
       "      <td>-8.816572e-03</td>\n",
       "      <td>3.338739e-02</td>\n",
       "      <td>2.051699e-01</td>\n",
       "      <td>2.878400e-01</td>\n",
       "      <td>1.364637e-02</td>\n",
       "      <td>-8.721148e-01</td>\n",
       "      <td>-9.933993e-02</td>\n",
       "      <td>9.273391e-02</td>\n",
       "      <td>-2.833778e-02</td>\n",
       "      <td>-1.414468e-15</td>\n",
       "      <td>7.655164e-17</td>\n",
       "      <td>3.625043e-16</td>\n",
       "    </tr>\n",
       "    <tr>\n",
       "      <th>tech_support</th>\n",
       "      <td>-1.818895e-05</td>\n",
       "      <td>1.085851e-02</td>\n",
       "      <td>-5.418224e-03</td>\n",
       "      <td>-2.473763e-01</td>\n",
       "      <td>-7.733925e-03</td>\n",
       "      <td>9.774028e-02</td>\n",
       "      <td>-1.296808e-01</td>\n",
       "      <td>-7.020401e-04</td>\n",
       "      <td>-8.546716e-02</td>\n",
       "      <td>3.386757e-02</td>\n",
       "      <td>3.270426e-01</td>\n",
       "      <td>4.421517e-01</td>\n",
       "      <td>2.460712e-01</td>\n",
       "      <td>-6.367823e-01</td>\n",
       "      <td>-3.654191e-01</td>\n",
       "      <td>-4.179261e-02</td>\n",
       "      <td>-1.196644e-14</td>\n",
       "      <td>1.153528e-15</td>\n",
       "      <td>2.435010e-15</td>\n",
       "    </tr>\n",
       "    <tr>\n",
       "      <th>streaming_tv</th>\n",
       "      <td>-4.233195e-05</td>\n",
       "      <td>4.095725e-03</td>\n",
       "      <td>-3.568781e-02</td>\n",
       "      <td>-2.941184e-01</td>\n",
       "      <td>2.016034e-01</td>\n",
       "      <td>1.342633e-01</td>\n",
       "      <td>8.490485e-03</td>\n",
       "      <td>1.017254e-02</td>\n",
       "      <td>1.823532e-01</td>\n",
       "      <td>1.409841e-01</td>\n",
       "      <td>3.466584e-01</td>\n",
       "      <td>-2.347881e-01</td>\n",
       "      <td>2.967694e-01</td>\n",
       "      <td>2.010813e-01</td>\n",
       "      <td>1.530443e-01</td>\n",
       "      <td>-6.877520e-01</td>\n",
       "      <td>2.362720e-15</td>\n",
       "      <td>-3.608111e-16</td>\n",
       "      <td>-3.109840e-16</td>\n",
       "    </tr>\n",
       "    <tr>\n",
       "      <th>streaming_movies</th>\n",
       "      <td>-4.354025e-05</td>\n",
       "      <td>4.229594e-03</td>\n",
       "      <td>-3.276578e-02</td>\n",
       "      <td>-2.883481e-01</td>\n",
       "      <td>1.960637e-01</td>\n",
       "      <td>1.434100e-01</td>\n",
       "      <td>1.130237e-02</td>\n",
       "      <td>1.380004e-02</td>\n",
       "      <td>1.851495e-01</td>\n",
       "      <td>1.801746e-01</td>\n",
       "      <td>3.396036e-01</td>\n",
       "      <td>-2.744647e-01</td>\n",
       "      <td>2.216681e-01</td>\n",
       "      <td>2.261108e-01</td>\n",
       "      <td>-1.524016e-01</td>\n",
       "      <td>6.895973e-01</td>\n",
       "      <td>1.467657e-15</td>\n",
       "      <td>-3.771995e-16</td>\n",
       "      <td>-2.037420e-16</td>\n",
       "    </tr>\n",
       "    <tr>\n",
       "      <th>contract</th>\n",
       "      <td>1.645274e-04</td>\n",
       "      <td>-1.761014e-02</td>\n",
       "      <td>-8.452995e-02</td>\n",
       "      <td>3.284652e-01</td>\n",
       "      <td>1.233405e-01</td>\n",
       "      <td>-1.958143e-01</td>\n",
       "      <td>8.083537e-01</td>\n",
       "      <td>-1.628634e-02</td>\n",
       "      <td>-9.928468e-02</td>\n",
       "      <td>2.418462e-01</td>\n",
       "      <td>3.029854e-01</td>\n",
       "      <td>1.200073e-01</td>\n",
       "      <td>1.727736e-02</td>\n",
       "      <td>-5.045960e-02</td>\n",
       "      <td>-1.742230e-03</td>\n",
       "      <td>-1.204287e-03</td>\n",
       "      <td>-1.246394e-14</td>\n",
       "      <td>1.376591e-15</td>\n",
       "      <td>2.384527e-15</td>\n",
       "    </tr>\n",
       "    <tr>\n",
       "      <th>paperless_billing</th>\n",
       "      <td>3.447455e-05</td>\n",
       "      <td>7.060494e-03</td>\n",
       "      <td>-8.927819e-03</td>\n",
       "      <td>-8.497692e-02</td>\n",
       "      <td>-7.646253e-02</td>\n",
       "      <td>5.279845e-02</td>\n",
       "      <td>-1.093146e-01</td>\n",
       "      <td>-6.626956e-02</td>\n",
       "      <td>-5.633221e-01</td>\n",
       "      <td>7.344463e-01</td>\n",
       "      <td>-2.683946e-01</td>\n",
       "      <td>-1.673696e-01</td>\n",
       "      <td>8.578342e-02</td>\n",
       "      <td>-1.158062e-02</td>\n",
       "      <td>-4.878839e-02</td>\n",
       "      <td>-3.176780e-02</td>\n",
       "      <td>-4.166044e-15</td>\n",
       "      <td>6.306200e-16</td>\n",
       "      <td>1.002964e-15</td>\n",
       "    </tr>\n",
       "    <tr>\n",
       "      <th>payment_method</th>\n",
       "      <td>-1.563085e-04</td>\n",
       "      <td>1.395453e-03</td>\n",
       "      <td>9.907268e-01</td>\n",
       "      <td>-3.241739e-02</td>\n",
       "      <td>8.929097e-02</td>\n",
       "      <td>-1.017842e-02</td>\n",
       "      <td>8.676936e-02</td>\n",
       "      <td>-1.581395e-02</td>\n",
       "      <td>-2.570307e-02</td>\n",
       "      <td>1.370726e-02</td>\n",
       "      <td>1.960741e-02</td>\n",
       "      <td>-1.168658e-02</td>\n",
       "      <td>8.665450e-03</td>\n",
       "      <td>-9.253201e-03</td>\n",
       "      <td>4.638177e-03</td>\n",
       "      <td>-5.797406e-04</td>\n",
       "      <td>1.746910e-15</td>\n",
       "      <td>-8.685656e-17</td>\n",
       "      <td>-1.595577e-16</td>\n",
       "    </tr>\n",
       "    <tr>\n",
       "      <th>monthly_charges</th>\n",
       "      <td>8.657510e-03</td>\n",
       "      <td>9.995089e-01</td>\n",
       "      <td>-2.024494e-03</td>\n",
       "      <td>2.562512e-02</td>\n",
       "      <td>6.179737e-03</td>\n",
       "      <td>-6.761767e-03</td>\n",
       "      <td>1.004915e-02</td>\n",
       "      <td>1.299465e-03</td>\n",
       "      <td>4.344802e-03</td>\n",
       "      <td>-1.667578e-03</td>\n",
       "      <td>1.107533e-03</td>\n",
       "      <td>-5.828052e-03</td>\n",
       "      <td>1.598114e-03</td>\n",
       "      <td>9.080272e-05</td>\n",
       "      <td>5.688426e-04</td>\n",
       "      <td>-6.632587e-05</td>\n",
       "      <td>-1.545256e-15</td>\n",
       "      <td>1.854510e-16</td>\n",
       "      <td>3.075975e-16</td>\n",
       "    </tr>\n",
       "    <tr>\n",
       "      <th>total_charges</th>\n",
       "      <td>9.999625e-01</td>\n",
       "      <td>-8.648289e-03</td>\n",
       "      <td>1.918213e-04</td>\n",
       "      <td>-3.836130e-04</td>\n",
       "      <td>-1.584377e-04</td>\n",
       "      <td>-8.814534e-06</td>\n",
       "      <td>-1.967930e-04</td>\n",
       "      <td>-5.918992e-06</td>\n",
       "      <td>8.567294e-05</td>\n",
       "      <td>2.827540e-05</td>\n",
       "      <td>4.478078e-07</td>\n",
       "      <td>5.057869e-05</td>\n",
       "      <td>-2.734067e-05</td>\n",
       "      <td>3.774460e-05</td>\n",
       "      <td>-1.871424e-05</td>\n",
       "      <td>-3.089388e-06</td>\n",
       "      <td>-2.973458e-16</td>\n",
       "      <td>2.544013e-17</td>\n",
       "      <td>4.616336e-17</td>\n",
       "    </tr>\n",
       "    <tr>\n",
       "      <th>churn</th>\n",
       "      <td>-3.869625e-05</td>\n",
       "      <td>8.231825e-03</td>\n",
       "      <td>2.022496e-02</td>\n",
       "      <td>-7.033144e-02</td>\n",
       "      <td>-8.803249e-02</td>\n",
       "      <td>1.428466e-02</td>\n",
       "      <td>-1.073155e-01</td>\n",
       "      <td>-2.602949e-02</td>\n",
       "      <td>-2.034535e-01</td>\n",
       "      <td>2.821135e-02</td>\n",
       "      <td>1.687371e-01</td>\n",
       "      <td>6.709511e-01</td>\n",
       "      <td>-1.178620e-03</td>\n",
       "      <td>6.704216e-01</td>\n",
       "      <td>-6.389735e-02</td>\n",
       "      <td>-6.525442e-03</td>\n",
       "      <td>5.559148e-17</td>\n",
       "      <td>9.135059e-17</td>\n",
       "      <td>5.089337e-17</td>\n",
       "    </tr>\n",
       "  </tbody>\n",
       "</table>\n",
       "</div>"
      ],
      "text/plain": [
       "                            PC1           PC2           PC3           PC4  \\\n",
       "gender            -6.863756e-09 -4.196274e-04  1.251507e-02 -2.004456e-02   \n",
       "senior_citizen     1.680913e-05  3.256572e-03 -6.371482e-04 -4.472554e-02   \n",
       "partner           -0.000000e+00 -1.582068e-15  3.097349e-15 -1.410330e-15   \n",
       "dependents         6.776264e-21 -1.387779e-17  2.220446e-16  0.000000e+00   \n",
       "phone_service      2.019484e-28 -3.388132e-21 -1.110223e-16 -5.551115e-17   \n",
       "multiple_lines    -8.742187e-05 -2.315081e-03  2.849151e-02  9.832777e-02   \n",
       "internet_service  -5.735964e-05 -8.896262e-03  7.686236e-02  4.886615e-01   \n",
       "online_security    9.611051e-05 -1.088223e-02 -3.379347e-02  3.355764e-01   \n",
       "online_backup      1.456370e-04 -6.334198e-03  1.426887e-02  4.657966e-01   \n",
       "device_protection -4.108512e-05  8.435178e-03 -1.494884e-02 -2.587499e-01   \n",
       "tech_support      -1.818895e-05  1.085851e-02 -5.418224e-03 -2.473763e-01   \n",
       "streaming_tv      -4.233195e-05  4.095725e-03 -3.568781e-02 -2.941184e-01   \n",
       "streaming_movies  -4.354025e-05  4.229594e-03 -3.276578e-02 -2.883481e-01   \n",
       "contract           1.645274e-04 -1.761014e-02 -8.452995e-02  3.284652e-01   \n",
       "paperless_billing  3.447455e-05  7.060494e-03 -8.927819e-03 -8.497692e-02   \n",
       "payment_method    -1.563085e-04  1.395453e-03  9.907268e-01 -3.241739e-02   \n",
       "monthly_charges    8.657510e-03  9.995089e-01 -2.024494e-03  2.562512e-02   \n",
       "total_charges      9.999625e-01 -8.648289e-03  1.918213e-04 -3.836130e-04   \n",
       "churn             -3.869625e-05  8.231825e-03  2.022496e-02 -7.033144e-02   \n",
       "\n",
       "                            PC5           PC6           PC7           PC8  \\\n",
       "gender            -1.237788e-02 -3.533624e-03  1.559969e-02  9.950801e-01   \n",
       "senior_citizen    -6.161006e-02  2.552153e-02 -8.852651e-02 -1.144206e-02   \n",
       "partner           -2.253406e-15 -3.216611e-15 -7.749010e-15 -8.038004e-16   \n",
       "dependents        -2.220446e-16  2.775558e-17 -1.249001e-16 -2.949030e-17   \n",
       "phone_service     -5.551115e-17 -1.665335e-16 -5.551115e-17  1.387779e-17   \n",
       "multiple_lines     6.158143e-04 -4.173359e-02 -6.146413e-02  5.737113e-02   \n",
       "internet_service  -4.742807e-01 -2.042258e-01 -3.698158e-01  1.319022e-02   \n",
       "online_security    7.939020e-01 -2.930180e-01 -3.849696e-01  1.097103e-02   \n",
       "online_backup      1.151104e-01  8.757790e-01 -8.631349e-03  1.185820e-02   \n",
       "device_protection  1.077625e-01  1.157903e-01 -3.941030e-02 -8.816572e-03   \n",
       "tech_support      -7.733925e-03  9.774028e-02 -1.296808e-01 -7.020401e-04   \n",
       "streaming_tv       2.016034e-01  1.342633e-01  8.490485e-03  1.017254e-02   \n",
       "streaming_movies   1.960637e-01  1.434100e-01  1.130237e-02  1.380004e-02   \n",
       "contract           1.233405e-01 -1.958143e-01  8.083537e-01 -1.628634e-02   \n",
       "paperless_billing -7.646253e-02  5.279845e-02 -1.093146e-01 -6.626956e-02   \n",
       "payment_method     8.929097e-02 -1.017842e-02  8.676936e-02 -1.581395e-02   \n",
       "monthly_charges    6.179737e-03 -6.761767e-03  1.004915e-02  1.299465e-03   \n",
       "total_charges     -1.584377e-04 -8.814534e-06 -1.967930e-04 -5.918992e-06   \n",
       "churn             -8.803249e-02  1.428466e-02 -1.073155e-01 -2.602949e-02   \n",
       "\n",
       "                            PC9          PC10          PC11          PC12  \\\n",
       "gender            -9.110687e-02  1.901518e-02 -3.001370e-03 -2.695100e-04   \n",
       "senior_citizen    -1.400283e-01  9.591682e-03  1.693710e-01  1.673541e-01   \n",
       "partner            1.016591e-14 -4.413137e-15 -7.479884e-15 -9.594999e-15   \n",
       "dependents        -1.110223e-16  6.938894e-17  7.476658e-16  1.001803e-16   \n",
       "phone_service      1.110223e-16 -1.387779e-16  4.093947e-16 -2.220446e-16   \n",
       "multiple_lines     7.114518e-01  5.264073e-01 -2.849676e-01  3.251782e-01   \n",
       "internet_service   7.585830e-02  1.651701e-01  5.182629e-01 -2.076154e-01   \n",
       "online_security   -1.200853e-01  2.630100e-02  5.594574e-02  5.433914e-02   \n",
       "online_backup     -2.320732e-02 -3.428469e-04  1.914388e-02  3.597059e-02   \n",
       "device_protection  3.338739e-02  2.051699e-01  2.878400e-01  1.364637e-02   \n",
       "tech_support      -8.546716e-02  3.386757e-02  3.270426e-01  4.421517e-01   \n",
       "streaming_tv       1.823532e-01  1.409841e-01  3.466584e-01 -2.347881e-01   \n",
       "streaming_movies   1.851495e-01  1.801746e-01  3.396036e-01 -2.744647e-01   \n",
       "contract          -9.928468e-02  2.418462e-01  3.029854e-01  1.200073e-01   \n",
       "paperless_billing -5.633221e-01  7.344463e-01 -2.683946e-01 -1.673696e-01   \n",
       "payment_method    -2.570307e-02  1.370726e-02  1.960741e-02 -1.168658e-02   \n",
       "monthly_charges    4.344802e-03 -1.667578e-03  1.107533e-03 -5.828052e-03   \n",
       "total_charges      8.567294e-05  2.827540e-05  4.478078e-07  5.057869e-05   \n",
       "churn             -2.034535e-01  2.821135e-02  1.687371e-01  6.709511e-01   \n",
       "\n",
       "                           PC13          PC14          PC15          PC16  \\\n",
       "gender            -7.751624e-03  9.936305e-03  3.097979e-03 -2.916851e-03   \n",
       "senior_citizen     1.783397e-01 -1.936795e-01  8.905219e-01  2.164108e-01   \n",
       "partner           -3.766302e-15  1.221148e-14 -8.218578e-15 -3.071274e-15   \n",
       "dependents        -4.163336e-17 -0.000000e+00 -3.642919e-16  1.491862e-16   \n",
       "phone_service      8.326673e-17 -1.665335e-16 -6.938894e-17  2.636780e-16   \n",
       "multiple_lines     4.270401e-02 -4.949696e-02  7.794271e-02  1.177969e-02   \n",
       "internet_service  -1.508062e-02  1.845260e-02 -7.451351e-02 -2.790235e-02   \n",
       "online_security    7.065901e-05 -2.066969e-02 -3.788158e-03  5.449547e-03   \n",
       "online_backup     -1.814807e-03 -4.564822e-03 -7.201034e-03 -7.769403e-03   \n",
       "device_protection -8.721148e-01 -9.933993e-02  9.273391e-02 -2.833778e-02   \n",
       "tech_support       2.460712e-01 -6.367823e-01 -3.654191e-01 -4.179261e-02   \n",
       "streaming_tv       2.967694e-01  2.010813e-01  1.530443e-01 -6.877520e-01   \n",
       "streaming_movies   2.216681e-01  2.261108e-01 -1.524016e-01  6.895973e-01   \n",
       "contract           1.727736e-02 -5.045960e-02 -1.742230e-03 -1.204287e-03   \n",
       "paperless_billing  8.578342e-02 -1.158062e-02 -4.878839e-02 -3.176780e-02   \n",
       "payment_method     8.665450e-03 -9.253201e-03  4.638177e-03 -5.797406e-04   \n",
       "monthly_charges    1.598114e-03  9.080272e-05  5.688426e-04 -6.632587e-05   \n",
       "total_charges     -2.734067e-05  3.774460e-05 -1.871424e-05 -3.089388e-06   \n",
       "churn             -1.178620e-03  6.704216e-01 -6.389735e-02 -6.525442e-03   \n",
       "\n",
       "                           PC17          PC18          PC19  \n",
       "gender            -1.623814e-15  1.885532e-16  3.153930e-16  \n",
       "senior_citizen    -1.424644e-14  1.440651e-15  2.548521e-15  \n",
       "partner           -9.751175e-01  1.067729e-01  1.942816e-01  \n",
       "dependents        -1.024232e-01  5.602452e-01 -8.219701e-01  \n",
       "phone_service      1.966095e-01  8.214164e-01  5.353689e-01  \n",
       "multiple_lines     2.902123e-15 -2.293515e-16 -7.158321e-16  \n",
       "internet_service   3.173375e-15 -3.706260e-16 -4.786718e-16  \n",
       "online_security   -9.149535e-16  1.086877e-16  1.802539e-17  \n",
       "online_backup     -4.168582e-15  3.232702e-16  9.761924e-16  \n",
       "device_protection -1.414468e-15  7.655164e-17  3.625043e-16  \n",
       "tech_support      -1.196644e-14  1.153528e-15  2.435010e-15  \n",
       "streaming_tv       2.362720e-15 -3.608111e-16 -3.109840e-16  \n",
       "streaming_movies   1.467657e-15 -3.771995e-16 -2.037420e-16  \n",
       "contract          -1.246394e-14  1.376591e-15  2.384527e-15  \n",
       "paperless_billing -4.166044e-15  6.306200e-16  1.002964e-15  \n",
       "payment_method     1.746910e-15 -8.685656e-17 -1.595577e-16  \n",
       "monthly_charges   -1.545256e-15  1.854510e-16  3.075975e-16  \n",
       "total_charges     -2.973458e-16  2.544013e-17  4.616336e-17  \n",
       "churn              5.559148e-17  9.135059e-17  5.089337e-17  "
      ]
     },
     "execution_count": 64,
     "metadata": {},
     "output_type": "execute_result"
    }
   ],
   "source": [
    "factor_loadings = pd.DataFrame(\n",
    "    pca_regression.components_.T,\n",
    "    \n",
    "    columns = component_names,\n",
    "    index   = feature_extraction_regression_df.columns,\n",
    ")\n",
    "\n",
    "factor_loadings"
   ]
  },
  {
   "cell_type": "markdown",
   "metadata": {},
   "source": [
    "##### Concate PCA Value with Tenure Feature"
   ]
  },
  {
   "cell_type": "code",
   "execution_count": 65,
   "metadata": {
    "ExecuteTime": {
     "end_time": "2021-04-05T10:53:46.380638Z",
     "start_time": "2021-04-05T10:53:46.307659Z"
    }
   },
   "outputs": [
    {
     "data": {
      "text/html": [
       "<div>\n",
       "<style scoped>\n",
       "    .dataframe tbody tr th:only-of-type {\n",
       "        vertical-align: middle;\n",
       "    }\n",
       "\n",
       "    .dataframe tbody tr th {\n",
       "        vertical-align: top;\n",
       "    }\n",
       "\n",
       "    .dataframe thead th {\n",
       "        text-align: right;\n",
       "    }\n",
       "</style>\n",
       "<table border=\"1\" class=\"dataframe\">\n",
       "  <thead>\n",
       "    <tr style=\"text-align: right;\">\n",
       "      <th></th>\n",
       "      <th>PC1</th>\n",
       "      <th>PC2</th>\n",
       "      <th>PC3</th>\n",
       "      <th>PC4</th>\n",
       "      <th>PC5</th>\n",
       "      <th>PC6</th>\n",
       "      <th>PC7</th>\n",
       "      <th>PC8</th>\n",
       "      <th>PC9</th>\n",
       "      <th>PC10</th>\n",
       "      <th>PC11</th>\n",
       "      <th>PC12</th>\n",
       "      <th>PC13</th>\n",
       "      <th>PC14</th>\n",
       "      <th>PC15</th>\n",
       "      <th>PC16</th>\n",
       "      <th>PC17</th>\n",
       "      <th>PC18</th>\n",
       "      <th>PC19</th>\n",
       "      <th>tenure</th>\n",
       "    </tr>\n",
       "  </thead>\n",
       "  <tbody>\n",
       "    <tr>\n",
       "      <th>0</th>\n",
       "      <td>-2249.949238</td>\n",
       "      <td>-15.399286</td>\n",
       "      <td>0.013108</td>\n",
       "      <td>-1.121957</td>\n",
       "      <td>0.310560</td>\n",
       "      <td>2.071569</td>\n",
       "      <td>0.132275</td>\n",
       "      <td>-0.573739</td>\n",
       "      <td>-0.536087</td>\n",
       "      <td>0.021436</td>\n",
       "      <td>-0.018417</td>\n",
       "      <td>-0.325611</td>\n",
       "      <td>-0.053427</td>\n",
       "      <td>-0.315280</td>\n",
       "      <td>-0.234229</td>\n",
       "      <td>-0.062617</td>\n",
       "      <td>-3.998095e-16</td>\n",
       "      <td>3.693959e-17</td>\n",
       "      <td>2.922484e-17</td>\n",
       "      <td>1</td>\n",
       "    </tr>\n",
       "    <tr>\n",
       "      <th>1</th>\n",
       "      <td>-343.336336</td>\n",
       "      <td>-4.843668</td>\n",
       "      <td>1.198897</td>\n",
       "      <td>-0.701238</td>\n",
       "      <td>1.703130</td>\n",
       "      <td>-0.885922</td>\n",
       "      <td>0.274738</td>\n",
       "      <td>0.543855</td>\n",
       "      <td>0.576525</td>\n",
       "      <td>-0.055202</td>\n",
       "      <td>0.101233</td>\n",
       "      <td>0.236564</td>\n",
       "      <td>0.788756</td>\n",
       "      <td>-0.261423</td>\n",
       "      <td>-0.207674</td>\n",
       "      <td>0.023318</td>\n",
       "      <td>-3.326105e-17</td>\n",
       "      <td>-5.657806e-17</td>\n",
       "      <td>-4.557332e-18</td>\n",
       "      <td>34</td>\n",
       "    </tr>\n",
       "    <tr>\n",
       "      <th>2</th>\n",
       "      <td>-2171.894470</td>\n",
       "      <td>7.900786</td>\n",
       "      <td>0.963824</td>\n",
       "      <td>0.109869</td>\n",
       "      <td>2.023840</td>\n",
       "      <td>1.281404</td>\n",
       "      <td>-0.478216</td>\n",
       "      <td>0.489537</td>\n",
       "      <td>-0.274124</td>\n",
       "      <td>0.623559</td>\n",
       "      <td>0.020466</td>\n",
       "      <td>0.631304</td>\n",
       "      <td>0.025380</td>\n",
       "      <td>0.270107</td>\n",
       "      <td>-0.207829</td>\n",
       "      <td>-0.051793</td>\n",
       "      <td>-1.992584e-14</td>\n",
       "      <td>4.288808e-15</td>\n",
       "      <td>-3.520518e-16</td>\n",
       "      <td>2</td>\n",
       "    </tr>\n",
       "    <tr>\n",
       "      <th>3</th>\n",
       "      <td>-376.261363</td>\n",
       "      <td>-19.215538</td>\n",
       "      <td>-1.772990</td>\n",
       "      <td>-0.817763</td>\n",
       "      <td>1.357039</td>\n",
       "      <td>-0.812044</td>\n",
       "      <td>0.064809</td>\n",
       "      <td>0.515784</td>\n",
       "      <td>-0.038812</td>\n",
       "      <td>-0.633096</td>\n",
       "      <td>-0.015904</td>\n",
       "      <td>-0.411984</td>\n",
       "      <td>0.451469</td>\n",
       "      <td>0.450047</td>\n",
       "      <td>0.058168</td>\n",
       "      <td>0.056143</td>\n",
       "      <td>6.679189e-15</td>\n",
       "      <td>2.359454e-15</td>\n",
       "      <td>1.878852e-15</td>\n",
       "      <td>45</td>\n",
       "    </tr>\n",
       "    <tr>\n",
       "      <th>4</th>\n",
       "      <td>-2138.050240</td>\n",
       "      <td>24.475624</td>\n",
       "      <td>0.048846</td>\n",
       "      <td>-0.532898</td>\n",
       "      <td>-0.246589</td>\n",
       "      <td>-0.188865</td>\n",
       "      <td>-0.000503</td>\n",
       "      <td>-0.500501</td>\n",
       "      <td>0.281227</td>\n",
       "      <td>0.676945</td>\n",
       "      <td>0.390620</td>\n",
       "      <td>0.158527</td>\n",
       "      <td>0.038881</td>\n",
       "      <td>0.341147</td>\n",
       "      <td>-0.259146</td>\n",
       "      <td>-0.072780</td>\n",
       "      <td>2.162971e-14</td>\n",
       "      <td>3.228406e-15</td>\n",
       "      <td>-9.048926e-16</td>\n",
       "      <td>2</td>\n",
       "    </tr>\n",
       "  </tbody>\n",
       "</table>\n",
       "</div>"
      ],
      "text/plain": [
       "           PC1        PC2       PC3       PC4       PC5       PC6       PC7  \\\n",
       "0 -2249.949238 -15.399286  0.013108 -1.121957  0.310560  2.071569  0.132275   \n",
       "1  -343.336336  -4.843668  1.198897 -0.701238  1.703130 -0.885922  0.274738   \n",
       "2 -2171.894470   7.900786  0.963824  0.109869  2.023840  1.281404 -0.478216   \n",
       "3  -376.261363 -19.215538 -1.772990 -0.817763  1.357039 -0.812044  0.064809   \n",
       "4 -2138.050240  24.475624  0.048846 -0.532898 -0.246589 -0.188865 -0.000503   \n",
       "\n",
       "        PC8       PC9      PC10      PC11      PC12      PC13      PC14  \\\n",
       "0 -0.573739 -0.536087  0.021436 -0.018417 -0.325611 -0.053427 -0.315280   \n",
       "1  0.543855  0.576525 -0.055202  0.101233  0.236564  0.788756 -0.261423   \n",
       "2  0.489537 -0.274124  0.623559  0.020466  0.631304  0.025380  0.270107   \n",
       "3  0.515784 -0.038812 -0.633096 -0.015904 -0.411984  0.451469  0.450047   \n",
       "4 -0.500501  0.281227  0.676945  0.390620  0.158527  0.038881  0.341147   \n",
       "\n",
       "       PC15      PC16          PC17          PC18          PC19  tenure  \n",
       "0 -0.234229 -0.062617 -3.998095e-16  3.693959e-17  2.922484e-17       1  \n",
       "1 -0.207674  0.023318 -3.326105e-17 -5.657806e-17 -4.557332e-18      34  \n",
       "2 -0.207829 -0.051793 -1.992584e-14  4.288808e-15 -3.520518e-16       2  \n",
       "3  0.058168  0.056143  6.679189e-15  2.359454e-15  1.878852e-15      45  \n",
       "4 -0.259146 -0.072780  2.162971e-14  3.228406e-15 -9.048926e-16       2  "
      ]
     },
     "execution_count": 65,
     "metadata": {},
     "output_type": "execute_result"
    }
   ],
   "source": [
    "PCA_regression_df = pd.concat([X_pca_regression, feature_tranformation_df['tenure']], axis=1)\n",
    "PCA_regression_df.head()"
   ]
  },
  {
   "cell_type": "markdown",
   "metadata": {},
   "source": [
    "##### Save PCA Value"
   ]
  },
  {
   "cell_type": "code",
   "execution_count": 66,
   "metadata": {
    "ExecuteTime": {
     "end_time": "2021-04-05T10:53:46.880484Z",
     "start_time": "2021-04-05T10:53:46.396812Z"
    }
   },
   "outputs": [],
   "source": [
    "PCA_regression_df.to_csv('../datasets/PCA_regression.csv', index=False)"
   ]
  },
  {
   "cell_type": "markdown",
   "metadata": {
    "ExecuteTime": {
     "end_time": "2021-03-21T13:25:23.036536Z",
     "start_time": "2021-03-21T13:25:23.026745Z"
    }
   },
   "source": [
    "## Feature Selection"
   ]
  },
  {
   "cell_type": "code",
   "execution_count": 67,
   "metadata": {
    "ExecuteTime": {
     "end_time": "2021-04-05T10:53:46.895566Z",
     "start_time": "2021-04-05T10:53:46.884572Z"
    }
   },
   "outputs": [],
   "source": [
    "feature_selection_df = feature_tranformation_df"
   ]
  },
  {
   "cell_type": "markdown",
   "metadata": {},
   "source": [
    "### Pearson Correlation"
   ]
  },
  {
   "cell_type": "code",
   "execution_count": 68,
   "metadata": {
    "ExecuteTime": {
     "end_time": "2021-04-05T10:53:51.516688Z",
     "start_time": "2021-04-05T10:53:46.899101Z"
    }
   },
   "outputs": [
    {
     "data": {
      "text/plain": [
       "<AxesSubplot:>"
      ]
     },
     "execution_count": 68,
     "metadata": {},
     "output_type": "execute_result"
    },
    {
     "data": {
      "image/png": "[encoded data removed]",
      "text/plain": [
       "<Figure size 1440x1440 with 2 Axes>"
      ]
     },
     "metadata": {},
     "output_type": "display_data"
    }
   ],
   "source": [
    "sns.set(rc={'figure.figsize':(20, 20)})\n",
    "sns.heatmap(feature_selection_df.corr(), annot=True)"
   ]
  },
  {
   "cell_type": "markdown",
   "metadata": {},
   "source": [
    "### Spearman Correlation (Non-Linier)"
   ]
  },
  {
   "cell_type": "code",
   "execution_count": 69,
   "metadata": {
    "ExecuteTime": {
     "end_time": "2021-04-05T10:54:05.467766Z",
     "start_time": "2021-04-05T10:53:51.540551Z"
    },
    "scrolled": false
   },
   "outputs": [
    {
     "data": {
      "text/plain": [
       "<AxesSubplot:>"
      ]
     },
     "execution_count": 69,
     "metadata": {},
     "output_type": "execute_result"
    },
    {
     "data": {
      "image/png": "[encoded data removed]",
      "text/plain": [
       "<Figure size 1440x1440 with 2 Axes>"
      ]
     },
     "metadata": {},
     "output_type": "display_data"
    }
   ],
   "source": [
    "sns.heatmap(feature_selection_df.corr('spearman'), annot=True)"
   ]
  },
  {
   "cell_type": "markdown",
   "metadata": {},
   "source": [
    "### Seleksi fitur untuk klasifikasi dengan target churn"
   ]
  },
  {
   "cell_type": "markdown",
   "metadata": {},
   "source": [
    "#### Mutual Information"
   ]
  },
  {
   "cell_type": "code",
   "execution_count": 70,
   "metadata": {
    "ExecuteTime": {
     "end_time": "2021-04-05T10:54:13.248702Z",
     "start_time": "2021-04-05T10:54:05.472003Z"
    },
    "scrolled": false
   },
   "outputs": [
    {
     "data": {
      "image/png": "[encoded data removed]",
      "text/plain": [
       "<Figure size 1440x1440 with 1 Axes>"
      ]
     },
     "metadata": {},
     "output_type": "display_data"
    }
   ],
   "source": [
    "X = feature_selection_df.iloc[:, 1:20]\n",
    "y = feature_selection_df.iloc[:, 20:21]\n",
    "importance = mutual_info_classif(X, np.ravel(y))\n",
    "\n",
    "feat_importance = pd.Series(importance, feature_selection_df.columns[0:19])\n",
    "feat_importance.sort_values(ascending=True).plot(kind='barh')\n",
    "plt.show()"
   ]
  },
  {
   "cell_type": "markdown",
   "metadata": {},
   "source": [
    "#### Seleksi fitur"
   ]
  },
  {
   "cell_type": "code",
   "execution_count": 71,
   "metadata": {
    "ExecuteTime": {
     "end_time": "2021-04-05T10:54:13.279396Z",
     "start_time": "2021-04-05T10:54:13.253621Z"
    }
   },
   "outputs": [],
   "source": [
    "feature_selection_classification_df = feature_tranformation_df[['streaming_movies', 'dependents', 'internet_service', 'device_protection', 'online_security', 'churn']]"
   ]
  },
  {
   "cell_type": "markdown",
   "metadata": {},
   "source": [
    "#### Save feature selection"
   ]
  },
  {
   "cell_type": "code",
   "execution_count": 72,
   "metadata": {
    "ExecuteTime": {
     "end_time": "2021-04-05T10:54:13.326489Z",
     "start_time": "2021-04-05T10:54:13.284440Z"
    }
   },
   "outputs": [],
   "source": [
    "feature_selection_classification_df.to_csv('../datasets/feature_engineering_classification_telco_customer_churn.csv', index=False)"
   ]
  },
  {
   "cell_type": "markdown",
   "metadata": {
    "ExecuteTime": {
     "end_time": "2021-03-30T08:46:37.117777Z",
     "start_time": "2021-03-30T08:46:37.097509Z"
    }
   },
   "source": [
    "### Seleksi fitur untuk regresi dengan target tenure"
   ]
  },
  {
   "cell_type": "markdown",
   "metadata": {},
   "source": [
    "#### Mutual Information"
   ]
  },
  {
   "cell_type": "code",
   "execution_count": 73,
   "metadata": {
    "ExecuteTime": {
     "end_time": "2021-04-05T10:54:19.861673Z",
     "start_time": "2021-04-05T10:54:13.331842Z"
    }
   },
   "outputs": [],
   "source": [
    "X = feature_selection_df.loc[:, ['gender', 'senior_citizen', 'partner', 'dependents',\n",
    "                                'phone_service', 'multiple_lines', 'internet_service', 'online_security',\n",
    "                                'online_backup', 'device_protection', 'tech_support', 'streaming_tv',\n",
    "                                'streaming_movies', 'contract', 'paperless_billing', 'payment_method',\n",
    "                                'monthly_charges', 'total_charges', 'churn']]\n",
    "\n",
    "y = feature_selection_df.loc[:, 'tenure']\n",
    "\n",
    "discrete_features = X.dtypes == int\n",
    "\n",
    "def make_mi_scores(X, y, discrete_features):\n",
    "    mi_scores = mutual_info_regression(X, y, discrete_features=discrete_features)\n",
    "    mi_scores = pd.Series(mi_scores, name=\"MI Scores\", index=X.columns)\n",
    "    mi_scores = mi_scores.sort_values(ascending=False)\n",
    "    return mi_scores\n",
    "\n",
    "mi_scores = make_mi_scores(X, y, discrete_features)"
   ]
  },
  {
   "cell_type": "code",
   "execution_count": 74,
   "metadata": {
    "ExecuteTime": {
     "end_time": "2021-04-05T10:54:20.896704Z",
     "start_time": "2021-04-05T10:54:19.864397Z"
    }
   },
   "outputs": [
    {
     "data": {
      "image/png": "[encoded data removed]",
      "text/plain": [
       "<Figure size 1440x1440 with 1 Axes>"
      ]
     },
     "metadata": {},
     "output_type": "display_data"
    }
   ],
   "source": [
    "def plot_mi_scores(scores):\n",
    "    scores = scores.sort_values(ascending=True)\n",
    "    width = np.arange(len(scores))\n",
    "    ticks = list(scores.index)\n",
    "    plt.barh(width, scores)\n",
    "    plt.yticks(width, ticks)\n",
    "    plt.title(\"Mutual Information Scores\")\n",
    "\n",
    "plt.figure()\n",
    "plot_mi_scores(mi_scores)"
   ]
  },
  {
   "cell_type": "markdown",
   "metadata": {
    "ExecuteTime": {
     "end_time": "2021-03-30T08:41:13.849056Z",
     "start_time": "2021-03-30T08:41:13.839987Z"
    }
   },
   "source": [
    "#### Seleksi fitur"
   ]
  },
  {
   "cell_type": "code",
   "execution_count": 75,
   "metadata": {
    "ExecuteTime": {
     "end_time": "2021-04-05T10:54:21.404993Z",
     "start_time": "2021-04-05T10:54:20.899547Z"
    }
   },
   "outputs": [],
   "source": [
    "feature_selection_regression_df = feature_tranformation_df[['total_charges', 'contract', 'monthly_charges', 'payment_method', 'tenure']]"
   ]
  },
  {
   "cell_type": "markdown",
   "metadata": {},
   "source": [
    "#### Save feature selection"
   ]
  },
  {
   "cell_type": "code",
   "execution_count": 76,
   "metadata": {
    "ExecuteTime": {
     "end_time": "2021-04-05T10:54:22.932341Z",
     "start_time": "2021-04-05T10:54:21.432767Z"
    }
   },
   "outputs": [],
   "source": [
    "feature_selection_regression_df.to_csv('../datasets/feature_engineering_regression_telco_customer_churn.csv', index=False)"
   ]
  },
  {
   "cell_type": "markdown",
   "metadata": {},
   "source": [
    "# Split dataset"
   ]
  },
  {
   "cell_type": "markdown",
   "metadata": {},
   "source": [
    "## EDA\n"
   ]
  },
  {
   "cell_type": "markdown",
   "metadata": {
    "ExecuteTime": {
     "end_time": "2021-03-29T03:53:59.599355Z",
     "start_time": "2021-03-29T03:53:59.579633Z"
    }
   },
   "source": [
    "### Split feature and target"
   ]
  },
  {
   "cell_type": "code",
   "execution_count": 77,
   "metadata": {
    "ExecuteTime": {
     "end_time": "2021-04-05T10:54:23.266718Z",
     "start_time": "2021-04-05T10:54:22.945142Z"
    }
   },
   "outputs": [],
   "source": [
    "EDA_df = pd.read_csv('../datasets/EDA_df.csv')\n",
    "X_EDA = EDA_df.iloc[:, 0:20]\n",
    "y_EDA = EDA_df.iloc[:, 20:21]\n",
    "\n",
    "X_EDA_train, X_EDA_test, y_EDA_train, y_EDA_test = train_test_split(X_EDA, y_EDA, test_size=0.2, random_state=42)"
   ]
  },
  {
   "cell_type": "markdown",
   "metadata": {},
   "source": [
    "### Show composition train and test dataset"
   ]
  },
  {
   "cell_type": "code",
   "execution_count": 78,
   "metadata": {
    "ExecuteTime": {
     "end_time": "2021-04-05T10:54:23.335402Z",
     "start_time": "2021-04-05T10:54:23.288146Z"
    }
   },
   "outputs": [
    {
     "name": "stdout",
     "output_type": "stream",
     "text": [
      "Train dataset\n",
      "X_EDA_train: (5634, 20)\n",
      "y_EDA_train: (5634, 1)\n",
      "\n",
      "Test dataset\n",
      "X_EDA_test: (1409, 20)\n",
      "y_EDA_test: (1409, 1)\n"
     ]
    }
   ],
   "source": [
    "print(f'Train dataset')\n",
    "print(f'X_EDA_train: {X_EDA_train.shape}')\n",
    "print(f'y_EDA_train: {y_EDA_train.shape}')\n",
    "\n",
    "print(f'\\nTest dataset')\n",
    "print(f'X_EDA_test: {X_EDA_test.shape}')\n",
    "print(f'y_EDA_test: {y_EDA_test.shape}')"
   ]
  },
  {
   "cell_type": "markdown",
   "metadata": {},
   "source": [
    "### Concate X_train and y_train / X_test and y_test"
   ]
  },
  {
   "cell_type": "code",
   "execution_count": 79,
   "metadata": {
    "ExecuteTime": {
     "end_time": "2021-04-05T10:54:23.414531Z",
     "start_time": "2021-04-05T10:54:23.356858Z"
    }
   },
   "outputs": [],
   "source": [
    "EDA_train_df = pd.concat([X_EDA_train, y_EDA_train], axis=1)\n",
    "EDA_test_df  = pd.concat([X_EDA_test, y_EDA_test], axis=1)"
   ]
  },
  {
   "cell_type": "markdown",
   "metadata": {},
   "source": [
    "### Save train and test dataset"
   ]
  },
  {
   "cell_type": "code",
   "execution_count": 80,
   "metadata": {
    "ExecuteTime": {
     "end_time": "2021-04-05T10:54:24.158021Z",
     "start_time": "2021-04-05T10:54:23.440949Z"
    }
   },
   "outputs": [],
   "source": [
    "EDA_train_df.to_csv('../datasets/train/EDA_train.csv', index=False)\n",
    "EDA_test_df.to_csv('../datasets/test/EDA_test.csv', index=False)"
   ]
  },
  {
   "cell_type": "markdown",
   "metadata": {},
   "source": [
    "## Feature Engineering"
   ]
  },
  {
   "cell_type": "markdown",
   "metadata": {},
   "source": [
    "### Classification model"
   ]
  },
  {
   "cell_type": "markdown",
   "metadata": {},
   "source": [
    "#### Split dataset to X and y"
   ]
  },
  {
   "cell_type": "code",
   "execution_count": 81,
   "metadata": {
    "ExecuteTime": {
     "end_time": "2021-04-05T10:54:27.177173Z",
     "start_time": "2021-04-05T10:54:24.181179Z"
    }
   },
   "outputs": [],
   "source": [
    "feature_engineering_classification = pd.read_csv('../datasets/feature_engineering_classification_telco_customer_churn.csv')\n",
    "X = feature_engineering_classification.iloc[:, 0:5]\n",
    "y = feature_engineering_classification.iloc[:, 5:6]\n",
    "\n",
    "X_feature_engineering_classification_train, X_feature_engineering_classification_test, y_feature_engineering_classification_train, y_feature_engineering_classification_test = train_test_split(X, y, test_size=0.2, random_state=42)"
   ]
  },
  {
   "cell_type": "markdown",
   "metadata": {},
   "source": [
    "#### Show composition train and test dataset"
   ]
  },
  {
   "cell_type": "code",
   "execution_count": 82,
   "metadata": {
    "ExecuteTime": {
     "end_time": "2021-04-05T10:54:27.208424Z",
     "start_time": "2021-04-05T10:54:27.179537Z"
    }
   },
   "outputs": [
    {
     "name": "stdout",
     "output_type": "stream",
     "text": [
      "Train dataset\n",
      "X_feature_engineering_train: (5634, 5)\n",
      "y_feature_engineering_train: (5634, 1)\n",
      "\n",
      "Test dataset\n",
      "X_feature_engineering_test: (1409, 5)\n",
      "y_feature_engineering_test: (1409, 1)\n"
     ]
    }
   ],
   "source": [
    "print(f'Train dataset')\n",
    "print(f'X_feature_engineering_train: {X_feature_engineering_classification_train.shape}')\n",
    "print(f'y_feature_engineering_train: {y_feature_engineering_classification_train.shape}')\n",
    "\n",
    "print(f'\\nTest dataset')\n",
    "print(f'X_feature_engineering_test: {X_feature_engineering_classification_test.shape}')\n",
    "print(f'y_feature_engineering_test: {y_feature_engineering_classification_test.shape}')"
   ]
  },
  {
   "cell_type": "markdown",
   "metadata": {},
   "source": [
    "#### Concate X_train and y_train / X_test and y_test"
   ]
  },
  {
   "cell_type": "code",
   "execution_count": 83,
   "metadata": {
    "ExecuteTime": {
     "end_time": "2021-04-05T10:54:27.722879Z",
     "start_time": "2021-04-05T10:54:27.212941Z"
    }
   },
   "outputs": [],
   "source": [
    "feature_engineering_classification_train_df = pd.concat([X_feature_engineering_classification_train, y_feature_engineering_classification_train], axis=1)\n",
    "feature_engineering_classification_test_df  = pd.concat([X_feature_engineering_classification_test, y_feature_engineering_classification_test], axis=1)"
   ]
  },
  {
   "cell_type": "markdown",
   "metadata": {
    "ExecuteTime": {
     "end_time": "2021-03-29T06:01:28.081880Z",
     "start_time": "2021-03-29T06:01:28.065989Z"
    }
   },
   "source": [
    "#### Save train and test dataset"
   ]
  },
  {
   "cell_type": "code",
   "execution_count": 84,
   "metadata": {
    "ExecuteTime": {
     "end_time": "2021-04-05T10:54:27.813477Z",
     "start_time": "2021-04-05T10:54:27.729980Z"
    }
   },
   "outputs": [],
   "source": [
    "feature_engineering_classification_train_df.to_csv('../datasets/train/feature_engineering_classification_train.csv', index=False)\n",
    "feature_engineering_classification_test_df.to_csv('../datasets/test/feature_engineering_classification_test.csv', index=False)"
   ]
  },
  {
   "cell_type": "markdown",
   "metadata": {},
   "source": [
    "### Regression Model"
   ]
  },
  {
   "cell_type": "markdown",
   "metadata": {},
   "source": [
    "#### Split dataset to X and y"
   ]
  },
  {
   "cell_type": "code",
   "execution_count": 85,
   "metadata": {
    "ExecuteTime": {
     "end_time": "2021-04-05T10:54:27.937007Z",
     "start_time": "2021-04-05T10:54:27.819130Z"
    }
   },
   "outputs": [],
   "source": [
    "feature_engineering_regression = pd.read_csv('../datasets/feature_engineering_regression_telco_customer_churn.csv')\n",
    "X = feature_engineering_regression.iloc[:, 0:4]\n",
    "y = feature_engineering_regression.iloc[:, 4:5]\n",
    "\n",
    "X_feature_engineering_regression_train, X_feature_engineering_regression_test, y_feature_engineering_regression_train, y_feature_engineering_regression_test = train_test_split(X, y, test_size=0.2, random_state=42)"
   ]
  },
  {
   "cell_type": "markdown",
   "metadata": {},
   "source": [
    "####  Show composition train and test dataset"
   ]
  },
  {
   "cell_type": "code",
   "execution_count": 86,
   "metadata": {
    "ExecuteTime": {
     "end_time": "2021-04-05T10:54:27.969568Z",
     "start_time": "2021-04-05T10:54:27.943044Z"
    }
   },
   "outputs": [
    {
     "name": "stdout",
     "output_type": "stream",
     "text": [
      "Train dataset\n",
      "X_feature_engineering_train: (5634, 4)\n",
      "y_feature_engineering_train: (5634, 1)\n",
      "\n",
      "Test dataset\n",
      "X_feature_engineering_test: (1409, 4)\n",
      "y_feature_engineering_test: (1409, 1)\n"
     ]
    }
   ],
   "source": [
    "print(f'Train dataset')\n",
    "print(f'X_feature_engineering_train: {X_feature_engineering_regression_train.shape}')\n",
    "print(f'y_feature_engineering_train: {y_feature_engineering_regression_train.shape}')\n",
    "\n",
    "print(f'\\nTest dataset')\n",
    "print(f'X_feature_engineering_test: {X_feature_engineering_regression_test.shape}')\n",
    "print(f'y_feature_engineering_test: {y_feature_engineering_regression_test.shape}')"
   ]
  },
  {
   "cell_type": "markdown",
   "metadata": {},
   "source": [
    "#### Concate X_train and y_train / X_test and y_test"
   ]
  },
  {
   "cell_type": "code",
   "execution_count": 87,
   "metadata": {
    "ExecuteTime": {
     "end_time": "2021-04-05T10:54:28.005206Z",
     "start_time": "2021-04-05T10:54:27.969568Z"
    }
   },
   "outputs": [],
   "source": [
    "feature_engineering_regression_train_df = pd.concat([X_feature_engineering_regression_train, y_feature_engineering_regression_train], axis=1)\n",
    "feature_engineering_regression_test_df  = pd.concat([X_feature_engineering_regression_test, y_feature_engineering_regression_test], axis=1)"
   ]
  },
  {
   "cell_type": "markdown",
   "metadata": {},
   "source": [
    "#### Save train and test dataset"
   ]
  },
  {
   "cell_type": "code",
   "execution_count": 88,
   "metadata": {
    "ExecuteTime": {
     "end_time": "2021-04-05T10:54:28.798316Z",
     "start_time": "2021-04-05T10:54:28.010097Z"
    }
   },
   "outputs": [],
   "source": [
    "feature_engineering_regression_train_df.to_csv('../datasets/train/feature_engineering_regression_train.csv', index=False)\n",
    "feature_engineering_regression_test_df.to_csv('../datasets/test/feature_engineering_regression_test.csv', index=False)"
   ]
  },
  {
   "cell_type": "markdown",
   "metadata": {},
   "source": [
    "## PCA"
   ]
  },
  {
   "cell_type": "markdown",
   "metadata": {},
   "source": [
    "### Classification model"
   ]
  },
  {
   "cell_type": "code",
   "execution_count": 89,
   "metadata": {
    "ExecuteTime": {
     "end_time": "2021-04-05T10:54:32.445721Z",
     "start_time": "2021-04-05T10:54:28.799363Z"
    }
   },
   "outputs": [],
   "source": [
    "PCA_classification_df = pd.read_csv('../datasets/PCA_classification.csv')\n",
    "X_PCA_classification = PCA_classification_df.iloc[:, 0:19]\n",
    "y_PCA_classification = PCA_classification_df.iloc[:, 19:20]\n",
    "\n",
    "X_PCA_classification_train, X_PCA_classification_test, y_PCA_classification_train, y_PCA_classification_test = train_test_split(X_PCA_classification, y_PCA_classification, test_size=0.2, random_state=42)"
   ]
  },
  {
   "cell_type": "markdown",
   "metadata": {},
   "source": [
    "#### Show composition train and test dataset"
   ]
  },
  {
   "cell_type": "code",
   "execution_count": 90,
   "metadata": {
    "ExecuteTime": {
     "end_time": "2021-04-05T10:54:32.476579Z",
     "start_time": "2021-04-05T10:54:32.451198Z"
    }
   },
   "outputs": [
    {
     "name": "stdout",
     "output_type": "stream",
     "text": [
      "Train dataset\n",
      "X_EDA_train: (5634, 19)\n",
      "y_EDA_train: (5634, 1)\n",
      "\n",
      "Test dataset\n",
      "X_EDA_test: (1409, 19)\n",
      "y_EDA_test: (1409, 1)\n"
     ]
    }
   ],
   "source": [
    "print(f'Train dataset')\n",
    "print(f'X_EDA_train: {X_PCA_classification_train.shape}')\n",
    "print(f'y_EDA_train: {y_PCA_classification_train.shape}')\n",
    "\n",
    "print(f'\\nTest dataset')\n",
    "print(f'X_EDA_test: {X_PCA_classification_test.shape}')\n",
    "print(f'y_EDA_test: {y_PCA_classification_test.shape}')"
   ]
  },
  {
   "cell_type": "markdown",
   "metadata": {},
   "source": [
    "#### Concate X_train and y_train / X_test and y_test"
   ]
  },
  {
   "cell_type": "code",
   "execution_count": 91,
   "metadata": {
    "ExecuteTime": {
     "end_time": "2021-04-05T10:54:32.492100Z",
     "start_time": "2021-04-05T10:54:32.478584Z"
    }
   },
   "outputs": [],
   "source": [
    "PCA_classification_train_df = pd.concat([X_PCA_classification_train, y_PCA_classification_train], axis=1)\n",
    "PCA_classification_test_df  = pd.concat([X_PCA_classification_test, y_PCA_classification_test], axis=1)"
   ]
  },
  {
   "cell_type": "markdown",
   "metadata": {},
   "source": [
    "#### Save train and test dataset"
   ]
  },
  {
   "cell_type": "code",
   "execution_count": 92,
   "metadata": {
    "ExecuteTime": {
     "end_time": "2021-04-05T10:54:33.772068Z",
     "start_time": "2021-04-05T10:54:32.495726Z"
    }
   },
   "outputs": [],
   "source": [
    "PCA_classification_train_df.to_csv('../datasets/train/PCA_classification_train.csv', index=False)\n",
    "PCA_classification_test_df.to_csv('../datasets/test/PCA_classification_test.csv', index=False)"
   ]
  },
  {
   "cell_type": "markdown",
   "metadata": {},
   "source": [
    "### Regression Model"
   ]
  },
  {
   "cell_type": "code",
   "execution_count": 93,
   "metadata": {
    "ExecuteTime": {
     "end_time": "2021-04-05T10:54:35.677150Z",
     "start_time": "2021-04-05T10:54:33.782111Z"
    }
   },
   "outputs": [],
   "source": [
    "PCA_regression_df = pd.read_csv('../datasets/PCA_regression.csv')\n",
    "X_PCA_regression = PCA_regression_df.iloc[:, 0:19]\n",
    "y_PCA_regression = PCA_regression_df.iloc[:, 19:20]\n",
    "\n",
    "X_PCA_regression_train, X_PCA_regression_test, y_PCA_regression_train, y_PCA_regression_test = train_test_split(X_PCA_regression, y_PCA_regression, test_size=0.2, random_state=42)"
   ]
  },
  {
   "cell_type": "markdown",
   "metadata": {},
   "source": [
    "#### Show composition train and test dataset"
   ]
  },
  {
   "cell_type": "code",
   "execution_count": 94,
   "metadata": {
    "ExecuteTime": {
     "end_time": "2021-04-05T10:54:35.694237Z",
     "start_time": "2021-04-05T10:54:35.681011Z"
    }
   },
   "outputs": [
    {
     "name": "stdout",
     "output_type": "stream",
     "text": [
      "Train dataset\n",
      "X_EDA_train: (5634, 19)\n",
      "y_EDA_train: (5634, 1)\n",
      "\n",
      "Test dataset\n",
      "X_EDA_test: (1409, 19)\n",
      "y_EDA_test: (1409, 1)\n"
     ]
    }
   ],
   "source": [
    "print(f'Train dataset')\n",
    "print(f'X_EDA_train: {X_PCA_regression_train.shape}')\n",
    "print(f'y_EDA_train: {y_PCA_regression_train.shape}')\n",
    "\n",
    "print(f'\\nTest dataset')\n",
    "print(f'X_EDA_test: {X_PCA_regression_test.shape}')\n",
    "print(f'y_EDA_test: {y_PCA_regression_test.shape}')"
   ]
  },
  {
   "cell_type": "markdown",
   "metadata": {},
   "source": [
    "#### Concate X_train and y_train / X_test and y_test"
   ]
  },
  {
   "cell_type": "code",
   "execution_count": 95,
   "metadata": {
    "ExecuteTime": {
     "end_time": "2021-04-05T10:54:35.732996Z",
     "start_time": "2021-04-05T10:54:35.700152Z"
    }
   },
   "outputs": [],
   "source": [
    "PCA_regression_train_df = pd.concat([X_PCA_regression_train, y_PCA_regression_train], axis=1)\n",
    "PCA_regression_test_df  = pd.concat([X_PCA_regression_test, y_PCA_regression_test], axis=1)"
   ]
  },
  {
   "cell_type": "markdown",
   "metadata": {},
   "source": [
    "#### Save train and test dataset"
   ]
  },
  {
   "cell_type": "code",
   "execution_count": 96,
   "metadata": {
    "ExecuteTime": {
     "end_time": "2021-04-05T10:54:36.524454Z",
     "start_time": "2021-04-05T10:54:35.739271Z"
    }
   },
   "outputs": [],
   "source": [
    "PCA_regression_train_df.to_csv('../datasets/train/PCA_regression_train.csv', index=False)\n",
    "PCA_regression_test_df.to_csv('../datasets/test/PCA_regression_test.csv', index=False)"
   ]
  }
 ],
 "metadata": {
  "celltoolbar": "Slideshow",
  "kernelspec": {
   "display_name": "Python 3",
   "language": "python",
   "name": "python3"
  },
  "language_info": {
   "codemirror_mode": {
    "name": "ipython",
    "version": 3
   },
   "file_extension": ".py",
   "mimetype": "text/x-python",
   "name": "python",
   "nbconvert_exporter": "python",
   "pygments_lexer": "ipython3",
   "version": "3.8.5"
  },
  "toc": {
   "base_numbering": 1,
   "nav_menu": {},
   "number_sections": true,
   "sideBar": true,
   "skip_h1_title": false,
   "title_cell": "Table of Contents",
   "title_sidebar": "Contents",
   "toc_cell": false,
   "toc_position": {
    "height": "calc(100% - 180px)",
    "left": "10px",
    "top": "150px",
    "width": "374.667px"
   },
   "toc_section_display": true,
   "toc_window_display": true
  }
 },
 "nbformat": 4,
 "nbformat_minor": 4
}
