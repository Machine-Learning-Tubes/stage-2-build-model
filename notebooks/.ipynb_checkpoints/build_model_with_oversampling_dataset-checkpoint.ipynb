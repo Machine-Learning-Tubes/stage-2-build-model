{
 "cells": [
  {
   "cell_type": "markdown",
   "metadata": {
    "slideshow": {
     "slide_type": "slide"
    }
   },
   "source": [
    "# Descriptions\n",
    "- Prediksi yang dilakukan adalah klasifikasi untuk target churn (1-Yes atau 0-No) dan regresi untuk target tenure.\n",
    "- Prediksi klasifikasi menggunakan model machine learning decision tree classifier.\n",
    "- Prediksi regresi menggunakan model machine learning decision tree regressor."
   ]
  },
  {
   "cell_type": "markdown",
   "metadata": {
    "slideshow": {
     "slide_type": "slide"
    }
   },
   "source": [
    "# Import modules"
   ]
  },
  {
   "cell_type": "code",
   "execution_count": 1,
   "metadata": {
    "ExecuteTime": {
     "end_time": "2021-04-11T02:53:54.015256Z",
     "start_time": "2021-04-11T02:53:52.079352Z"
    }
   },
   "outputs": [],
   "source": [
    "import graphviz\n",
    "import numpy as np\n",
    "import pandas as pd\n",
    "import matplotlib.pyplot as plt\n",
    "\n",
    "from sklearn import tree\n",
    "from sklearn.tree import DecisionTreeRegressor\n",
    "from sklearn.tree import DecisionTreeClassifier\n",
    "\n",
    "from sklearn.metrics import r2_score\n",
    "from sklearn.metrics import f1_score\n",
    "from sklearn.metrics import roc_curve\n",
    "from sklearn.metrics import recall_score\n",
    "from sklearn.metrics import roc_auc_score\n",
    "from sklearn.metrics import accuracy_score\n",
    "from sklearn.metrics import precision_score\n",
    "from sklearn.metrics import confusion_matrix\n",
    "from sklearn.metrics import mean_squared_error\n",
    "from sklearn.metrics import mean_absolute_error\n",
    "from sklearn.metrics import classification_report\n",
    "from sklearn.metrics import precision_recall_curve\n",
    "from sklearn.metrics import explained_variance_score\n",
    "\n",
    "from sklearn.model_selection import learning_curve\n",
    "from sklearn.model_selection import cross_val_score\n",
    "from sklearn.model_selection import validation_curve\n",
    "from sklearn.model_selection import cross_val_predict"
   ]
  },
  {
   "cell_type": "markdown",
   "metadata": {
    "slideshow": {
     "slide_type": "slide"
    }
   },
   "source": [
    "# Initialize and load dataset\n",
    "Terdapat tiga dataset, antara lain:\n",
    "- EDA dataset, yaitu dataset yang telah bersih dari outlier, missing, duplikat, dan mismatch. Siap digunakan untuk eksplorasi.\n",
    "- Feature engineering dataset, yaitu dataset hasil dari feature engineering yang meliputi, feature transformation, feature extraction, dan feture selection. Dataset terbagi lagi atas 2, yaitu untuk model classification dan model regression.\n",
    "- PCA dataset adalah hasil reduki fitur menggunakan metode PCA (Principal Component Analysis)."
   ]
  },
  {
   "cell_type": "markdown",
   "metadata": {
    "ExecuteTime": {
     "end_time": "2021-03-29T03:36:12.260462Z",
     "start_time": "2021-03-29T03:36:12.250714Z"
    },
    "slideshow": {
     "slide_type": "slide"
    }
   },
   "source": [
    "## EDA"
   ]
  },
  {
   "cell_type": "code",
   "execution_count": 2,
   "metadata": {
    "ExecuteTime": {
     "end_time": "2021-04-11T02:53:54.062122Z",
     "start_time": "2021-04-11T02:53:54.015256Z"
    }
   },
   "outputs": [],
   "source": [
    "EDA_train_df = pd.read_csv('../datasets/oversampling/train/EDA_train.csv')\n",
    "EDA_test_df  = pd.read_csv('../datasets/oversampling/test/EDA_test.csv')"
   ]
  },
  {
   "cell_type": "markdown",
   "metadata": {
    "slideshow": {
     "slide_type": "-"
    }
   },
   "source": [
    "### Classification - Split dataset to X_train and y_train / X_test and y_test"
   ]
  },
  {
   "cell_type": "code",
   "execution_count": 3,
   "metadata": {
    "ExecuteTime": {
     "end_time": "2021-04-11T02:53:54.077676Z",
     "start_time": "2021-04-11T02:53:54.062122Z"
    }
   },
   "outputs": [],
   "source": [
    "X_EDA_classification_train = EDA_train_df.iloc[:, 1:27]\n",
    "y_EDA_classification_train = EDA_train_df.iloc[:, 27:28]\n",
    "X_EDA_classification_test  = EDA_test_df.iloc[:, 1:27]\n",
    "y_EDA_classification_test  = EDA_test_df.iloc[:, 27:28]"
   ]
  },
  {
   "cell_type": "markdown",
   "metadata": {
    "slideshow": {
     "slide_type": "-"
    }
   },
   "source": [
    "### Regression - Split dataset to X_train and y_train / X_test and y_test"
   ]
  },
  {
   "cell_type": "code",
   "execution_count": 4,
   "metadata": {
    "ExecuteTime": {
     "end_time": "2021-04-11T02:53:54.093262Z",
     "start_time": "2021-04-11T02:53:54.077676Z"
    }
   },
   "outputs": [],
   "source": [
    "X_EDA_regression_train = EDA_train_df.loc[:, ['gender', 'senior_citizen', 'partner', 'dependents',\n",
    "                                               'phone_service', 'multiple_lines', 'online_security', 'online_backup',\n",
    "                                               'device_protection', 'tech_support', 'streaming_tv', 'streaming_movies',\n",
    "                                               'paperless_billing', 'internet_service_DSL', 'internet_service_fiber_optic',\n",
    "                                               'no_internet_service', 'contract_month_to_month', 'contract_one_year', 'contract_two_year',\n",
    "                                               'payment_method_bank_transfer_automatic', 'payment_method_credit_card_automatic',\n",
    "                                               'payment_method_electronic_check', 'payment_method_mailed_check',\n",
    "                                               'monthly_charges', 'total_charges', 'churn']]\n",
    "                                          \n",
    "y_EDA_regression_train = EDA_train_df.loc[:, 'tenure']\n",
    "\n",
    "X_EDA_regression_test  = EDA_test_df.loc[:, ['gender', 'senior_citizen', 'partner', 'dependents',\n",
    "                                             'phone_service', 'multiple_lines', 'online_security', 'online_backup',\n",
    "                                             'device_protection', 'tech_support', 'streaming_tv', 'streaming_movies',\n",
    "                                             'paperless_billing', 'internet_service_DSL', 'internet_service_fiber_optic',\n",
    "                                             'no_internet_service', 'contract_month_to_month', 'contract_one_year', 'contract_two_year',\n",
    "                                             'payment_method_bank_transfer_automatic', 'payment_method_credit_card_automatic',\n",
    "                                             'payment_method_electronic_check', 'payment_method_mailed_check',\n",
    "                                             'monthly_charges', 'total_charges', 'churn']]\n",
    "\n",
    "y_EDA_regression_test  = EDA_test_df.loc[:, 'tenure']"
   ]
  },
  {
   "cell_type": "markdown",
   "metadata": {
    "slideshow": {
     "slide_type": "slide"
    }
   },
   "source": [
    "## Feature Engineering"
   ]
  },
  {
   "cell_type": "markdown",
   "metadata": {},
   "source": [
    "### Classification Model"
   ]
  },
  {
   "cell_type": "code",
   "execution_count": 5,
   "metadata": {
    "ExecuteTime": {
     "end_time": "2021-04-11T02:53:54.115527Z",
     "start_time": "2021-04-11T02:53:54.093262Z"
    }
   },
   "outputs": [],
   "source": [
    "feature_engineering_classification_train_df = pd.read_csv('../datasets/oversampling/train/feature_engineering_classification_train.csv')\n",
    "feature_engineering_classification_test_df  = pd.read_csv('../datasets/oversampling/test/feature_engineering_classification_test.csv')"
   ]
  },
  {
   "cell_type": "markdown",
   "metadata": {},
   "source": [
    "#### Split dataset to X_train and y_train / X_test and y_test "
   ]
  },
  {
   "cell_type": "code",
   "execution_count": 6,
   "metadata": {
    "ExecuteTime": {
     "end_time": "2021-04-11T02:53:54.131039Z",
     "start_time": "2021-04-11T02:53:54.115527Z"
    }
   },
   "outputs": [],
   "source": [
    "X_feature_engineering_classification_train = feature_engineering_classification_train_df.iloc[:, 0:5]\n",
    "y_feature_engineering_classification_train = feature_engineering_classification_train_df.iloc[:, 5:6]\n",
    "X_feature_engineering_classification_test  = feature_engineering_classification_test_df.iloc[:, 0:5]\n",
    "y_feature_engineering_classification_test  = feature_engineering_classification_test_df.iloc[:, 5:6]"
   ]
  },
  {
   "cell_type": "markdown",
   "metadata": {
    "slideshow": {
     "slide_type": "subslide"
    }
   },
   "source": [
    "### Regression Model"
   ]
  },
  {
   "cell_type": "code",
   "execution_count": 7,
   "metadata": {
    "ExecuteTime": {
     "end_time": "2021-04-11T02:53:54.162317Z",
     "start_time": "2021-04-11T02:53:54.131039Z"
    }
   },
   "outputs": [],
   "source": [
    "feature_engineering_regression_train_df = pd.read_csv('../datasets/oversampling/train/feature_engineering_regression_train.csv')\n",
    "feature_engineering_regression_test_df  = pd.read_csv('../datasets/oversampling/test/feature_engineering_regression_test.csv')"
   ]
  },
  {
   "cell_type": "markdown",
   "metadata": {},
   "source": [
    "#### Split dataset to X_train and y_train / X_test and y_test"
   ]
  },
  {
   "cell_type": "code",
   "execution_count": 8,
   "metadata": {
    "ExecuteTime": {
     "end_time": "2021-04-11T02:53:54.177946Z",
     "start_time": "2021-04-11T02:53:54.162317Z"
    }
   },
   "outputs": [],
   "source": [
    "X_feature_engineering_regression_train = feature_engineering_regression_train_df.iloc[:, 0:5]\n",
    "y_feature_engineering_regression_train = feature_engineering_regression_train_df.iloc[:, 5:6]\n",
    "X_feature_engineering_regression_test  = feature_engineering_regression_test_df.iloc[:, 0:5]\n",
    "y_feature_engineering_regression_test  = feature_engineering_regression_test_df.iloc[:, 5:6]"
   ]
  },
  {
   "cell_type": "markdown",
   "metadata": {
    "slideshow": {
     "slide_type": "slide"
    }
   },
   "source": [
    "## PCA"
   ]
  },
  {
   "cell_type": "markdown",
   "metadata": {},
   "source": [
    "### Classification Model"
   ]
  },
  {
   "cell_type": "code",
   "execution_count": 9,
   "metadata": {
    "ExecuteTime": {
     "end_time": "2021-04-11T02:53:54.293929Z",
     "start_time": "2021-04-11T02:53:54.177946Z"
    }
   },
   "outputs": [],
   "source": [
    "PCA_classification_train_df = pd.read_csv('../datasets/oversampling/train/PCA_classification_train.csv')\n",
    "PCA_classification_test_df  = pd.read_csv('../datasets/oversampling/test/PCA_classification_test.csv')"
   ]
  },
  {
   "cell_type": "markdown",
   "metadata": {},
   "source": [
    "#### Split dataset to X_train and y_train / X_test and y_test"
   ]
  },
  {
   "cell_type": "code",
   "execution_count": 10,
   "metadata": {
    "ExecuteTime": {
     "end_time": "2021-04-11T02:53:54.316078Z",
     "start_time": "2021-04-11T02:53:54.293929Z"
    }
   },
   "outputs": [],
   "source": [
    "X_PCA_classification_train = PCA_classification_train_df.iloc[:, 0:1]\n",
    "y_PCA_classification_train = PCA_classification_train_df.iloc[:, 26:27]\n",
    "X_PCA_classification_test  = PCA_classification_test_df.iloc[:, 0:1]\n",
    "y_PCA_classification_test  = PCA_classification_test_df.iloc[:, 26:27]"
   ]
  },
  {
   "cell_type": "markdown",
   "metadata": {
    "slideshow": {
     "slide_type": "subslide"
    }
   },
   "source": [
    "### Regression Model"
   ]
  },
  {
   "cell_type": "code",
   "execution_count": 11,
   "metadata": {
    "ExecuteTime": {
     "end_time": "2021-04-11T02:53:54.432039Z",
     "start_time": "2021-04-11T02:53:54.316078Z"
    }
   },
   "outputs": [],
   "source": [
    "PCA_regression_train_df = pd.read_csv('../datasets/oversampling/train/PCA_regression_train.csv')\n",
    "PCA_regression_test_df  = pd.read_csv('../datasets/oversampling/test/PCA_regression_test.csv')"
   ]
  },
  {
   "cell_type": "markdown",
   "metadata": {
    "ExecuteTime": {
     "end_time": "2021-03-31T02:06:37.541709Z",
     "start_time": "2021-03-31T02:06:37.531686Z"
    }
   },
   "source": [
    "#### Split dataset to X_train and y_train / X_test and y_test"
   ]
  },
  {
   "cell_type": "code",
   "execution_count": 12,
   "metadata": {
    "ExecuteTime": {
     "end_time": "2021-04-11T02:53:54.447633Z",
     "start_time": "2021-04-11T02:53:54.432039Z"
    }
   },
   "outputs": [],
   "source": [
    "X_PCA_regression_train = PCA_regression_train_df.iloc[:, 0:2]\n",
    "y_PCA_regression_train = PCA_regression_train_df.iloc[:, 26:27]\n",
    "X_PCA_regression_test  = PCA_regression_test_df.iloc[:, 0:2]\n",
    "y_PCA_regression_test  = PCA_regression_test_df.iloc[:, 26:27]"
   ]
  },
  {
   "cell_type": "markdown",
   "metadata": {
    "ExecuteTime": {
     "end_time": "2021-03-29T03:31:00.351696Z",
     "start_time": "2021-03-29T03:31:00.331425Z"
    },
    "slideshow": {
     "slide_type": "slide"
    }
   },
   "source": [
    "# Build model"
   ]
  },
  {
   "cell_type": "markdown",
   "metadata": {},
   "source": [
    "## Decision Tree\n",
    "- Menggunakan hyperparameter max_dept = 20 dan criterion = entropy, sesuai dengan referensi dari jurnal yang digunakan (Customer churn prediction in telecom using machine learning in big data platform - Abdelrahim Kasem Ahmad and Assef Jafar and Kadan Aljoumaa).\n",
    "- Menggunakan hyperparameter max_depth, berdasarkan validation curve."
   ]
  },
  {
   "cell_type": "markdown",
   "metadata": {
    "slideshow": {
     "slide_type": "subslide"
    }
   },
   "source": [
    "### EDA Dataset"
   ]
  },
  {
   "cell_type": "markdown",
   "metadata": {
    "ExecuteTime": {
     "end_time": "2021-03-30T16:09:59.115223Z",
     "start_time": "2021-03-30T16:09:59.096646Z"
    }
   },
   "source": [
    "#### Classification"
   ]
  },
  {
   "cell_type": "markdown",
   "metadata": {
    "ExecuteTime": {
     "end_time": "2021-04-01T13:16:34.382833Z",
     "start_time": "2021-04-01T13:16:34.364512Z"
    }
   },
   "source": [
    "##### Validation Curve for hyperparameter max_depth"
   ]
  },
  {
   "cell_type": "code",
   "execution_count": 13,
   "metadata": {
    "ExecuteTime": {
     "end_time": "2021-04-11T02:54:01.314483Z",
     "start_time": "2021-04-11T02:53:54.447633Z"
    },
    "scrolled": true
   },
   "outputs": [
    {
     "data": {
      "image/png": "[encoded data removed]",
      "text/plain": [
       "<Figure size 432x288 with 1 Axes>"
      ]
     },
     "metadata": {
      "needs_background": "light"
     },
     "output_type": "display_data"
    }
   ],
   "source": [
    "param_range               = np.arange(1, 28, 1)\n",
    "train_scores, test_scores = validation_curve(DecisionTreeClassifier(criterion='entropy', random_state=42), X_EDA_classification_train, y_EDA_classification_train, param_name=\"max_depth\", param_range=param_range,scoring=\"accuracy\", cv=10, n_jobs=3)\n",
    "train_scores_mean         = np.mean(train_scores, axis=1)\n",
    "train_scores_std          = np.std(train_scores, axis=1)\n",
    "test_scores_mean          = np.mean(test_scores, axis=1)\n",
    "test_scores_std           = np.std(test_scores, axis=1)\n",
    "\n",
    "plt.title(\"Validation Curve with Decision Tree Classifier\")\n",
    "plt.xlabel(\"max_depth\")\n",
    "plt.ylabel(\"Score\")\n",
    "plt.ylim(0.0, 1.1)\n",
    "lw = 2\n",
    "\n",
    "plt.semilogx(param_range, train_scores_mean, label=\"Training score\", color=\"darkorange\", lw=lw)\n",
    "plt.fill_between(param_range, train_scores_mean - train_scores_std, train_scores_mean + train_scores_std, alpha=0.2, color=\"darkorange\", lw=lw)\n",
    "\n",
    "plt.semilogx(param_range, test_scores_mean, label=\"Cross-validation score\", color=\"navy\", lw=lw)\n",
    "plt.fill_between(param_range, test_scores_mean - test_scores_std, test_scores_mean + test_scores_std, alpha=0.2, color=\"navy\", lw=lw)\n",
    "\n",
    "plt.legend(loc=\"best\")\n",
    "plt.show()"
   ]
  },
  {
   "cell_type": "code",
   "execution_count": 14,
   "metadata": {
    "ExecuteTime": {
     "end_time": "2021-04-11T02:54:01.345785Z",
     "start_time": "2021-04-11T02:54:01.314483Z"
    }
   },
   "outputs": [
    {
     "data": {
      "text/plain": [
       "DecisionTreeClassifier(criterion='entropy', max_depth=4, random_state=42)"
      ]
     },
     "execution_count": 14,
     "metadata": {},
     "output_type": "execute_result"
    }
   ],
   "source": [
    "clf = DecisionTreeClassifier(max_depth=4, criterion='entropy', random_state=42)\n",
    "clf.fit(X_EDA_classification_train, y_EDA_classification_train)"
   ]
  },
  {
   "cell_type": "code",
   "execution_count": 15,
   "metadata": {
    "ExecuteTime": {
     "end_time": "2021-04-11T02:54:02.363385Z",
     "start_time": "2021-04-11T02:54:01.345785Z"
    }
   },
   "outputs": [],
   "source": [
    "accuracy_scores = []\n",
    "\n",
    "for i in range(1, 29):\n",
    "    clf = DecisionTreeClassifier(max_depth=i, criterion='entropy', random_state=42)\n",
    "    \n",
    "    clf.fit(X_EDA_classification_train, y_EDA_classification_train)\n",
    "    accuracy_score_n = accuracy_score(y_EDA_classification_test, clf.predict(X_EDA_classification_test))\n",
    "    accuracy_scores.append(accuracy_score_n)"
   ]
  },
  {
   "cell_type": "code",
   "execution_count": 16,
   "metadata": {
    "ExecuteTime": {
     "end_time": "2021-04-11T02:54:02.383630Z",
     "start_time": "2021-04-11T02:54:02.365452Z"
    },
    "scrolled": false
   },
   "outputs": [
    {
     "name": "stdout",
     "output_type": "stream",
     "text": [
      "max_depth 1 : 0.735266%\n",
      "max_depth 2 : 0.760386%\n",
      "max_depth 3 : 0.759420%\n",
      "max_depth 4 : 0.776329%\n",
      "max_depth 5 : 0.774396%\n",
      "max_depth 6 : 0.776329%\n",
      "max_depth 7 : 0.782609%\n",
      "max_depth 8 : 0.798551%\n",
      "max_depth 9 : 0.798068%\n",
      "max_depth 10 : 0.815459%\n",
      "max_depth 11 : 0.820773%\n",
      "max_depth 12 : 0.821256%\n",
      "max_depth 13 : 0.836715%\n",
      "max_depth 14 : 0.835749%\n",
      "max_depth 15 : 0.843478%\n",
      "max_depth 16 : 0.852174%\n",
      "max_depth 17 : 0.857971%\n",
      "max_depth 18 : 0.861836%\n",
      "max_depth 19 : 0.873430%\n",
      "max_depth 20 : 0.866184%\n",
      "max_depth 21 : 0.871498%\n",
      "max_depth 22 : 0.874396%\n",
      "max_depth 23 : 0.873913%\n",
      "max_depth 24 : 0.873913%\n",
      "max_depth 25 : 0.877778%\n",
      "max_depth 26 : 0.877778%\n",
      "max_depth 27 : 0.876812%\n"
     ]
    }
   ],
   "source": [
    "for i in range(1, 28):\n",
    "    print(f'max_depth {i} : {accuracy_scores[i]:.6f}%')"
   ]
  },
  {
   "cell_type": "markdown",
   "metadata": {},
   "source": [
    "###### Cross Validation Score"
   ]
  },
  {
   "cell_type": "code",
   "execution_count": 17,
   "metadata": {
    "ExecuteTime": {
     "end_time": "2021-04-11T02:54:02.842092Z",
     "start_time": "2021-04-11T02:54:02.385692Z"
    }
   },
   "outputs": [
    {
     "data": {
      "text/plain": [
       "array([0.83937198, 0.86956522, 0.85869565, 0.84541063, 0.8647343 ,\n",
       "       0.86835749, 0.85144928, 0.84903382, 0.84643289, 0.86577993])"
      ]
     },
     "execution_count": 17,
     "metadata": {},
     "output_type": "execute_result"
    }
   ],
   "source": [
    "cross_val_score(clf, X_EDA_classification_train, y_EDA_classification_train, cv=10)"
   ]
  },
  {
   "cell_type": "markdown",
   "metadata": {},
   "source": [
    "##### Confusion Matrix"
   ]
  },
  {
   "cell_type": "code",
   "execution_count": 18,
   "metadata": {
    "ExecuteTime": {
     "end_time": "2021-04-11T02:54:02.973671Z",
     "start_time": "2021-04-11T02:54:02.842092Z"
    }
   },
   "outputs": [
    {
     "name": "stdout",
     "output_type": "stream",
     "text": [
      "True positive  : 3647\n",
      "True negative  : 3214\n",
      "False positive : 939\n",
      "False negative : 478\n"
     ]
    }
   ],
   "source": [
    "y_train_pred = cross_val_predict(clf, X_EDA_classification_train, np.ravel(y_EDA_classification_train), cv=3)\n",
    "\n",
    "print(f'True positive  : {confusion_matrix(np.ravel(y_EDA_classification_train), y_train_pred)[1, 1]}')\n",
    "print(f'True negative  : {confusion_matrix(np.ravel(y_EDA_classification_train), y_train_pred)[0, 0]}')\n",
    "print(f'False positive : {confusion_matrix(np.ravel(y_EDA_classification_train), y_train_pred)[0, 1]}')\n",
    "print(f'False negative : {confusion_matrix(np.ravel(y_EDA_classification_train), y_train_pred)[1, 0]}')"
   ]
  },
  {
   "cell_type": "markdown",
   "metadata": {},
   "source": [
    "###### Precision"
   ]
  },
  {
   "cell_type": "code",
   "execution_count": 19,
   "metadata": {
    "ExecuteTime": {
     "end_time": "2021-04-11T02:54:02.989323Z",
     "start_time": "2021-04-11T02:54:02.973671Z"
    }
   },
   "outputs": [],
   "source": [
    "y_test_pred = clf.predict(X_EDA_classification_test)"
   ]
  },
  {
   "cell_type": "code",
   "execution_count": 20,
   "metadata": {
    "ExecuteTime": {
     "end_time": "2021-04-11T02:54:03.020544Z",
     "start_time": "2021-04-11T02:54:02.989323Z"
    },
    "scrolled": false
   },
   "outputs": [
    {
     "name": "stdout",
     "output_type": "stream",
     "text": [
      "Precision: 83.82%\n"
     ]
    }
   ],
   "source": [
    "print(f'Precision: {round(precision_score(np.ravel(y_EDA_classification_test), y_test_pred) * 100, 2)}%')"
   ]
  },
  {
   "cell_type": "markdown",
   "metadata": {},
   "source": [
    "##### Recall"
   ]
  },
  {
   "cell_type": "code",
   "execution_count": 21,
   "metadata": {
    "ExecuteTime": {
     "end_time": "2021-04-11T02:54:03.036169Z",
     "start_time": "2021-04-11T02:54:03.020544Z"
    }
   },
   "outputs": [
    {
     "name": "stdout",
     "output_type": "stream",
     "text": [
      "Recall: 93.8%\n"
     ]
    }
   ],
   "source": [
    "print(f'Recall: {round(recall_score(np.ravel(y_EDA_classification_test), y_test_pred) * 100, 2)}%')"
   ]
  },
  {
   "cell_type": "markdown",
   "metadata": {},
   "source": [
    "##### F1-Score"
   ]
  },
  {
   "cell_type": "code",
   "execution_count": 22,
   "metadata": {
    "ExecuteTime": {
     "end_time": "2021-04-11T02:54:03.058390Z",
     "start_time": "2021-04-11T02:54:03.036169Z"
    }
   },
   "outputs": [
    {
     "name": "stdout",
     "output_type": "stream",
     "text": [
      "F-1 Score: 88.53%\n"
     ]
    }
   ],
   "source": [
    "print(f'F-1 Score: {round(f1_score(np.ravel(y_EDA_classification_test), y_test_pred) * 100, 2)}%')"
   ]
  },
  {
   "cell_type": "markdown",
   "metadata": {},
   "source": [
    "##### Classification Report\n",
    "Untuk melihat precision, recall, f1-score, dan accuracy dari setiap kelas secara keseluruhan."
   ]
  },
  {
   "cell_type": "code",
   "execution_count": 23,
   "metadata": {
    "ExecuteTime": {
     "end_time": "2021-04-11T02:54:03.073980Z",
     "start_time": "2021-04-11T02:54:03.058390Z"
    },
    "scrolled": true
   },
   "outputs": [
    {
     "name": "stdout",
     "output_type": "stream",
     "text": [
      "              precision    recall  f1-score   support\n",
      "\n",
      "           0       0.93      0.81      0.87      1021\n",
      "           1       0.84      0.94      0.89      1049\n",
      "\n",
      "    accuracy                           0.88      2070\n",
      "   macro avg       0.88      0.88      0.88      2070\n",
      "weighted avg       0.88      0.88      0.88      2070\n",
      "\n"
     ]
    }
   ],
   "source": [
    "print(classification_report(y_EDA_classification_test, y_test_pred))"
   ]
  },
  {
   "cell_type": "markdown",
   "metadata": {},
   "source": [
    "##### Precision-Recall Trade off - Precision Recall VS Threshold Plot"
   ]
  },
  {
   "cell_type": "code",
   "execution_count": 24,
   "metadata": {
    "ExecuteTime": {
     "end_time": "2021-04-11T02:54:03.136479Z",
     "start_time": "2021-04-11T02:54:03.073980Z"
    }
   },
   "outputs": [],
   "source": [
    "y_scores = cross_val_predict(clf, X_EDA_classification_test, np.ravel(y_EDA_classification_test), cv=3)\n",
    "precisions, recalls, thresholds = precision_recall_curve(y_EDA_classification_test, y_scores)"
   ]
  },
  {
   "cell_type": "code",
   "execution_count": 25,
   "metadata": {
    "ExecuteTime": {
     "end_time": "2021-04-11T02:54:03.274530Z",
     "start_time": "2021-04-11T02:54:03.136479Z"
    }
   },
   "outputs": [
    {
     "data": {
      "image/png": "[encoded data removed]",
      "text/plain": [
       "<Figure size 576x432 with 1 Axes>"
      ]
     },
     "metadata": {
      "needs_background": "light"
     },
     "output_type": "display_data"
    }
   ],
   "source": [
    "def plot_precision_vs_recall(precisions, recalls):\n",
    "    plt.plot(recalls, precisions, \"b-\", linewidth=2)\n",
    "    plt.title('Precision and Recall Plot')\n",
    "    plt.xlabel(\"Recall\")\n",
    "    plt.ylabel(\"Precision\")\n",
    "    plt.axis([0, 1, 0, 1])\n",
    "    plt.grid(True)\n",
    "\n",
    "plt.figure(figsize=(8, 6))\n",
    "plot_precision_vs_recall(precisions, recalls)\n",
    "plt.plot([0.4368, 0.4368], [0., 0.9], \"r:\")\n",
    "plt.plot([0.0, 0.4368], [0.9, 0.9], \"r:\")\n",
    "plt.plot([0.4368], [0.9], \"ro\")\n",
    "plt.show()"
   ]
  },
  {
   "cell_type": "markdown",
   "metadata": {},
   "source": [
    "##### ROC and AUC Curve"
   ]
  },
  {
   "cell_type": "code",
   "execution_count": 26,
   "metadata": {
    "ExecuteTime": {
     "end_time": "2021-04-11T02:54:03.290155Z",
     "start_time": "2021-04-11T02:54:03.274530Z"
    }
   },
   "outputs": [],
   "source": [
    "fpr, tpr, thresholds = roc_curve(y_EDA_classification_test, y_scores)"
   ]
  },
  {
   "cell_type": "code",
   "execution_count": 27,
   "metadata": {
    "ExecuteTime": {
     "end_time": "2021-04-11T02:54:03.459546Z",
     "start_time": "2021-04-11T02:54:03.290155Z"
    }
   },
   "outputs": [
    {
     "data": {
      "image/png": "[encoded data removed]",
      "text/plain": [
       "<Figure size 576x432 with 1 Axes>"
      ]
     },
     "metadata": {
      "needs_background": "light"
     },
     "output_type": "display_data"
    }
   ],
   "source": [
    "def plot_roc_curve(fpr, tpr, label=None):\n",
    "    plt.plot(fpr, tpr, linewidth=2, label=label)\n",
    "    plt.plot([0, 1], [0, 1], 'k--')\n",
    "    plt.axis([0, 1, 0, 1])\n",
    "    plt.xlabel('False Positive Rate (Fall-Out)')\n",
    "    plt.ylabel('True Positive Rate (Recall)')\n",
    "    plt.grid(True)\n",
    "\n",
    "plt.figure(figsize=(8, 6))\n",
    "plot_roc_curve(fpr, tpr)\n",
    "plt.plot([4.837e-3, 4.837e-3], [0., 0.4368], \"r:\")\n",
    "plt.plot([0.0, 4.837e-3], [0.4368, 0.4368], \"r:\")\n",
    "plt.plot([4.837e-3], [0.4368], \"ro\")\n",
    "plt.show()"
   ]
  },
  {
   "cell_type": "code",
   "execution_count": 28,
   "metadata": {
    "ExecuteTime": {
     "end_time": "2021-04-11T02:54:03.475199Z",
     "start_time": "2021-04-11T02:54:03.459546Z"
    }
   },
   "outputs": [
    {
     "data": {
      "text/plain": [
       "0.7221125665131383"
      ]
     },
     "execution_count": 28,
     "metadata": {},
     "output_type": "execute_result"
    }
   ],
   "source": [
    "roc_auc_score(y_EDA_classification_test, y_scores)"
   ]
  },
  {
   "cell_type": "markdown",
   "metadata": {},
   "source": [
    "##### Predict with some feature"
   ]
  },
  {
   "cell_type": "code",
   "execution_count": 29,
   "metadata": {
    "ExecuteTime": {
     "end_time": "2021-04-11T02:54:03.490830Z",
     "start_time": "2021-04-11T02:54:03.475199Z"
    }
   },
   "outputs": [
    {
     "data": {
      "text/plain": [
       "array([1, 1, 1, 1, 0, 1, 1, 1, 1, 1], dtype=int64)"
      ]
     },
     "execution_count": 29,
     "metadata": {},
     "output_type": "execute_result"
    }
   ],
   "source": [
    "clf.predict(X_EDA_classification_test.iloc[50:60, :])"
   ]
  },
  {
   "cell_type": "code",
   "execution_count": 30,
   "metadata": {
    "ExecuteTime": {
     "end_time": "2021-04-11T02:54:03.506448Z",
     "start_time": "2021-04-11T02:54:03.490830Z"
    }
   },
   "outputs": [
    {
     "data": {
      "text/html": [
       "<div>\n",
       "<style scoped>\n",
       "    .dataframe tbody tr th:only-of-type {\n",
       "        vertical-align: middle;\n",
       "    }\n",
       "\n",
       "    .dataframe tbody tr th {\n",
       "        vertical-align: top;\n",
       "    }\n",
       "\n",
       "    .dataframe thead th {\n",
       "        text-align: right;\n",
       "    }\n",
       "</style>\n",
       "<table border=\"1\" class=\"dataframe\">\n",
       "  <thead>\n",
       "    <tr style=\"text-align: right;\">\n",
       "      <th></th>\n",
       "      <th>churn</th>\n",
       "    </tr>\n",
       "  </thead>\n",
       "  <tbody>\n",
       "    <tr>\n",
       "      <th>50</th>\n",
       "      <td>1</td>\n",
       "    </tr>\n",
       "    <tr>\n",
       "      <th>51</th>\n",
       "      <td>0</td>\n",
       "    </tr>\n",
       "    <tr>\n",
       "      <th>52</th>\n",
       "      <td>1</td>\n",
       "    </tr>\n",
       "    <tr>\n",
       "      <th>53</th>\n",
       "      <td>1</td>\n",
       "    </tr>\n",
       "    <tr>\n",
       "      <th>54</th>\n",
       "      <td>0</td>\n",
       "    </tr>\n",
       "    <tr>\n",
       "      <th>55</th>\n",
       "      <td>1</td>\n",
       "    </tr>\n",
       "    <tr>\n",
       "      <th>56</th>\n",
       "      <td>1</td>\n",
       "    </tr>\n",
       "    <tr>\n",
       "      <th>57</th>\n",
       "      <td>1</td>\n",
       "    </tr>\n",
       "    <tr>\n",
       "      <th>58</th>\n",
       "      <td>1</td>\n",
       "    </tr>\n",
       "    <tr>\n",
       "      <th>59</th>\n",
       "      <td>1</td>\n",
       "    </tr>\n",
       "  </tbody>\n",
       "</table>\n",
       "</div>"
      ],
      "text/plain": [
       "    churn\n",
       "50      1\n",
       "51      0\n",
       "52      1\n",
       "53      1\n",
       "54      0\n",
       "55      1\n",
       "56      1\n",
       "57      1\n",
       "58      1\n",
       "59      1"
      ]
     },
     "execution_count": 30,
     "metadata": {},
     "output_type": "execute_result"
    }
   ],
   "source": [
    "y_EDA_classification_test.iloc[50:60, :]"
   ]
  },
  {
   "cell_type": "markdown",
   "metadata": {},
   "source": [
    "##### Save tree visualization"
   ]
  },
  {
   "cell_type": "code",
   "execution_count": 31,
   "metadata": {
    "ExecuteTime": {
     "end_time": "2021-04-11T02:54:08.161152Z",
     "start_time": "2021-04-11T02:54:03.506448Z"
    }
   },
   "outputs": [
    {
     "data": {
      "text/plain": [
       "'../images/oversampling/classification\\\\EDA_dataset_decision_tree.pdf'"
      ]
     },
     "execution_count": 31,
     "metadata": {},
     "output_type": "execute_result"
    }
   ],
   "source": [
    "EDA_dataset_dot_data = tree.export_graphviz(clf, out_file=None)\n",
    "graph                = graphviz.Source(EDA_dataset_dot_data)\n",
    "\n",
    "graph.render(\"../images/oversampling/classification/EDA_dataset_decision_tree\")"
   ]
  },
  {
   "cell_type": "markdown",
   "metadata": {
    "slideshow": {
     "slide_type": "subslide"
    }
   },
   "source": [
    "#### Regression"
   ]
  },
  {
   "cell_type": "code",
   "execution_count": 32,
   "metadata": {
    "ExecuteTime": {
     "end_time": "2021-04-11T02:54:08.524645Z",
     "start_time": "2021-04-11T02:54:08.161152Z"
    }
   },
   "outputs": [
    {
     "data": {
      "text/plain": [
       "array([0.99872868, 0.99827243, 0.99838319, 0.99822651, 0.99812859,\n",
       "       0.99888446, 0.99763823, 0.99812554, 0.99877967, 0.99800492])"
      ]
     },
     "execution_count": 32,
     "metadata": {},
     "output_type": "execute_result"
    }
   ],
   "source": [
    "regressor = DecisionTreeRegressor(max_depth=20, random_state=42)\n",
    "cross_val_score(regressor, X_EDA_regression_train, y_EDA_regression_train, cv=10)"
   ]
  },
  {
   "cell_type": "markdown",
   "metadata": {},
   "source": [
    "##### R Squared"
   ]
  },
  {
   "cell_type": "code",
   "execution_count": 33,
   "metadata": {
    "ExecuteTime": {
     "end_time": "2021-04-11T02:54:08.578105Z",
     "start_time": "2021-04-11T02:54:08.524645Z"
    }
   },
   "outputs": [
    {
     "data": {
      "text/plain": [
       "0.9981550390795928"
      ]
     },
     "execution_count": 33,
     "metadata": {},
     "output_type": "execute_result"
    }
   ],
   "source": [
    "regressor.fit(X_EDA_regression_train, y_EDA_regression_train)\n",
    "r2_score(y_EDA_regression_test, regressor.predict(X_EDA_regression_test))"
   ]
  },
  {
   "cell_type": "markdown",
   "metadata": {},
   "source": [
    "##### Explained Variance Score"
   ]
  },
  {
   "cell_type": "code",
   "execution_count": 34,
   "metadata": {
    "ExecuteTime": {
     "end_time": "2021-04-11T02:54:08.593635Z",
     "start_time": "2021-04-11T02:54:08.578105Z"
    }
   },
   "outputs": [
    {
     "data": {
      "text/plain": [
       "0.9981551673107171"
      ]
     },
     "execution_count": 34,
     "metadata": {},
     "output_type": "execute_result"
    }
   ],
   "source": [
    "explained_variance_score(y_EDA_regression_test, regressor.predict(X_EDA_regression_test))"
   ]
  },
  {
   "cell_type": "markdown",
   "metadata": {},
   "source": [
    "##### Mean Absolute Error"
   ]
  },
  {
   "cell_type": "code",
   "execution_count": 35,
   "metadata": {
    "ExecuteTime": {
     "end_time": "2021-04-11T02:54:08.609295Z",
     "start_time": "2021-04-11T02:54:08.593635Z"
    }
   },
   "outputs": [
    {
     "data": {
      "text/plain": [
       "0.38357487922705313"
      ]
     },
     "execution_count": 35,
     "metadata": {},
     "output_type": "execute_result"
    }
   ],
   "source": [
    "mean_absolute_error(y_EDA_regression_test, regressor.predict(X_EDA_regression_test))"
   ]
  },
  {
   "cell_type": "markdown",
   "metadata": {},
   "source": [
    "##### Root Mean Squared Error"
   ]
  },
  {
   "cell_type": "code",
   "execution_count": 36,
   "metadata": {
    "ExecuteTime": {
     "end_time": "2021-04-11T02:54:08.624917Z",
     "start_time": "2021-04-11T02:54:08.609295Z"
    }
   },
   "outputs": [
    {
     "data": {
      "text/plain": [
       "1.0430353327256032"
      ]
     },
     "execution_count": 36,
     "metadata": {},
     "output_type": "execute_result"
    }
   ],
   "source": [
    "mean_squared_error(y_EDA_regression_test, regressor.predict(X_EDA_regression_test))** 0.5"
   ]
  },
  {
   "cell_type": "markdown",
   "metadata": {},
   "source": [
    "###### Predict with some feature"
   ]
  },
  {
   "cell_type": "code",
   "execution_count": 37,
   "metadata": {
    "ExecuteTime": {
     "end_time": "2021-04-11T02:54:08.640554Z",
     "start_time": "2021-04-11T02:54:08.624917Z"
    }
   },
   "outputs": [
    {
     "data": {
      "text/plain": [
       "array([18., 42.,  2., 18.,  7.,  1., 48.,  3., 12., 27.])"
      ]
     },
     "execution_count": 37,
     "metadata": {},
     "output_type": "execute_result"
    }
   ],
   "source": [
    "regressor.predict(X_EDA_regression_test.iloc[50:60, 0:26])"
   ]
  },
  {
   "cell_type": "code",
   "execution_count": 38,
   "metadata": {
    "ExecuteTime": {
     "end_time": "2021-04-11T02:54:08.656172Z",
     "start_time": "2021-04-11T02:54:08.640554Z"
    }
   },
   "outputs": [
    {
     "data": {
      "text/plain": [
       "50    18\n",
       "51    55\n",
       "52     2\n",
       "53    18\n",
       "54     7\n",
       "55     1\n",
       "56    48\n",
       "57     3\n",
       "58    12\n",
       "59    27\n",
       "Name: tenure, dtype: int64"
      ]
     },
     "execution_count": 38,
     "metadata": {},
     "output_type": "execute_result"
    }
   ],
   "source": [
    "y_EDA_regression_test[50:60]"
   ]
  },
  {
   "cell_type": "markdown",
   "metadata": {},
   "source": [
    "##### Save tree visualization"
   ]
  },
  {
   "cell_type": "code",
   "execution_count": 39,
   "metadata": {
    "ExecuteTime": {
     "end_time": "2021-04-11T02:54:22.623719Z",
     "start_time": "2021-04-11T02:54:08.656172Z"
    }
   },
   "outputs": [
    {
     "data": {
      "text/plain": [
       "'../images/oversampling/regression\\\\EDA_dataset_decision_tree.pdf'"
      ]
     },
     "execution_count": 39,
     "metadata": {},
     "output_type": "execute_result"
    }
   ],
   "source": [
    "EDA_dataset_dot_data = tree.export_graphviz(regressor, out_file=None)\n",
    "graph                = graphviz.Source(EDA_dataset_dot_data)\n",
    "\n",
    "graph.render(\"../images/oversampling/regression/EDA_dataset_decision_tree\")"
   ]
  },
  {
   "cell_type": "markdown",
   "metadata": {
    "slideshow": {
     "slide_type": "subslide"
    }
   },
   "source": [
    "### Feature Engineering Dataset"
   ]
  },
  {
   "cell_type": "markdown",
   "metadata": {},
   "source": [
    "#### Classification"
   ]
  },
  {
   "cell_type": "markdown",
   "metadata": {},
   "source": [
    "##### Validation Curve for hyperparameter max_depth"
   ]
  },
  {
   "cell_type": "code",
   "execution_count": 40,
   "metadata": {
    "ExecuteTime": {
     "end_time": "2021-04-11T02:54:24.436491Z",
     "start_time": "2021-04-11T02:54:22.623719Z"
    }
   },
   "outputs": [
    {
     "data": {
      "image/png": "[encoded data removed]",
      "text/plain": [
       "<Figure size 432x288 with 1 Axes>"
      ]
     },
     "metadata": {
      "needs_background": "light"
     },
     "output_type": "display_data"
    }
   ],
   "source": [
    "param_range = np.arange(1, 21, 1)\n",
    "train_scores, test_scores = validation_curve(DecisionTreeClassifier(criterion='entropy', random_state=42), X_feature_engineering_classification_train, y_feature_engineering_classification_train, param_name=\"max_depth\", param_range=param_range,scoring=\"accuracy\", cv=10, n_jobs=3)\n",
    "train_scores_mean = np.mean(train_scores, axis=1)\n",
    "train_scores_std = np.std(train_scores, axis=1)\n",
    "test_scores_mean = np.mean(test_scores, axis=1)\n",
    "test_scores_std = np.std(test_scores, axis=1)\n",
    "\n",
    "plt.title(\"Validation Curve with Decision Tree Classifier\")\n",
    "plt.xlabel(\"max_depth\")\n",
    "plt.ylabel(\"Score\")\n",
    "plt.ylim(0.0, 1.1)\n",
    "lw = 2\n",
    "\n",
    "plt.semilogx(param_range, train_scores_mean, label=\"Training score\", color=\"darkorange\", lw=lw)\n",
    "plt.fill_between(param_range, train_scores_mean - train_scores_std, train_scores_mean + train_scores_std, alpha=0.2, color=\"darkorange\", lw=lw)\n",
    "\n",
    "plt.semilogx(param_range, test_scores_mean, label=\"Cross-validation score\", color=\"navy\", lw=lw)\n",
    "plt.fill_between(param_range, test_scores_mean - test_scores_std, test_scores_mean + test_scores_std, alpha=0.2, color=\"navy\", lw=lw)\n",
    "\n",
    "plt.legend(loc=\"best\")\n",
    "plt.show()"
   ]
  },
  {
   "cell_type": "code",
   "execution_count": 41,
   "metadata": {
    "ExecuteTime": {
     "end_time": "2021-04-11T02:54:24.462235Z",
     "start_time": "2021-04-11T02:54:24.436491Z"
    }
   },
   "outputs": [
    {
     "data": {
      "text/plain": [
       "DecisionTreeClassifier(criterion='entropy', max_depth=4, random_state=42)"
      ]
     },
     "execution_count": 41,
     "metadata": {},
     "output_type": "execute_result"
    }
   ],
   "source": [
    "clf = DecisionTreeClassifier(max_depth=4, criterion='entropy', random_state=42)\n",
    "clf.fit(X_feature_engineering_classification_train, y_feature_engineering_classification_train)"
   ]
  },
  {
   "cell_type": "code",
   "execution_count": 42,
   "metadata": {
    "ExecuteTime": {
     "end_time": "2021-04-11T02:54:24.801187Z",
     "start_time": "2021-04-11T02:54:24.462235Z"
    }
   },
   "outputs": [],
   "source": [
    "accuracy_scores = []\n",
    "\n",
    "for i in range(1, 22):\n",
    "    clf = DecisionTreeClassifier(max_depth=i, criterion='entropy', random_state=42)\n",
    "\n",
    "    clf.fit(X_feature_engineering_classification_train, y_feature_engineering_classification_train)\n",
    "    accuracy_score_n = accuracy_score(y_feature_engineering_classification_test, clf.predict(X_feature_engineering_classification_test))\n",
    "    accuracy_scores.append(accuracy_score_n)"
   ]
  },
  {
   "cell_type": "code",
   "execution_count": 43,
   "metadata": {
    "ExecuteTime": {
     "end_time": "2021-04-11T02:54:24.821532Z",
     "start_time": "2021-04-11T02:54:24.803254Z"
    }
   },
   "outputs": [
    {
     "name": "stdout",
     "output_type": "stream",
     "text": [
      "max_depth 1 : 0.679227%\n",
      "max_depth 2 : 0.704831%\n",
      "max_depth 3 : 0.728986%\n",
      "max_depth 4 : 0.742512%\n",
      "max_depth 5 : 0.743961%\n",
      "max_depth 6 : 0.755072%\n",
      "max_depth 7 : 0.770048%\n",
      "max_depth 8 : 0.764734%\n",
      "max_depth 9 : 0.765217%\n",
      "max_depth 10 : 0.774396%\n",
      "max_depth 11 : 0.783092%\n",
      "max_depth 12 : 0.790821%\n",
      "max_depth 13 : 0.804831%\n",
      "max_depth 14 : 0.807729%\n",
      "max_depth 15 : 0.815942%\n",
      "max_depth 16 : 0.825121%\n",
      "max_depth 17 : 0.824638%\n",
      "max_depth 18 : 0.837198%\n",
      "max_depth 19 : 0.834783%\n",
      "max_depth 20 : 0.840580%\n"
     ]
    }
   ],
   "source": [
    "for i in range(1, 21):\n",
    "    print(f'max_depth {i} : {accuracy_scores[i]:.6f}%')"
   ]
  },
  {
   "cell_type": "markdown",
   "metadata": {},
   "source": [
    "##### Cross Validation Score"
   ]
  },
  {
   "cell_type": "code",
   "execution_count": 44,
   "metadata": {
    "ExecuteTime": {
     "end_time": "2021-04-11T02:54:24.943790Z",
     "start_time": "2021-04-11T02:54:24.821532Z"
    }
   },
   "outputs": [
    {
     "data": {
      "text/plain": [
       "array([0.74396135, 0.71980676, 0.71980676, 0.71980676, 0.71014493,\n",
       "       0.76328502, 0.7826087 , 0.71014493, 0.66183575, 0.68599034])"
      ]
     },
     "execution_count": 44,
     "metadata": {},
     "output_type": "execute_result"
    }
   ],
   "source": [
    "cross_val_score(clf, X_feature_engineering_classification_test, y_feature_engineering_classification_test, cv=10)"
   ]
  },
  {
   "cell_type": "markdown",
   "metadata": {},
   "source": [
    "##### Confusion Matrix"
   ]
  },
  {
   "cell_type": "code",
   "execution_count": 45,
   "metadata": {
    "ExecuteTime": {
     "end_time": "2021-04-11T02:54:25.026530Z",
     "start_time": "2021-04-11T02:54:24.945814Z"
    }
   },
   "outputs": [
    {
     "name": "stdout",
     "output_type": "stream",
     "text": [
      "True positive  : 3562\n",
      "True negative  : 3139\n",
      "False positive : 1014\n",
      "False negative : 563\n"
     ]
    }
   ],
   "source": [
    "y_train_pred = cross_val_predict(clf, X_feature_engineering_classification_train, np.ravel(y_feature_engineering_classification_train), cv=3)\n",
    "\n",
    "print(f'True positive  : {confusion_matrix(np.ravel(y_feature_engineering_classification_train), y_train_pred)[1, 1]}')\n",
    "print(f'True negative  : {confusion_matrix(np.ravel(y_feature_engineering_classification_train), y_train_pred)[0, 0]}')\n",
    "print(f'False positive : {confusion_matrix(np.ravel(y_feature_engineering_classification_train), y_train_pred)[0, 1]}')\n",
    "print(f'False negative : {confusion_matrix(np.ravel(y_feature_engineering_classification_train), y_train_pred)[1, 0]}')"
   ]
  },
  {
   "cell_type": "markdown",
   "metadata": {},
   "source": [
    "##### Precision"
   ]
  },
  {
   "cell_type": "code",
   "execution_count": 46,
   "metadata": {
    "ExecuteTime": {
     "end_time": "2021-04-11T02:54:25.042129Z",
     "start_time": "2021-04-11T02:54:25.026530Z"
    }
   },
   "outputs": [],
   "source": [
    "y_test_pred = clf.predict(X_feature_engineering_classification_test)"
   ]
  },
  {
   "cell_type": "code",
   "execution_count": 47,
   "metadata": {
    "ExecuteTime": {
     "end_time": "2021-04-11T02:54:25.057752Z",
     "start_time": "2021-04-11T02:54:25.042129Z"
    }
   },
   "outputs": [
    {
     "name": "stdout",
     "output_type": "stream",
     "text": [
      "Precision: 80.13%\n"
     ]
    }
   ],
   "source": [
    "print(f'Precision: {round(precision_score(np.ravel(y_feature_engineering_classification_test), y_test_pred) * 100, 2)}%')"
   ]
  },
  {
   "cell_type": "markdown",
   "metadata": {},
   "source": [
    "##### Recall"
   ]
  },
  {
   "cell_type": "code",
   "execution_count": 48,
   "metadata": {
    "ExecuteTime": {
     "end_time": "2021-04-11T02:54:25.079499Z",
     "start_time": "2021-04-11T02:54:25.057752Z"
    }
   },
   "outputs": [
    {
     "name": "stdout",
     "output_type": "stream",
     "text": [
      "Recall: 91.13%\n"
     ]
    }
   ],
   "source": [
    "print(f'Recall: {round(recall_score(np.ravel(y_feature_engineering_classification_test), y_test_pred) * 100, 2)}%')"
   ]
  },
  {
   "cell_type": "markdown",
   "metadata": {},
   "source": [
    "##### F1-Score"
   ]
  },
  {
   "cell_type": "code",
   "execution_count": 49,
   "metadata": {
    "ExecuteTime": {
     "end_time": "2021-04-11T02:54:25.095120Z",
     "start_time": "2021-04-11T02:54:25.079499Z"
    }
   },
   "outputs": [
    {
     "name": "stdout",
     "output_type": "stream",
     "text": [
      "F-1 Score: 85.28%\n"
     ]
    }
   ],
   "source": [
    "print(f'F-1 Score: {round(f1_score(np.ravel(y_feature_engineering_classification_test), y_test_pred) * 100, 2)}%')"
   ]
  },
  {
   "cell_type": "markdown",
   "metadata": {
    "ExecuteTime": {
     "end_time": "2021-03-31T08:32:56.526992Z",
     "start_time": "2021-03-31T08:32:56.513033Z"
    }
   },
   "source": [
    "##### Classification Report\n",
    "Untuk melihat precision, recall, f1-score, dan accuracy dari setiap kelas secara keseluruhan."
   ]
  },
  {
   "cell_type": "code",
   "execution_count": 50,
   "metadata": {
    "ExecuteTime": {
     "end_time": "2021-04-11T02:54:25.110753Z",
     "start_time": "2021-04-11T02:54:25.095120Z"
    }
   },
   "outputs": [
    {
     "name": "stdout",
     "output_type": "stream",
     "text": [
      "              precision    recall  f1-score   support\n",
      "\n",
      "           0       0.89      0.77      0.83      1021\n",
      "           1       0.80      0.91      0.85      1049\n",
      "\n",
      "    accuracy                           0.84      2070\n",
      "   macro avg       0.85      0.84      0.84      2070\n",
      "weighted avg       0.85      0.84      0.84      2070\n",
      "\n"
     ]
    }
   ],
   "source": [
    "print(classification_report(y_feature_engineering_classification_test, y_test_pred))"
   ]
  },
  {
   "cell_type": "markdown",
   "metadata": {},
   "source": [
    "##### Precision-Recall Trade off - Precision Recall VS Threshold Plot"
   ]
  },
  {
   "cell_type": "code",
   "execution_count": 51,
   "metadata": {
    "ExecuteTime": {
     "end_time": "2021-04-11T02:54:25.142027Z",
     "start_time": "2021-04-11T02:54:25.110753Z"
    }
   },
   "outputs": [],
   "source": [
    "y_scores = cross_val_predict(clf, X_feature_engineering_classification_test, np.ravel(y_feature_engineering_classification_test), cv=3,)\n",
    "precisions, recalls, thresholds = precision_recall_curve(y_feature_engineering_classification_test, y_scores)"
   ]
  },
  {
   "cell_type": "code",
   "execution_count": 52,
   "metadata": {
    "ExecuteTime": {
     "end_time": "2021-04-11T02:54:25.257867Z",
     "start_time": "2021-04-11T02:54:25.142027Z"
    }
   },
   "outputs": [
    {
     "data": {
      "image/png": "[encoded data removed]",
      "text/plain": [
       "<Figure size 576x432 with 1 Axes>"
      ]
     },
     "metadata": {
      "needs_background": "light"
     },
     "output_type": "display_data"
    }
   ],
   "source": [
    "def plot_precision_vs_recall(precisions, recalls):\n",
    "    plt.plot(recalls, precisions, \"b-\", linewidth=2)\n",
    "    plt.title('Precision and Recall Plot')\n",
    "    plt.xlabel(\"Recall\")\n",
    "    plt.ylabel(\"Precision\")\n",
    "    plt.axis([0, 1, 0, 1])\n",
    "    plt.grid(True)\n",
    "\n",
    "plt.figure(figsize=(8, 6))\n",
    "plot_precision_vs_recall(precisions, recalls)\n",
    "plt.plot([0.4368, 0.4368], [0., 0.9], \"r:\")\n",
    "plt.plot([0.0, 0.4368], [0.9, 0.9], \"r:\")\n",
    "plt.plot([0.4368], [0.9], \"ro\")\n",
    "plt.show()"
   ]
  },
  {
   "cell_type": "markdown",
   "metadata": {},
   "source": [
    "##### ROC and AUC Curve"
   ]
  },
  {
   "cell_type": "code",
   "execution_count": 53,
   "metadata": {
    "ExecuteTime": {
     "end_time": "2021-04-11T02:54:25.280131Z",
     "start_time": "2021-04-11T02:54:25.257867Z"
    }
   },
   "outputs": [],
   "source": [
    "fpr, tpr, thresholds = roc_curve(y_feature_engineering_classification_test, y_scores)"
   ]
  },
  {
   "cell_type": "code",
   "execution_count": 54,
   "metadata": {
    "ExecuteTime": {
     "end_time": "2021-04-11T02:54:25.396100Z",
     "start_time": "2021-04-11T02:54:25.280131Z"
    }
   },
   "outputs": [
    {
     "data": {
      "image/png": "[encoded data removed]",
      "text/plain": [
       "<Figure size 576x432 with 1 Axes>"
      ]
     },
     "metadata": {
      "needs_background": "light"
     },
     "output_type": "display_data"
    }
   ],
   "source": [
    "def plot_roc_curve(fpr, tpr, label=None):\n",
    "    plt.plot(fpr, tpr, linewidth=2, label=label)\n",
    "    plt.plot([0, 1], [0, 1], 'k--')\n",
    "    plt.axis([0, 1, 0, 1])\n",
    "    plt.xlabel('False Positive Rate (Fall-Out)')\n",
    "    plt.ylabel('True Positive Rate (Recall)')\n",
    "    plt.grid(True)\n",
    "\n",
    "plt.figure(figsize=(8, 6))\n",
    "plot_roc_curve(fpr, tpr)\n",
    "plt.plot([4.837e-3, 4.837e-3], [0., 0.4368], \"r:\")\n",
    "plt.plot([0.0, 4.837e-3], [0.4368, 0.4368], \"r:\")\n",
    "plt.plot([4.837e-3], [0.4368], \"ro\")\n",
    "plt.show()"
   ]
  },
  {
   "cell_type": "code",
   "execution_count": 55,
   "metadata": {
    "ExecuteTime": {
     "end_time": "2021-04-11T02:54:25.427340Z",
     "start_time": "2021-04-11T02:54:25.396100Z"
    }
   },
   "outputs": [
    {
     "data": {
      "text/plain": [
       "0.7041630058569842"
      ]
     },
     "execution_count": 55,
     "metadata": {},
     "output_type": "execute_result"
    }
   ],
   "source": [
    "roc_auc_score(y_feature_engineering_classification_test, y_scores)"
   ]
  },
  {
   "cell_type": "markdown",
   "metadata": {},
   "source": [
    "##### Predict with some feature"
   ]
  },
  {
   "cell_type": "code",
   "execution_count": 56,
   "metadata": {
    "ExecuteTime": {
     "end_time": "2021-04-11T02:54:25.458590Z",
     "start_time": "2021-04-11T02:54:25.427340Z"
    }
   },
   "outputs": [
    {
     "data": {
      "text/plain": [
       "array([1, 0, 1, 1, 0, 1, 1, 1, 1, 1], dtype=int64)"
      ]
     },
     "execution_count": 56,
     "metadata": {},
     "output_type": "execute_result"
    }
   ],
   "source": [
    "clf.predict(X_feature_engineering_classification_test.iloc[50:60, :])"
   ]
  },
  {
   "cell_type": "code",
   "execution_count": 57,
   "metadata": {
    "ExecuteTime": {
     "end_time": "2021-04-11T02:54:25.480305Z",
     "start_time": "2021-04-11T02:54:25.458590Z"
    }
   },
   "outputs": [
    {
     "data": {
      "text/html": [
       "<div>\n",
       "<style scoped>\n",
       "    .dataframe tbody tr th:only-of-type {\n",
       "        vertical-align: middle;\n",
       "    }\n",
       "\n",
       "    .dataframe tbody tr th {\n",
       "        vertical-align: top;\n",
       "    }\n",
       "\n",
       "    .dataframe thead th {\n",
       "        text-align: right;\n",
       "    }\n",
       "</style>\n",
       "<table border=\"1\" class=\"dataframe\">\n",
       "  <thead>\n",
       "    <tr style=\"text-align: right;\">\n",
       "      <th></th>\n",
       "      <th>churn</th>\n",
       "    </tr>\n",
       "  </thead>\n",
       "  <tbody>\n",
       "    <tr>\n",
       "      <th>50</th>\n",
       "      <td>1</td>\n",
       "    </tr>\n",
       "    <tr>\n",
       "      <th>51</th>\n",
       "      <td>0</td>\n",
       "    </tr>\n",
       "    <tr>\n",
       "      <th>52</th>\n",
       "      <td>1</td>\n",
       "    </tr>\n",
       "    <tr>\n",
       "      <th>53</th>\n",
       "      <td>1</td>\n",
       "    </tr>\n",
       "    <tr>\n",
       "      <th>54</th>\n",
       "      <td>0</td>\n",
       "    </tr>\n",
       "    <tr>\n",
       "      <th>55</th>\n",
       "      <td>1</td>\n",
       "    </tr>\n",
       "    <tr>\n",
       "      <th>56</th>\n",
       "      <td>1</td>\n",
       "    </tr>\n",
       "    <tr>\n",
       "      <th>57</th>\n",
       "      <td>1</td>\n",
       "    </tr>\n",
       "    <tr>\n",
       "      <th>58</th>\n",
       "      <td>1</td>\n",
       "    </tr>\n",
       "    <tr>\n",
       "      <th>59</th>\n",
       "      <td>1</td>\n",
       "    </tr>\n",
       "  </tbody>\n",
       "</table>\n",
       "</div>"
      ],
      "text/plain": [
       "    churn\n",
       "50      1\n",
       "51      0\n",
       "52      1\n",
       "53      1\n",
       "54      0\n",
       "55      1\n",
       "56      1\n",
       "57      1\n",
       "58      1\n",
       "59      1"
      ]
     },
     "execution_count": 57,
     "metadata": {},
     "output_type": "execute_result"
    }
   ],
   "source": [
    "y_feature_engineering_classification_test.iloc[50:60, :]"
   ]
  },
  {
   "cell_type": "markdown",
   "metadata": {},
   "source": [
    "##### Save visualization tree"
   ]
  },
  {
   "cell_type": "code",
   "execution_count": 58,
   "metadata": {
    "ExecuteTime": {
     "end_time": "2021-04-11T02:54:31.304439Z",
     "start_time": "2021-04-11T02:54:25.480305Z"
    }
   },
   "outputs": [
    {
     "data": {
      "text/plain": [
       "'../images/oversampling/classification\\\\feature_engineering_dataset_decision_tree.pdf'"
      ]
     },
     "execution_count": 58,
     "metadata": {},
     "output_type": "execute_result"
    }
   ],
   "source": [
    "feature_engineering_dataset_dot_data = tree.export_graphviz(clf, out_file=None)\n",
    "graph                                = graphviz.Source(feature_engineering_dataset_dot_data)\n",
    "\n",
    "graph.render(\"../images/oversampling/classification/feature_engineering_dataset_decision_tree\")"
   ]
  },
  {
   "cell_type": "markdown",
   "metadata": {
    "slideshow": {
     "slide_type": "subslide"
    }
   },
   "source": [
    "#### Regression"
   ]
  },
  {
   "cell_type": "code",
   "execution_count": 59,
   "metadata": {
    "ExecuteTime": {
     "end_time": "2021-04-11T02:54:31.520729Z",
     "start_time": "2021-04-11T02:54:31.304439Z"
    }
   },
   "outputs": [
    {
     "data": {
      "text/plain": [
       "array([0.99894598, 0.99864772, 0.99877618, 0.99882661, 0.99642218,\n",
       "       0.99914976, 0.99923634, 0.99894156, 0.99922284, 0.99844758])"
      ]
     },
     "execution_count": 59,
     "metadata": {},
     "output_type": "execute_result"
    }
   ],
   "source": [
    "regressor = DecisionTreeRegressor(max_depth=20, random_state=42)\n",
    "cross_val_score(regressor, X_feature_engineering_regression_train, y_feature_engineering_regression_train, cv=10)"
   ]
  },
  {
   "cell_type": "markdown",
   "metadata": {},
   "source": [
    "##### R Squared"
   ]
  },
  {
   "cell_type": "code",
   "execution_count": 60,
   "metadata": {
    "ExecuteTime": {
     "end_time": "2021-04-11T02:54:31.552092Z",
     "start_time": "2021-04-11T02:54:31.520729Z"
    }
   },
   "outputs": [
    {
     "data": {
      "text/plain": [
       "0.9987260593999853"
      ]
     },
     "execution_count": 60,
     "metadata": {},
     "output_type": "execute_result"
    }
   ],
   "source": [
    "regressor.fit(X_feature_engineering_regression_train, y_feature_engineering_regression_train)\n",
    "r2_score(y_feature_engineering_regression_test, regressor.predict(X_feature_engineering_regression_test))"
   ]
  },
  {
   "cell_type": "markdown",
   "metadata": {},
   "source": [
    "##### Explained variance score"
   ]
  },
  {
   "cell_type": "code",
   "execution_count": 61,
   "metadata": {
    "ExecuteTime": {
     "end_time": "2021-04-11T02:54:31.567647Z",
     "start_time": "2021-04-11T02:54:31.552092Z"
    }
   },
   "outputs": [
    {
     "data": {
      "text/plain": [
       "0.9987260597957603"
      ]
     },
     "execution_count": 61,
     "metadata": {},
     "output_type": "execute_result"
    }
   ],
   "source": [
    "explained_variance_score(y_feature_engineering_regression_test, regressor.predict(X_feature_engineering_regression_test))"
   ]
  },
  {
   "cell_type": "markdown",
   "metadata": {},
   "source": [
    "##### Mean Absolute Error"
   ]
  },
  {
   "cell_type": "code",
   "execution_count": 62,
   "metadata": {
    "ExecuteTime": {
     "end_time": "2021-04-11T02:54:31.583331Z",
     "start_time": "2021-04-11T02:54:31.567647Z"
    }
   },
   "outputs": [
    {
     "data": {
      "text/plain": [
       "0.3038647342995169"
      ]
     },
     "execution_count": 62,
     "metadata": {},
     "output_type": "execute_result"
    }
   ],
   "source": [
    "mean_absolute_error(y_feature_engineering_regression_test, regressor.predict(X_feature_engineering_regression_test))"
   ]
  },
  {
   "cell_type": "markdown",
   "metadata": {},
   "source": [
    "##### Root Mean Squared Error"
   ]
  },
  {
   "cell_type": "code",
   "execution_count": 63,
   "metadata": {
    "ExecuteTime": {
     "end_time": "2021-04-11T02:54:31.598959Z",
     "start_time": "2021-04-11T02:54:31.583331Z"
    }
   },
   "outputs": [
    {
     "data": {
      "text/plain": [
       "0.8667224062343138"
      ]
     },
     "execution_count": 63,
     "metadata": {},
     "output_type": "execute_result"
    }
   ],
   "source": [
    "mean_squared_error(y_feature_engineering_regression_test, regressor.predict(X_feature_engineering_regression_test))** 0.5"
   ]
  },
  {
   "cell_type": "markdown",
   "metadata": {},
   "source": [
    "##### Predict with some feature"
   ]
  },
  {
   "cell_type": "code",
   "execution_count": 64,
   "metadata": {
    "ExecuteTime": {
     "end_time": "2021-04-11T02:54:31.620613Z",
     "start_time": "2021-04-11T02:54:31.598959Z"
    }
   },
   "outputs": [
    {
     "data": {
      "text/plain": [
       "array([18., 42.,  2., 18.,  7.,  1., 48.,  3., 12., 27.])"
      ]
     },
     "execution_count": 64,
     "metadata": {},
     "output_type": "execute_result"
    }
   ],
   "source": [
    "regressor.predict(X_feature_engineering_regression_test.iloc[50:60, 0:19])"
   ]
  },
  {
   "cell_type": "code",
   "execution_count": 65,
   "metadata": {
    "ExecuteTime": {
     "end_time": "2021-04-11T02:54:31.636240Z",
     "start_time": "2021-04-11T02:54:31.620613Z"
    }
   },
   "outputs": [
    {
     "data": {
      "text/html": [
       "<div>\n",
       "<style scoped>\n",
       "    .dataframe tbody tr th:only-of-type {\n",
       "        vertical-align: middle;\n",
       "    }\n",
       "\n",
       "    .dataframe tbody tr th {\n",
       "        vertical-align: top;\n",
       "    }\n",
       "\n",
       "    .dataframe thead th {\n",
       "        text-align: right;\n",
       "    }\n",
       "</style>\n",
       "<table border=\"1\" class=\"dataframe\">\n",
       "  <thead>\n",
       "    <tr style=\"text-align: right;\">\n",
       "      <th></th>\n",
       "      <th>tenure</th>\n",
       "    </tr>\n",
       "  </thead>\n",
       "  <tbody>\n",
       "    <tr>\n",
       "      <th>50</th>\n",
       "      <td>18</td>\n",
       "    </tr>\n",
       "    <tr>\n",
       "      <th>51</th>\n",
       "      <td>55</td>\n",
       "    </tr>\n",
       "    <tr>\n",
       "      <th>52</th>\n",
       "      <td>2</td>\n",
       "    </tr>\n",
       "    <tr>\n",
       "      <th>53</th>\n",
       "      <td>18</td>\n",
       "    </tr>\n",
       "    <tr>\n",
       "      <th>54</th>\n",
       "      <td>7</td>\n",
       "    </tr>\n",
       "    <tr>\n",
       "      <th>55</th>\n",
       "      <td>1</td>\n",
       "    </tr>\n",
       "    <tr>\n",
       "      <th>56</th>\n",
       "      <td>48</td>\n",
       "    </tr>\n",
       "    <tr>\n",
       "      <th>57</th>\n",
       "      <td>3</td>\n",
       "    </tr>\n",
       "    <tr>\n",
       "      <th>58</th>\n",
       "      <td>12</td>\n",
       "    </tr>\n",
       "    <tr>\n",
       "      <th>59</th>\n",
       "      <td>27</td>\n",
       "    </tr>\n",
       "  </tbody>\n",
       "</table>\n",
       "</div>"
      ],
      "text/plain": [
       "    tenure\n",
       "50      18\n",
       "51      55\n",
       "52       2\n",
       "53      18\n",
       "54       7\n",
       "55       1\n",
       "56      48\n",
       "57       3\n",
       "58      12\n",
       "59      27"
      ]
     },
     "execution_count": 65,
     "metadata": {},
     "output_type": "execute_result"
    }
   ],
   "source": [
    "y_feature_engineering_regression_test[50:60]"
   ]
  },
  {
   "cell_type": "markdown",
   "metadata": {},
   "source": [
    "##### Save visualization tree"
   ]
  },
  {
   "cell_type": "code",
   "execution_count": 66,
   "metadata": {
    "ExecuteTime": {
     "end_time": "2021-04-11T02:54:46.067658Z",
     "start_time": "2021-04-11T02:54:31.636240Z"
    }
   },
   "outputs": [
    {
     "data": {
      "text/plain": [
       "'../images/oversampling/regression\\\\feature_engineering_dataset_decision_tree.pdf'"
      ]
     },
     "execution_count": 66,
     "metadata": {},
     "output_type": "execute_result"
    }
   ],
   "source": [
    "feature_engineering_dataset_dot_data = tree.export_graphviz(regressor, out_file=None)\n",
    "graph                                = graphviz.Source(feature_engineering_dataset_dot_data)\n",
    "\n",
    "graph.render(\"../images/oversampling/regression/feature_engineering_dataset_decision_tree\")"
   ]
  },
  {
   "cell_type": "markdown",
   "metadata": {
    "slideshow": {
     "slide_type": "subslide"
    }
   },
   "source": [
    "### PCA Dataset"
   ]
  },
  {
   "cell_type": "markdown",
   "metadata": {},
   "source": [
    "#### Classification"
   ]
  },
  {
   "cell_type": "markdown",
   "metadata": {},
   "source": [
    "##### Validation Curve for hyperparameter max_depth"
   ]
  },
  {
   "cell_type": "code",
   "execution_count": 67,
   "metadata": {
    "ExecuteTime": {
     "end_time": "2021-04-11T02:54:47.976471Z",
     "start_time": "2021-04-11T02:54:46.067658Z"
    }
   },
   "outputs": [
    {
     "data": {
      "image/png": "[encoded data removed]",
      "text/plain": [
       "<Figure size 432x288 with 1 Axes>"
      ]
     },
     "metadata": {
      "needs_background": "light"
     },
     "output_type": "display_data"
    }
   ],
   "source": [
    "param_range = np.arange(1, 21, 1)\n",
    "train_scores, test_scores = validation_curve(DecisionTreeClassifier(criterion='entropy', random_state=42), X_PCA_classification_train, y_PCA_classification_train, param_name=\"max_depth\", param_range=param_range,scoring=\"accuracy\", cv=10, n_jobs=3)\n",
    "train_scores_mean = np.mean(train_scores, axis=1)\n",
    "train_scores_std = np.std(train_scores, axis=1)\n",
    "test_scores_mean = np.mean(test_scores, axis=1)\n",
    "test_scores_std = np.std(test_scores, axis=1)\n",
    "\n",
    "plt.title(\"Validation Curve with Decision Tree Classifier\")\n",
    "plt.xlabel(\"max_depth\")\n",
    "plt.ylabel(\"Score\")\n",
    "plt.ylim(0.0, 1.1)\n",
    "lw = 2\n",
    "\n",
    "plt.semilogx(param_range, train_scores_mean, label=\"Training score\", color=\"darkorange\", lw=lw)\n",
    "plt.fill_between(param_range, train_scores_mean - train_scores_std, train_scores_mean + train_scores_std, alpha=0.2, color=\"darkorange\", lw=lw)\n",
    "\n",
    "plt.semilogx(param_range, test_scores_mean, label=\"Cross-validation score\", color=\"navy\", lw=lw)\n",
    "plt.fill_between(param_range, test_scores_mean - test_scores_std, test_scores_mean + test_scores_std, alpha=0.2, color=\"navy\", lw=lw)\n",
    "\n",
    "plt.legend(loc=\"best\")\n",
    "plt.show()"
   ]
  },
  {
   "cell_type": "code",
   "execution_count": 68,
   "metadata": {
    "ExecuteTime": {
     "end_time": "2021-04-11T02:54:48.016857Z",
     "start_time": "2021-04-11T02:54:47.978534Z"
    }
   },
   "outputs": [
    {
     "data": {
      "text/plain": [
       "DecisionTreeClassifier(criterion='entropy', max_depth=4, random_state=42)"
      ]
     },
     "execution_count": 68,
     "metadata": {},
     "output_type": "execute_result"
    }
   ],
   "source": [
    "clf = DecisionTreeClassifier(max_depth=4, criterion='entropy', random_state=42)\n",
    "clf.fit(X_PCA_classification_train, y_PCA_classification_train)"
   ]
  },
  {
   "cell_type": "code",
   "execution_count": 69,
   "metadata": {
    "ExecuteTime": {
     "end_time": "2021-04-11T02:54:48.416014Z",
     "start_time": "2021-04-11T02:54:48.018897Z"
    }
   },
   "outputs": [],
   "source": [
    "accuracy_scores = []\n",
    "\n",
    "for i in range(1, 22):\n",
    "    clf = DecisionTreeClassifier(max_depth=i, criterion='entropy', random_state=42)\n",
    "\n",
    "    clf.fit(X_PCA_classification_train, y_PCA_classification_train)\n",
    "    accuracy_score_n = accuracy_score(y_PCA_classification_test, clf.predict(X_PCA_classification_test))\n",
    "    \n",
    "    accuracy_scores.append(accuracy_score_n)"
   ]
  },
  {
   "cell_type": "code",
   "execution_count": 70,
   "metadata": {
    "ExecuteTime": {
     "end_time": "2021-04-11T02:54:48.431609Z",
     "start_time": "2021-04-11T02:54:48.416014Z"
    }
   },
   "outputs": [
    {
     "name": "stdout",
     "output_type": "stream",
     "text": [
      "max_depth 1 : 0.610145%\n",
      "max_depth 2 : 0.610145%\n",
      "max_depth 3 : 0.619807%\n",
      "max_depth 4 : 0.621256%\n",
      "max_depth 5 : 0.630435%\n",
      "max_depth 6 : 0.628986%\n",
      "max_depth 7 : 0.634783%\n",
      "max_depth 8 : 0.632367%\n",
      "max_depth 9 : 0.644928%\n",
      "max_depth 10 : 0.644928%\n",
      "max_depth 11 : 0.643478%\n",
      "max_depth 12 : 0.654589%\n",
      "max_depth 13 : 0.664251%\n",
      "max_depth 14 : 0.667150%\n",
      "max_depth 15 : 0.669082%\n",
      "max_depth 16 : 0.682126%\n",
      "max_depth 17 : 0.694686%\n",
      "max_depth 18 : 0.705797%\n",
      "max_depth 19 : 0.702899%\n",
      "max_depth 20 : 0.718357%\n"
     ]
    }
   ],
   "source": [
    "for i in range(1, 21):\n",
    "    print(f'max_depth {i} : {accuracy_scores[i]:.6f}%')"
   ]
  },
  {
   "cell_type": "markdown",
   "metadata": {},
   "source": [
    "##### Cross Validation Score"
   ]
  },
  {
   "cell_type": "code",
   "execution_count": 71,
   "metadata": {
    "ExecuteTime": {
     "end_time": "2021-04-11T02:54:48.554137Z",
     "start_time": "2021-04-11T02:54:48.431609Z"
    }
   },
   "outputs": [
    {
     "data": {
      "text/plain": [
       "array([0.61352657, 0.61835749, 0.62318841, 0.64251208, 0.647343  ,\n",
       "       0.64251208, 0.64251208, 0.59903382, 0.67149758, 0.60869565])"
      ]
     },
     "execution_count": 71,
     "metadata": {},
     "output_type": "execute_result"
    }
   ],
   "source": [
    "cross_val_score(clf, X_PCA_classification_test, y_PCA_classification_test, cv=10)"
   ]
  },
  {
   "cell_type": "markdown",
   "metadata": {},
   "source": [
    "##### Precision"
   ]
  },
  {
   "cell_type": "code",
   "execution_count": 72,
   "metadata": {
    "ExecuteTime": {
     "end_time": "2021-04-11T02:54:48.569744Z",
     "start_time": "2021-04-11T02:54:48.554137Z"
    }
   },
   "outputs": [],
   "source": [
    "y_test_pred = clf.predict(X_PCA_classification_test)"
   ]
  },
  {
   "cell_type": "code",
   "execution_count": 73,
   "metadata": {
    "ExecuteTime": {
     "end_time": "2021-04-11T02:54:48.585375Z",
     "start_time": "2021-04-11T02:54:48.569744Z"
    }
   },
   "outputs": [
    {
     "name": "stdout",
     "output_type": "stream",
     "text": [
      "Precision: 71.53%\n"
     ]
    }
   ],
   "source": [
    "print(f'Precision: {round(precision_score(np.ravel(y_PCA_classification_test), y_test_pred) * 100, 2)}%')"
   ]
  },
  {
   "cell_type": "markdown",
   "metadata": {
    "ExecuteTime": {
     "end_time": "2021-03-31T08:59:47.633427Z",
     "start_time": "2021-03-31T08:59:47.619284Z"
    }
   },
   "source": [
    "##### Recall"
   ]
  },
  {
   "cell_type": "code",
   "execution_count": 74,
   "metadata": {
    "ExecuteTime": {
     "end_time": "2021-04-11T02:54:48.601000Z",
     "start_time": "2021-04-11T02:54:48.585375Z"
    }
   },
   "outputs": [
    {
     "name": "stdout",
     "output_type": "stream",
     "text": [
      "Recall: 73.78%\n"
     ]
    }
   ],
   "source": [
    "print(f'Recall: {round(recall_score(np.ravel(y_PCA_classification_test), y_test_pred) * 100, 2)}%')"
   ]
  },
  {
   "cell_type": "markdown",
   "metadata": {},
   "source": [
    "##### F1-Score"
   ]
  },
  {
   "cell_type": "code",
   "execution_count": 75,
   "metadata": {
    "ExecuteTime": {
     "end_time": "2021-04-11T02:54:48.616592Z",
     "start_time": "2021-04-11T02:54:48.601000Z"
    }
   },
   "outputs": [
    {
     "name": "stdout",
     "output_type": "stream",
     "text": [
      "F-1 Score: 72.64%\n"
     ]
    }
   ],
   "source": [
    "print(f'F-1 Score: {round(f1_score(np.ravel(y_PCA_classification_test), y_test_pred) * 100, 2)}%')"
   ]
  },
  {
   "cell_type": "markdown",
   "metadata": {},
   "source": [
    "##### Classification Report\n",
    "Untuk melihat precision, recall, f1-score, dan accuracy dari setiap kelas secara keseluruhan."
   ]
  },
  {
   "cell_type": "code",
   "execution_count": 76,
   "metadata": {
    "ExecuteTime": {
     "end_time": "2021-04-11T02:54:48.632251Z",
     "start_time": "2021-04-11T02:54:48.616592Z"
    }
   },
   "outputs": [
    {
     "name": "stdout",
     "output_type": "stream",
     "text": [
      "              precision    recall  f1-score   support\n",
      "\n",
      "           0       0.72      0.70      0.71      1021\n",
      "           1       0.72      0.74      0.73      1049\n",
      "\n",
      "    accuracy                           0.72      2070\n",
      "   macro avg       0.72      0.72      0.72      2070\n",
      "weighted avg       0.72      0.72      0.72      2070\n",
      "\n"
     ]
    }
   ],
   "source": [
    "print(classification_report(y_PCA_classification_test, y_test_pred))"
   ]
  },
  {
   "cell_type": "markdown",
   "metadata": {},
   "source": [
    "##### Precision-Recall Trade off - Precision Recall VS Threshold Plot"
   ]
  },
  {
   "cell_type": "code",
   "execution_count": 77,
   "metadata": {
    "ExecuteTime": {
     "end_time": "2021-04-11T02:54:48.670042Z",
     "start_time": "2021-04-11T02:54:48.632251Z"
    }
   },
   "outputs": [],
   "source": [
    "y_scores = cross_val_predict(clf, X_PCA_classification_test, np.ravel(y_PCA_classification_test), cv=3,)\n",
    "precisions, recalls, thresholds = precision_recall_curve(y_PCA_classification_test, y_scores)"
   ]
  },
  {
   "cell_type": "code",
   "execution_count": 78,
   "metadata": {
    "ExecuteTime": {
     "end_time": "2021-04-11T02:54:48.786012Z",
     "start_time": "2021-04-11T02:54:48.670042Z"
    }
   },
   "outputs": [
    {
     "data": {
      "image/png": "[encoded data removed]",
      "text/plain": [
       "<Figure size 576x432 with 1 Axes>"
      ]
     },
     "metadata": {
      "needs_background": "light"
     },
     "output_type": "display_data"
    }
   ],
   "source": [
    "def plot_precision_vs_recall(precisions, recalls):\n",
    "    plt.plot(recalls, precisions, \"b-\", linewidth=2)\n",
    "    plt.title('Precision and Recall Plot')\n",
    "    plt.xlabel(\"Recall\")\n",
    "    plt.ylabel(\"Precision\")\n",
    "    plt.axis([0, 1, 0, 1])\n",
    "    plt.grid(True)\n",
    "\n",
    "plt.figure(figsize=(8, 6))\n",
    "plot_precision_vs_recall(precisions, recalls)\n",
    "plt.plot([0.4368, 0.4368], [0., 0.9], \"r:\")\n",
    "plt.plot([0.0, 0.4368], [0.9, 0.9], \"r:\")\n",
    "plt.plot([0.4368], [0.9], \"ro\")\n",
    "plt.show()"
   ]
  },
  {
   "cell_type": "markdown",
   "metadata": {},
   "source": [
    "##### Precision-Recall Trade off - Precision Recall VS Threshold Plot"
   ]
  },
  {
   "cell_type": "code",
   "execution_count": 79,
   "metadata": {
    "ExecuteTime": {
     "end_time": "2021-04-11T02:54:48.801743Z",
     "start_time": "2021-04-11T02:54:48.786012Z"
    }
   },
   "outputs": [],
   "source": [
    "fpr, tpr, thresholds = roc_curve(y_PCA_classification_test, y_scores)"
   ]
  },
  {
   "cell_type": "code",
   "execution_count": 80,
   "metadata": {
    "ExecuteTime": {
     "end_time": "2021-04-11T02:54:49.002333Z",
     "start_time": "2021-04-11T02:54:48.801743Z"
    }
   },
   "outputs": [
    {
     "data": {
      "image/png": "[encoded data removed]",
      "text/plain": [
       "<Figure size 576x432 with 1 Axes>"
      ]
     },
     "metadata": {
      "needs_background": "light"
     },
     "output_type": "display_data"
    }
   ],
   "source": [
    "def plot_roc_curve(fpr, tpr, label=None):\n",
    "    plt.plot(fpr, tpr, linewidth=2, label=label)\n",
    "    plt.plot([0, 1], [0, 1], 'k--')\n",
    "    plt.axis([0, 1, 0, 1])\n",
    "    plt.xlabel('False Positive Rate (Fall-Out)')\n",
    "    plt.ylabel('True Positive Rate (Recall)')\n",
    "    plt.grid(True)\n",
    "\n",
    "plt.figure(figsize=(8, 6))\n",
    "plot_roc_curve(fpr, tpr)\n",
    "plt.plot([4.837e-3, 4.837e-3], [0., 0.4368], \"r:\")\n",
    "plt.plot([0.0, 4.837e-3], [0.4368, 0.4368], \"r:\")\n",
    "plt.plot([4.837e-3], [0.4368], \"ro\")\n",
    "plt.show()"
   ]
  },
  {
   "cell_type": "code",
   "execution_count": 81,
   "metadata": {
    "ExecuteTime": {
     "end_time": "2021-04-11T02:54:49.017971Z",
     "start_time": "2021-04-11T02:54:49.002333Z"
    }
   },
   "outputs": [
    {
     "data": {
      "text/plain": [
       "0.6176158628757952"
      ]
     },
     "execution_count": 81,
     "metadata": {},
     "output_type": "execute_result"
    }
   ],
   "source": [
    "roc_auc_score(y_PCA_classification_test, y_scores)"
   ]
  },
  {
   "cell_type": "markdown",
   "metadata": {},
   "source": [
    "##### Predict with some feature"
   ]
  },
  {
   "cell_type": "code",
   "execution_count": 82,
   "metadata": {
    "ExecuteTime": {
     "end_time": "2021-04-11T02:54:49.033589Z",
     "start_time": "2021-04-11T02:54:49.017971Z"
    }
   },
   "outputs": [
    {
     "data": {
      "text/plain": [
       "array([0, 0, 1, 1, 1, 1, 0, 1, 1, 1], dtype=int64)"
      ]
     },
     "execution_count": 82,
     "metadata": {},
     "output_type": "execute_result"
    }
   ],
   "source": [
    "clf.predict(X_PCA_classification_test.iloc[50:60, :])"
   ]
  },
  {
   "cell_type": "code",
   "execution_count": 83,
   "metadata": {
    "ExecuteTime": {
     "end_time": "2021-04-11T02:54:49.055741Z",
     "start_time": "2021-04-11T02:54:49.033589Z"
    }
   },
   "outputs": [
    {
     "data": {
      "text/html": [
       "<div>\n",
       "<style scoped>\n",
       "    .dataframe tbody tr th:only-of-type {\n",
       "        vertical-align: middle;\n",
       "    }\n",
       "\n",
       "    .dataframe tbody tr th {\n",
       "        vertical-align: top;\n",
       "    }\n",
       "\n",
       "    .dataframe thead th {\n",
       "        text-align: right;\n",
       "    }\n",
       "</style>\n",
       "<table border=\"1\" class=\"dataframe\">\n",
       "  <thead>\n",
       "    <tr style=\"text-align: right;\">\n",
       "      <th></th>\n",
       "      <th>churn</th>\n",
       "    </tr>\n",
       "  </thead>\n",
       "  <tbody>\n",
       "    <tr>\n",
       "      <th>50</th>\n",
       "      <td>1</td>\n",
       "    </tr>\n",
       "    <tr>\n",
       "      <th>51</th>\n",
       "      <td>0</td>\n",
       "    </tr>\n",
       "    <tr>\n",
       "      <th>52</th>\n",
       "      <td>1</td>\n",
       "    </tr>\n",
       "    <tr>\n",
       "      <th>53</th>\n",
       "      <td>1</td>\n",
       "    </tr>\n",
       "    <tr>\n",
       "      <th>54</th>\n",
       "      <td>0</td>\n",
       "    </tr>\n",
       "    <tr>\n",
       "      <th>55</th>\n",
       "      <td>1</td>\n",
       "    </tr>\n",
       "    <tr>\n",
       "      <th>56</th>\n",
       "      <td>1</td>\n",
       "    </tr>\n",
       "    <tr>\n",
       "      <th>57</th>\n",
       "      <td>1</td>\n",
       "    </tr>\n",
       "    <tr>\n",
       "      <th>58</th>\n",
       "      <td>1</td>\n",
       "    </tr>\n",
       "    <tr>\n",
       "      <th>59</th>\n",
       "      <td>1</td>\n",
       "    </tr>\n",
       "  </tbody>\n",
       "</table>\n",
       "</div>"
      ],
      "text/plain": [
       "    churn\n",
       "50      1\n",
       "51      0\n",
       "52      1\n",
       "53      1\n",
       "54      0\n",
       "55      1\n",
       "56      1\n",
       "57      1\n",
       "58      1\n",
       "59      1"
      ]
     },
     "execution_count": 83,
     "metadata": {},
     "output_type": "execute_result"
    }
   ],
   "source": [
    "y_PCA_classification_test.iloc[50:60, :]"
   ]
  },
  {
   "cell_type": "markdown",
   "metadata": {},
   "source": [
    "##### Save visualization tree"
   ]
  },
  {
   "cell_type": "code",
   "execution_count": 84,
   "metadata": {
    "ExecuteTime": {
     "end_time": "2021-04-11T02:54:51.675442Z",
     "start_time": "2021-04-11T02:54:49.055741Z"
    }
   },
   "outputs": [
    {
     "data": {
      "text/plain": [
       "'../images/oversampling/classification\\\\PCA_dataset_decision_tree.pdf'"
      ]
     },
     "execution_count": 84,
     "metadata": {},
     "output_type": "execute_result"
    }
   ],
   "source": [
    "PCA_dataset_dot_data = tree.export_graphviz(clf, out_file=None)\n",
    "graph                = graphviz.Source(PCA_dataset_dot_data)\n",
    "\n",
    "graph.render(\"../images/oversampling/classification/PCA_dataset_decision_tree\")"
   ]
  },
  {
   "cell_type": "markdown",
   "metadata": {
    "slideshow": {
     "slide_type": "subslide"
    }
   },
   "source": [
    "#### Regression"
   ]
  },
  {
   "cell_type": "code",
   "execution_count": 85,
   "metadata": {
    "ExecuteTime": {
     "end_time": "2021-04-11T02:54:51.775794Z",
     "start_time": "2021-04-11T02:54:51.675442Z"
    }
   },
   "outputs": [
    {
     "data": {
      "text/plain": [
       "array([0.99855607, 0.9988851 , 0.99855773, 0.9983405 , 0.99733508,\n",
       "       0.99855957, 0.99735235, 0.99559999, 0.99702172, 0.99782105])"
      ]
     },
     "execution_count": 85,
     "metadata": {},
     "output_type": "execute_result"
    }
   ],
   "source": [
    "regressor = DecisionTreeRegressor(max_depth=20, random_state=42)\n",
    "cross_val_score(regressor, X_PCA_regression_test, y_PCA_regression_test, cv=10)"
   ]
  },
  {
   "cell_type": "markdown",
   "metadata": {},
   "source": [
    "##### R Squared"
   ]
  },
  {
   "cell_type": "code",
   "execution_count": 86,
   "metadata": {
    "ExecuteTime": {
     "end_time": "2021-04-11T02:54:51.807051Z",
     "start_time": "2021-04-11T02:54:51.775794Z"
    }
   },
   "outputs": [
    {
     "data": {
      "text/plain": [
       "0.9995510485859755"
      ]
     },
     "execution_count": 86,
     "metadata": {},
     "output_type": "execute_result"
    }
   ],
   "source": [
    "regressor.fit(X_PCA_regression_train, y_PCA_regression_train)\n",
    "r2_score(y_PCA_regression_test, regressor.predict(X_PCA_regression_test))"
   ]
  },
  {
   "cell_type": "markdown",
   "metadata": {},
   "source": [
    "##### Explained variance score"
   ]
  },
  {
   "cell_type": "code",
   "execution_count": 87,
   "metadata": {
    "ExecuteTime": {
     "end_time": "2021-04-11T02:54:51.822638Z",
     "start_time": "2021-04-11T02:54:51.807051Z"
    }
   },
   "outputs": [
    {
     "data": {
      "text/plain": [
       "0.9995511055775863"
      ]
     },
     "execution_count": 87,
     "metadata": {},
     "output_type": "execute_result"
    }
   ],
   "source": [
    "explained_variance_score(y_PCA_regression_test, regressor.predict(X_PCA_regression_test))"
   ]
  },
  {
   "cell_type": "markdown",
   "metadata": {},
   "source": [
    "##### Mean Absolute Error"
   ]
  },
  {
   "cell_type": "code",
   "execution_count": 88,
   "metadata": {
    "ExecuteTime": {
     "end_time": "2021-04-11T02:54:51.838259Z",
     "start_time": "2021-04-11T02:54:51.822638Z"
    }
   },
   "outputs": [
    {
     "data": {
      "text/plain": [
       "0.1826086956521739"
      ]
     },
     "execution_count": 88,
     "metadata": {},
     "output_type": "execute_result"
    }
   ],
   "source": [
    "mean_absolute_error(y_PCA_regression_test, regressor.predict(X_PCA_regression_test))"
   ]
  },
  {
   "cell_type": "markdown",
   "metadata": {},
   "source": [
    "##### Root Mean Squared Error"
   ]
  },
  {
   "cell_type": "code",
   "execution_count": 89,
   "metadata": {
    "ExecuteTime": {
     "end_time": "2021-04-11T02:54:51.853908Z",
     "start_time": "2021-04-11T02:54:51.838259Z"
    }
   },
   "outputs": [
    {
     "data": {
      "text/plain": [
       "0.5145233712057288"
      ]
     },
     "execution_count": 89,
     "metadata": {},
     "output_type": "execute_result"
    }
   ],
   "source": [
    "mean_squared_error(y_PCA_regression_test, regressor.predict(X_PCA_regression_test))** 0.5"
   ]
  },
  {
   "cell_type": "markdown",
   "metadata": {},
   "source": [
    "##### Predict with some feature"
   ]
  },
  {
   "cell_type": "code",
   "execution_count": 90,
   "metadata": {
    "ExecuteTime": {
     "end_time": "2021-04-11T02:54:51.875647Z",
     "start_time": "2021-04-11T02:54:51.853908Z"
    }
   },
   "outputs": [
    {
     "data": {
      "text/plain": [
       "array([18., 54.,  2., 18.,  7.,  1., 48.,  3., 12., 27.])"
      ]
     },
     "execution_count": 90,
     "metadata": {},
     "output_type": "execute_result"
    }
   ],
   "source": [
    "regressor.predict(X_PCA_regression_test.iloc[50:60, 0:26])"
   ]
  },
  {
   "cell_type": "code",
   "execution_count": 91,
   "metadata": {
    "ExecuteTime": {
     "end_time": "2021-04-11T02:54:51.891215Z",
     "start_time": "2021-04-11T02:54:51.875647Z"
    }
   },
   "outputs": [
    {
     "data": {
      "text/html": [
       "<div>\n",
       "<style scoped>\n",
       "    .dataframe tbody tr th:only-of-type {\n",
       "        vertical-align: middle;\n",
       "    }\n",
       "\n",
       "    .dataframe tbody tr th {\n",
       "        vertical-align: top;\n",
       "    }\n",
       "\n",
       "    .dataframe thead th {\n",
       "        text-align: right;\n",
       "    }\n",
       "</style>\n",
       "<table border=\"1\" class=\"dataframe\">\n",
       "  <thead>\n",
       "    <tr style=\"text-align: right;\">\n",
       "      <th></th>\n",
       "      <th>tenure</th>\n",
       "    </tr>\n",
       "  </thead>\n",
       "  <tbody>\n",
       "    <tr>\n",
       "      <th>50</th>\n",
       "      <td>18</td>\n",
       "    </tr>\n",
       "    <tr>\n",
       "      <th>51</th>\n",
       "      <td>55</td>\n",
       "    </tr>\n",
       "    <tr>\n",
       "      <th>52</th>\n",
       "      <td>2</td>\n",
       "    </tr>\n",
       "    <tr>\n",
       "      <th>53</th>\n",
       "      <td>18</td>\n",
       "    </tr>\n",
       "    <tr>\n",
       "      <th>54</th>\n",
       "      <td>7</td>\n",
       "    </tr>\n",
       "    <tr>\n",
       "      <th>55</th>\n",
       "      <td>1</td>\n",
       "    </tr>\n",
       "    <tr>\n",
       "      <th>56</th>\n",
       "      <td>48</td>\n",
       "    </tr>\n",
       "    <tr>\n",
       "      <th>57</th>\n",
       "      <td>3</td>\n",
       "    </tr>\n",
       "    <tr>\n",
       "      <th>58</th>\n",
       "      <td>12</td>\n",
       "    </tr>\n",
       "    <tr>\n",
       "      <th>59</th>\n",
       "      <td>27</td>\n",
       "    </tr>\n",
       "  </tbody>\n",
       "</table>\n",
       "</div>"
      ],
      "text/plain": [
       "    tenure\n",
       "50      18\n",
       "51      55\n",
       "52       2\n",
       "53      18\n",
       "54       7\n",
       "55       1\n",
       "56      48\n",
       "57       3\n",
       "58      12\n",
       "59      27"
      ]
     },
     "execution_count": 91,
     "metadata": {},
     "output_type": "execute_result"
    }
   ],
   "source": [
    "y_PCA_regression_test[50:60]"
   ]
  },
  {
   "cell_type": "markdown",
   "metadata": {},
   "source": [
    "##### Save visualization tree"
   ]
  },
  {
   "cell_type": "code",
   "execution_count": 92,
   "metadata": {
    "ExecuteTime": {
     "end_time": "2021-04-11T02:55:01.182200Z",
     "start_time": "2021-04-11T02:54:51.891215Z"
    }
   },
   "outputs": [
    {
     "data": {
      "text/plain": [
       "'../images/oversampling/regression\\\\PCA_dataset_decision_tree.pdf'"
      ]
     },
     "execution_count": 92,
     "metadata": {},
     "output_type": "execute_result"
    }
   ],
   "source": [
    "PCA_dataset_dot_data = tree.export_graphviz(regressor, out_file=None)\n",
    "graph                = graphviz.Source(PCA_dataset_dot_data)\n",
    "\n",
    "graph.render(\"../images/oversampling/regression/PCA_dataset_decision_tree\")"
   ]
  },
  {
   "cell_type": "markdown",
   "metadata": {
    "slideshow": {
     "slide_type": "slide"
    }
   },
   "source": [
    "#  Learning curves"
   ]
  },
  {
   "cell_type": "markdown",
   "metadata": {},
   "source": [
    "## Classification Model"
   ]
  },
  {
   "cell_type": "markdown",
   "metadata": {
    "slideshow": {
     "slide_type": "-"
    }
   },
   "source": [
    "### Create function"
   ]
  },
  {
   "cell_type": "code",
   "execution_count": 93,
   "metadata": {
    "ExecuteTime": {
     "end_time": "2021-04-11T02:55:01.204416Z",
     "start_time": "2021-04-11T02:55:01.182200Z"
    }
   },
   "outputs": [],
   "source": [
    "def plot_learning_curve(estimator, title, X, y, axes=None, ylim=None, cv=None, n_jobs=None, train_sizes=np.linspace(.1, 1.0, 5)): \n",
    "    if axes is None:\n",
    "        _, axes = plt.subplots(1, 3, figsize=(20, 5))\n",
    "\n",
    "    axes[0].set_title(title)\n",
    "    \n",
    "    if ylim is not None:\n",
    "        axes[0].set_ylim(*ylim)\n",
    "    \n",
    "    axes[0].set_xlabel(\"Training examples\")\n",
    "    axes[0].set_ylabel(\"Score\")\n",
    "\n",
    "    train_sizes, train_scores, test_scores, fit_times, _ = learning_curve(estimator, X_feature_engineering_classification_train, y_feature_engineering_classification_train, cv=cv, n_jobs=n_jobs,train_sizes=train_sizes,return_times=True)\n",
    "    \n",
    "    train_scores_mean = np.mean(train_scores, axis=1)\n",
    "    train_scores_std  = np.std(train_scores, axis=1)\n",
    "    test_scores_mean  = np.mean(test_scores, axis=1)\n",
    "    test_scores_std   = np.std(test_scores, axis=1)\n",
    "    fit_times_mean    = np.mean(fit_times, axis=1)\n",
    "    fit_times_std     = np.std(fit_times, axis=1)\n",
    "\n",
    "    # Plot learning curve\n",
    "    axes[0].grid()\n",
    "    axes[0].fill_between(train_sizes, train_scores_mean - train_scores_std, train_scores_mean + train_scores_std, alpha=0.1, color=\"r\")\n",
    "    axes[0].fill_between(train_sizes, test_scores_mean - test_scores_std, test_scores_mean + test_scores_std, alpha=0.1, color=\"g\")\n",
    "    axes[0].plot(train_sizes, train_scores_mean, '-', color=\"r\", label=\"Training score\")\n",
    "    axes[0].plot(train_sizes, test_scores_mean, '-', color=\"g\", label=\"Cross-validation score\")\n",
    "    axes[0].legend(loc=\"best\")\n",
    "\n",
    "    # Plot n_samples vs fit_times\n",
    "    axes[1].grid()\n",
    "    axes[1].plot(train_sizes, fit_times_mean, '-')\n",
    "    axes[1].fill_between(train_sizes, fit_times_mean - fit_times_std, fit_times_mean + fit_times_std, alpha=0.1)\n",
    "    axes[1].set_xlabel(\"Training examples\")\n",
    "    axes[1].set_ylabel(\"fit_times\")\n",
    "    axes[1].set_title(\"Scalability of the model\")\n",
    "\n",
    "    # Plot fit_time vs score\n",
    "    axes[2].grid()\n",
    "    axes[2].plot(fit_times_mean, test_scores_mean, '-')\n",
    "    axes[2].fill_between(fit_times_mean, test_scores_mean - test_scores_std, test_scores_mean + test_scores_std, alpha=0.1)\n",
    "    axes[2].set_xlabel(\"fit_times\")\n",
    "    axes[2].set_ylabel(\"Score\")\n",
    "    axes[2].set_title(\"Performance of the model\")\n",
    "\n",
    "    return plt"
   ]
  },
  {
   "cell_type": "markdown",
   "metadata": {
    "slideshow": {
     "slide_type": "subslide"
    }
   },
   "source": [
    "### Plotting Learning Curves"
   ]
  },
  {
   "cell_type": "code",
   "execution_count": 94,
   "metadata": {
    "ExecuteTime": {
     "end_time": "2021-04-11T02:55:03.163932Z",
     "start_time": "2021-04-11T02:55:01.204416Z"
    },
    "scrolled": false
   },
   "outputs": [
    {
     "data": {
      "image/png": "[encoded data removed]",
      "text/plain": [
       "<Figure size 1080x1440 with 9 Axes>"
      ]
     },
     "metadata": {
      "needs_background": "light"
     },
     "output_type": "display_data"
    }
   ],
   "source": [
    "fig, axes = plt.subplots(3, 3, figsize=(15, 20))\n",
    "cv        = 10\n",
    "estimator = DecisionTreeClassifier(max_depth=4, criterion='entropy', random_state=42)\n",
    "\n",
    "title = \"EDA Dataset\"\n",
    "plot_learning_curve(estimator, title, X_EDA_classification_train, y_EDA_classification_train, axes=axes[:, 0], ylim=(0.7, 1.01), cv=cv, n_jobs=3)\n",
    "\n",
    "title = \"Feature Engineering Dataset\"\n",
    "plot_learning_curve(estimator, title, X_feature_engineering_classification_train, y_feature_engineering_classification_train, axes=axes[:, 1], ylim=(0.7, 1.01), cv=cv, n_jobs=3)\n",
    "\n",
    "title = \"PCA Dataset\"\n",
    "plot_learning_curve(estimator, title, X_PCA_classification_train, y_PCA_classification_train, axes=axes[:, 2], ylim=(0.7, 1.01), cv=cv, n_jobs=3)\n",
    "\n",
    "plt.show()"
   ]
  },
  {
   "cell_type": "markdown",
   "metadata": {},
   "source": [
    "### Table All Model Evaluation Summary"
   ]
  },
  {
   "cell_type": "code",
   "execution_count": 95,
   "metadata": {
    "ExecuteTime": {
     "end_time": "2021-04-11T02:55:03.179552Z",
     "start_time": "2021-04-11T02:55:03.163932Z"
    }
   },
   "outputs": [
    {
     "data": {
      "text/html": [
       "<div>\n",
       "<style scoped>\n",
       "    .dataframe tbody tr th:only-of-type {\n",
       "        vertical-align: middle;\n",
       "    }\n",
       "\n",
       "    .dataframe tbody tr th {\n",
       "        vertical-align: top;\n",
       "    }\n",
       "\n",
       "    .dataframe thead th {\n",
       "        text-align: right;\n",
       "    }\n",
       "</style>\n",
       "<table border=\"1\" class=\"dataframe\">\n",
       "  <thead>\n",
       "    <tr style=\"text-align: right;\">\n",
       "      <th></th>\n",
       "      <th>Precision(%)</th>\n",
       "      <th>Recall(%)</th>\n",
       "      <th>F1-Score(%)</th>\n",
       "      <th>Accuracy(%)</th>\n",
       "      <th>ROC and AUC Score(%)</th>\n",
       "    </tr>\n",
       "  </thead>\n",
       "  <tbody>\n",
       "    <tr>\n",
       "      <th>EDA</th>\n",
       "      <td>83.82</td>\n",
       "      <td>93.80</td>\n",
       "      <td>88.53</td>\n",
       "      <td>88.0</td>\n",
       "      <td>72.0</td>\n",
       "    </tr>\n",
       "    <tr>\n",
       "      <th>Feature Engineering</th>\n",
       "      <td>80.13</td>\n",
       "      <td>91.13</td>\n",
       "      <td>85.28</td>\n",
       "      <td>84.0</td>\n",
       "      <td>70.0</td>\n",
       "    </tr>\n",
       "    <tr>\n",
       "      <th>PCA</th>\n",
       "      <td>71.53</td>\n",
       "      <td>73.78</td>\n",
       "      <td>72.64</td>\n",
       "      <td>72.0</td>\n",
       "      <td>61.0</td>\n",
       "    </tr>\n",
       "  </tbody>\n",
       "</table>\n",
       "</div>"
      ],
      "text/plain": [
       "                     Precision(%)  Recall(%)  F1-Score(%)  Accuracy(%)  \\\n",
       "EDA                         83.82      93.80        88.53         88.0   \n",
       "Feature Engineering         80.13      91.13        85.28         84.0   \n",
       "PCA                         71.53      73.78        72.64         72.0   \n",
       "\n",
       "                     ROC and AUC Score(%)  \n",
       "EDA                                  72.0  \n",
       "Feature Engineering                  70.0  \n",
       "PCA                                  61.0  "
      ]
     },
     "execution_count": 95,
     "metadata": {},
     "output_type": "execute_result"
    }
   ],
   "source": [
    "pd.DataFrame(\n",
    "    {\n",
    "        'Precision(%)'         : [83.82, 80.13, 71.53],\n",
    "        'Recall(%)'            : [93.80, 91.13, 73.78],\n",
    "        'F1-Score(%)'          : [88.53, 85.28, 72.64],\n",
    "        'Accuracy(%)'          : [88.00, 84.00, 72.00],\n",
    "        'ROC and AUC Score(%)' : [72.00, 70.00, 61.00]\n",
    "    },\n",
    "    index=['EDA', 'Feature Engineering', 'PCA']\n",
    ")"
   ]
  },
  {
   "cell_type": "markdown",
   "metadata": {},
   "source": [
    "Dari ketiga dataset yang berbeda, performa dari tiap model kurang lebih sama atau tidak memiliki perbedaan yang cukup signifikan. Ketiga model menunjukkan train score dan validation scorenya sama, dapat dilihat dari plot garis antara train score (merah) dan validation score (hijau), gapnya tidak besar. Atau dengan kata lain, <b>underfitting dan overfittingnya kecil</b>."
   ]
  },
  {
   "cell_type": "markdown",
   "metadata": {
    "ExecuteTime": {
     "end_time": "2021-04-02T16:21:00.005477Z",
     "start_time": "2021-04-02T16:20:59.991243Z"
    },
    "slideshow": {
     "slide_type": "subslide"
    }
   },
   "source": [
    "##  Regression model"
   ]
  },
  {
   "cell_type": "markdown",
   "metadata": {},
   "source": [
    "### Create function"
   ]
  },
  {
   "cell_type": "code",
   "execution_count": 96,
   "metadata": {
    "ExecuteTime": {
     "end_time": "2021-04-11T02:55:03.195212Z",
     "start_time": "2021-04-11T02:55:03.179552Z"
    }
   },
   "outputs": [],
   "source": [
    "def learning_curves(plot_title, estimator, features, target, train_sizes, cv):\n",
    "    train_sizes, train_scores, validation_scores = learning_curve(estimator, features, target, train_sizes=train_sizes, cv=cv, scoring='neg_mean_squared_error')\n",
    "    \n",
    "    train_scores_mean      = -train_scores.mean(axis = 1)\n",
    "    validation_scores_mean = -validation_scores.mean(axis = 1)\n",
    "    \n",
    "    plt.plot(train_sizes, validation_scores_mean, '-', color=\"g\", label='Validation error')\n",
    "    plt.plot(train_sizes, train_scores_mean, '-', color=\"r\", label='Training error', )\n",
    "    \n",
    "    plt.ylabel('MSE')\n",
    "    plt.xlabel('Training set size')\n",
    "    title = 'Learning curves ' + plot_title\n",
    "    plt.title(title, y = 1.03)\n",
    "    plt.legend()\n",
    "    plt.ylim(0,40)"
   ]
  },
  {
   "cell_type": "markdown",
   "metadata": {
    "slideshow": {
     "slide_type": "subslide"
    }
   },
   "source": [
    "### Plotting Learning Curves"
   ]
  },
  {
   "cell_type": "code",
   "execution_count": 97,
   "metadata": {
    "ExecuteTime": {
     "end_time": "2021-04-11T02:55:04.500267Z",
     "start_time": "2021-04-11T02:55:03.195212Z"
    }
   },
   "outputs": [
    {
     "data": {
      "image/png": "[encoded data removed]",
      "text/plain": [
       "<Figure size 432x288 with 1 Axes>"
      ]
     },
     "metadata": {
      "needs_background": "light"
     },
     "output_type": "display_data"
    }
   ],
   "source": [
    "regressor = DecisionTreeRegressor(max_depth=20, random_state=42)\n",
    "\n",
    "learning_curves('Decision Tree with EDA Dataset', regressor, X_EDA_regression_train, y_EDA_regression_train, np.linspace(0.1, 1.0, 5), 10)"
   ]
  },
  {
   "cell_type": "code",
   "execution_count": 98,
   "metadata": {
    "ExecuteTime": {
     "end_time": "2021-04-11T02:55:05.480989Z",
     "start_time": "2021-04-11T02:55:04.502351Z"
    }
   },
   "outputs": [
    {
     "data": {
      "image/png": "[encoded data removed]",
      "text/plain": [
       "<Figure size 432x288 with 1 Axes>"
      ]
     },
     "metadata": {
      "needs_background": "light"
     },
     "output_type": "display_data"
    }
   ],
   "source": [
    "learning_curves('Decision Tree with Feature Engineering Dataset', regressor, X_feature_engineering_regression_train, y_feature_engineering_regression_train, np.linspace(0.1, 1.0, 5), 10)"
   ]
  },
  {
   "cell_type": "code",
   "execution_count": 99,
   "metadata": {
    "ExecuteTime": {
     "end_time": "2021-04-11T02:55:06.382408Z",
     "start_time": "2021-04-11T02:55:05.480989Z"
    }
   },
   "outputs": [
    {
     "data": {
      "image/png": "[encoded data removed]",
      "text/plain": [
       "<Figure size 432x288 with 1 Axes>"
      ]
     },
     "metadata": {
      "needs_background": "light"
     },
     "output_type": "display_data"
    }
   ],
   "source": [
    "learning_curves('Decision Tree with PCA Dataset', regressor, X_PCA_regression_train, y_PCA_regression_train, np.linspace(0.1, 1.0, 5), 10)"
   ]
  },
  {
   "cell_type": "markdown",
   "metadata": {},
   "source": [
    "Dari ketiga learning curves dengan dataset yang berbeda, dapat dilihat bahwa learning curve yang menggunakan PCA dataset, gap antara training error dengan validation error sangat kecil, walaupun model masih underfitting."
   ]
  },
  {
   "cell_type": "markdown",
   "metadata": {},
   "source": [
    "### Table All Model Evaluation Summary"
   ]
  },
  {
   "cell_type": "code",
   "execution_count": 102,
   "metadata": {
    "ExecuteTime": {
     "end_time": "2021-04-11T04:10:09.965734Z",
     "start_time": "2021-04-11T04:10:09.884734Z"
    }
   },
   "outputs": [
    {
     "data": {
      "text/html": [
       "<div>\n",
       "<style scoped>\n",
       "    .dataframe tbody tr th:only-of-type {\n",
       "        vertical-align: middle;\n",
       "    }\n",
       "\n",
       "    .dataframe tbody tr th {\n",
       "        vertical-align: top;\n",
       "    }\n",
       "\n",
       "    .dataframe thead th {\n",
       "        text-align: right;\n",
       "    }\n",
       "</style>\n",
       "<table border=\"1\" class=\"dataframe\">\n",
       "  <thead>\n",
       "    <tr style=\"text-align: right;\">\n",
       "      <th></th>\n",
       "      <th>R-Squared(%)</th>\n",
       "      <th>Explained Variance Score(%)</th>\n",
       "      <th>MAE</th>\n",
       "      <th>RMSE</th>\n",
       "    </tr>\n",
       "  </thead>\n",
       "  <tbody>\n",
       "    <tr>\n",
       "      <th>EDA</th>\n",
       "      <td>99.81</td>\n",
       "      <td>99.81</td>\n",
       "      <td>0.38</td>\n",
       "      <td>1.04</td>\n",
       "    </tr>\n",
       "    <tr>\n",
       "      <th>Feature Engineering</th>\n",
       "      <td>99.87</td>\n",
       "      <td>99.87</td>\n",
       "      <td>0.30</td>\n",
       "      <td>0.86</td>\n",
       "    </tr>\n",
       "    <tr>\n",
       "      <th>PCA</th>\n",
       "      <td>99.95</td>\n",
       "      <td>99.95</td>\n",
       "      <td>0.18</td>\n",
       "      <td>0.51</td>\n",
       "    </tr>\n",
       "  </tbody>\n",
       "</table>\n",
       "</div>"
      ],
      "text/plain": [
       "                     R-Squared(%)  Explained Variance Score(%)   MAE  RMSE\n",
       "EDA                         99.81                        99.81  0.38  1.04\n",
       "Feature Engineering         99.87                        99.87  0.30  0.86\n",
       "PCA                         99.95                        99.95  0.18  0.51"
      ]
     },
     "execution_count": 102,
     "metadata": {},
     "output_type": "execute_result"
    }
   ],
   "source": [
    "pd.DataFrame(\n",
    "    {\n",
    "        'R-Squared(%)'                : [99.81, 99.87, 99.95],\n",
    "        'Explained Variance Score(%)' : [99.81, 99.87, 99.95],\n",
    "        'MAE'                         : [0.38, 0.30, 0.18],\n",
    "        'RMSE'                        : [1.04, 0.86, 0.51],\n",
    "    },\n",
    "    index=['EDA', 'Feature Engineering', 'PCA']\n",
    ")"
   ]
  },
  {
   "cell_type": "markdown",
   "metadata": {
    "slideshow": {
     "slide_type": "slide"
    }
   },
   "source": [
    "# Conclusion\n",
    "- Untuk classification menggunakan model dengan dataset yang telah dioversampling menggunakan Random Over Sampling accuracy rata-rata meningkat diatas 30%, sehingga semua score dari metrik evaluasi rata-rata menjadi diatas 80%. Model masih tetap overfitting, dapat dilihat dari learning curves.\n",
    "- Untuk regression, semua model menghasilkan metrik evaluasi yang memuaskan, baik dari accuracy (rata-rata diatas 90%) dan errornya (rata-rata dibawah 1). Tetapi model masih sedikit underfitting, dapat dilihat dari learning curve, garis merah training berada di bawah garis hijau validation."
   ]
  }
 ],
 "metadata": {
  "celltoolbar": "Slideshow",
  "kernelspec": {
   "display_name": "Python 3",
   "language": "python",
   "name": "python3"
  },
  "language_info": {
   "codemirror_mode": {
    "name": "ipython",
    "version": 3
   },
   "file_extension": ".py",
   "mimetype": "text/x-python",
   "name": "python",
   "nbconvert_exporter": "python",
   "pygments_lexer": "ipython3",
   "version": "3.8.5"
  },
  "toc": {
   "base_numbering": 1,
   "nav_menu": {},
   "number_sections": true,
   "sideBar": true,
   "skip_h1_title": false,
   "title_cell": "Table of Contents",
   "title_sidebar": "Contents",
   "toc_cell": false,
   "toc_position": {
    "height": "calc(100% - 180px)",
    "left": "10px",
    "top": "150px",
    "width": "342px"
   },
   "toc_section_display": true,
   "toc_window_display": true
  }
 },
 "nbformat": 4,
 "nbformat_minor": 4
}
