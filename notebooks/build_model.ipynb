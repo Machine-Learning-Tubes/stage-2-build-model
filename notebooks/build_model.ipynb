{
 "cells": [
  {
   "cell_type": "markdown",
   "metadata": {
    "slideshow": {
     "slide_type": "slide"
    }
   },
   "source": [
    "# Descriptions\n",
    "- Prediksi yang dilakukan adalah klasifikasi untuk target churn (1-Yes atau 0-No) dan regresi untuk target tenure.\n",
    "- Prediksi klasifikasi menggunakan model machine learning decision tree classifier.\n",
    "- Prediksi regresi menggunakan model machine learning decision tree regressor."
   ]
  },
  {
   "cell_type": "markdown",
   "metadata": {
    "slideshow": {
     "slide_type": "slide"
    }
   },
   "source": [
    "# Import modules"
   ]
  },
  {
   "cell_type": "code",
   "execution_count": 1,
   "metadata": {
    "ExecuteTime": {
     "end_time": "2021-04-09T05:00:24.670860Z",
     "start_time": "2021-04-09T05:00:20.100488Z"
    }
   },
   "outputs": [],
   "source": [
    "import graphviz\n",
    "import numpy as np\n",
    "import pandas as pd\n",
    "import matplotlib.pyplot as plt\n",
    "\n",
    "from sklearn import tree\n",
    "from sklearn.tree import DecisionTreeRegressor\n",
    "from sklearn.tree import DecisionTreeClassifier\n",
    "\n",
    "from sklearn.metrics import r2_score\n",
    "from sklearn.metrics import f1_score\n",
    "from sklearn.metrics import roc_curve\n",
    "from sklearn.metrics import recall_score\n",
    "from sklearn.metrics import roc_auc_score\n",
    "from sklearn.metrics import accuracy_score\n",
    "from sklearn.metrics import precision_score\n",
    "from sklearn.metrics import confusion_matrix\n",
    "from sklearn.metrics import mean_squared_error\n",
    "from sklearn.metrics import mean_absolute_error\n",
    "from sklearn.metrics import classification_report\n",
    "from sklearn.metrics import precision_recall_curve\n",
    "from sklearn.metrics import explained_variance_score\n",
    "\n",
    "from sklearn.model_selection import learning_curve\n",
    "from sklearn.model_selection import cross_val_score\n",
    "from sklearn.model_selection import validation_curve\n",
    "from sklearn.model_selection import cross_val_predict"
   ]
  },
  {
   "cell_type": "markdown",
   "metadata": {
    "slideshow": {
     "slide_type": "slide"
    }
   },
   "source": [
    "# Initialize and load dataset\n",
    "Terdapat tiga dataset, antara lain:\n",
    "- EDA dataset, yaitu dataset yang telah bersih dari outlier, missing, duplikat, dan mismatch. Siap untuk digunakan untuk eksplorasi.\n",
    "- Feature engineering dataset, yaitu dataset hasil dari feature engineering yang meliputi, feature transformation, feature extraction, dan feture selection. Dataset terbagi lagi atas 2, yaitu untuk model classification dan model regression.\n",
    "- PCA dataset adalah hasil reduki fitur menggunakan metode PCA (Principal Component Analysis)."
   ]
  },
  {
   "cell_type": "markdown",
   "metadata": {
    "ExecuteTime": {
     "end_time": "2021-03-29T03:36:12.260462Z",
     "start_time": "2021-03-29T03:36:12.250714Z"
    },
    "slideshow": {
     "slide_type": "slide"
    }
   },
   "source": [
    "## EDA"
   ]
  },
  {
   "cell_type": "code",
   "execution_count": 2,
   "metadata": {
    "ExecuteTime": {
     "end_time": "2021-04-09T05:00:24.765325Z",
     "start_time": "2021-04-09T05:00:24.676934Z"
    }
   },
   "outputs": [],
   "source": [
    "EDA_train_df = pd.read_csv('../datasets/train/EDA_train.csv')\n",
    "EDA_test_df  = pd.read_csv('../datasets/test/EDA_test.csv')"
   ]
  },
  {
   "cell_type": "markdown",
   "metadata": {
    "slideshow": {
     "slide_type": "-"
    }
   },
   "source": [
    "### Classification - Split dataset to X_train and y_train / X_test and y_test"
   ]
  },
  {
   "cell_type": "code",
   "execution_count": 3,
   "metadata": {
    "ExecuteTime": {
     "end_time": "2021-04-09T05:00:24.780940Z",
     "start_time": "2021-04-09T05:00:24.767522Z"
    }
   },
   "outputs": [],
   "source": [
    "X_EDA_classification_train = EDA_train_df.iloc[:, 1:27]\n",
    "y_EDA_classification_train = EDA_train_df.iloc[:, 27:28]\n",
    "X_EDA_classification_test  = EDA_test_df.iloc[:, 1:27]\n",
    "y_EDA_classification_test  = EDA_test_df.iloc[:, 27:28]"
   ]
  },
  {
   "cell_type": "markdown",
   "metadata": {
    "slideshow": {
     "slide_type": "-"
    }
   },
   "source": [
    "### Regression - Split dataset to X_train and y_train / X_test and y_test"
   ]
  },
  {
   "cell_type": "code",
   "execution_count": 4,
   "metadata": {
    "ExecuteTime": {
     "end_time": "2021-04-09T05:00:24.845780Z",
     "start_time": "2021-04-09T05:00:24.785144Z"
    }
   },
   "outputs": [
    {
     "data": {
      "text/plain": [
       "Index(['customer_id', 'gender', 'senior_citizen', 'partner', 'dependents',\n",
       "       'phone_service', 'multiple_lines', 'online_security', 'online_backup',\n",
       "       'device_protection', 'tech_support', 'streaming_tv', 'streaming_movies',\n",
       "       'paperless_billing', 'internet_service_DSL',\n",
       "       'internet_service_fiber_optic', 'no_internet_service',\n",
       "       'contract_month_to_month', 'contract_one_year', 'contract_two_year',\n",
       "       'payment_method_bank_transfer_automatic',\n",
       "       'payment_method_credit_card_automatic',\n",
       "       'payment_method_electronic_check', 'payment_method_mailed_check',\n",
       "       'tenure', 'monthly_charges', 'total_charges', 'churn'],\n",
       "      dtype='object')"
      ]
     },
     "execution_count": 4,
     "metadata": {},
     "output_type": "execute_result"
    }
   ],
   "source": [
    "EDA_train_df.columns"
   ]
  },
  {
   "cell_type": "code",
   "execution_count": 5,
   "metadata": {
    "ExecuteTime": {
     "end_time": "2021-04-09T05:00:24.907508Z",
     "start_time": "2021-04-09T05:00:24.850772Z"
    }
   },
   "outputs": [],
   "source": [
    "X_EDA_regression_train = EDA_train_df.loc[:, ['gender', 'senior_citizen', 'partner', 'dependents',\n",
    "                                               'phone_service', 'multiple_lines', 'online_security', 'online_backup',\n",
    "                                               'device_protection', 'tech_support', 'streaming_tv', 'streaming_movies',\n",
    "                                               'paperless_billing', 'internet_service_DSL', 'internet_service_fiber_optic',\n",
    "                                               'no_internet_service', 'contract_month_to_month', 'contract_one_year', 'contract_two_year',\n",
    "                                               'payment_method_bank_transfer_automatic', 'payment_method_credit_card_automatic',\n",
    "                                               'payment_method_electronic_check', 'payment_method_mailed_check',\n",
    "                                               'monthly_charges', 'total_charges', 'churn']]\n",
    "                                          \n",
    "y_EDA_regression_train = EDA_train_df.loc[:, 'tenure']\n",
    "\n",
    "X_EDA_regression_test  = EDA_test_df.loc[:, ['gender', 'senior_citizen', 'partner', 'dependents',\n",
    "                                             'phone_service', 'multiple_lines', 'online_security', 'online_backup',\n",
    "                                             'device_protection', 'tech_support', 'streaming_tv', 'streaming_movies',\n",
    "                                             'paperless_billing', 'internet_service_DSL', 'internet_service_fiber_optic',\n",
    "                                             'no_internet_service', 'contract_month_to_month', 'contract_one_year', 'contract_two_year',\n",
    "                                             'payment_method_bank_transfer_automatic', 'payment_method_credit_card_automatic',\n",
    "                                             'payment_method_electronic_check', 'payment_method_mailed_check',\n",
    "                                             'monthly_charges', 'total_charges', 'churn']]\n",
    "\n",
    "y_EDA_regression_test  = EDA_test_df.loc[:, 'tenure']"
   ]
  },
  {
   "cell_type": "markdown",
   "metadata": {
    "slideshow": {
     "slide_type": "slide"
    }
   },
   "source": [
    "## Feature Engineering"
   ]
  },
  {
   "cell_type": "markdown",
   "metadata": {},
   "source": [
    "### Classification Model"
   ]
  },
  {
   "cell_type": "code",
   "execution_count": 6,
   "metadata": {
    "ExecuteTime": {
     "end_time": "2021-04-09T05:00:24.939273Z",
     "start_time": "2021-04-09T05:00:24.911968Z"
    }
   },
   "outputs": [],
   "source": [
    "feature_engineering_classification_train_df = pd.read_csv('../datasets/train/feature_engineering_classification_train.csv')\n",
    "feature_engineering_classification_test_df  = pd.read_csv('../datasets/test/feature_engineering_classification_test.csv')"
   ]
  },
  {
   "cell_type": "markdown",
   "metadata": {},
   "source": [
    "#### Split dataset to X_train and y_train / X_test and y_test "
   ]
  },
  {
   "cell_type": "code",
   "execution_count": 7,
   "metadata": {
    "ExecuteTime": {
     "end_time": "2021-04-09T05:00:24.987005Z",
     "start_time": "2021-04-09T05:00:24.958559Z"
    }
   },
   "outputs": [],
   "source": [
    "X_feature_engineering_classification_train = feature_engineering_classification_train_df.iloc[:, 0:5]\n",
    "y_feature_engineering_classification_train = feature_engineering_classification_train_df.iloc[:, 5:6]\n",
    "X_feature_engineering_classification_test  = feature_engineering_classification_test_df.iloc[:, 0:5]\n",
    "y_feature_engineering_classification_test  = feature_engineering_classification_test_df.iloc[:, 5:6]"
   ]
  },
  {
   "cell_type": "markdown",
   "metadata": {
    "slideshow": {
     "slide_type": "subslide"
    }
   },
   "source": [
    "### Regression Model"
   ]
  },
  {
   "cell_type": "code",
   "execution_count": 8,
   "metadata": {
    "ExecuteTime": {
     "end_time": "2021-04-09T05:00:25.049597Z",
     "start_time": "2021-04-09T05:00:24.992030Z"
    }
   },
   "outputs": [],
   "source": [
    "feature_engineering_regression_train_df = pd.read_csv('../datasets/train/feature_engineering_regression_train.csv')\n",
    "feature_engineering_regression_test_df  = pd.read_csv('../datasets/test/feature_engineering_regression_test.csv')"
   ]
  },
  {
   "cell_type": "markdown",
   "metadata": {},
   "source": [
    "#### Split dataset to X_train and y_train / X_test and y_test"
   ]
  },
  {
   "cell_type": "code",
   "execution_count": 9,
   "metadata": {
    "ExecuteTime": {
     "end_time": "2021-04-09T05:00:25.064833Z",
     "start_time": "2021-04-09T05:00:25.054598Z"
    }
   },
   "outputs": [],
   "source": [
    "X_feature_engineering_regression_train = feature_engineering_regression_train_df.iloc[:, 0:5]\n",
    "y_feature_engineering_regression_train = feature_engineering_regression_train_df.iloc[:, 5:6]\n",
    "X_feature_engineering_regression_test  = feature_engineering_regression_test_df.iloc[:, 0:5]\n",
    "y_feature_engineering_regression_test  = feature_engineering_regression_test_df.iloc[:, 5:6]"
   ]
  },
  {
   "cell_type": "markdown",
   "metadata": {
    "slideshow": {
     "slide_type": "slide"
    }
   },
   "source": [
    "## PCA"
   ]
  },
  {
   "cell_type": "markdown",
   "metadata": {},
   "source": [
    "### Classification Model"
   ]
  },
  {
   "cell_type": "code",
   "execution_count": 10,
   "metadata": {
    "ExecuteTime": {
     "end_time": "2021-04-09T05:00:25.298375Z",
     "start_time": "2021-04-09T05:00:25.067836Z"
    }
   },
   "outputs": [],
   "source": [
    "PCA_classification_train_df = pd.read_csv('../datasets/train/PCA_classification_train.csv')\n",
    "PCA_classification_test_df  = pd.read_csv('../datasets/test/PCA_classification_test.csv')"
   ]
  },
  {
   "cell_type": "markdown",
   "metadata": {},
   "source": [
    "#### Split dataset to X_train and y_train / X_test and y_test"
   ]
  },
  {
   "cell_type": "code",
   "execution_count": 11,
   "metadata": {
    "ExecuteTime": {
     "end_time": "2021-04-09T05:00:25.314443Z",
     "start_time": "2021-04-09T05:00:25.302377Z"
    }
   },
   "outputs": [],
   "source": [
    "X_PCA_classification_train = PCA_classification_train_df.iloc[:, 0:1]\n",
    "y_PCA_classification_train = PCA_classification_train_df.iloc[:, 26:27]\n",
    "X_PCA_classification_test  = PCA_classification_test_df.iloc[:, 0:1]\n",
    "y_PCA_classification_test  = PCA_classification_test_df.iloc[:, 26:27]"
   ]
  },
  {
   "cell_type": "markdown",
   "metadata": {
    "slideshow": {
     "slide_type": "subslide"
    }
   },
   "source": [
    "### Regression Model"
   ]
  },
  {
   "cell_type": "code",
   "execution_count": 12,
   "metadata": {
    "ExecuteTime": {
     "end_time": "2021-04-09T05:00:25.466212Z",
     "start_time": "2021-04-09T05:00:25.319448Z"
    }
   },
   "outputs": [],
   "source": [
    "PCA_regression_train_df = pd.read_csv('../datasets/train/PCA_regression_train.csv')\n",
    "PCA_regression_test_df  = pd.read_csv('../datasets/test/PCA_regression_test.csv')"
   ]
  },
  {
   "cell_type": "markdown",
   "metadata": {
    "ExecuteTime": {
     "end_time": "2021-03-31T02:06:37.541709Z",
     "start_time": "2021-03-31T02:06:37.531686Z"
    }
   },
   "source": [
    "#### Split dataset to X_train and y_train / X_test and y_test"
   ]
  },
  {
   "cell_type": "code",
   "execution_count": 13,
   "metadata": {
    "ExecuteTime": {
     "end_time": "2021-04-09T05:00:25.481922Z",
     "start_time": "2021-04-09T05:00:25.468273Z"
    }
   },
   "outputs": [],
   "source": [
    "X_PCA_regression_train = PCA_regression_train_df.iloc[:, 0:2]\n",
    "y_PCA_regression_train = PCA_regression_train_df.iloc[:, 26:27]\n",
    "X_PCA_regression_test  = PCA_regression_test_df.iloc[:, 0:2]\n",
    "y_PCA_regression_test  = PCA_regression_test_df.iloc[:, 26:27]"
   ]
  },
  {
   "cell_type": "markdown",
   "metadata": {
    "ExecuteTime": {
     "end_time": "2021-03-29T03:31:00.351696Z",
     "start_time": "2021-03-29T03:31:00.331425Z"
    },
    "slideshow": {
     "slide_type": "slide"
    }
   },
   "source": [
    "# Build model"
   ]
  },
  {
   "cell_type": "markdown",
   "metadata": {},
   "source": [
    "## Decision Tree\n",
    "- Menggunakan hyperparameter max_dept = 20 dan criterion = entropy, sesuai dengan referensi dari jurnal yang digunakan (Customer churn prediction in telecom using machine learning in big data platform - Abdelrahim Kasem Ahmad and Assef Jafar and Kadan Aljoumaa).\n",
    "- Menggunakan hyperparameter max_depth, berdasarkan validation curve."
   ]
  },
  {
   "cell_type": "markdown",
   "metadata": {
    "slideshow": {
     "slide_type": "subslide"
    }
   },
   "source": [
    "### EDA Dataset"
   ]
  },
  {
   "cell_type": "markdown",
   "metadata": {
    "ExecuteTime": {
     "end_time": "2021-03-30T16:09:59.115223Z",
     "start_time": "2021-03-30T16:09:59.096646Z"
    }
   },
   "source": [
    "#### Classification"
   ]
  },
  {
   "cell_type": "markdown",
   "metadata": {
    "ExecuteTime": {
     "end_time": "2021-04-01T13:16:34.382833Z",
     "start_time": "2021-04-01T13:16:34.364512Z"
    }
   },
   "source": [
    "##### Validation Curve for hyperparameter max_depth"
   ]
  },
  {
   "cell_type": "code",
   "execution_count": 14,
   "metadata": {
    "ExecuteTime": {
     "end_time": "2021-04-09T05:00:34.064427Z",
     "start_time": "2021-04-09T05:00:25.485935Z"
    },
    "scrolled": true
   },
   "outputs": [
    {
     "data": {
      "image/png": "[encoded data removed]",
      "text/plain": [
       "<Figure size 432x288 with 1 Axes>"
      ]
     },
     "metadata": {
      "needs_background": "light"
     },
     "output_type": "display_data"
    }
   ],
   "source": [
    "param_range               = np.arange(1, 21, 1)\n",
    "train_scores, test_scores = validation_curve(DecisionTreeClassifier(criterion='entropy', random_state=42), X_EDA_classification_train, y_EDA_classification_train, param_name=\"max_depth\", param_range=param_range,scoring=\"accuracy\", cv=10, n_jobs=3)\n",
    "train_scores_mean         = np.mean(train_scores, axis=1)\n",
    "train_scores_std          = np.std(train_scores, axis=1)\n",
    "test_scores_mean          = np.mean(test_scores, axis=1)\n",
    "test_scores_std           = np.std(test_scores, axis=1)\n",
    "\n",
    "plt.title(\"Validation Curve with Decision Tree Classifier\")\n",
    "plt.xlabel(\"max_depth\")\n",
    "plt.ylabel(\"Score\")\n",
    "plt.ylim(0.0, 1.1)\n",
    "lw = 2\n",
    "\n",
    "plt.semilogx(param_range, train_scores_mean, label=\"Training score\", color=\"darkorange\", lw=lw)\n",
    "plt.fill_between(param_range, train_scores_mean - train_scores_std, train_scores_mean + train_scores_std, alpha=0.2, color=\"darkorange\", lw=lw)\n",
    "\n",
    "plt.semilogx(param_range, test_scores_mean, label=\"Cross-validation score\", color=\"navy\", lw=lw)\n",
    "plt.fill_between(param_range, test_scores_mean - test_scores_std, test_scores_mean + test_scores_std, alpha=0.2, color=\"navy\", lw=lw)\n",
    "\n",
    "plt.legend(loc=\"best\")\n",
    "plt.show()"
   ]
  },
  {
   "cell_type": "code",
   "execution_count": 15,
   "metadata": {
    "ExecuteTime": {
     "end_time": "2021-04-09T05:00:34.150417Z",
     "start_time": "2021-04-09T05:00:34.068434Z"
    }
   },
   "outputs": [
    {
     "data": {
      "text/plain": [
       "DecisionTreeClassifier(criterion='entropy', max_depth=10, random_state=42)"
      ]
     },
     "execution_count": 15,
     "metadata": {},
     "output_type": "execute_result"
    }
   ],
   "source": [
    "clf = DecisionTreeClassifier(max_depth=10, criterion='entropy', random_state=42)\n",
    "clf.fit(X_EDA_classification_train, y_EDA_classification_train)"
   ]
  },
  {
   "cell_type": "code",
   "execution_count": 16,
   "metadata": {
    "ExecuteTime": {
     "end_time": "2021-04-09T05:00:35.353989Z",
     "start_time": "2021-04-09T05:00:34.153850Z"
    }
   },
   "outputs": [],
   "source": [
    "accuracy_scores = []\n",
    "\n",
    "for i in range(1, 22):\n",
    "    clf = DecisionTreeClassifier(max_depth=i, criterion='entropy', random_state=42)\n",
    "    \n",
    "    clf.fit(X_EDA_classification_train, y_EDA_classification_train)\n",
    "    accuracy_score_n = accuracy_score(y_EDA_classification_test, clf.predict(X_EDA_classification_test))\n",
    "    accuracy_scores.append(accuracy_score_n)"
   ]
  },
  {
   "cell_type": "code",
   "execution_count": 17,
   "metadata": {
    "ExecuteTime": {
     "end_time": "2021-04-09T05:00:35.385042Z",
     "start_time": "2021-04-09T05:00:35.358100Z"
    },
    "scrolled": true
   },
   "outputs": [
    {
     "name": "stdout",
     "output_type": "stream",
     "text": [
      "max_depth 1 : 0.778566%\n",
      "max_depth 2 : 0.795600%\n",
      "max_depth 3 : 0.791341%\n",
      "max_depth 4 : 0.799858%\n",
      "max_depth 5 : 0.797019%\n",
      "max_depth 6 : 0.801987%\n",
      "max_depth 7 : 0.788502%\n",
      "max_depth 8 : 0.787793%\n",
      "max_depth 9 : 0.781405%\n",
      "max_depth 10 : 0.782115%\n",
      "max_depth 11 : 0.765082%\n",
      "max_depth 12 : 0.755855%\n",
      "max_depth 13 : 0.745919%\n",
      "max_depth 14 : 0.735983%\n",
      "max_depth 15 : 0.732434%\n",
      "max_depth 16 : 0.731015%\n",
      "max_depth 17 : 0.722498%\n",
      "max_depth 18 : 0.726047%\n",
      "max_depth 19 : 0.724627%\n",
      "max_depth 20 : 0.728886%\n"
     ]
    }
   ],
   "source": [
    "for i in range(1, 21):\n",
    "    print(f'max_depth {i} : {accuracy_scores[i]:.6f}%')"
   ]
  },
  {
   "cell_type": "markdown",
   "metadata": {},
   "source": [
    "###### Cross Validation Score"
   ]
  },
  {
   "cell_type": "code",
   "execution_count": 18,
   "metadata": {
    "ExecuteTime": {
     "end_time": "2021-04-09T05:00:36.072467Z",
     "start_time": "2021-04-09T05:00:35.387013Z"
    }
   },
   "outputs": [
    {
     "data": {
      "text/plain": [
       "array([0.75177305, 0.74822695, 0.71276596, 0.7322695 , 0.73712256,\n",
       "       0.76731794, 0.73357016, 0.74067496, 0.70692718, 0.73889876])"
      ]
     },
     "execution_count": 18,
     "metadata": {},
     "output_type": "execute_result"
    }
   ],
   "source": [
    "cross_val_score(clf, X_EDA_classification_train, y_EDA_classification_train, cv=10)"
   ]
  },
  {
   "cell_type": "markdown",
   "metadata": {},
   "source": [
    "##### Confusion Matrix"
   ]
  },
  {
   "cell_type": "code",
   "execution_count": 19,
   "metadata": {
    "ExecuteTime": {
     "end_time": "2021-04-09T05:00:36.269633Z",
     "start_time": "2021-04-09T05:00:36.077130Z"
    }
   },
   "outputs": [
    {
     "name": "stdout",
     "output_type": "stream",
     "text": [
      "True positive  : 760\n",
      "True negative  : 3380\n",
      "False positive : 758\n",
      "False negative : 736\n"
     ]
    }
   ],
   "source": [
    "y_train_pred = cross_val_predict(clf, X_EDA_classification_train, np.ravel(y_EDA_classification_train), cv=3)\n",
    "\n",
    "print(f'True positive  : {confusion_matrix(np.ravel(y_EDA_classification_train), y_train_pred)[1, 1]}')\n",
    "print(f'True negative  : {confusion_matrix(np.ravel(y_EDA_classification_train), y_train_pred)[0, 0]}')\n",
    "print(f'False positive : {confusion_matrix(np.ravel(y_EDA_classification_train), y_train_pred)[0, 1]}')\n",
    "print(f'False negative : {confusion_matrix(np.ravel(y_EDA_classification_train), y_train_pred)[1, 0]}')"
   ]
  },
  {
   "cell_type": "markdown",
   "metadata": {},
   "source": [
    "###### Precision"
   ]
  },
  {
   "cell_type": "code",
   "execution_count": 20,
   "metadata": {
    "ExecuteTime": {
     "end_time": "2021-04-09T05:00:36.285199Z",
     "start_time": "2021-04-09T05:00:36.272682Z"
    }
   },
   "outputs": [],
   "source": [
    "y_test_pred = clf.predict(X_EDA_classification_test)"
   ]
  },
  {
   "cell_type": "code",
   "execution_count": 21,
   "metadata": {
    "ExecuteTime": {
     "end_time": "2021-04-09T05:00:36.319793Z",
     "start_time": "2021-04-09T05:00:36.287198Z"
    },
    "scrolled": false
   },
   "outputs": [
    {
     "name": "stdout",
     "output_type": "stream",
     "text": [
      "Precision: 48.79%\n"
     ]
    }
   ],
   "source": [
    "print(f'Precision: {round(precision_score(np.ravel(y_EDA_classification_test), y_test_pred) * 100, 2)}%')"
   ]
  },
  {
   "cell_type": "markdown",
   "metadata": {},
   "source": [
    "##### Recall"
   ]
  },
  {
   "cell_type": "code",
   "execution_count": 22,
   "metadata": {
    "ExecuteTime": {
     "end_time": "2021-04-09T05:00:36.352135Z",
     "start_time": "2021-04-09T05:00:36.325426Z"
    }
   },
   "outputs": [
    {
     "name": "stdout",
     "output_type": "stream",
     "text": [
      "Recall: 48.79%\n"
     ]
    }
   ],
   "source": [
    "print(f'Recall: {round(recall_score(np.ravel(y_EDA_classification_test), y_test_pred) * 100, 2)}%')"
   ]
  },
  {
   "cell_type": "markdown",
   "metadata": {},
   "source": [
    "##### F1-Score"
   ]
  },
  {
   "cell_type": "code",
   "execution_count": 23,
   "metadata": {
    "ExecuteTime": {
     "end_time": "2021-04-09T05:00:36.383079Z",
     "start_time": "2021-04-09T05:00:36.359141Z"
    }
   },
   "outputs": [
    {
     "name": "stdout",
     "output_type": "stream",
     "text": [
      "F-1 Score: 48.79%\n"
     ]
    }
   ],
   "source": [
    "print(f'F-1 Score: {round(f1_score(np.ravel(y_EDA_classification_test), y_test_pred) * 100, 2)}%')"
   ]
  },
  {
   "cell_type": "markdown",
   "metadata": {},
   "source": [
    "##### Classification Report\n",
    "Untuk melihat precision, recall, f1-score, dan accuracy dari setiap kelas secara keseluruhan."
   ]
  },
  {
   "cell_type": "code",
   "execution_count": 24,
   "metadata": {
    "ExecuteTime": {
     "end_time": "2021-04-09T05:00:36.414444Z",
     "start_time": "2021-04-09T05:00:36.386263Z"
    },
    "scrolled": true
   },
   "outputs": [
    {
     "name": "stdout",
     "output_type": "stream",
     "text": [
      "              precision    recall  f1-score   support\n",
      "\n",
      "           0       0.82      0.82      0.82      1036\n",
      "           1       0.49      0.49      0.49       373\n",
      "\n",
      "    accuracy                           0.73      1409\n",
      "   macro avg       0.65      0.65      0.65      1409\n",
      "weighted avg       0.73      0.73      0.73      1409\n",
      "\n"
     ]
    }
   ],
   "source": [
    "print(classification_report(y_EDA_classification_test, y_test_pred))"
   ]
  },
  {
   "cell_type": "markdown",
   "metadata": {},
   "source": [
    "##### Precision-Recall Trade off - Precision Recall VS Threshold Plot"
   ]
  },
  {
   "cell_type": "code",
   "execution_count": 25,
   "metadata": {
    "ExecuteTime": {
     "end_time": "2021-04-09T05:00:36.481937Z",
     "start_time": "2021-04-09T05:00:36.416444Z"
    }
   },
   "outputs": [],
   "source": [
    "y_scores = cross_val_predict(clf, X_EDA_classification_test, np.ravel(y_EDA_classification_test), cv=3)\n",
    "precisions, recalls, thresholds = precision_recall_curve(y_EDA_classification_test, y_scores)"
   ]
  },
  {
   "cell_type": "code",
   "execution_count": 26,
   "metadata": {
    "ExecuteTime": {
     "end_time": "2021-04-09T05:00:36.683543Z",
     "start_time": "2021-04-09T05:00:36.485256Z"
    }
   },
   "outputs": [
    {
     "data": {
      "image/png": "[encoded data removed]",
      "text/plain": [
       "<Figure size 576x432 with 1 Axes>"
      ]
     },
     "metadata": {
      "needs_background": "light"
     },
     "output_type": "display_data"
    }
   ],
   "source": [
    "def plot_precision_vs_recall(precisions, recalls):\n",
    "    plt.plot(recalls, precisions, \"b-\", linewidth=2)\n",
    "    plt.title('Precision and Recall Plot')\n",
    "    plt.xlabel(\"Recall\")\n",
    "    plt.ylabel(\"Precision\")\n",
    "    plt.axis([0, 1, 0, 1])\n",
    "    plt.grid(True)\n",
    "\n",
    "plt.figure(figsize=(8, 6))\n",
    "plot_precision_vs_recall(precisions, recalls)\n",
    "plt.plot([0.4368, 0.4368], [0., 0.9], \"r:\")\n",
    "plt.plot([0.0, 0.4368], [0.9, 0.9], \"r:\")\n",
    "plt.plot([0.4368], [0.9], \"ro\")\n",
    "plt.show()"
   ]
  },
  {
   "cell_type": "markdown",
   "metadata": {},
   "source": [
    "##### ROC and AUC Curve"
   ]
  },
  {
   "cell_type": "code",
   "execution_count": 27,
   "metadata": {
    "ExecuteTime": {
     "end_time": "2021-04-09T05:00:36.701122Z",
     "start_time": "2021-04-09T05:00:36.686191Z"
    }
   },
   "outputs": [],
   "source": [
    "fpr, tpr, thresholds = roc_curve(y_EDA_classification_test, y_scores)"
   ]
  },
  {
   "cell_type": "code",
   "execution_count": 28,
   "metadata": {
    "ExecuteTime": {
     "end_time": "2021-04-09T05:00:37.001095Z",
     "start_time": "2021-04-09T05:00:36.703135Z"
    }
   },
   "outputs": [
    {
     "data": {
      "image/png": "[encoded data removed]",
      "text/plain": [
       "<Figure size 576x432 with 1 Axes>"
      ]
     },
     "metadata": {
      "needs_background": "light"
     },
     "output_type": "display_data"
    }
   ],
   "source": [
    "def plot_roc_curve(fpr, tpr, label=None):\n",
    "    plt.plot(fpr, tpr, linewidth=2, label=label)\n",
    "    plt.plot([0, 1], [0, 1], 'k--')\n",
    "    plt.axis([0, 1, 0, 1])\n",
    "    plt.xlabel('False Positive Rate (Fall-Out)')\n",
    "    plt.ylabel('True Positive Rate (Recall)')\n",
    "    plt.grid(True)\n",
    "\n",
    "plt.figure(figsize=(8, 6))\n",
    "plot_roc_curve(fpr, tpr)\n",
    "plt.plot([4.837e-3, 4.837e-3], [0., 0.4368], \"r:\")\n",
    "plt.plot([0.0, 4.837e-3], [0.4368, 0.4368], \"r:\")\n",
    "plt.plot([4.837e-3], [0.4368], \"ro\")\n",
    "plt.show()"
   ]
  },
  {
   "cell_type": "code",
   "execution_count": 29,
   "metadata": {
    "ExecuteTime": {
     "end_time": "2021-04-09T05:00:37.016578Z",
     "start_time": "2021-04-09T05:00:37.003986Z"
    }
   },
   "outputs": [
    {
     "data": {
      "text/plain": [
       "0.6583813802312461"
      ]
     },
     "execution_count": 29,
     "metadata": {},
     "output_type": "execute_result"
    }
   ],
   "source": [
    "roc_auc_score(y_EDA_classification_test, y_scores)"
   ]
  },
  {
   "cell_type": "markdown",
   "metadata": {},
   "source": [
    "##### Predict with some feature"
   ]
  },
  {
   "cell_type": "code",
   "execution_count": 30,
   "metadata": {
    "ExecuteTime": {
     "end_time": "2021-04-09T05:00:37.032356Z",
     "start_time": "2021-04-09T05:00:37.020281Z"
    }
   },
   "outputs": [
    {
     "data": {
      "text/plain": [
       "array([0, 0, 0, 0, 0, 0, 0, 0, 0, 1], dtype=int64)"
      ]
     },
     "execution_count": 30,
     "metadata": {},
     "output_type": "execute_result"
    }
   ],
   "source": [
    "clf.predict(X_EDA_classification_test.iloc[50:60, :])"
   ]
  },
  {
   "cell_type": "code",
   "execution_count": 31,
   "metadata": {
    "ExecuteTime": {
     "end_time": "2021-04-09T05:00:37.063368Z",
     "start_time": "2021-04-09T05:00:37.035297Z"
    }
   },
   "outputs": [
    {
     "data": {
      "text/html": [
       "<div>\n",
       "<style scoped>\n",
       "    .dataframe tbody tr th:only-of-type {\n",
       "        vertical-align: middle;\n",
       "    }\n",
       "\n",
       "    .dataframe tbody tr th {\n",
       "        vertical-align: top;\n",
       "    }\n",
       "\n",
       "    .dataframe thead th {\n",
       "        text-align: right;\n",
       "    }\n",
       "</style>\n",
       "<table border=\"1\" class=\"dataframe\">\n",
       "  <thead>\n",
       "    <tr style=\"text-align: right;\">\n",
       "      <th></th>\n",
       "      <th>churn</th>\n",
       "    </tr>\n",
       "  </thead>\n",
       "  <tbody>\n",
       "    <tr>\n",
       "      <th>50</th>\n",
       "      <td>0</td>\n",
       "    </tr>\n",
       "    <tr>\n",
       "      <th>51</th>\n",
       "      <td>0</td>\n",
       "    </tr>\n",
       "    <tr>\n",
       "      <th>52</th>\n",
       "      <td>0</td>\n",
       "    </tr>\n",
       "    <tr>\n",
       "      <th>53</th>\n",
       "      <td>0</td>\n",
       "    </tr>\n",
       "    <tr>\n",
       "      <th>54</th>\n",
       "      <td>0</td>\n",
       "    </tr>\n",
       "    <tr>\n",
       "      <th>55</th>\n",
       "      <td>0</td>\n",
       "    </tr>\n",
       "    <tr>\n",
       "      <th>56</th>\n",
       "      <td>0</td>\n",
       "    </tr>\n",
       "    <tr>\n",
       "      <th>57</th>\n",
       "      <td>0</td>\n",
       "    </tr>\n",
       "    <tr>\n",
       "      <th>58</th>\n",
       "      <td>0</td>\n",
       "    </tr>\n",
       "    <tr>\n",
       "      <th>59</th>\n",
       "      <td>0</td>\n",
       "    </tr>\n",
       "  </tbody>\n",
       "</table>\n",
       "</div>"
      ],
      "text/plain": [
       "    churn\n",
       "50      0\n",
       "51      0\n",
       "52      0\n",
       "53      0\n",
       "54      0\n",
       "55      0\n",
       "56      0\n",
       "57      0\n",
       "58      0\n",
       "59      0"
      ]
     },
     "execution_count": 31,
     "metadata": {},
     "output_type": "execute_result"
    }
   ],
   "source": [
    "y_EDA_classification_test.iloc[50:60, :]"
   ]
  },
  {
   "cell_type": "markdown",
   "metadata": {},
   "source": [
    "##### Visualizing a Decision Tree"
   ]
  },
  {
   "cell_type": "code",
   "execution_count": 32,
   "metadata": {
    "ExecuteTime": {
     "end_time": "2021-04-09T05:00:37.125147Z",
     "start_time": "2021-04-09T05:00:37.065961Z"
    }
   },
   "outputs": [
    {
     "data": {
      "text/html": [
       "<div>\n",
       "<style scoped>\n",
       "    .dataframe tbody tr th:only-of-type {\n",
       "        vertical-align: middle;\n",
       "    }\n",
       "\n",
       "    .dataframe tbody tr th {\n",
       "        vertical-align: top;\n",
       "    }\n",
       "\n",
       "    .dataframe thead th {\n",
       "        text-align: right;\n",
       "    }\n",
       "</style>\n",
       "<table border=\"1\" class=\"dataframe\">\n",
       "  <thead>\n",
       "    <tr style=\"text-align: right;\">\n",
       "      <th></th>\n",
       "      <th>gender</th>\n",
       "      <th>senior_citizen</th>\n",
       "      <th>partner</th>\n",
       "      <th>dependents</th>\n",
       "      <th>phone_service</th>\n",
       "      <th>multiple_lines</th>\n",
       "      <th>online_security</th>\n",
       "      <th>online_backup</th>\n",
       "      <th>device_protection</th>\n",
       "      <th>tech_support</th>\n",
       "      <th>...</th>\n",
       "      <th>contract_month_to_month</th>\n",
       "      <th>contract_one_year</th>\n",
       "      <th>contract_two_year</th>\n",
       "      <th>payment_method_bank_transfer_automatic</th>\n",
       "      <th>payment_method_credit_card_automatic</th>\n",
       "      <th>payment_method_electronic_check</th>\n",
       "      <th>payment_method_mailed_check</th>\n",
       "      <th>tenure</th>\n",
       "      <th>monthly_charges</th>\n",
       "      <th>total_charges</th>\n",
       "    </tr>\n",
       "  </thead>\n",
       "  <tbody>\n",
       "    <tr>\n",
       "      <th>0</th>\n",
       "      <td>0</td>\n",
       "      <td>0</td>\n",
       "      <td>0</td>\n",
       "      <td>0</td>\n",
       "      <td>0</td>\n",
       "      <td>0</td>\n",
       "      <td>1</td>\n",
       "      <td>0</td>\n",
       "      <td>1</td>\n",
       "      <td>0</td>\n",
       "      <td>...</td>\n",
       "      <td>0.0</td>\n",
       "      <td>1.0</td>\n",
       "      <td>0.0</td>\n",
       "      <td>0.0</td>\n",
       "      <td>0.0</td>\n",
       "      <td>0.0</td>\n",
       "      <td>1.0</td>\n",
       "      <td>21</td>\n",
       "      <td>64.85</td>\n",
       "      <td>1361.85</td>\n",
       "    </tr>\n",
       "    <tr>\n",
       "      <th>1</th>\n",
       "      <td>0</td>\n",
       "      <td>0</td>\n",
       "      <td>0</td>\n",
       "      <td>0</td>\n",
       "      <td>0</td>\n",
       "      <td>0</td>\n",
       "      <td>0</td>\n",
       "      <td>1</td>\n",
       "      <td>0</td>\n",
       "      <td>0</td>\n",
       "      <td>...</td>\n",
       "      <td>0.0</td>\n",
       "      <td>0.0</td>\n",
       "      <td>1.0</td>\n",
       "      <td>1.0</td>\n",
       "      <td>0.0</td>\n",
       "      <td>0.0</td>\n",
       "      <td>0.0</td>\n",
       "      <td>54</td>\n",
       "      <td>97.20</td>\n",
       "      <td>5248.80</td>\n",
       "    </tr>\n",
       "    <tr>\n",
       "      <th>2</th>\n",
       "      <td>1</td>\n",
       "      <td>0</td>\n",
       "      <td>0</td>\n",
       "      <td>0</td>\n",
       "      <td>0</td>\n",
       "      <td>0</td>\n",
       "      <td>0</td>\n",
       "      <td>0</td>\n",
       "      <td>0</td>\n",
       "      <td>0</td>\n",
       "      <td>...</td>\n",
       "      <td>1.0</td>\n",
       "      <td>0.0</td>\n",
       "      <td>0.0</td>\n",
       "      <td>0.0</td>\n",
       "      <td>0.0</td>\n",
       "      <td>1.0</td>\n",
       "      <td>0.0</td>\n",
       "      <td>1</td>\n",
       "      <td>23.45</td>\n",
       "      <td>23.45</td>\n",
       "    </tr>\n",
       "    <tr>\n",
       "      <th>3</th>\n",
       "      <td>1</td>\n",
       "      <td>0</td>\n",
       "      <td>0</td>\n",
       "      <td>0</td>\n",
       "      <td>0</td>\n",
       "      <td>0</td>\n",
       "      <td>0</td>\n",
       "      <td>0</td>\n",
       "      <td>0</td>\n",
       "      <td>0</td>\n",
       "      <td>...</td>\n",
       "      <td>1.0</td>\n",
       "      <td>0.0</td>\n",
       "      <td>0.0</td>\n",
       "      <td>0.0</td>\n",
       "      <td>0.0</td>\n",
       "      <td>1.0</td>\n",
       "      <td>0.0</td>\n",
       "      <td>4</td>\n",
       "      <td>70.20</td>\n",
       "      <td>280.80</td>\n",
       "    </tr>\n",
       "    <tr>\n",
       "      <th>4</th>\n",
       "      <td>1</td>\n",
       "      <td>0</td>\n",
       "      <td>0</td>\n",
       "      <td>0</td>\n",
       "      <td>0</td>\n",
       "      <td>0</td>\n",
       "      <td>1</td>\n",
       "      <td>1</td>\n",
       "      <td>0</td>\n",
       "      <td>1</td>\n",
       "      <td>...</td>\n",
       "      <td>0.0</td>\n",
       "      <td>0.0</td>\n",
       "      <td>1.0</td>\n",
       "      <td>1.0</td>\n",
       "      <td>0.0</td>\n",
       "      <td>0.0</td>\n",
       "      <td>0.0</td>\n",
       "      <td>0</td>\n",
       "      <td>61.90</td>\n",
       "      <td>0.00</td>\n",
       "    </tr>\n",
       "    <tr>\n",
       "      <th>...</th>\n",
       "      <td>...</td>\n",
       "      <td>...</td>\n",
       "      <td>...</td>\n",
       "      <td>...</td>\n",
       "      <td>...</td>\n",
       "      <td>...</td>\n",
       "      <td>...</td>\n",
       "      <td>...</td>\n",
       "      <td>...</td>\n",
       "      <td>...</td>\n",
       "      <td>...</td>\n",
       "      <td>...</td>\n",
       "      <td>...</td>\n",
       "      <td>...</td>\n",
       "      <td>...</td>\n",
       "      <td>...</td>\n",
       "      <td>...</td>\n",
       "      <td>...</td>\n",
       "      <td>...</td>\n",
       "      <td>...</td>\n",
       "      <td>...</td>\n",
       "    </tr>\n",
       "    <tr>\n",
       "      <th>5629</th>\n",
       "      <td>1</td>\n",
       "      <td>0</td>\n",
       "      <td>0</td>\n",
       "      <td>0</td>\n",
       "      <td>0</td>\n",
       "      <td>0</td>\n",
       "      <td>1</td>\n",
       "      <td>0</td>\n",
       "      <td>0</td>\n",
       "      <td>0</td>\n",
       "      <td>...</td>\n",
       "      <td>1.0</td>\n",
       "      <td>0.0</td>\n",
       "      <td>0.0</td>\n",
       "      <td>0.0</td>\n",
       "      <td>0.0</td>\n",
       "      <td>1.0</td>\n",
       "      <td>0.0</td>\n",
       "      <td>1</td>\n",
       "      <td>95.00</td>\n",
       "      <td>95.00</td>\n",
       "    </tr>\n",
       "    <tr>\n",
       "      <th>5630</th>\n",
       "      <td>0</td>\n",
       "      <td>0</td>\n",
       "      <td>0</td>\n",
       "      <td>0</td>\n",
       "      <td>0</td>\n",
       "      <td>0</td>\n",
       "      <td>1</td>\n",
       "      <td>1</td>\n",
       "      <td>1</td>\n",
       "      <td>1</td>\n",
       "      <td>...</td>\n",
       "      <td>0.0</td>\n",
       "      <td>0.0</td>\n",
       "      <td>1.0</td>\n",
       "      <td>0.0</td>\n",
       "      <td>1.0</td>\n",
       "      <td>0.0</td>\n",
       "      <td>0.0</td>\n",
       "      <td>23</td>\n",
       "      <td>91.10</td>\n",
       "      <td>2095.30</td>\n",
       "    </tr>\n",
       "    <tr>\n",
       "      <th>5631</th>\n",
       "      <td>1</td>\n",
       "      <td>0</td>\n",
       "      <td>0</td>\n",
       "      <td>0</td>\n",
       "      <td>0</td>\n",
       "      <td>0</td>\n",
       "      <td>0</td>\n",
       "      <td>0</td>\n",
       "      <td>0</td>\n",
       "      <td>0</td>\n",
       "      <td>...</td>\n",
       "      <td>1.0</td>\n",
       "      <td>0.0</td>\n",
       "      <td>0.0</td>\n",
       "      <td>0.0</td>\n",
       "      <td>0.0</td>\n",
       "      <td>1.0</td>\n",
       "      <td>0.0</td>\n",
       "      <td>12</td>\n",
       "      <td>21.15</td>\n",
       "      <td>253.80</td>\n",
       "    </tr>\n",
       "    <tr>\n",
       "      <th>5632</th>\n",
       "      <td>1</td>\n",
       "      <td>1</td>\n",
       "      <td>0</td>\n",
       "      <td>0</td>\n",
       "      <td>0</td>\n",
       "      <td>0</td>\n",
       "      <td>0</td>\n",
       "      <td>0</td>\n",
       "      <td>1</td>\n",
       "      <td>0</td>\n",
       "      <td>...</td>\n",
       "      <td>1.0</td>\n",
       "      <td>0.0</td>\n",
       "      <td>0.0</td>\n",
       "      <td>0.0</td>\n",
       "      <td>0.0</td>\n",
       "      <td>1.0</td>\n",
       "      <td>0.0</td>\n",
       "      <td>12</td>\n",
       "      <td>99.45</td>\n",
       "      <td>1193.40</td>\n",
       "    </tr>\n",
       "    <tr>\n",
       "      <th>5633</th>\n",
       "      <td>1</td>\n",
       "      <td>0</td>\n",
       "      <td>0</td>\n",
       "      <td>0</td>\n",
       "      <td>0</td>\n",
       "      <td>0</td>\n",
       "      <td>0</td>\n",
       "      <td>0</td>\n",
       "      <td>0</td>\n",
       "      <td>0</td>\n",
       "      <td>...</td>\n",
       "      <td>0.0</td>\n",
       "      <td>1.0</td>\n",
       "      <td>0.0</td>\n",
       "      <td>0.0</td>\n",
       "      <td>1.0</td>\n",
       "      <td>0.0</td>\n",
       "      <td>0.0</td>\n",
       "      <td>26</td>\n",
       "      <td>19.80</td>\n",
       "      <td>514.80</td>\n",
       "    </tr>\n",
       "  </tbody>\n",
       "</table>\n",
       "<p>5634 rows × 26 columns</p>\n",
       "</div>"
      ],
      "text/plain": [
       "      gender  senior_citizen  partner  dependents  phone_service  \\\n",
       "0          0               0        0           0              0   \n",
       "1          0               0        0           0              0   \n",
       "2          1               0        0           0              0   \n",
       "3          1               0        0           0              0   \n",
       "4          1               0        0           0              0   \n",
       "...      ...             ...      ...         ...            ...   \n",
       "5629       1               0        0           0              0   \n",
       "5630       0               0        0           0              0   \n",
       "5631       1               0        0           0              0   \n",
       "5632       1               1        0           0              0   \n",
       "5633       1               0        0           0              0   \n",
       "\n",
       "      multiple_lines  online_security  online_backup  device_protection  \\\n",
       "0                  0                1              0                  1   \n",
       "1                  0                0              1                  0   \n",
       "2                  0                0              0                  0   \n",
       "3                  0                0              0                  0   \n",
       "4                  0                1              1                  0   \n",
       "...              ...              ...            ...                ...   \n",
       "5629               0                1              0                  0   \n",
       "5630               0                1              1                  1   \n",
       "5631               0                0              0                  0   \n",
       "5632               0                0              0                  1   \n",
       "5633               0                0              0                  0   \n",
       "\n",
       "      tech_support  ...  contract_month_to_month  contract_one_year  \\\n",
       "0                0  ...                      0.0                1.0   \n",
       "1                0  ...                      0.0                0.0   \n",
       "2                0  ...                      1.0                0.0   \n",
       "3                0  ...                      1.0                0.0   \n",
       "4                1  ...                      0.0                0.0   \n",
       "...            ...  ...                      ...                ...   \n",
       "5629             0  ...                      1.0                0.0   \n",
       "5630             1  ...                      0.0                0.0   \n",
       "5631             0  ...                      1.0                0.0   \n",
       "5632             0  ...                      1.0                0.0   \n",
       "5633             0  ...                      0.0                1.0   \n",
       "\n",
       "      contract_two_year  payment_method_bank_transfer_automatic  \\\n",
       "0                   0.0                                     0.0   \n",
       "1                   1.0                                     1.0   \n",
       "2                   0.0                                     0.0   \n",
       "3                   0.0                                     0.0   \n",
       "4                   1.0                                     1.0   \n",
       "...                 ...                                     ...   \n",
       "5629                0.0                                     0.0   \n",
       "5630                1.0                                     0.0   \n",
       "5631                0.0                                     0.0   \n",
       "5632                0.0                                     0.0   \n",
       "5633                0.0                                     0.0   \n",
       "\n",
       "      payment_method_credit_card_automatic  payment_method_electronic_check  \\\n",
       "0                                      0.0                              0.0   \n",
       "1                                      0.0                              0.0   \n",
       "2                                      0.0                              1.0   \n",
       "3                                      0.0                              1.0   \n",
       "4                                      0.0                              0.0   \n",
       "...                                    ...                              ...   \n",
       "5629                                   0.0                              1.0   \n",
       "5630                                   1.0                              0.0   \n",
       "5631                                   0.0                              1.0   \n",
       "5632                                   0.0                              1.0   \n",
       "5633                                   1.0                              0.0   \n",
       "\n",
       "      payment_method_mailed_check  tenure  monthly_charges  total_charges  \n",
       "0                             1.0      21            64.85        1361.85  \n",
       "1                             0.0      54            97.20        5248.80  \n",
       "2                             0.0       1            23.45          23.45  \n",
       "3                             0.0       4            70.20         280.80  \n",
       "4                             0.0       0            61.90           0.00  \n",
       "...                           ...     ...              ...            ...  \n",
       "5629                          0.0       1            95.00          95.00  \n",
       "5630                          0.0      23            91.10        2095.30  \n",
       "5631                          0.0      12            21.15         253.80  \n",
       "5632                          0.0      12            99.45        1193.40  \n",
       "5633                          0.0      26            19.80         514.80  \n",
       "\n",
       "[5634 rows x 26 columns]"
      ]
     },
     "execution_count": 32,
     "metadata": {},
     "output_type": "execute_result"
    }
   ],
   "source": [
    "X_EDA_classification_train"
   ]
  },
  {
   "cell_type": "markdown",
   "metadata": {},
   "source": [
    "##### Save tree visualization"
   ]
  },
  {
   "cell_type": "code",
   "execution_count": 33,
   "metadata": {
    "ExecuteTime": {
     "end_time": "2021-04-09T05:00:41.519759Z",
     "start_time": "2021-04-09T05:00:37.129211Z"
    }
   },
   "outputs": [
    {
     "data": {
      "text/plain": [
       "'../images/classification\\\\EDA_dataset_decision_tree.pdf'"
      ]
     },
     "execution_count": 33,
     "metadata": {},
     "output_type": "execute_result"
    }
   ],
   "source": [
    "EDA_dataset_dot_data = tree.export_graphviz(clf, out_file=None)\n",
    "graph                = graphviz.Source(EDA_dataset_dot_data)\n",
    "\n",
    "graph.render(\"../images/classification/EDA_dataset_decision_tree\")"
   ]
  },
  {
   "cell_type": "markdown",
   "metadata": {
    "slideshow": {
     "slide_type": "subslide"
    }
   },
   "source": [
    "#### Regression"
   ]
  },
  {
   "cell_type": "code",
   "execution_count": 34,
   "metadata": {
    "ExecuteTime": {
     "end_time": "2021-04-09T05:00:42.013313Z",
     "start_time": "2021-04-09T05:00:41.525377Z"
    }
   },
   "outputs": [
    {
     "data": {
      "text/plain": [
       "array([0.99793527, 0.99736357, 0.99756592, 0.99805904, 0.99778577,\n",
       "       0.99681572, 0.99711141, 0.99726277, 0.99486407, 0.9980438 ])"
      ]
     },
     "execution_count": 34,
     "metadata": {},
     "output_type": "execute_result"
    }
   ],
   "source": [
    "regressor = DecisionTreeRegressor(max_depth=20, random_state=42)\n",
    "cross_val_score(regressor, X_EDA_regression_train, y_EDA_regression_train, cv=10)"
   ]
  },
  {
   "cell_type": "markdown",
   "metadata": {},
   "source": [
    "##### R Squared"
   ]
  },
  {
   "cell_type": "code",
   "execution_count": 35,
   "metadata": {
    "ExecuteTime": {
     "end_time": "2021-04-09T05:00:42.138210Z",
     "start_time": "2021-04-09T05:00:42.018217Z"
    }
   },
   "outputs": [
    {
     "data": {
      "text/plain": [
       "0.9980622207509542"
      ]
     },
     "execution_count": 35,
     "metadata": {},
     "output_type": "execute_result"
    }
   ],
   "source": [
    "regressor.fit(X_EDA_regression_train, y_EDA_regression_train)\n",
    "r2_score(y_EDA_regression_test, regressor.predict(X_EDA_regression_test))"
   ]
  },
  {
   "cell_type": "markdown",
   "metadata": {},
   "source": [
    "##### Explained Variance Score"
   ]
  },
  {
   "cell_type": "code",
   "execution_count": 36,
   "metadata": {
    "ExecuteTime": {
     "end_time": "2021-04-09T05:00:42.169373Z",
     "start_time": "2021-04-09T05:00:42.143825Z"
    }
   },
   "outputs": [
    {
     "data": {
      "text/plain": [
       "0.9980624519655646"
      ]
     },
     "execution_count": 36,
     "metadata": {},
     "output_type": "execute_result"
    }
   ],
   "source": [
    "explained_variance_score(y_EDA_regression_test, regressor.predict(X_EDA_regression_test))"
   ]
  },
  {
   "cell_type": "markdown",
   "metadata": {},
   "source": [
    "##### Mean Absolute Error"
   ]
  },
  {
   "cell_type": "code",
   "execution_count": 37,
   "metadata": {
    "ExecuteTime": {
     "end_time": "2021-04-09T05:00:42.202292Z",
     "start_time": "2021-04-09T05:00:42.175198Z"
    }
   },
   "outputs": [
    {
     "data": {
      "text/plain": [
       "0.5855216465578424"
      ]
     },
     "execution_count": 37,
     "metadata": {},
     "output_type": "execute_result"
    }
   ],
   "source": [
    "mean_absolute_error(y_EDA_regression_test, regressor.predict(X_EDA_regression_test))"
   ]
  },
  {
   "cell_type": "markdown",
   "metadata": {},
   "source": [
    "##### Root Mean Squared Error"
   ]
  },
  {
   "cell_type": "code",
   "execution_count": 38,
   "metadata": {
    "ExecuteTime": {
     "end_time": "2021-04-09T05:00:42.233066Z",
     "start_time": "2021-04-09T05:00:42.207293Z"
    }
   },
   "outputs": [
    {
     "data": {
      "text/plain": [
       "1.1045425272320477"
      ]
     },
     "execution_count": 38,
     "metadata": {},
     "output_type": "execute_result"
    }
   ],
   "source": [
    "mean_squared_error(y_EDA_regression_test, regressor.predict(X_EDA_regression_test))** 0.5"
   ]
  },
  {
   "cell_type": "markdown",
   "metadata": {},
   "source": [
    "###### Predict with some feature"
   ]
  },
  {
   "cell_type": "code",
   "execution_count": 39,
   "metadata": {
    "ExecuteTime": {
     "end_time": "2021-04-09T05:00:42.269734Z",
     "start_time": "2021-04-09T05:00:42.238286Z"
    }
   },
   "outputs": [
    {
     "data": {
      "text/plain": [
       "array([19., 23., 72., 72., 61., 68., 68.,  8.,  3., 17.])"
      ]
     },
     "execution_count": 39,
     "metadata": {},
     "output_type": "execute_result"
    }
   ],
   "source": [
    "regressor.predict(X_EDA_regression_test.iloc[50:60, 0:26])"
   ]
  },
  {
   "cell_type": "code",
   "execution_count": 40,
   "metadata": {
    "ExecuteTime": {
     "end_time": "2021-04-09T05:00:42.302304Z",
     "start_time": "2021-04-09T05:00:42.274619Z"
    }
   },
   "outputs": [
    {
     "data": {
      "text/plain": [
       "50    19\n",
       "51    23\n",
       "52    72\n",
       "53    72\n",
       "54    59\n",
       "55    70\n",
       "56    70\n",
       "57     9\n",
       "58     3\n",
       "59    17\n",
       "Name: tenure, dtype: int64"
      ]
     },
     "execution_count": 40,
     "metadata": {},
     "output_type": "execute_result"
    }
   ],
   "source": [
    "y_EDA_regression_test[50:60]"
   ]
  },
  {
   "cell_type": "markdown",
   "metadata": {},
   "source": [
    "##### Save tree visualization"
   ]
  },
  {
   "cell_type": "code",
   "execution_count": 41,
   "metadata": {
    "ExecuteTime": {
     "end_time": "2021-04-09T05:01:04.507075Z",
     "start_time": "2021-04-09T05:00:42.306304Z"
    }
   },
   "outputs": [
    {
     "data": {
      "text/plain": [
       "'../images/regression\\\\EDA_dataset_decision_tree.pdf'"
      ]
     },
     "execution_count": 41,
     "metadata": {},
     "output_type": "execute_result"
    }
   ],
   "source": [
    "EDA_dataset_dot_data = tree.export_graphviz(regressor, out_file=None)\n",
    "graph                = graphviz.Source(EDA_dataset_dot_data)\n",
    "\n",
    "graph.render(\"../images/regression/EDA_dataset_decision_tree\")"
   ]
  },
  {
   "cell_type": "markdown",
   "metadata": {
    "slideshow": {
     "slide_type": "subslide"
    }
   },
   "source": [
    "### Feature Engineering Dataset"
   ]
  },
  {
   "cell_type": "markdown",
   "metadata": {},
   "source": [
    "#### Classification"
   ]
  },
  {
   "cell_type": "markdown",
   "metadata": {},
   "source": [
    "##### Validation Curve for hyperparameter max_depth"
   ]
  },
  {
   "cell_type": "code",
   "execution_count": 42,
   "metadata": {
    "ExecuteTime": {
     "end_time": "2021-04-09T05:01:08.901908Z",
     "start_time": "2021-04-09T05:01:04.510050Z"
    }
   },
   "outputs": [
    {
     "data": {
      "image/png": "[encoded data removed]",
      "text/plain": [
       "<Figure size 432x288 with 1 Axes>"
      ]
     },
     "metadata": {
      "needs_background": "light"
     },
     "output_type": "display_data"
    }
   ],
   "source": [
    "param_range = np.arange(1, 21, 1)\n",
    "train_scores, test_scores = validation_curve(DecisionTreeClassifier(criterion='entropy', random_state=42), X_feature_engineering_classification_train, y_feature_engineering_classification_train, param_name=\"max_depth\", param_range=param_range,scoring=\"accuracy\", cv=10, n_jobs=3)\n",
    "train_scores_mean = np.mean(train_scores, axis=1)\n",
    "train_scores_std = np.std(train_scores, axis=1)\n",
    "test_scores_mean = np.mean(test_scores, axis=1)\n",
    "test_scores_std = np.std(test_scores, axis=1)\n",
    "\n",
    "plt.title(\"Validation Curve with Decision Tree Classifier\")\n",
    "plt.xlabel(\"max_depth\")\n",
    "plt.ylabel(\"Score\")\n",
    "plt.ylim(0.0, 1.1)\n",
    "lw = 2\n",
    "\n",
    "plt.semilogx(param_range, train_scores_mean, label=\"Training score\", color=\"darkorange\", lw=lw)\n",
    "plt.fill_between(param_range, train_scores_mean - train_scores_std, train_scores_mean + train_scores_std, alpha=0.2, color=\"darkorange\", lw=lw)\n",
    "\n",
    "plt.semilogx(param_range, test_scores_mean, label=\"Cross-validation score\", color=\"navy\", lw=lw)\n",
    "plt.fill_between(param_range, test_scores_mean - test_scores_std, test_scores_mean + test_scores_std, alpha=0.2, color=\"navy\", lw=lw)\n",
    "\n",
    "plt.legend(loc=\"best\")\n",
    "plt.show()"
   ]
  },
  {
   "cell_type": "code",
   "execution_count": 43,
   "metadata": {
    "ExecuteTime": {
     "end_time": "2021-04-09T05:01:08.948549Z",
     "start_time": "2021-04-09T05:01:08.906988Z"
    }
   },
   "outputs": [
    {
     "data": {
      "text/plain": [
       "DecisionTreeClassifier(criterion='entropy', max_depth=10, random_state=42)"
      ]
     },
     "execution_count": 43,
     "metadata": {},
     "output_type": "execute_result"
    }
   ],
   "source": [
    "clf = DecisionTreeClassifier(max_depth=10, criterion='entropy', random_state=42)\n",
    "clf.fit(X_feature_engineering_classification_train, y_feature_engineering_classification_train)"
   ]
  },
  {
   "cell_type": "code",
   "execution_count": 44,
   "metadata": {
    "ExecuteTime": {
     "end_time": "2021-04-09T05:01:09.483116Z",
     "start_time": "2021-04-09T05:01:08.952235Z"
    }
   },
   "outputs": [],
   "source": [
    "accuracy_scores = []\n",
    "\n",
    "for i in range(1, 22):\n",
    "    clf = DecisionTreeClassifier(max_depth=i, criterion='entropy', random_state=42)\n",
    "\n",
    "    clf.fit(X_feature_engineering_classification_train, y_feature_engineering_classification_train)\n",
    "    accuracy_score_n = accuracy_score(y_feature_engineering_classification_test, clf.predict(X_feature_engineering_classification_test))\n",
    "    accuracy_scores.append(accuracy_score_n)"
   ]
  },
  {
   "cell_type": "code",
   "execution_count": 45,
   "metadata": {
    "ExecuteTime": {
     "end_time": "2021-04-09T05:01:09.516442Z",
     "start_time": "2021-04-09T05:01:09.489152Z"
    }
   },
   "outputs": [
    {
     "name": "stdout",
     "output_type": "stream",
     "text": [
      "max_depth 1 : 0.792051%\n",
      "max_depth 2 : 0.792051%\n",
      "max_depth 3 : 0.794890%\n",
      "max_depth 4 : 0.796309%\n",
      "max_depth 5 : 0.792761%\n",
      "max_depth 6 : 0.784244%\n",
      "max_depth 7 : 0.786373%\n",
      "max_depth 8 : 0.774308%\n",
      "max_depth 9 : 0.774308%\n",
      "max_depth 10 : 0.771469%\n",
      "max_depth 11 : 0.763662%\n",
      "max_depth 12 : 0.755145%\n",
      "max_depth 13 : 0.751597%\n",
      "max_depth 14 : 0.750887%\n",
      "max_depth 15 : 0.741661%\n",
      "max_depth 16 : 0.742370%\n",
      "max_depth 17 : 0.731015%\n",
      "max_depth 18 : 0.735983%\n",
      "max_depth 19 : 0.731725%\n",
      "max_depth 20 : 0.726757%\n"
     ]
    }
   ],
   "source": [
    "for i in range(1, 21):\n",
    "    print(f'max_depth {i} : {accuracy_scores[i]:.6f}%')"
   ]
  },
  {
   "cell_type": "markdown",
   "metadata": {},
   "source": [
    "##### Cross Validation Score"
   ]
  },
  {
   "cell_type": "code",
   "execution_count": 46,
   "metadata": {
    "ExecuteTime": {
     "end_time": "2021-04-09T05:01:09.721027Z",
     "start_time": "2021-04-09T05:01:09.520512Z"
    }
   },
   "outputs": [
    {
     "data": {
      "text/plain": [
       "array([0.73049645, 0.70212766, 0.76595745, 0.70921986, 0.70212766,\n",
       "       0.73049645, 0.73758865, 0.68794326, 0.73758865, 0.75      ])"
      ]
     },
     "execution_count": 46,
     "metadata": {},
     "output_type": "execute_result"
    }
   ],
   "source": [
    "cross_val_score(clf, X_feature_engineering_classification_test, y_feature_engineering_classification_test, cv=10)"
   ]
  },
  {
   "cell_type": "markdown",
   "metadata": {},
   "source": [
    "##### Confusion Matrix"
   ]
  },
  {
   "cell_type": "code",
   "execution_count": 47,
   "metadata": {
    "ExecuteTime": {
     "end_time": "2021-04-09T05:01:09.835212Z",
     "start_time": "2021-04-09T05:01:09.726203Z"
    }
   },
   "outputs": [
    {
     "name": "stdout",
     "output_type": "stream",
     "text": [
      "True positive  : 722\n",
      "True negative  : 3365\n",
      "False positive : 773\n",
      "False negative : 774\n"
     ]
    }
   ],
   "source": [
    "y_train_pred = cross_val_predict(clf, X_feature_engineering_classification_train, np.ravel(y_feature_engineering_classification_train), cv=3)\n",
    "\n",
    "print(f'True positive  : {confusion_matrix(np.ravel(y_feature_engineering_classification_train), y_train_pred)[1, 1]}')\n",
    "print(f'True negative  : {confusion_matrix(np.ravel(y_feature_engineering_classification_train), y_train_pred)[0, 0]}')\n",
    "print(f'False positive : {confusion_matrix(np.ravel(y_feature_engineering_classification_train), y_train_pred)[0, 1]}')\n",
    "print(f'False negative : {confusion_matrix(np.ravel(y_feature_engineering_classification_train), y_train_pred)[1, 0]}')"
   ]
  },
  {
   "cell_type": "markdown",
   "metadata": {},
   "source": [
    "##### Precision"
   ]
  },
  {
   "cell_type": "code",
   "execution_count": 48,
   "metadata": {
    "ExecuteTime": {
     "end_time": "2021-04-09T05:01:09.851765Z",
     "start_time": "2021-04-09T05:01:09.839220Z"
    }
   },
   "outputs": [],
   "source": [
    "y_test_pred = clf.predict(X_feature_engineering_classification_test)"
   ]
  },
  {
   "cell_type": "code",
   "execution_count": 49,
   "metadata": {
    "ExecuteTime": {
     "end_time": "2021-04-09T05:01:09.898255Z",
     "start_time": "2021-04-09T05:01:09.855543Z"
    }
   },
   "outputs": [
    {
     "name": "stdout",
     "output_type": "stream",
     "text": [
      "Precision: 48.38%\n"
     ]
    }
   ],
   "source": [
    "print(f'Precision: {round(precision_score(np.ravel(y_feature_engineering_classification_test), y_test_pred) * 100, 2)}%')"
   ]
  },
  {
   "cell_type": "markdown",
   "metadata": {},
   "source": [
    "##### Recall"
   ]
  },
  {
   "cell_type": "code",
   "execution_count": 50,
   "metadata": {
    "ExecuteTime": {
     "end_time": "2021-04-09T05:01:09.913695Z",
     "start_time": "2021-04-09T05:01:09.902028Z"
    }
   },
   "outputs": [
    {
     "name": "stdout",
     "output_type": "stream",
     "text": [
      "Recall: 47.99%\n"
     ]
    }
   ],
   "source": [
    "print(f'Recall: {round(recall_score(np.ravel(y_feature_engineering_classification_test), y_test_pred) * 100, 2)}%')"
   ]
  },
  {
   "cell_type": "markdown",
   "metadata": {},
   "source": [
    "##### F1-Score"
   ]
  },
  {
   "cell_type": "code",
   "execution_count": 51,
   "metadata": {
    "ExecuteTime": {
     "end_time": "2021-04-09T05:01:09.945119Z",
     "start_time": "2021-04-09T05:01:09.916401Z"
    }
   },
   "outputs": [
    {
     "name": "stdout",
     "output_type": "stream",
     "text": [
      "F-1 Score: 48.18%\n"
     ]
    }
   ],
   "source": [
    "print(f'F-1 Score: {round(f1_score(np.ravel(y_feature_engineering_classification_test), y_test_pred) * 100, 2)}%')"
   ]
  },
  {
   "cell_type": "markdown",
   "metadata": {
    "ExecuteTime": {
     "end_time": "2021-03-31T08:32:56.526992Z",
     "start_time": "2021-03-31T08:32:56.513033Z"
    }
   },
   "source": [
    "##### Classification Report\n",
    "Untuk melihat precision, recall, f1-score, dan accuracy dari setiap kelas secara keseluruhan."
   ]
  },
  {
   "cell_type": "code",
   "execution_count": 52,
   "metadata": {
    "ExecuteTime": {
     "end_time": "2021-04-09T05:01:09.976755Z",
     "start_time": "2021-04-09T05:01:09.948156Z"
    }
   },
   "outputs": [
    {
     "name": "stdout",
     "output_type": "stream",
     "text": [
      "              precision    recall  f1-score   support\n",
      "\n",
      "           0       0.81      0.82      0.81      1036\n",
      "           1       0.48      0.48      0.48       373\n",
      "\n",
      "    accuracy                           0.73      1409\n",
      "   macro avg       0.65      0.65      0.65      1409\n",
      "weighted avg       0.73      0.73      0.73      1409\n",
      "\n"
     ]
    }
   ],
   "source": [
    "print(classification_report(y_feature_engineering_classification_test, y_test_pred))"
   ]
  },
  {
   "cell_type": "markdown",
   "metadata": {},
   "source": [
    "##### Precision-Recall Trade off - Precision Recall VS Threshold Plot"
   ]
  },
  {
   "cell_type": "code",
   "execution_count": 53,
   "metadata": {
    "ExecuteTime": {
     "end_time": "2021-04-09T05:01:10.022944Z",
     "start_time": "2021-04-09T05:01:09.980755Z"
    }
   },
   "outputs": [],
   "source": [
    "y_scores = cross_val_predict(clf, X_feature_engineering_classification_test, np.ravel(y_feature_engineering_classification_test), cv=3,)\n",
    "precisions, recalls, thresholds = precision_recall_curve(y_feature_engineering_classification_test, y_scores)"
   ]
  },
  {
   "cell_type": "code",
   "execution_count": 54,
   "metadata": {
    "ExecuteTime": {
     "end_time": "2021-04-09T05:01:10.244696Z",
     "start_time": "2021-04-09T05:01:10.025974Z"
    }
   },
   "outputs": [
    {
     "data": {
      "image/png": "[encoded data removed]",
      "text/plain": [
       "<Figure size 576x432 with 1 Axes>"
      ]
     },
     "metadata": {
      "needs_background": "light"
     },
     "output_type": "display_data"
    }
   ],
   "source": [
    "def plot_precision_vs_recall(precisions, recalls):\n",
    "    plt.plot(recalls, precisions, \"b-\", linewidth=2)\n",
    "    plt.title('Precision and Recall Plot')\n",
    "    plt.xlabel(\"Recall\")\n",
    "    plt.ylabel(\"Precision\")\n",
    "    plt.axis([0, 1, 0, 1])\n",
    "    plt.grid(True)\n",
    "\n",
    "plt.figure(figsize=(8, 6))\n",
    "plot_precision_vs_recall(precisions, recalls)\n",
    "plt.plot([0.4368, 0.4368], [0., 0.9], \"r:\")\n",
    "plt.plot([0.0, 0.4368], [0.9, 0.9], \"r:\")\n",
    "plt.plot([0.4368], [0.9], \"ro\")\n",
    "plt.show()"
   ]
  },
  {
   "cell_type": "markdown",
   "metadata": {},
   "source": [
    "##### ROC and AUC Curve"
   ]
  },
  {
   "cell_type": "code",
   "execution_count": 55,
   "metadata": {
    "ExecuteTime": {
     "end_time": "2021-04-09T05:01:10.260720Z",
     "start_time": "2021-04-09T05:01:10.246855Z"
    }
   },
   "outputs": [],
   "source": [
    "fpr, tpr, thresholds = roc_curve(y_feature_engineering_classification_test, y_scores)"
   ]
  },
  {
   "cell_type": "code",
   "execution_count": 56,
   "metadata": {
    "ExecuteTime": {
     "end_time": "2021-04-09T05:01:10.494703Z",
     "start_time": "2021-04-09T05:01:10.264304Z"
    }
   },
   "outputs": [
    {
     "data": {
      "image/png": "[encoded data removed]",
      "text/plain": [
       "<Figure size 576x432 with 1 Axes>"
      ]
     },
     "metadata": {
      "needs_background": "light"
     },
     "output_type": "display_data"
    }
   ],
   "source": [
    "def plot_roc_curve(fpr, tpr, label=None):\n",
    "    plt.plot(fpr, tpr, linewidth=2, label=label)\n",
    "    plt.plot([0, 1], [0, 1], 'k--')\n",
    "    plt.axis([0, 1, 0, 1])\n",
    "    plt.xlabel('False Positive Rate (Fall-Out)')\n",
    "    plt.ylabel('True Positive Rate (Recall)')\n",
    "    plt.grid(True)\n",
    "\n",
    "plt.figure(figsize=(8, 6))\n",
    "plot_roc_curve(fpr, tpr)\n",
    "plt.plot([4.837e-3, 4.837e-3], [0., 0.4368], \"r:\")\n",
    "plt.plot([0.0, 4.837e-3], [0.4368, 0.4368], \"r:\")\n",
    "plt.plot([4.837e-3], [0.4368], \"ro\")\n",
    "plt.show()"
   ]
  },
  {
   "cell_type": "code",
   "execution_count": 57,
   "metadata": {
    "ExecuteTime": {
     "end_time": "2021-04-09T05:01:10.525622Z",
     "start_time": "2021-04-09T05:01:10.496768Z"
    }
   },
   "outputs": [
    {
     "data": {
      "text/plain": [
       "0.6554856273354932"
      ]
     },
     "execution_count": 57,
     "metadata": {},
     "output_type": "execute_result"
    }
   ],
   "source": [
    "roc_auc_score(y_feature_engineering_classification_test, y_scores)"
   ]
  },
  {
   "cell_type": "markdown",
   "metadata": {},
   "source": [
    "##### Predict with some feature"
   ]
  },
  {
   "cell_type": "code",
   "execution_count": 58,
   "metadata": {
    "ExecuteTime": {
     "end_time": "2021-04-09T05:01:10.557104Z",
     "start_time": "2021-04-09T05:01:10.527624Z"
    }
   },
   "outputs": [
    {
     "data": {
      "text/plain": [
       "array([0, 0, 0, 0, 1, 0, 1, 1, 0, 1], dtype=int64)"
      ]
     },
     "execution_count": 58,
     "metadata": {},
     "output_type": "execute_result"
    }
   ],
   "source": [
    "clf.predict(X_feature_engineering_classification_test.iloc[50:60, :])"
   ]
  },
  {
   "cell_type": "code",
   "execution_count": 59,
   "metadata": {
    "ExecuteTime": {
     "end_time": "2021-04-09T05:01:10.572428Z",
     "start_time": "2021-04-09T05:01:10.559269Z"
    }
   },
   "outputs": [
    {
     "data": {
      "text/html": [
       "<div>\n",
       "<style scoped>\n",
       "    .dataframe tbody tr th:only-of-type {\n",
       "        vertical-align: middle;\n",
       "    }\n",
       "\n",
       "    .dataframe tbody tr th {\n",
       "        vertical-align: top;\n",
       "    }\n",
       "\n",
       "    .dataframe thead th {\n",
       "        text-align: right;\n",
       "    }\n",
       "</style>\n",
       "<table border=\"1\" class=\"dataframe\">\n",
       "  <thead>\n",
       "    <tr style=\"text-align: right;\">\n",
       "      <th></th>\n",
       "      <th>churn</th>\n",
       "    </tr>\n",
       "  </thead>\n",
       "  <tbody>\n",
       "    <tr>\n",
       "      <th>50</th>\n",
       "      <td>0</td>\n",
       "    </tr>\n",
       "    <tr>\n",
       "      <th>51</th>\n",
       "      <td>0</td>\n",
       "    </tr>\n",
       "    <tr>\n",
       "      <th>52</th>\n",
       "      <td>0</td>\n",
       "    </tr>\n",
       "    <tr>\n",
       "      <th>53</th>\n",
       "      <td>0</td>\n",
       "    </tr>\n",
       "    <tr>\n",
       "      <th>54</th>\n",
       "      <td>0</td>\n",
       "    </tr>\n",
       "    <tr>\n",
       "      <th>55</th>\n",
       "      <td>0</td>\n",
       "    </tr>\n",
       "    <tr>\n",
       "      <th>56</th>\n",
       "      <td>0</td>\n",
       "    </tr>\n",
       "    <tr>\n",
       "      <th>57</th>\n",
       "      <td>0</td>\n",
       "    </tr>\n",
       "    <tr>\n",
       "      <th>58</th>\n",
       "      <td>0</td>\n",
       "    </tr>\n",
       "    <tr>\n",
       "      <th>59</th>\n",
       "      <td>0</td>\n",
       "    </tr>\n",
       "  </tbody>\n",
       "</table>\n",
       "</div>"
      ],
      "text/plain": [
       "    churn\n",
       "50      0\n",
       "51      0\n",
       "52      0\n",
       "53      0\n",
       "54      0\n",
       "55      0\n",
       "56      0\n",
       "57      0\n",
       "58      0\n",
       "59      0"
      ]
     },
     "execution_count": 59,
     "metadata": {},
     "output_type": "execute_result"
    }
   ],
   "source": [
    "y_feature_engineering_classification_test.iloc[50:60, :]"
   ]
  },
  {
   "cell_type": "markdown",
   "metadata": {},
   "source": [
    "##### Save visualization tree"
   ]
  },
  {
   "cell_type": "code",
   "execution_count": 60,
   "metadata": {
    "ExecuteTime": {
     "end_time": "2021-04-09T05:01:18.317747Z",
     "start_time": "2021-04-09T05:01:10.575238Z"
    }
   },
   "outputs": [
    {
     "data": {
      "text/plain": [
       "'../images/classification\\\\feature_engineering_dataset_decision_tree.pdf'"
      ]
     },
     "execution_count": 60,
     "metadata": {},
     "output_type": "execute_result"
    }
   ],
   "source": [
    "feature_engineering_dataset_dot_data = tree.export_graphviz(clf, out_file=None)\n",
    "graph                                = graphviz.Source(feature_engineering_dataset_dot_data)\n",
    "\n",
    "graph.render(\"../images/classification/feature_engineering_dataset_decision_tree\")"
   ]
  },
  {
   "cell_type": "markdown",
   "metadata": {
    "slideshow": {
     "slide_type": "subslide"
    }
   },
   "source": [
    "#### Regression"
   ]
  },
  {
   "cell_type": "code",
   "execution_count": 61,
   "metadata": {
    "ExecuteTime": {
     "end_time": "2021-04-09T05:01:18.886852Z",
     "start_time": "2021-04-09T05:01:18.321560Z"
    }
   },
   "outputs": [
    {
     "data": {
      "text/plain": [
       "array([0.99839546, 0.99861016, 0.99820053, 0.99793024, 0.99825633,\n",
       "       0.99750653, 0.99778542, 0.99754624, 0.99620648, 0.99847558])"
      ]
     },
     "execution_count": 61,
     "metadata": {},
     "output_type": "execute_result"
    }
   ],
   "source": [
    "regressor = DecisionTreeRegressor(max_depth=20, random_state=42)\n",
    "cross_val_score(regressor, X_feature_engineering_regression_train, y_feature_engineering_regression_train, cv=10)"
   ]
  },
  {
   "cell_type": "markdown",
   "metadata": {},
   "source": [
    "##### R Squared"
   ]
  },
  {
   "cell_type": "code",
   "execution_count": 62,
   "metadata": {
    "ExecuteTime": {
     "end_time": "2021-04-09T05:01:18.971099Z",
     "start_time": "2021-04-09T05:01:18.887851Z"
    }
   },
   "outputs": [
    {
     "data": {
      "text/plain": [
       "0.99870701989607"
      ]
     },
     "execution_count": 62,
     "metadata": {},
     "output_type": "execute_result"
    }
   ],
   "source": [
    "regressor.fit(X_feature_engineering_regression_train, y_feature_engineering_regression_train)\n",
    "r2_score(y_feature_engineering_regression_test, regressor.predict(X_feature_engineering_regression_test))"
   ]
  },
  {
   "cell_type": "markdown",
   "metadata": {},
   "source": [
    "##### Mean Absolute Error"
   ]
  },
  {
   "cell_type": "code",
   "execution_count": 63,
   "metadata": {
    "ExecuteTime": {
     "end_time": "2021-04-09T05:01:19.002047Z",
     "start_time": "2021-04-09T05:01:18.975471Z"
    }
   },
   "outputs": [
    {
     "data": {
      "text/plain": [
       "0.46770759403832507"
      ]
     },
     "execution_count": 63,
     "metadata": {},
     "output_type": "execute_result"
    }
   ],
   "source": [
    "mean_absolute_error(y_feature_engineering_regression_test, regressor.predict(X_feature_engineering_regression_test))"
   ]
  },
  {
   "cell_type": "markdown",
   "metadata": {},
   "source": [
    "##### Root Mean Squared Error"
   ]
  },
  {
   "cell_type": "code",
   "execution_count": 64,
   "metadata": {
    "ExecuteTime": {
     "end_time": "2021-04-09T05:01:19.052007Z",
     "start_time": "2021-04-09T05:01:19.007078Z"
    }
   },
   "outputs": [
    {
     "data": {
      "text/plain": [
       "0.9022485907538943"
      ]
     },
     "execution_count": 64,
     "metadata": {},
     "output_type": "execute_result"
    }
   ],
   "source": [
    "mean_squared_error(y_feature_engineering_regression_test, regressor.predict(X_feature_engineering_regression_test))** 0.5"
   ]
  },
  {
   "cell_type": "markdown",
   "metadata": {},
   "source": [
    "##### Predict with some feature"
   ]
  },
  {
   "cell_type": "code",
   "execution_count": 65,
   "metadata": {
    "ExecuteTime": {
     "end_time": "2021-04-09T05:01:19.100821Z",
     "start_time": "2021-04-09T05:01:19.054571Z"
    }
   },
   "outputs": [
    {
     "data": {
      "text/plain": [
       "array([19., 24., 72., 72., 60., 67., 68.,  8.,  3., 17.])"
      ]
     },
     "execution_count": 65,
     "metadata": {},
     "output_type": "execute_result"
    }
   ],
   "source": [
    "regressor.predict(X_feature_engineering_regression_test.iloc[50:60, 0:19])"
   ]
  },
  {
   "cell_type": "code",
   "execution_count": 66,
   "metadata": {
    "ExecuteTime": {
     "end_time": "2021-04-09T05:01:19.131800Z",
     "start_time": "2021-04-09T05:01:19.105819Z"
    }
   },
   "outputs": [
    {
     "data": {
      "text/html": [
       "<div>\n",
       "<style scoped>\n",
       "    .dataframe tbody tr th:only-of-type {\n",
       "        vertical-align: middle;\n",
       "    }\n",
       "\n",
       "    .dataframe tbody tr th {\n",
       "        vertical-align: top;\n",
       "    }\n",
       "\n",
       "    .dataframe thead th {\n",
       "        text-align: right;\n",
       "    }\n",
       "</style>\n",
       "<table border=\"1\" class=\"dataframe\">\n",
       "  <thead>\n",
       "    <tr style=\"text-align: right;\">\n",
       "      <th></th>\n",
       "      <th>tenure</th>\n",
       "    </tr>\n",
       "  </thead>\n",
       "  <tbody>\n",
       "    <tr>\n",
       "      <th>50</th>\n",
       "      <td>19</td>\n",
       "    </tr>\n",
       "    <tr>\n",
       "      <th>51</th>\n",
       "      <td>23</td>\n",
       "    </tr>\n",
       "    <tr>\n",
       "      <th>52</th>\n",
       "      <td>72</td>\n",
       "    </tr>\n",
       "    <tr>\n",
       "      <th>53</th>\n",
       "      <td>72</td>\n",
       "    </tr>\n",
       "    <tr>\n",
       "      <th>54</th>\n",
       "      <td>59</td>\n",
       "    </tr>\n",
       "    <tr>\n",
       "      <th>55</th>\n",
       "      <td>70</td>\n",
       "    </tr>\n",
       "    <tr>\n",
       "      <th>56</th>\n",
       "      <td>70</td>\n",
       "    </tr>\n",
       "    <tr>\n",
       "      <th>57</th>\n",
       "      <td>9</td>\n",
       "    </tr>\n",
       "    <tr>\n",
       "      <th>58</th>\n",
       "      <td>3</td>\n",
       "    </tr>\n",
       "    <tr>\n",
       "      <th>59</th>\n",
       "      <td>17</td>\n",
       "    </tr>\n",
       "  </tbody>\n",
       "</table>\n",
       "</div>"
      ],
      "text/plain": [
       "    tenure\n",
       "50      19\n",
       "51      23\n",
       "52      72\n",
       "53      72\n",
       "54      59\n",
       "55      70\n",
       "56      70\n",
       "57       9\n",
       "58       3\n",
       "59      17"
      ]
     },
     "execution_count": 66,
     "metadata": {},
     "output_type": "execute_result"
    }
   ],
   "source": [
    "y_feature_engineering_regression_test[50:60]"
   ]
  },
  {
   "cell_type": "markdown",
   "metadata": {},
   "source": [
    "##### Save visualization tree"
   ]
  },
  {
   "cell_type": "code",
   "execution_count": 67,
   "metadata": {
    "ExecuteTime": {
     "end_time": "2021-04-09T05:01:45.081613Z",
     "start_time": "2021-04-09T05:01:19.146720Z"
    }
   },
   "outputs": [
    {
     "data": {
      "text/plain": [
       "'../images/regression\\\\feature_engineering_dataset_decision_tree.pdf'"
      ]
     },
     "execution_count": 67,
     "metadata": {},
     "output_type": "execute_result"
    }
   ],
   "source": [
    "feature_engineering_dataset_dot_data = tree.export_graphviz(regressor, out_file=None)\n",
    "graph                                = graphviz.Source(feature_engineering_dataset_dot_data)\n",
    "\n",
    "graph.render(\"../images/regression/feature_engineering_dataset_decision_tree\")"
   ]
  },
  {
   "cell_type": "markdown",
   "metadata": {
    "slideshow": {
     "slide_type": "subslide"
    }
   },
   "source": [
    "### PCA Dataset"
   ]
  },
  {
   "cell_type": "markdown",
   "metadata": {},
   "source": [
    "#### Classification"
   ]
  },
  {
   "cell_type": "markdown",
   "metadata": {},
   "source": [
    "##### Validation Curve for hyperparameter max_depth"
   ]
  },
  {
   "cell_type": "code",
   "execution_count": 68,
   "metadata": {
    "ExecuteTime": {
     "end_time": "2021-04-09T05:01:49.478809Z",
     "start_time": "2021-04-09T05:01:45.087341Z"
    }
   },
   "outputs": [
    {
     "data": {
      "image/png": "[encoded data removed]",
      "text/plain": [
       "<Figure size 432x288 with 1 Axes>"
      ]
     },
     "metadata": {
      "needs_background": "light"
     },
     "output_type": "display_data"
    }
   ],
   "source": [
    "param_range = np.arange(1, 21, 1)\n",
    "train_scores, test_scores = validation_curve(DecisionTreeClassifier(criterion='entropy', random_state=42), X_PCA_classification_train, y_PCA_classification_train, param_name=\"max_depth\", param_range=param_range,scoring=\"accuracy\", cv=10, n_jobs=3)\n",
    "train_scores_mean = np.mean(train_scores, axis=1)\n",
    "train_scores_std = np.std(train_scores, axis=1)\n",
    "test_scores_mean = np.mean(test_scores, axis=1)\n",
    "test_scores_std = np.std(test_scores, axis=1)\n",
    "\n",
    "plt.title(\"Validation Curve with Decision Tree Classifier\")\n",
    "plt.xlabel(\"max_depth\")\n",
    "plt.ylabel(\"Score\")\n",
    "plt.ylim(0.0, 1.1)\n",
    "lw = 2\n",
    "\n",
    "plt.semilogx(param_range, train_scores_mean, label=\"Training score\", color=\"darkorange\", lw=lw)\n",
    "plt.fill_between(param_range, train_scores_mean - train_scores_std, train_scores_mean + train_scores_std, alpha=0.2, color=\"darkorange\", lw=lw)\n",
    "\n",
    "plt.semilogx(param_range, test_scores_mean, label=\"Cross-validation score\", color=\"navy\", lw=lw)\n",
    "plt.fill_between(param_range, test_scores_mean - test_scores_std, test_scores_mean + test_scores_std, alpha=0.2, color=\"navy\", lw=lw)\n",
    "\n",
    "plt.legend(loc=\"best\")\n",
    "plt.show()"
   ]
  },
  {
   "cell_type": "code",
   "execution_count": 69,
   "metadata": {
    "ExecuteTime": {
     "end_time": "2021-04-09T05:01:49.525390Z",
     "start_time": "2021-04-09T05:01:49.482991Z"
    }
   },
   "outputs": [
    {
     "data": {
      "text/plain": [
       "DecisionTreeClassifier(criterion='entropy', max_depth=10, random_state=42)"
      ]
     },
     "execution_count": 69,
     "metadata": {},
     "output_type": "execute_result"
    }
   ],
   "source": [
    "clf = DecisionTreeClassifier(max_depth=10, criterion='entropy', random_state=42)\n",
    "clf.fit(X_PCA_classification_train, y_PCA_classification_train)"
   ]
  },
  {
   "cell_type": "code",
   "execution_count": 70,
   "metadata": {
    "ExecuteTime": {
     "end_time": "2021-04-09T05:01:50.172175Z",
     "start_time": "2021-04-09T05:01:49.526390Z"
    }
   },
   "outputs": [],
   "source": [
    "accuracy_scores = []\n",
    "\n",
    "for i in range(1, 22):\n",
    "    clf = DecisionTreeClassifier(max_depth=i, criterion='entropy', random_state=42)\n",
    "\n",
    "    clf.fit(X_PCA_classification_train, y_PCA_classification_train)\n",
    "    accuracy_score_n = accuracy_score(y_PCA_classification_test, clf.predict(X_PCA_classification_test))\n",
    "    \n",
    "    accuracy_scores.append(accuracy_score_n)"
   ]
  },
  {
   "cell_type": "code",
   "execution_count": 71,
   "metadata": {
    "ExecuteTime": {
     "end_time": "2021-04-09T05:01:50.202799Z",
     "start_time": "2021-04-09T05:01:50.176913Z"
    }
   },
   "outputs": [
    {
     "name": "stdout",
     "output_type": "stream",
     "text": [
      "max_depth 1 : 0.742370%\n",
      "max_depth 2 : 0.757275%\n",
      "max_depth 3 : 0.756565%\n",
      "max_depth 4 : 0.753016%\n",
      "max_depth 5 : 0.753016%\n",
      "max_depth 6 : 0.750887%\n",
      "max_depth 7 : 0.749468%\n",
      "max_depth 8 : 0.746629%\n",
      "max_depth 9 : 0.743080%\n",
      "max_depth 10 : 0.738112%\n",
      "max_depth 11 : 0.740241%\n",
      "max_depth 12 : 0.740951%\n",
      "max_depth 13 : 0.733854%\n",
      "max_depth 14 : 0.740241%\n",
      "max_depth 15 : 0.738822%\n",
      "max_depth 16 : 0.740241%\n",
      "max_depth 17 : 0.735273%\n",
      "max_depth 18 : 0.740241%\n",
      "max_depth 19 : 0.739532%\n",
      "max_depth 20 : 0.734564%\n"
     ]
    }
   ],
   "source": [
    "for i in range(1, 21):\n",
    "    print(f'max_depth {i} : {accuracy_scores[i]:.6f}%')"
   ]
  },
  {
   "cell_type": "markdown",
   "metadata": {},
   "source": [
    "##### Cross Validation Score"
   ]
  },
  {
   "cell_type": "code",
   "execution_count": 72,
   "metadata": {
    "ExecuteTime": {
     "end_time": "2021-04-09T05:01:50.373775Z",
     "start_time": "2021-04-09T05:01:50.206272Z"
    }
   },
   "outputs": [
    {
     "data": {
      "text/plain": [
       "array([0.67375887, 0.68085106, 0.75177305, 0.68085106, 0.67375887,\n",
       "       0.63829787, 0.71631206, 0.65248227, 0.73758865, 0.72857143])"
      ]
     },
     "execution_count": 72,
     "metadata": {},
     "output_type": "execute_result"
    }
   ],
   "source": [
    "cross_val_score(clf, X_PCA_classification_test, y_PCA_classification_test, cv=10)"
   ]
  },
  {
   "cell_type": "markdown",
   "metadata": {},
   "source": [
    "##### Precision"
   ]
  },
  {
   "cell_type": "code",
   "execution_count": 73,
   "metadata": {
    "ExecuteTime": {
     "end_time": "2021-04-09T05:01:50.389198Z",
     "start_time": "2021-04-09T05:01:50.377781Z"
    }
   },
   "outputs": [],
   "source": [
    "y_test_pred = clf.predict(X_PCA_classification_test)"
   ]
  },
  {
   "cell_type": "code",
   "execution_count": 74,
   "metadata": {
    "ExecuteTime": {
     "end_time": "2021-04-09T05:01:50.420778Z",
     "start_time": "2021-04-09T05:01:50.391882Z"
    }
   },
   "outputs": [
    {
     "name": "stdout",
     "output_type": "stream",
     "text": [
      "Precision: 49.73%\n"
     ]
    }
   ],
   "source": [
    "print(f'Precision: {round(precision_score(np.ravel(y_PCA_classification_test), y_test_pred) * 100, 2)}%')"
   ]
  },
  {
   "cell_type": "markdown",
   "metadata": {
    "ExecuteTime": {
     "end_time": "2021-03-31T08:59:47.633427Z",
     "start_time": "2021-03-31T08:59:47.619284Z"
    }
   },
   "source": [
    "##### Recall"
   ]
  },
  {
   "cell_type": "code",
   "execution_count": 75,
   "metadata": {
    "ExecuteTime": {
     "end_time": "2021-04-09T05:01:50.436436Z",
     "start_time": "2021-04-09T05:01:50.424994Z"
    }
   },
   "outputs": [
    {
     "name": "stdout",
     "output_type": "stream",
     "text": [
      "Recall: 24.93%\n"
     ]
    }
   ],
   "source": [
    "print(f'Recall: {round(recall_score(np.ravel(y_PCA_classification_test), y_test_pred) * 100, 2)}%')"
   ]
  },
  {
   "cell_type": "markdown",
   "metadata": {},
   "source": [
    "##### F1-Score"
   ]
  },
  {
   "cell_type": "code",
   "execution_count": 76,
   "metadata": {
    "ExecuteTime": {
     "end_time": "2021-04-09T05:01:50.452393Z",
     "start_time": "2021-04-09T05:01:50.440521Z"
    }
   },
   "outputs": [
    {
     "name": "stdout",
     "output_type": "stream",
     "text": [
      "F-1 Score: 33.21%\n"
     ]
    }
   ],
   "source": [
    "print(f'F-1 Score: {round(f1_score(np.ravel(y_PCA_classification_test), y_test_pred) * 100, 2)}%')"
   ]
  },
  {
   "cell_type": "markdown",
   "metadata": {},
   "source": [
    "##### Classification Report\n",
    "Untuk melihat precision, recall, f1-score, dan accuracy dari setiap kelas secara keseluruhan."
   ]
  },
  {
   "cell_type": "code",
   "execution_count": 77,
   "metadata": {
    "ExecuteTime": {
     "end_time": "2021-04-09T05:01:50.483788Z",
     "start_time": "2021-04-09T05:01:50.455485Z"
    }
   },
   "outputs": [
    {
     "name": "stdout",
     "output_type": "stream",
     "text": [
      "              precision    recall  f1-score   support\n",
      "\n",
      "           0       0.77      0.91      0.83      1036\n",
      "           1       0.50      0.25      0.33       373\n",
      "\n",
      "    accuracy                           0.73      1409\n",
      "   macro avg       0.63      0.58      0.58      1409\n",
      "weighted avg       0.70      0.73      0.70      1409\n",
      "\n"
     ]
    }
   ],
   "source": [
    "print(classification_report(y_PCA_classification_test, y_test_pred))"
   ]
  },
  {
   "cell_type": "markdown",
   "metadata": {},
   "source": [
    "##### Precision-Recall Trade off - Precision Recall VS Threshold Plot"
   ]
  },
  {
   "cell_type": "code",
   "execution_count": 78,
   "metadata": {
    "ExecuteTime": {
     "end_time": "2021-04-09T05:01:50.548669Z",
     "start_time": "2021-04-09T05:01:50.486262Z"
    }
   },
   "outputs": [],
   "source": [
    "y_scores = cross_val_predict(clf, X_PCA_classification_test, np.ravel(y_PCA_classification_test), cv=3,)\n",
    "precisions, recalls, thresholds = precision_recall_curve(y_PCA_classification_test, y_scores)"
   ]
  },
  {
   "cell_type": "code",
   "execution_count": 79,
   "metadata": {
    "ExecuteTime": {
     "end_time": "2021-04-09T05:01:50.793070Z",
     "start_time": "2021-04-09T05:01:50.552671Z"
    }
   },
   "outputs": [
    {
     "data": {
      "image/png": "[encoded data removed]",
      "text/plain": [
       "<Figure size 576x432 with 1 Axes>"
      ]
     },
     "metadata": {
      "needs_background": "light"
     },
     "output_type": "display_data"
    }
   ],
   "source": [
    "def plot_precision_vs_recall(precisions, recalls):\n",
    "    plt.plot(recalls, precisions, \"b-\", linewidth=2)\n",
    "    plt.title('Precision and Recall Plot')\n",
    "    plt.xlabel(\"Recall\")\n",
    "    plt.ylabel(\"Precision\")\n",
    "    plt.axis([0, 1, 0, 1])\n",
    "    plt.grid(True)\n",
    "\n",
    "plt.figure(figsize=(8, 6))\n",
    "plot_precision_vs_recall(precisions, recalls)\n",
    "plt.plot([0.4368, 0.4368], [0., 0.9], \"r:\")\n",
    "plt.plot([0.0, 0.4368], [0.9, 0.9], \"r:\")\n",
    "plt.plot([0.4368], [0.9], \"ro\")\n",
    "plt.show()"
   ]
  },
  {
   "cell_type": "markdown",
   "metadata": {},
   "source": [
    "##### Precision-Recall Trade off - Precision Recall VS Threshold Plot"
   ]
  },
  {
   "cell_type": "code",
   "execution_count": 80,
   "metadata": {
    "ExecuteTime": {
     "end_time": "2021-04-09T05:01:50.808327Z",
     "start_time": "2021-04-09T05:01:50.794602Z"
    }
   },
   "outputs": [],
   "source": [
    "fpr, tpr, thresholds = roc_curve(y_PCA_classification_test, y_scores)"
   ]
  },
  {
   "cell_type": "code",
   "execution_count": 81,
   "metadata": {
    "ExecuteTime": {
     "end_time": "2021-04-09T05:01:51.153534Z",
     "start_time": "2021-04-09T05:01:50.811952Z"
    }
   },
   "outputs": [
    {
     "data": {
      "image/png": "[encoded data removed]",
      "text/plain": [
       "<Figure size 576x432 with 1 Axes>"
      ]
     },
     "metadata": {
      "needs_background": "light"
     },
     "output_type": "display_data"
    }
   ],
   "source": [
    "def plot_roc_curve(fpr, tpr, label=None):\n",
    "    plt.plot(fpr, tpr, linewidth=2, label=label)\n",
    "    plt.plot([0, 1], [0, 1], 'k--')\n",
    "    plt.axis([0, 1, 0, 1])\n",
    "    plt.xlabel('False Positive Rate (Fall-Out)')\n",
    "    plt.ylabel('True Positive Rate (Recall)')\n",
    "    plt.grid(True)\n",
    "\n",
    "plt.figure(figsize=(8, 6))\n",
    "plot_roc_curve(fpr, tpr)\n",
    "plt.plot([4.837e-3, 4.837e-3], [0., 0.4368], \"r:\")\n",
    "plt.plot([0.0, 4.837e-3], [0.4368, 0.4368], \"r:\")\n",
    "plt.plot([4.837e-3], [0.4368], \"ro\")\n",
    "plt.show()"
   ]
  },
  {
   "cell_type": "code",
   "execution_count": 82,
   "metadata": {
    "ExecuteTime": {
     "end_time": "2021-04-09T05:01:51.184573Z",
     "start_time": "2021-04-09T05:01:51.159384Z"
    }
   },
   "outputs": [
    {
     "data": {
      "text/plain": [
       "0.5478743776330908"
      ]
     },
     "execution_count": 82,
     "metadata": {},
     "output_type": "execute_result"
    }
   ],
   "source": [
    "roc_auc_score(y_PCA_classification_test, y_scores)"
   ]
  },
  {
   "cell_type": "markdown",
   "metadata": {},
   "source": [
    "##### Predict with some feature"
   ]
  },
  {
   "cell_type": "code",
   "execution_count": 83,
   "metadata": {
    "ExecuteTime": {
     "end_time": "2021-04-09T05:01:51.215840Z",
     "start_time": "2021-04-09T05:01:51.190803Z"
    }
   },
   "outputs": [
    {
     "data": {
      "text/plain": [
       "array([0, 0, 0, 0, 0, 0, 0, 0, 1, 0], dtype=int64)"
      ]
     },
     "execution_count": 83,
     "metadata": {},
     "output_type": "execute_result"
    }
   ],
   "source": [
    "clf.predict(X_PCA_classification_test.iloc[50:60, :])"
   ]
  },
  {
   "cell_type": "code",
   "execution_count": 84,
   "metadata": {
    "ExecuteTime": {
     "end_time": "2021-04-09T05:01:51.247166Z",
     "start_time": "2021-04-09T05:01:51.223678Z"
    }
   },
   "outputs": [
    {
     "data": {
      "text/html": [
       "<div>\n",
       "<style scoped>\n",
       "    .dataframe tbody tr th:only-of-type {\n",
       "        vertical-align: middle;\n",
       "    }\n",
       "\n",
       "    .dataframe tbody tr th {\n",
       "        vertical-align: top;\n",
       "    }\n",
       "\n",
       "    .dataframe thead th {\n",
       "        text-align: right;\n",
       "    }\n",
       "</style>\n",
       "<table border=\"1\" class=\"dataframe\">\n",
       "  <thead>\n",
       "    <tr style=\"text-align: right;\">\n",
       "      <th></th>\n",
       "      <th>churn</th>\n",
       "    </tr>\n",
       "  </thead>\n",
       "  <tbody>\n",
       "    <tr>\n",
       "      <th>50</th>\n",
       "      <td>0</td>\n",
       "    </tr>\n",
       "    <tr>\n",
       "      <th>51</th>\n",
       "      <td>0</td>\n",
       "    </tr>\n",
       "    <tr>\n",
       "      <th>52</th>\n",
       "      <td>0</td>\n",
       "    </tr>\n",
       "    <tr>\n",
       "      <th>53</th>\n",
       "      <td>0</td>\n",
       "    </tr>\n",
       "    <tr>\n",
       "      <th>54</th>\n",
       "      <td>0</td>\n",
       "    </tr>\n",
       "    <tr>\n",
       "      <th>55</th>\n",
       "      <td>0</td>\n",
       "    </tr>\n",
       "    <tr>\n",
       "      <th>56</th>\n",
       "      <td>0</td>\n",
       "    </tr>\n",
       "    <tr>\n",
       "      <th>57</th>\n",
       "      <td>0</td>\n",
       "    </tr>\n",
       "    <tr>\n",
       "      <th>58</th>\n",
       "      <td>0</td>\n",
       "    </tr>\n",
       "    <tr>\n",
       "      <th>59</th>\n",
       "      <td>0</td>\n",
       "    </tr>\n",
       "  </tbody>\n",
       "</table>\n",
       "</div>"
      ],
      "text/plain": [
       "    churn\n",
       "50      0\n",
       "51      0\n",
       "52      0\n",
       "53      0\n",
       "54      0\n",
       "55      0\n",
       "56      0\n",
       "57      0\n",
       "58      0\n",
       "59      0"
      ]
     },
     "execution_count": 84,
     "metadata": {},
     "output_type": "execute_result"
    }
   ],
   "source": [
    "y_PCA_classification_test.iloc[50:60, :]"
   ]
  },
  {
   "cell_type": "markdown",
   "metadata": {},
   "source": [
    "##### Save visualization tree"
   ]
  },
  {
   "cell_type": "code",
   "execution_count": 85,
   "metadata": {
    "ExecuteTime": {
     "end_time": "2021-04-09T05:01:52.872851Z",
     "start_time": "2021-04-09T05:01:51.253156Z"
    }
   },
   "outputs": [
    {
     "data": {
      "text/plain": [
       "'../images/classification\\\\PCA_dataset_decision_tree.pdf'"
      ]
     },
     "execution_count": 85,
     "metadata": {},
     "output_type": "execute_result"
    }
   ],
   "source": [
    "PCA_dataset_dot_data = tree.export_graphviz(clf, out_file=None)\n",
    "graph                = graphviz.Source(PCA_dataset_dot_data)\n",
    "\n",
    "graph.render(\"../images/classification/PCA_dataset_decision_tree\")"
   ]
  },
  {
   "cell_type": "markdown",
   "metadata": {
    "slideshow": {
     "slide_type": "subslide"
    }
   },
   "source": [
    "#### Regression"
   ]
  },
  {
   "cell_type": "code",
   "execution_count": 86,
   "metadata": {
    "ExecuteTime": {
     "end_time": "2021-04-09T05:01:53.070623Z",
     "start_time": "2021-04-09T05:01:52.876238Z"
    }
   },
   "outputs": [
    {
     "data": {
      "text/plain": [
       "array([0.99730084, 0.99741127, 0.99517224, 0.99787081, 0.99733501,\n",
       "       0.99408216, 0.99800854, 0.99674209, 0.99807965, 0.99664564])"
      ]
     },
     "execution_count": 86,
     "metadata": {},
     "output_type": "execute_result"
    }
   ],
   "source": [
    "regressor = DecisionTreeRegressor(max_depth=20, random_state=42)\n",
    "cross_val_score(regressor, X_PCA_regression_test, y_PCA_regression_test, cv=10)"
   ]
  },
  {
   "cell_type": "markdown",
   "metadata": {},
   "source": [
    "##### R Squared"
   ]
  },
  {
   "cell_type": "code",
   "execution_count": 87,
   "metadata": {
    "ExecuteTime": {
     "end_time": "2021-04-09T05:01:53.116864Z",
     "start_time": "2021-04-09T05:01:53.073625Z"
    }
   },
   "outputs": [
    {
     "data": {
      "text/plain": [
       "0.9994081826028219"
      ]
     },
     "execution_count": 87,
     "metadata": {},
     "output_type": "execute_result"
    }
   ],
   "source": [
    "regressor.fit(X_PCA_regression_train, y_PCA_regression_train)\n",
    "r2_score(y_PCA_regression_test, regressor.predict(X_PCA_regression_test))"
   ]
  },
  {
   "cell_type": "markdown",
   "metadata": {},
   "source": [
    "##### Mean Absolute Error"
   ]
  },
  {
   "cell_type": "code",
   "execution_count": 88,
   "metadata": {
    "ExecuteTime": {
     "end_time": "2021-04-09T05:01:53.148701Z",
     "start_time": "2021-04-09T05:01:53.118837Z"
    }
   },
   "outputs": [
    {
     "data": {
      "text/plain": [
       "0.2789212207239177"
      ]
     },
     "execution_count": 88,
     "metadata": {},
     "output_type": "execute_result"
    }
   ],
   "source": [
    "mean_absolute_error(y_PCA_regression_test, regressor.predict(X_PCA_regression_test))"
   ]
  },
  {
   "cell_type": "markdown",
   "metadata": {},
   "source": [
    "##### Root Mean Squared Error"
   ]
  },
  {
   "cell_type": "code",
   "execution_count": 89,
   "metadata": {
    "ExecuteTime": {
     "end_time": "2021-04-09T05:01:53.199213Z",
     "start_time": "2021-04-09T05:01:53.151706Z"
    }
   },
   "outputs": [
    {
     "data": {
      "text/plain": [
       "0.6104135353784125"
      ]
     },
     "execution_count": 89,
     "metadata": {},
     "output_type": "execute_result"
    }
   ],
   "source": [
    "mean_squared_error(y_PCA_regression_test, regressor.predict(X_PCA_regression_test))** 0.5"
   ]
  },
  {
   "cell_type": "markdown",
   "metadata": {},
   "source": [
    "##### Predict with some feature"
   ]
  },
  {
   "cell_type": "code",
   "execution_count": 90,
   "metadata": {
    "ExecuteTime": {
     "end_time": "2021-04-09T05:01:53.230634Z",
     "start_time": "2021-04-09T05:01:53.201819Z"
    }
   },
   "outputs": [
    {
     "data": {
      "text/plain": [
       "array([19., 24., 72., 72., 60., 70., 69.,  9.,  3., 16.])"
      ]
     },
     "execution_count": 90,
     "metadata": {},
     "output_type": "execute_result"
    }
   ],
   "source": [
    "regressor.predict(X_PCA_regression_test.iloc[50:60, 0:26])"
   ]
  },
  {
   "cell_type": "code",
   "execution_count": 91,
   "metadata": {
    "ExecuteTime": {
     "end_time": "2021-04-09T05:01:53.266643Z",
     "start_time": "2021-04-09T05:01:53.233772Z"
    }
   },
   "outputs": [
    {
     "data": {
      "text/html": [
       "<div>\n",
       "<style scoped>\n",
       "    .dataframe tbody tr th:only-of-type {\n",
       "        vertical-align: middle;\n",
       "    }\n",
       "\n",
       "    .dataframe tbody tr th {\n",
       "        vertical-align: top;\n",
       "    }\n",
       "\n",
       "    .dataframe thead th {\n",
       "        text-align: right;\n",
       "    }\n",
       "</style>\n",
       "<table border=\"1\" class=\"dataframe\">\n",
       "  <thead>\n",
       "    <tr style=\"text-align: right;\">\n",
       "      <th></th>\n",
       "      <th>tenure</th>\n",
       "    </tr>\n",
       "  </thead>\n",
       "  <tbody>\n",
       "    <tr>\n",
       "      <th>50</th>\n",
       "      <td>19</td>\n",
       "    </tr>\n",
       "    <tr>\n",
       "      <th>51</th>\n",
       "      <td>23</td>\n",
       "    </tr>\n",
       "    <tr>\n",
       "      <th>52</th>\n",
       "      <td>72</td>\n",
       "    </tr>\n",
       "    <tr>\n",
       "      <th>53</th>\n",
       "      <td>72</td>\n",
       "    </tr>\n",
       "    <tr>\n",
       "      <th>54</th>\n",
       "      <td>59</td>\n",
       "    </tr>\n",
       "    <tr>\n",
       "      <th>55</th>\n",
       "      <td>70</td>\n",
       "    </tr>\n",
       "    <tr>\n",
       "      <th>56</th>\n",
       "      <td>70</td>\n",
       "    </tr>\n",
       "    <tr>\n",
       "      <th>57</th>\n",
       "      <td>9</td>\n",
       "    </tr>\n",
       "    <tr>\n",
       "      <th>58</th>\n",
       "      <td>3</td>\n",
       "    </tr>\n",
       "    <tr>\n",
       "      <th>59</th>\n",
       "      <td>17</td>\n",
       "    </tr>\n",
       "  </tbody>\n",
       "</table>\n",
       "</div>"
      ],
      "text/plain": [
       "    tenure\n",
       "50      19\n",
       "51      23\n",
       "52      72\n",
       "53      72\n",
       "54      59\n",
       "55      70\n",
       "56      70\n",
       "57       9\n",
       "58       3\n",
       "59      17"
      ]
     },
     "execution_count": 91,
     "metadata": {},
     "output_type": "execute_result"
    }
   ],
   "source": [
    "y_PCA_regression_test[50:60]"
   ]
  },
  {
   "cell_type": "markdown",
   "metadata": {},
   "source": [
    "##### Save visualization tree"
   ]
  },
  {
   "cell_type": "code",
   "execution_count": 92,
   "metadata": {
    "ExecuteTime": {
     "end_time": "2021-04-09T05:02:06.020887Z",
     "start_time": "2021-04-09T05:01:53.268639Z"
    }
   },
   "outputs": [
    {
     "data": {
      "text/plain": [
       "'../images/regression\\\\PCA_dataset_decision_tree.pdf'"
      ]
     },
     "execution_count": 92,
     "metadata": {},
     "output_type": "execute_result"
    }
   ],
   "source": [
    "PCA_dataset_dot_data = tree.export_graphviz(regressor, out_file=None)\n",
    "graph                = graphviz.Source(PCA_dataset_dot_data)\n",
    "\n",
    "graph.render(\"../images/regression/PCA_dataset_decision_tree\")"
   ]
  },
  {
   "cell_type": "markdown",
   "metadata": {
    "slideshow": {
     "slide_type": "slide"
    }
   },
   "source": [
    "#  Learning curves"
   ]
  },
  {
   "cell_type": "markdown",
   "metadata": {},
   "source": [
    "## Classification Model"
   ]
  },
  {
   "cell_type": "markdown",
   "metadata": {
    "slideshow": {
     "slide_type": "-"
    }
   },
   "source": [
    "### Create function"
   ]
  },
  {
   "cell_type": "code",
   "execution_count": 93,
   "metadata": {
    "ExecuteTime": {
     "end_time": "2021-04-09T05:02:06.070990Z",
     "start_time": "2021-04-09T05:02:06.026980Z"
    }
   },
   "outputs": [],
   "source": [
    "def plot_learning_curve(estimator, title, X, y, axes=None, ylim=None, cv=None, n_jobs=None, train_sizes=np.linspace(.1, 1.0, 100)): \n",
    "    if axes is None:\n",
    "        _, axes = plt.subplots(1, 3, figsize=(20, 5))\n",
    "\n",
    "    axes[0].set_title(title)\n",
    "    \n",
    "    if ylim is not None:\n",
    "        axes[0].set_ylim(*ylim)\n",
    "    \n",
    "    axes[0].set_xlabel(\"Training examples\")\n",
    "    axes[0].set_ylabel(\"Score\")\n",
    "\n",
    "    train_sizes, train_scores, test_scores, fit_times, _ = learning_curve(estimator, X_feature_engineering_classification_train, y_feature_engineering_classification_train, cv=cv, n_jobs=n_jobs,train_sizes=train_sizes,return_times=True)\n",
    "    \n",
    "    train_scores_mean = np.mean(train_scores, axis=1)\n",
    "    train_scores_std  = np.std(train_scores, axis=1)\n",
    "    test_scores_mean  = np.mean(test_scores, axis=1)\n",
    "    test_scores_std   = np.std(test_scores, axis=1)\n",
    "    fit_times_mean    = np.mean(fit_times, axis=1)\n",
    "    fit_times_std     = np.std(fit_times, axis=1)\n",
    "\n",
    "    # Plot learning curve\n",
    "    axes[0].grid()\n",
    "    axes[0].fill_between(train_sizes, train_scores_mean - train_scores_std, train_scores_mean + train_scores_std, alpha=0.1, color=\"r\")\n",
    "    axes[0].fill_between(train_sizes, test_scores_mean - test_scores_std, test_scores_mean + test_scores_std, alpha=0.1, color=\"g\")\n",
    "    axes[0].plot(train_sizes, train_scores_mean, '-', color=\"r\", label=\"Training score\")\n",
    "    axes[0].plot(train_sizes, test_scores_mean, '-', color=\"g\", label=\"Cross-validation score\")\n",
    "    axes[0].legend(loc=\"best\")\n",
    "\n",
    "    # Plot n_samples vs fit_times\n",
    "    axes[1].grid()\n",
    "    axes[1].plot(train_sizes, fit_times_mean, '-')\n",
    "    axes[1].fill_between(train_sizes, fit_times_mean - fit_times_std, fit_times_mean + fit_times_std, alpha=0.1)\n",
    "    axes[1].set_xlabel(\"Training examples\")\n",
    "    axes[1].set_ylabel(\"fit_times\")\n",
    "    axes[1].set_title(\"Scalability of the model\")\n",
    "\n",
    "    # Plot fit_time vs score\n",
    "    axes[2].grid()\n",
    "    axes[2].plot(fit_times_mean, test_scores_mean, '-')\n",
    "    axes[2].fill_between(fit_times_mean, test_scores_mean - test_scores_std, test_scores_mean + test_scores_std, alpha=0.1)\n",
    "    axes[2].set_xlabel(\"fit_times\")\n",
    "    axes[2].set_ylabel(\"Score\")\n",
    "    axes[2].set_title(\"Performance of the model\")\n",
    "\n",
    "    return plt"
   ]
  },
  {
   "cell_type": "markdown",
   "metadata": {
    "slideshow": {
     "slide_type": "subslide"
    }
   },
   "source": [
    "### Plotting Learning Curves"
   ]
  },
  {
   "cell_type": "code",
   "execution_count": 94,
   "metadata": {
    "ExecuteTime": {
     "end_time": "2021-04-09T05:02:54.301546Z",
     "start_time": "2021-04-09T05:02:06.076416Z"
    },
    "scrolled": false
   },
   "outputs": [
    {
     "data": {
      "image/png": "[encoded data removed]",
      "text/plain": [
       "<Figure size 1080x1440 with 9 Axes>"
      ]
     },
     "metadata": {
      "needs_background": "light"
     },
     "output_type": "display_data"
    }
   ],
   "source": [
    "fig, axes = plt.subplots(3, 3, figsize=(15, 20))\n",
    "cv        = 10\n",
    "estimator = DecisionTreeClassifier(max_depth=10, criterion='entropy', random_state=42)\n",
    "\n",
    "title = \"EDA Dataset\"\n",
    "plot_learning_curve(estimator, title, X_EDA_classification_train, y_EDA_classification_train, axes=axes[:, 0], ylim=(0.7, 1.01), cv=cv, n_jobs=3)\n",
    "\n",
    "title = \"Feature Engineering Dataset\"\n",
    "plot_learning_curve(estimator, title, X_feature_engineering_classification_train, y_feature_engineering_classification_train, axes=axes[:, 1], ylim=(0.7, 1.01), cv=cv, n_jobs=3)\n",
    "\n",
    "title = \"PCA Dataset\"\n",
    "plot_learning_curve(estimator, title, X_PCA_classification_train, y_PCA_classification_train, axes=axes[:, 2], ylim=(0.7, 1.01), cv=cv, n_jobs=3)\n",
    "\n",
    "plt.show()"
   ]
  },
  {
   "cell_type": "markdown",
   "metadata": {},
   "source": [
    "- Dari ketiga dataset yang berbeda, performa dari tiap model kurang lebih sama atau tidak memiliki perbedaan yang cukup signifikan. Ketiga model menunjukkan train score dan validation scorenya sama, dapat dilihat dari plot garis antara train score (merah) dan validation score (hijau), gapnya tidak besar. Atau dengan kata lain, <b>underfitting dan overfittingnya kecil</b>."
   ]
  },
  {
   "cell_type": "markdown",
   "metadata": {
    "ExecuteTime": {
     "end_time": "2021-04-02T16:21:00.005477Z",
     "start_time": "2021-04-02T16:20:59.991243Z"
    },
    "slideshow": {
     "slide_type": "subslide"
    }
   },
   "source": [
    "##  Regression model"
   ]
  },
  {
   "cell_type": "markdown",
   "metadata": {},
   "source": [
    "### Create function"
   ]
  },
  {
   "cell_type": "code",
   "execution_count": 95,
   "metadata": {
    "ExecuteTime": {
     "end_time": "2021-04-09T05:02:54.316948Z",
     "start_time": "2021-04-09T05:02:54.305735Z"
    }
   },
   "outputs": [],
   "source": [
    "def learning_curves(plot_title, estimator, features, target, train_sizes, cv):\n",
    "    train_sizes, train_scores, validation_scores = learning_curve(estimator, features, target, train_sizes=train_sizes, cv=cv, scoring='neg_mean_squared_error')\n",
    "    \n",
    "    train_scores_mean      = -train_scores.mean(axis = 1)\n",
    "    validation_scores_mean = -validation_scores.mean(axis = 1)\n",
    "    \n",
    "    plt.plot(train_sizes, validation_scores_mean, '-', color=\"g\", label='Validation error')\n",
    "    plt.plot(train_sizes, train_scores_mean, '-', color=\"r\", label='Training error', )\n",
    "    \n",
    "    plt.ylabel('MSE')\n",
    "    plt.xlabel('Training set size')\n",
    "    title = 'Learning curves ' + plot_title\n",
    "    plt.title(title, y = 1.03)\n",
    "    plt.legend()\n",
    "    plt.ylim(0,40)"
   ]
  },
  {
   "cell_type": "markdown",
   "metadata": {
    "slideshow": {
     "slide_type": "subslide"
    }
   },
   "source": [
    "### Plotting Learning Curves"
   ]
  },
  {
   "cell_type": "code",
   "execution_count": 96,
   "metadata": {
    "ExecuteTime": {
     "end_time": "2021-04-09T05:03:39.137925Z",
     "start_time": "2021-04-09T05:02:54.322978Z"
    }
   },
   "outputs": [
    {
     "data": {
      "image/png": "[encoded data removed]",
      "text/plain": [
       "<Figure size 432x288 with 1 Axes>"
      ]
     },
     "metadata": {
      "needs_background": "light"
     },
     "output_type": "display_data"
    }
   ],
   "source": [
    "regressor = DecisionTreeRegressor(max_depth=20, random_state=42)\n",
    "\n",
    "learning_curves('Decision Tree with EDA Dataset', regressor, X_EDA_regression_train, y_EDA_regression_train, np.linspace(0.1, 1.0, 100), 10)"
   ]
  },
  {
   "cell_type": "code",
   "execution_count": 97,
   "metadata": {
    "ExecuteTime": {
     "end_time": "2021-04-09T05:04:15.960007Z",
     "start_time": "2021-04-09T05:03:39.141927Z"
    }
   },
   "outputs": [
    {
     "data": {
      "image/png": "[encoded data removed]",
      "text/plain": [
       "<Figure size 432x288 with 1 Axes>"
      ]
     },
     "metadata": {
      "needs_background": "light"
     },
     "output_type": "display_data"
    }
   ],
   "source": [
    "learning_curves('Decision Tree with Feature Engineering Dataset', regressor, X_feature_engineering_regression_train, y_feature_engineering_regression_train, np.linspace(0.1, 1.0, 100), 10)"
   ]
  },
  {
   "cell_type": "code",
   "execution_count": 98,
   "metadata": {
    "ExecuteTime": {
     "end_time": "2021-04-09T05:04:48.988603Z",
     "start_time": "2021-04-09T05:04:15.964986Z"
    }
   },
   "outputs": [
    {
     "data": {
      "image/png": "[encoded data removed]",
      "text/plain": [
       "<Figure size 432x288 with 1 Axes>"
      ]
     },
     "metadata": {
      "needs_background": "light"
     },
     "output_type": "display_data"
    }
   ],
   "source": [
    "learning_curves('Decision Tree with PCA Dataset', regressor, X_PCA_regression_train, y_PCA_regression_train, np.linspace(0.1, 1.0, 100), 10)"
   ]
  },
  {
   "cell_type": "markdown",
   "metadata": {},
   "source": [
    "Dari ketiga learning curves dengan dataset yang berbeda, dapat dilihat bahwa learning curve yang menggunakan PCA dataset, gap antara training error dengan validation error sangat kecil, walaupun model masih underfitting."
   ]
  },
  {
   "cell_type": "markdown",
   "metadata": {
    "slideshow": {
     "slide_type": "slide"
    }
   },
   "source": [
    "# Conclusion\n",
    "- Untuk classification menggunakan classification model dengan dataset feature engineering. Alasan accuracy yang cukup tinggi, yaitu 77%.\n",
    "- Untuk regression menggunakan regresi model dengan dataset PCA. Alasannya akurasi tinggi, lebih dari 99%, error score rendah MAE(0.28) dan MSE(0.36), serta dimensi feature hanya dua komponen."
   ]
  }
 ],
 "metadata": {
  "celltoolbar": "Slideshow",
  "kernelspec": {
   "display_name": "Python 3",
   "language": "python",
   "name": "python3"
  },
  "language_info": {
   "codemirror_mode": {
    "name": "ipython",
    "version": 3
   },
   "file_extension": ".py",
   "mimetype": "text/x-python",
   "name": "python",
   "nbconvert_exporter": "python",
   "pygments_lexer": "ipython3",
   "version": "3.8.5"
  },
  "toc": {
   "base_numbering": 1,
   "nav_menu": {},
   "number_sections": true,
   "sideBar": true,
   "skip_h1_title": false,
   "title_cell": "Table of Contents",
   "title_sidebar": "Contents",
   "toc_cell": false,
   "toc_position": {
    "height": "calc(100% - 180px)",
    "left": "10px",
    "top": "150px",
    "width": "274.667px"
   },
   "toc_section_display": true,
   "toc_window_display": true
  }
 },
 "nbformat": 4,
 "nbformat_minor": 4
}
