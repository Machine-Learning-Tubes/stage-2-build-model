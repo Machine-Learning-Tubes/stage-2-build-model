{
 "cells": [
  {
   "cell_type": "markdown",
   "metadata": {},
   "source": [
    "# Descriptions\n",
    "- Prediksi yang dilakukan adalah klasifikasi untuk target churn (1-Yes atau 0-No) dan Regresi untuk target tenure.\n",
    "- Prediksi dengan klasifikasi menggunakan model machine learning\n",
    "- Prediksi dengan regresi menggunakan model machine learning"
   ]
  },
  {
   "cell_type": "markdown",
   "metadata": {},
   "source": [
    "# Import modules"
   ]
  },
  {
   "cell_type": "code",
   "execution_count": 1,
   "metadata": {
    "ExecuteTime": {
     "end_time": "2021-03-30T10:03:57.553794Z",
     "start_time": "2021-03-30T10:03:56.914164Z"
    }
   },
   "outputs": [],
   "source": [
    "import pandas as pd"
   ]
  },
  {
   "cell_type": "markdown",
   "metadata": {},
   "source": [
    "# Initialize and load dataset\n",
    "Terdapat tiga dataset, antara lain:\n",
    "- EDA_df, yaitu dataset yang merupakan hasil dari eksplorasi terhadap fitur-fitur, yang telah bersih dari outlier, missing, duplikat, dan mismatch.\n",
    "- feature_engineering_telco_customer_churn, yaitu dataset yang merupakan hasil dari feature engieering yang meliputi, feature transformation, feature extraction, dan feture selection.\n",
    "- PCA_telco_customer_churn.csv adalah hasil reduki fitur menggunakan metode PCA (Principal Component Analysis)."
   ]
  },
  {
   "cell_type": "markdown",
   "metadata": {
    "ExecuteTime": {
     "end_time": "2021-03-29T03:36:12.260462Z",
     "start_time": "2021-03-29T03:36:12.250714Z"
    }
   },
   "source": [
    "## EDA"
   ]
  },
  {
   "cell_type": "code",
   "execution_count": 2,
   "metadata": {
    "ExecuteTime": {
     "end_time": "2021-03-30T10:03:57.594115Z",
     "start_time": "2021-03-30T10:03:57.553794Z"
    }
   },
   "outputs": [],
   "source": [
    "EDA_train_df = pd.read_csv('../datasets/train/EDA_train.csv')\n",
    "EDA_test_df = pd.read_csv('../datasets/test/EDA_test.csv')"
   ]
  },
  {
   "cell_type": "markdown",
   "metadata": {},
   "source": [
    "## Feature Engineering"
   ]
  },
  {
   "cell_type": "markdown",
   "metadata": {},
   "source": [
    "### Classification Model"
   ]
  },
  {
   "cell_type": "code",
   "execution_count": 3,
   "metadata": {
    "ExecuteTime": {
     "end_time": "2021-03-30T10:03:57.613656Z",
     "start_time": "2021-03-30T10:03:57.595162Z"
    }
   },
   "outputs": [],
   "source": [
    "feature_engineering_classification_train_df = pd.read_csv('../datasets/train/feature_engineering_classification_train.csv')\n",
    "feature_engineering_classification_test_df = pd.read_csv('../datasets/test/feature_engineering_classification_test.csv')"
   ]
  },
  {
   "cell_type": "markdown",
   "metadata": {},
   "source": [
    "### Regression Model"
   ]
  },
  {
   "cell_type": "code",
   "execution_count": 4,
   "metadata": {
    "ExecuteTime": {
     "end_time": "2021-03-30T10:03:57.634110Z",
     "start_time": "2021-03-30T10:03:57.613656Z"
    }
   },
   "outputs": [],
   "source": [
    "feature_engineering_regression_train_df = pd.read_csv('../datasets/train/feature_engineering_regression_train.csv')\n",
    "feature_engineering_regression_test_df = pd.read_csv('../datasets/test/feature_engineering_regression_test.csv')"
   ]
  },
  {
   "cell_type": "markdown",
   "metadata": {},
   "source": [
    "## PCA"
   ]
  },
  {
   "cell_type": "code",
   "execution_count": 5,
   "metadata": {
    "ExecuteTime": {
     "end_time": "2021-03-30T10:03:57.694133Z",
     "start_time": "2021-03-30T10:03:57.634110Z"
    }
   },
   "outputs": [],
   "source": [
    "PCA_train_df = pd.read_csv('../datasets/train/PCA_train.csv')\n",
    "PCA_test_df = pd.read_csv('../datasets/test/PCA_test.csv')"
   ]
  },
  {
   "cell_type": "markdown",
   "metadata": {
    "ExecuteTime": {
     "end_time": "2021-03-29T03:31:00.351696Z",
     "start_time": "2021-03-29T03:31:00.331425Z"
    }
   },
   "source": [
    "# Build model"
   ]
  },
  {
   "cell_type": "markdown",
   "metadata": {},
   "source": [
    "## Support Vector Classifier"
   ]
  },
  {
   "cell_type": "code",
   "execution_count": null,
   "metadata": {},
   "outputs": [],
   "source": []
  },
  {
   "cell_type": "markdown",
   "metadata": {},
   "source": [
    "## Decision Tree"
   ]
  },
  {
   "cell_type": "code",
   "execution_count": null,
   "metadata": {},
   "outputs": [],
   "source": []
  },
  {
   "cell_type": "markdown",
   "metadata": {},
   "source": [
    "## Random Forest"
   ]
  },
  {
   "cell_type": "code",
   "execution_count": null,
   "metadata": {},
   "outputs": [],
   "source": []
  }
 ],
 "metadata": {
  "kernelspec": {
   "display_name": "Python 3",
   "language": "python",
   "name": "python3"
  },
  "language_info": {
   "codemirror_mode": {
    "name": "ipython",
    "version": 3
   },
   "file_extension": ".py",
   "mimetype": "text/x-python",
   "name": "python",
   "nbconvert_exporter": "python",
   "pygments_lexer": "ipython3",
   "version": "3.8.5"
  },
  "toc": {
   "base_numbering": 1,
   "nav_menu": {},
   "number_sections": true,
   "sideBar": true,
   "skip_h1_title": false,
   "title_cell": "Table of Contents",
   "title_sidebar": "Contents",
   "toc_cell": false,
   "toc_position": {
    "height": "calc(100% - 180px)",
    "left": "10px",
    "top": "150px",
    "width": "232.967px"
   },
   "toc_section_display": true,
   "toc_window_display": true
  }
 },
 "nbformat": 4,
 "nbformat_minor": 4
}
