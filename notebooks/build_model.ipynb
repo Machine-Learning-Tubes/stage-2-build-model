{
 "cells": [
  {
   "cell_type": "markdown",
   "metadata": {},
   "source": [
    "# Descriptions\n",
    "- Prediksi yang dilakukan adalah klasifikasi untuk target churn (1-Yes atau 0-No) dan regresi untuk target tenure.\n",
    "- Prediksi dengan klasifikasi menggunakan model machine learning\n",
    "- Prediksi dengan regresi menggunakan model machine learning"
   ]
  },
  {
   "cell_type": "markdown",
   "metadata": {},
   "source": [
    "# Import modules"
   ]
  },
  {
   "cell_type": "code",
   "execution_count": 1,
   "metadata": {
    "ExecuteTime": {
     "end_time": "2021-03-31T09:07:53.462938Z",
     "start_time": "2021-03-31T09:07:48.997175Z"
    }
   },
   "outputs": [],
   "source": [
    "import numpy as np\n",
    "import pandas as pd\n",
    "import matplotlib.pyplot as plt\n",
    "\n",
    "from sklearn.metrics import roc_curve\n",
    "from sklearn.metrics import accuracy_score\n",
    "from sklearn.tree import DecisionTreeRegressor\n",
    "from sklearn.tree import DecisionTreeClassifier\n",
    "from sklearn.model_selection import cross_val_score\n",
    "from sklearn.model_selection import cross_val_predict\n",
    "from sklearn.metrics import precision_score, recall_score, f1_score, roc_auc_score, confusion_matrix, precision_recall_curve, accuracy_score, classification_report\n",
    "\n",
    "from sklearn.metrics import r2_score\n",
    "from sklearn.metrics import mean_absolute_error\n",
    "from sklearn.metrics import mean_squared_error\n",
    "from sklearn.metrics import explained_variance_score"
   ]
  },
  {
   "cell_type": "markdown",
   "metadata": {},
   "source": [
    "# Initialize and load dataset\n",
    "Terdapat tiga dataset, antara lain:\n",
    "- EDA dataset, yaitu dataset yang telah bersih dari outlier, missing, duplikat, dan mismatch. Siap untuk digunakan untuk eksplorasi.\n",
    "- Feature engineering dataset, yaitu dataset hasil dari feature engineering yang meliputi, feature transformation, feature extraction, dan feture selection. Dataset terbagi lagi atas 2, yaitu untuk model classification dan model regression.\n",
    "- PCA dataset adalah hasil reduki fitur menggunakan metode PCA (Principal Component Analysis)."
   ]
  },
  {
   "cell_type": "markdown",
   "metadata": {
    "ExecuteTime": {
     "end_time": "2021-03-29T03:36:12.260462Z",
     "start_time": "2021-03-29T03:36:12.250714Z"
    }
   },
   "source": [
    "## EDA"
   ]
  },
  {
   "cell_type": "code",
   "execution_count": 2,
   "metadata": {
    "ExecuteTime": {
     "end_time": "2021-03-31T09:07:53.524527Z",
     "start_time": "2021-03-31T09:07:53.468965Z"
    }
   },
   "outputs": [],
   "source": [
    "EDA_train_df = pd.read_csv('../datasets/train/EDA_train.csv')\n",
    "EDA_test_df = pd.read_csv('../datasets/test/EDA_test.csv')"
   ]
  },
  {
   "cell_type": "markdown",
   "metadata": {},
   "source": [
    "### Classification - Split dataset to X_train and y_train / X_test and y_test"
   ]
  },
  {
   "cell_type": "code",
   "execution_count": 3,
   "metadata": {
    "ExecuteTime": {
     "end_time": "2021-03-31T09:07:53.540549Z",
     "start_time": "2021-03-31T09:07:53.530467Z"
    }
   },
   "outputs": [],
   "source": [
    "X_EDA_classification_train = EDA_train_df.iloc[:, 1:20]\n",
    "y_EDA_classification_train = EDA_train_df.iloc[:, 20:21]\n",
    "X_EDA_classification_test  = EDA_test_df.iloc[:, 1:20]\n",
    "y_EDA_classification_test  = EDA_test_df.iloc[:, 20:21]"
   ]
  },
  {
   "cell_type": "markdown",
   "metadata": {},
   "source": [
    "### Regression - Split dataset to X_train and y_train / X_test and y_test"
   ]
  },
  {
   "cell_type": "code",
   "execution_count": 4,
   "metadata": {
    "ExecuteTime": {
     "end_time": "2021-03-31T09:07:53.587495Z",
     "start_time": "2021-03-31T09:07:53.543396Z"
    }
   },
   "outputs": [],
   "source": [
    "X_EDA_regression_train = EDA_train_df.loc[:, ['gender', 'senior_citizen', 'partner', 'dependents',\n",
    "                                              'phone_service', 'multiple_lines', 'internet_service',\n",
    "                                              'online_security', 'online_backup', 'device_protection', 'tech_support',\n",
    "                                              'streaming_tv', 'streaming_movies', 'contract', 'paperless_billing',\n",
    "                                              'payment_method', 'monthly_charges', 'total_charges', 'churn']]\n",
    "\n",
    "y_EDA_regression_train = EDA_train_df.loc[:, 'tenure']\n",
    "\n",
    "X_EDA_regression_test  = EDA_test_df.loc[:, ['gender', 'senior_citizen', 'partner', 'dependents',\n",
    "                                             'phone_service', 'multiple_lines', 'internet_service',\n",
    "                                             'online_security', 'online_backup', 'device_protection', 'tech_support',\n",
    "                                             'streaming_tv', 'streaming_movies', 'contract', 'paperless_billing',\n",
    "                                             'payment_method', 'monthly_charges', 'total_charges', 'churn']]\n",
    "\n",
    "y_EDA_regression_test  = EDA_test_df.loc[:, 'tenure']"
   ]
  },
  {
   "cell_type": "markdown",
   "metadata": {},
   "source": [
    "## Feature Engineering"
   ]
  },
  {
   "cell_type": "markdown",
   "metadata": {},
   "source": [
    "### Classification Model"
   ]
  },
  {
   "cell_type": "code",
   "execution_count": 5,
   "metadata": {
    "ExecuteTime": {
     "end_time": "2021-03-31T09:07:53.618374Z",
     "start_time": "2021-03-31T09:07:53.589457Z"
    }
   },
   "outputs": [],
   "source": [
    "feature_engineering_classification_train_df = pd.read_csv('../datasets/train/feature_engineering_classification_train.csv')\n",
    "feature_engineering_classification_test_df = pd.read_csv('../datasets/test/feature_engineering_classification_test.csv')"
   ]
  },
  {
   "cell_type": "markdown",
   "metadata": {},
   "source": [
    "#### Split dataset to X_train and y_train / X_test and y_test "
   ]
  },
  {
   "cell_type": "code",
   "execution_count": 6,
   "metadata": {
    "ExecuteTime": {
     "end_time": "2021-03-31T09:07:53.649382Z",
     "start_time": "2021-03-31T09:07:53.620793Z"
    }
   },
   "outputs": [],
   "source": [
    "X_feature_engineering_classification_train = feature_engineering_classification_train_df.iloc[:, 0:4]\n",
    "y_feature_engineering_classification_train = feature_engineering_classification_train_df.iloc[:, 4:5]\n",
    "X_feature_engineering_classification_test  = feature_engineering_classification_test_df.iloc[:, 0:4]\n",
    "y_feature_engineering_classification_test  = feature_engineering_classification_test_df.iloc[:, 4:5]"
   ]
  },
  {
   "cell_type": "markdown",
   "metadata": {},
   "source": [
    "### Regression Model"
   ]
  },
  {
   "cell_type": "code",
   "execution_count": 7,
   "metadata": {
    "ExecuteTime": {
     "end_time": "2021-03-31T09:07:53.680592Z",
     "start_time": "2021-03-31T09:07:53.654399Z"
    }
   },
   "outputs": [],
   "source": [
    "feature_engineering_regression_train_df = pd.read_csv('../datasets/train/feature_engineering_regression_train.csv')\n",
    "feature_engineering_regression_test_df = pd.read_csv('../datasets/test/feature_engineering_regression_test.csv')"
   ]
  },
  {
   "cell_type": "markdown",
   "metadata": {},
   "source": [
    "#### Split dataset to X_train and y_train / X_test and y_test"
   ]
  },
  {
   "cell_type": "code",
   "execution_count": 8,
   "metadata": {
    "ExecuteTime": {
     "end_time": "2021-03-31T09:07:53.711308Z",
     "start_time": "2021-03-31T09:07:53.686466Z"
    }
   },
   "outputs": [],
   "source": [
    "X_feature_engineering_regression_train = feature_engineering_regression_train_df.iloc[:, 0:4]\n",
    "y_feature_engineering_regression_train = feature_engineering_regression_train_df.iloc[:, 4:5]\n",
    "X_feature_engineering_regression_test  = feature_engineering_regression_test_df.iloc[:, 0:4]\n",
    "y_feature_engineering_regression_test  = feature_engineering_regression_test_df.iloc[:, 4:5]"
   ]
  },
  {
   "cell_type": "markdown",
   "metadata": {},
   "source": [
    "## PCA"
   ]
  },
  {
   "cell_type": "markdown",
   "metadata": {},
   "source": [
    "### Classification Model"
   ]
  },
  {
   "cell_type": "code",
   "execution_count": 9,
   "metadata": {
    "ExecuteTime": {
     "end_time": "2021-03-31T09:07:53.788361Z",
     "start_time": "2021-03-31T09:07:53.714900Z"
    }
   },
   "outputs": [],
   "source": [
    "PCA_classification_train_df = pd.read_csv('../datasets/train/PCA_classification_train.csv')\n",
    "PCA_classification_test_df = pd.read_csv('../datasets/test/PCA_classification_test.csv')"
   ]
  },
  {
   "cell_type": "markdown",
   "metadata": {},
   "source": [
    "#### Split dataset to X_train and y_train / X_test and y_test"
   ]
  },
  {
   "cell_type": "code",
   "execution_count": 10,
   "metadata": {
    "ExecuteTime": {
     "end_time": "2021-03-31T09:07:53.803479Z",
     "start_time": "2021-03-31T09:07:53.790346Z"
    }
   },
   "outputs": [],
   "source": [
    "X_PCA_classification_train = PCA_classification_train_df.iloc[:, 0:1]\n",
    "y_PCA_classification_train = PCA_classification_train_df.iloc[:, 19:20]\n",
    "X_PCA_classification_test  = PCA_classification_test_df.iloc[:, 0:1]\n",
    "y_PCA_classification_test  = PCA_classification_test_df.iloc[:, 19:20]"
   ]
  },
  {
   "cell_type": "markdown",
   "metadata": {},
   "source": [
    "### Regression Model"
   ]
  },
  {
   "cell_type": "code",
   "execution_count": 11,
   "metadata": {
    "ExecuteTime": {
     "end_time": "2021-03-31T09:07:53.897232Z",
     "start_time": "2021-03-31T09:07:53.805958Z"
    }
   },
   "outputs": [],
   "source": [
    "PCA_regression_train_df = pd.read_csv('../datasets/train/PCA_regression_train.csv')\n",
    "PCA_regression_test_df  = pd.read_csv('../datasets/test/PCA_regression_test.csv')"
   ]
  },
  {
   "cell_type": "markdown",
   "metadata": {
    "ExecuteTime": {
     "end_time": "2021-03-31T02:06:37.541709Z",
     "start_time": "2021-03-31T02:06:37.531686Z"
    }
   },
   "source": [
    "#### Split dataset to X_train and y_train / X_test and y_test"
   ]
  },
  {
   "cell_type": "code",
   "execution_count": 12,
   "metadata": {
    "ExecuteTime": {
     "end_time": "2021-03-31T09:07:53.913168Z",
     "start_time": "2021-03-31T09:07:53.900141Z"
    }
   },
   "outputs": [],
   "source": [
    "X_PCA_regression_train = PCA_regression_train_df.iloc[:, 0:2]\n",
    "y_PCA_regression_train = PCA_regression_train_df.iloc[:, 19:20]\n",
    "X_PCA_regression_test  = PCA_regression_test_df.iloc[:, 0:2]\n",
    "y_PCA_regression_test  = PCA_regression_test_df.iloc[:, 19:20]"
   ]
  },
  {
   "cell_type": "markdown",
   "metadata": {
    "ExecuteTime": {
     "end_time": "2021-03-29T03:31:00.351696Z",
     "start_time": "2021-03-29T03:31:00.331425Z"
    }
   },
   "source": [
    "# Build model"
   ]
  },
  {
   "cell_type": "markdown",
   "metadata": {},
   "source": [
    "## Decision Tree"
   ]
  },
  {
   "cell_type": "markdown",
   "metadata": {},
   "source": [
    "### EDA Dataset"
   ]
  },
  {
   "cell_type": "markdown",
   "metadata": {
    "ExecuteTime": {
     "end_time": "2021-03-30T16:09:59.115223Z",
     "start_time": "2021-03-30T16:09:59.096646Z"
    }
   },
   "source": [
    "#### Classification"
   ]
  },
  {
   "cell_type": "code",
   "execution_count": 13,
   "metadata": {
    "ExecuteTime": {
     "end_time": "2021-03-31T09:07:54.534142Z",
     "start_time": "2021-03-31T09:07:53.916393Z"
    }
   },
   "outputs": [],
   "source": [
    "accuracy_scores = []\n",
    "\n",
    "for i in range(1, 21):\n",
    "    clf = DecisionTreeClassifier(max_depth=i, criterion='gini', random_state=42)\n",
    "    \n",
    "    clf.fit(X_EDA_classification_train, y_EDA_classification_train)\n",
    "    accuracy_score_n = accuracy_score(y_EDA_classification_test, clf.predict(X_EDA_classification_test))\n",
    "    accuracy_scores.append(accuracy_score_n)"
   ]
  },
  {
   "cell_type": "code",
   "execution_count": 14,
   "metadata": {
    "ExecuteTime": {
     "end_time": "2021-03-31T09:07:54.550055Z",
     "start_time": "2021-03-31T09:07:54.536111Z"
    },
    "scrolled": true
   },
   "outputs": [
    {
     "name": "stdout",
     "output_type": "stream",
     "text": [
      "max_depth 1 : 0.766501%\n",
      "max_depth 2 : 0.789212%\n",
      "max_depth 3 : 0.791341%\n",
      "max_depth 4 : 0.791341%\n",
      "max_depth 5 : 0.794180%\n",
      "max_depth 6 : 0.786373%\n",
      "max_depth 7 : 0.787083%\n",
      "max_depth 8 : 0.775727%\n",
      "max_depth 9 : 0.762243%\n",
      "max_depth 10 : 0.747339%\n",
      "max_depth 11 : 0.740951%\n",
      "max_depth 12 : 0.741661%\n",
      "max_depth 13 : 0.717530%\n",
      "max_depth 14 : 0.722498%\n",
      "max_depth 15 : 0.711852%\n",
      "max_depth 16 : 0.713982%\n",
      "max_depth 17 : 0.721079%\n",
      "max_depth 18 : 0.716820%\n",
      "max_depth 19 : 0.715401%\n"
     ]
    }
   ],
   "source": [
    "for i in range(1, 20):\n",
    "    print(f'max_depth {i} : {accuracy_scores[i]:.6f}%')"
   ]
  },
  {
   "cell_type": "markdown",
   "metadata": {},
   "source": [
    "###### Cross Validation Score"
   ]
  },
  {
   "cell_type": "code",
   "execution_count": 15,
   "metadata": {
    "ExecuteTime": {
     "end_time": "2021-03-31T09:07:54.626199Z",
     "start_time": "2021-03-31T09:07:54.553158Z"
    }
   },
   "outputs": [
    {
     "data": {
      "text/plain": [
       "array([0.78085106, 0.78510638, 0.7803838 ])"
      ]
     },
     "execution_count": 15,
     "metadata": {},
     "output_type": "execute_result"
    }
   ],
   "source": [
    "clf = DecisionTreeClassifier(max_depth=4, random_state=42)\n",
    "cross_val_score(clf, X_EDA_classification_test, y_EDA_classification_test, cv=3)"
   ]
  },
  {
   "cell_type": "markdown",
   "metadata": {},
   "source": [
    "##### Confusion Matrix"
   ]
  },
  {
   "cell_type": "code",
   "execution_count": 16,
   "metadata": {
    "ExecuteTime": {
     "end_time": "2021-03-31T09:07:54.672805Z",
     "start_time": "2021-03-31T09:07:54.630192Z"
    }
   },
   "outputs": [
    {
     "data": {
      "text/plain": [
       "DecisionTreeClassifier(criterion='entropy', max_depth=4, random_state=42)"
      ]
     },
     "execution_count": 16,
     "metadata": {},
     "output_type": "execute_result"
    }
   ],
   "source": [
    "clf = DecisionTreeClassifier(max_depth=4, criterion='entropy', random_state=42)\n",
    "clf.fit(X_EDA_classification_train, y_EDA_classification_train)"
   ]
  },
  {
   "cell_type": "code",
   "execution_count": 17,
   "metadata": {
    "ExecuteTime": {
     "end_time": "2021-03-31T09:07:54.797120Z",
     "start_time": "2021-03-31T09:07:54.675770Z"
    }
   },
   "outputs": [
    {
     "name": "stdout",
     "output_type": "stream",
     "text": [
      "True positive  : 596\n",
      "True negative  : 3823\n",
      "False positive : 315\n",
      "False negative : 900\n"
     ]
    }
   ],
   "source": [
    "y_train_pred = cross_val_predict(clf, X_EDA_classification_train, np.ravel(y_EDA_classification_train), cv=3)\n",
    "\n",
    "print(f'True positive  : {confusion_matrix(np.ravel(y_EDA_classification_train), y_train_pred)[1, 1]}')\n",
    "print(f'True negative  : {confusion_matrix(np.ravel(y_EDA_classification_train), y_train_pred)[0, 0]}')\n",
    "print(f'False positive : {confusion_matrix(np.ravel(y_EDA_classification_train), y_train_pred)[0, 1]}')\n",
    "print(f'False negative : {confusion_matrix(np.ravel(y_EDA_classification_train), y_train_pred)[1, 0]}')"
   ]
  },
  {
   "cell_type": "markdown",
   "metadata": {},
   "source": [
    "###### Precision"
   ]
  },
  {
   "cell_type": "code",
   "execution_count": 18,
   "metadata": {
    "ExecuteTime": {
     "end_time": "2021-03-31T09:07:54.813153Z",
     "start_time": "2021-03-31T09:07:54.800131Z"
    },
    "scrolled": true
   },
   "outputs": [
    {
     "name": "stdout",
     "output_type": "stream",
     "text": [
      "Precision: 65.42%\n"
     ]
    }
   ],
   "source": [
    "print(f'Precision: {round(precision_score(np.ravel(y_EDA_classification_train), y_train_pred) * 100, 2)}%')"
   ]
  },
  {
   "cell_type": "markdown",
   "metadata": {},
   "source": [
    "##### Recall"
   ]
  },
  {
   "cell_type": "code",
   "execution_count": 19,
   "metadata": {
    "ExecuteTime": {
     "end_time": "2021-03-31T09:07:54.844323Z",
     "start_time": "2021-03-31T09:07:54.816369Z"
    }
   },
   "outputs": [
    {
     "name": "stdout",
     "output_type": "stream",
     "text": [
      "Recall: 39.84%\n"
     ]
    }
   ],
   "source": [
    "print(f'Recall: {round(recall_score(np.ravel(y_EDA_classification_train), y_train_pred) * 100, 2)}%')"
   ]
  },
  {
   "cell_type": "markdown",
   "metadata": {},
   "source": [
    "##### F1-Score"
   ]
  },
  {
   "cell_type": "code",
   "execution_count": 20,
   "metadata": {
    "ExecuteTime": {
     "end_time": "2021-03-31T09:07:54.890012Z",
     "start_time": "2021-03-31T09:07:54.847240Z"
    }
   },
   "outputs": [
    {
     "name": "stdout",
     "output_type": "stream",
     "text": [
      "F-1 Score: 49.52%\n"
     ]
    }
   ],
   "source": [
    "print(f'F-1 Score: {round(f1_score(np.ravel(y_EDA_classification_train), y_train_pred) * 100, 2)}%')"
   ]
  },
  {
   "cell_type": "markdown",
   "metadata": {},
   "source": [
    "##### Classification Report"
   ]
  },
  {
   "cell_type": "code",
   "execution_count": 21,
   "metadata": {
    "ExecuteTime": {
     "end_time": "2021-03-31T09:07:54.921236Z",
     "start_time": "2021-03-31T09:07:54.893013Z"
    }
   },
   "outputs": [
    {
     "name": "stdout",
     "output_type": "stream",
     "text": [
      "              precision    recall  f1-score   support\n",
      "\n",
      "           0       0.83      0.91      0.87      1036\n",
      "           1       0.65      0.48      0.55       373\n",
      "\n",
      "    accuracy                           0.79      1409\n",
      "   macro avg       0.74      0.69      0.71      1409\n",
      "weighted avg       0.78      0.79      0.78      1409\n",
      "\n"
     ]
    }
   ],
   "source": [
    "print(classification_report(y_EDA_classification_test, clf.predict(X_EDA_classification_test)))"
   ]
  },
  {
   "cell_type": "markdown",
   "metadata": {},
   "source": [
    "##### Precision-Recall Trade off - Precision Recall VS Threshold Plot"
   ]
  },
  {
   "cell_type": "code",
   "execution_count": 22,
   "metadata": {
    "ExecuteTime": {
     "end_time": "2021-03-31T09:07:55.032190Z",
     "start_time": "2021-03-31T09:07:54.925225Z"
    }
   },
   "outputs": [],
   "source": [
    "y_scores = cross_val_predict(clf, X_EDA_classification_train, np.ravel(y_EDA_classification_train), cv=3,)\n",
    "precisions, recalls, thresholds = precision_recall_curve(y_EDA_classification_train, y_scores)"
   ]
  },
  {
   "cell_type": "code",
   "execution_count": 23,
   "metadata": {
    "ExecuteTime": {
     "end_time": "2021-03-31T09:07:55.345335Z",
     "start_time": "2021-03-31T09:07:55.035191Z"
    }
   },
   "outputs": [
    {
     "data": {
      "image/png": "[encoded data removed]",
      "text/plain": [
       "<Figure size 576x432 with 1 Axes>"
      ]
     },
     "metadata": {
      "needs_background": "light"
     },
     "output_type": "display_data"
    }
   ],
   "source": [
    "def plot_precision_vs_recall(precisions, recalls):\n",
    "    plt.plot(recalls, precisions, \"b-\", linewidth=2)\n",
    "    plt.title('Precision and Recall Plot')\n",
    "    plt.xlabel(\"Recall\")\n",
    "    plt.ylabel(\"Precision\")\n",
    "    plt.axis([0, 1, 0, 1])\n",
    "    plt.grid(True)\n",
    "\n",
    "plt.figure(figsize=(8, 6))\n",
    "plot_precision_vs_recall(precisions, recalls)\n",
    "plt.plot([0.4368, 0.4368], [0., 0.9], \"r:\")\n",
    "plt.plot([0.0, 0.4368], [0.9, 0.9], \"r:\")\n",
    "plt.plot([0.4368], [0.9], \"ro\")\n",
    "plt.show()"
   ]
  },
  {
   "cell_type": "markdown",
   "metadata": {},
   "source": [
    "##### ROC and AUC Curve"
   ]
  },
  {
   "cell_type": "code",
   "execution_count": 24,
   "metadata": {
    "ExecuteTime": {
     "end_time": "2021-03-31T09:07:55.360493Z",
     "start_time": "2021-03-31T09:07:55.347494Z"
    }
   },
   "outputs": [],
   "source": [
    "fpr, tpr, thresholds = roc_curve(y_EDA_classification_train, y_scores)"
   ]
  },
  {
   "cell_type": "code",
   "execution_count": 25,
   "metadata": {
    "ExecuteTime": {
     "end_time": "2021-03-31T09:07:55.579625Z",
     "start_time": "2021-03-31T09:07:55.367501Z"
    }
   },
   "outputs": [
    {
     "data": {
      "image/png": "[encoded data removed]",
      "text/plain": [
       "<Figure size 576x432 with 1 Axes>"
      ]
     },
     "metadata": {
      "needs_background": "light"
     },
     "output_type": "display_data"
    }
   ],
   "source": [
    "def plot_roc_curve(fpr, tpr, label=None):\n",
    "    plt.plot(fpr, tpr, linewidth=2, label=label)\n",
    "    plt.plot([0, 1], [0, 1], 'k--')\n",
    "    plt.axis([0, 1, 0, 1])\n",
    "    plt.xlabel('False Positive Rate (Fall-Out)')\n",
    "    plt.ylabel('True Positive Rate (Recall)')\n",
    "    plt.grid(True)\n",
    "\n",
    "plt.figure(figsize=(8, 6))\n",
    "plot_roc_curve(fpr, tpr)\n",
    "plt.plot([4.837e-3, 4.837e-3], [0., 0.4368], \"r:\")\n",
    "plt.plot([0.0, 4.837e-3], [0.4368, 0.4368], \"r:\")\n",
    "plt.plot([4.837e-3], [0.4368], \"ro\")\n",
    "plt.show()"
   ]
  },
  {
   "cell_type": "code",
   "execution_count": 26,
   "metadata": {
    "ExecuteTime": {
     "end_time": "2021-03-31T09:07:55.595312Z",
     "start_time": "2021-03-31T09:07:55.582812Z"
    }
   },
   "outputs": [
    {
     "data": {
      "text/plain": [
       "0.6611359953269942"
      ]
     },
     "execution_count": 26,
     "metadata": {},
     "output_type": "execute_result"
    }
   ],
   "source": [
    "roc_auc_score(y_EDA_classification_train, y_scores)"
   ]
  },
  {
   "cell_type": "markdown",
   "metadata": {},
   "source": [
    "#### Regression"
   ]
  },
  {
   "cell_type": "code",
   "execution_count": 27,
   "metadata": {
    "ExecuteTime": {
     "end_time": "2021-03-31T09:07:55.703232Z",
     "start_time": "2021-03-31T09:07:55.597312Z"
    }
   },
   "outputs": [
    {
     "data": {
      "text/plain": [
       "array([0.98909247, 0.98710251, 0.98563828])"
      ]
     },
     "execution_count": 27,
     "metadata": {},
     "output_type": "execute_result"
    }
   ],
   "source": [
    "regressor = DecisionTreeRegressor(max_depth=7, random_state=0)\n",
    "cross_val_score(regressor, X_EDA_regression_train, y_EDA_regression_train, cv=3)"
   ]
  },
  {
   "cell_type": "markdown",
   "metadata": {},
   "source": [
    "##### R Squared Score"
   ]
  },
  {
   "cell_type": "code",
   "execution_count": 28,
   "metadata": {
    "ExecuteTime": {
     "end_time": "2021-03-31T09:07:55.749103Z",
     "start_time": "2021-03-31T09:07:55.705148Z"
    }
   },
   "outputs": [
    {
     "data": {
      "text/plain": [
       "0.9892809842224658"
      ]
     },
     "execution_count": 28,
     "metadata": {},
     "output_type": "execute_result"
    }
   ],
   "source": [
    "regressor.fit(X_EDA_regression_train, y_EDA_regression_train)\n",
    "r2_score(y_EDA_regression_test, regressor.predict(X_EDA_regression_test))"
   ]
  },
  {
   "cell_type": "markdown",
   "metadata": {},
   "source": [
    "##### Explained Variance Score"
   ]
  },
  {
   "cell_type": "code",
   "execution_count": 29,
   "metadata": {
    "ExecuteTime": {
     "end_time": "2021-03-31T09:07:55.764223Z",
     "start_time": "2021-03-31T09:07:55.752072Z"
    }
   },
   "outputs": [
    {
     "data": {
      "text/plain": [
       "0.9893075458955269"
      ]
     },
     "execution_count": 29,
     "metadata": {},
     "output_type": "execute_result"
    }
   ],
   "source": [
    "explained_variance_score(y_EDA_regression_test, regressor.predict(X_EDA_regression_test))"
   ]
  },
  {
   "cell_type": "markdown",
   "metadata": {},
   "source": [
    "##### Mean Absolute Error"
   ]
  },
  {
   "cell_type": "code",
   "execution_count": 30,
   "metadata": {
    "ExecuteTime": {
     "end_time": "2021-03-31T09:07:55.780222Z",
     "start_time": "2021-03-31T09:07:55.767192Z"
    }
   },
   "outputs": [
    {
     "data": {
      "text/plain": [
       "1.7137856733966161"
      ]
     },
     "execution_count": 30,
     "metadata": {},
     "output_type": "execute_result"
    }
   ],
   "source": [
    "mean_absolute_error(y_EDA_regression_test, regressor.predict(X_EDA_regression_test))"
   ]
  },
  {
   "cell_type": "markdown",
   "metadata": {},
   "source": [
    "##### Mean Squared Error"
   ]
  },
  {
   "cell_type": "code",
   "execution_count": 31,
   "metadata": {
    "ExecuteTime": {
     "end_time": "2021-03-31T09:07:55.795649Z",
     "start_time": "2021-03-31T09:07:55.783188Z"
    }
   },
   "outputs": [
    {
     "data": {
      "text/plain": [
       "6.748628052300676"
      ]
     },
     "execution_count": 31,
     "metadata": {},
     "output_type": "execute_result"
    }
   ],
   "source": [
    "mean_squared_error(y_EDA_regression_test, regressor.predict(X_EDA_regression_test))"
   ]
  },
  {
   "cell_type": "markdown",
   "metadata": {},
   "source": [
    "###### Predict with some feature"
   ]
  },
  {
   "cell_type": "code",
   "execution_count": 32,
   "metadata": {
    "ExecuteTime": {
     "end_time": "2021-03-31T09:07:55.811189Z",
     "start_time": "2021-03-31T09:07:55.798189Z"
    }
   },
   "outputs": [
    {
     "data": {
      "text/plain": [
       "array([19.87179487, 23.42857143, 71.66666667, 70.18905473, 62.16666667,\n",
       "       67.19642857, 66.70588235,  9.10526316,  2.86486486, 21.59854015])"
      ]
     },
     "execution_count": 32,
     "metadata": {},
     "output_type": "execute_result"
    }
   ],
   "source": [
    "regressor.predict(X_EDA_regression_test.iloc[50:60, 0:19])"
   ]
  },
  {
   "cell_type": "code",
   "execution_count": 33,
   "metadata": {
    "ExecuteTime": {
     "end_time": "2021-03-31T09:07:55.826221Z",
     "start_time": "2021-03-31T09:07:55.813296Z"
    }
   },
   "outputs": [
    {
     "data": {
      "text/plain": [
       "50    19\n",
       "51    23\n",
       "52    72\n",
       "53    72\n",
       "54    59\n",
       "55    70\n",
       "56    70\n",
       "57     9\n",
       "58     3\n",
       "59    17\n",
       "Name: tenure, dtype: int64"
      ]
     },
     "execution_count": 33,
     "metadata": {},
     "output_type": "execute_result"
    }
   ],
   "source": [
    "y_EDA_regression_test[50:60]"
   ]
  },
  {
   "cell_type": "markdown",
   "metadata": {},
   "source": [
    "### Feature Engineering Dataset"
   ]
  },
  {
   "cell_type": "markdown",
   "metadata": {},
   "source": [
    "#### Classification"
   ]
  },
  {
   "cell_type": "code",
   "execution_count": 34,
   "metadata": {
    "ExecuteTime": {
     "end_time": "2021-03-31T09:07:56.012119Z",
     "start_time": "2021-03-31T09:07:55.828189Z"
    }
   },
   "outputs": [],
   "source": [
    "accuracy_scores = []\n",
    "\n",
    "for i in range(1, 21):\n",
    "    clf = DecisionTreeClassifier(max_depth=i, criterion='entropy', random_state=42)\n",
    "\n",
    "    clf.fit(X_feature_engineering_classification_train, y_feature_engineering_classification_train)\n",
    "    accuracy_score_n = accuracy_score(y_feature_engineering_classification_test, clf.predict(X_feature_engineering_classification_test))\n",
    "    accuracy_scores.append(accuracy_score_n)"
   ]
  },
  {
   "cell_type": "code",
   "execution_count": 35,
   "metadata": {
    "ExecuteTime": {
     "end_time": "2021-03-31T09:07:56.027158Z",
     "start_time": "2021-03-31T09:07:56.014204Z"
    }
   },
   "outputs": [
    {
     "name": "stdout",
     "output_type": "stream",
     "text": [
      "max_depth 1 : 0.625976%\n",
      "max_depth 2 : 0.628815%\n",
      "max_depth 3 : 0.628815%\n",
      "max_depth 4 : 0.628815%\n",
      "max_depth 5 : 0.628815%\n",
      "max_depth 6 : 0.628815%\n",
      "max_depth 7 : 0.628815%\n",
      "max_depth 8 : 0.628815%\n",
      "max_depth 9 : 0.628815%\n",
      "max_depth 10 : 0.628815%\n",
      "max_depth 11 : 0.628815%\n",
      "max_depth 12 : 0.628815%\n",
      "max_depth 13 : 0.628815%\n",
      "max_depth 14 : 0.628815%\n",
      "max_depth 15 : 0.628815%\n",
      "max_depth 16 : 0.628815%\n",
      "max_depth 17 : 0.628815%\n",
      "max_depth 18 : 0.628815%\n",
      "max_depth 19 : 0.628815%\n"
     ]
    }
   ],
   "source": [
    "for i in range(1, 20):\n",
    "    print(f'max_depth {i} : {accuracy_scores[i]:.6f}%')"
   ]
  },
  {
   "cell_type": "markdown",
   "metadata": {},
   "source": [
    "##### Cross Validation Score"
   ]
  },
  {
   "cell_type": "code",
   "execution_count": 36,
   "metadata": {
    "ExecuteTime": {
     "end_time": "2021-03-31T09:07:56.074204Z",
     "start_time": "2021-03-31T09:07:56.030158Z"
    }
   },
   "outputs": [
    {
     "data": {
      "text/plain": [
       "array([0.64696486, 0.64217252, 0.65814696])"
      ]
     },
     "execution_count": 36,
     "metadata": {},
     "output_type": "execute_result"
    }
   ],
   "source": [
    "clf = DecisionTreeClassifier(max_depth=7, random_state=0)\n",
    "cross_val_score(clf, X_feature_engineering_classification_train, y_feature_engineering_classification_train, cv=3)"
   ]
  },
  {
   "cell_type": "markdown",
   "metadata": {},
   "source": [
    "##### Confusion Matrix"
   ]
  },
  {
   "cell_type": "code",
   "execution_count": 37,
   "metadata": {
    "ExecuteTime": {
     "end_time": "2021-03-31T09:07:56.106300Z",
     "start_time": "2021-03-31T09:07:56.076205Z"
    }
   },
   "outputs": [
    {
     "data": {
      "text/plain": [
       "DecisionTreeClassifier(criterion='entropy', max_depth=4, random_state=42)"
      ]
     },
     "execution_count": 37,
     "metadata": {},
     "output_type": "execute_result"
    }
   ],
   "source": [
    "clf = DecisionTreeClassifier(max_depth=4, criterion='entropy', random_state=42)\n",
    "clf.fit(X_feature_engineering_classification_train, y_feature_engineering_classification_train)"
   ]
  },
  {
   "cell_type": "code",
   "execution_count": 38,
   "metadata": {
    "ExecuteTime": {
     "end_time": "2021-03-31T09:07:56.182118Z",
     "start_time": "2021-03-31T09:07:56.108204Z"
    }
   },
   "outputs": [
    {
     "name": "stdout",
     "output_type": "stream",
     "text": [
      "True positive  : 1621\n",
      "True negative  : 2036\n",
      "False positive : 913\n",
      "False negative : 1064\n"
     ]
    }
   ],
   "source": [
    "y_train_pred = cross_val_predict(clf, X_feature_engineering_classification_train, np.ravel(y_feature_engineering_classification_train), cv=3)\n",
    "\n",
    "print(f'True positive  : {confusion_matrix(np.ravel(y_feature_engineering_classification_train), y_train_pred)[1, 1]}')\n",
    "print(f'True negative  : {confusion_matrix(np.ravel(y_feature_engineering_classification_train), y_train_pred)[0, 0]}')\n",
    "print(f'False positive : {confusion_matrix(np.ravel(y_feature_engineering_classification_train), y_train_pred)[0, 1]}')\n",
    "print(f'False negative : {confusion_matrix(np.ravel(y_feature_engineering_classification_train), y_train_pred)[1, 0]}')"
   ]
  },
  {
   "cell_type": "markdown",
   "metadata": {},
   "source": [
    "##### Precision"
   ]
  },
  {
   "cell_type": "code",
   "execution_count": 39,
   "metadata": {
    "ExecuteTime": {
     "end_time": "2021-03-31T09:07:56.198125Z",
     "start_time": "2021-03-31T09:07:56.185121Z"
    }
   },
   "outputs": [
    {
     "name": "stdout",
     "output_type": "stream",
     "text": [
      "Precision: 63.97%\n"
     ]
    }
   ],
   "source": [
    "print(f'Precision: {round(precision_score(np.ravel(y_feature_engineering_classification_train), y_train_pred) * 100, 2)}%')"
   ]
  },
  {
   "cell_type": "markdown",
   "metadata": {},
   "source": [
    "##### Recall"
   ]
  },
  {
   "cell_type": "code",
   "execution_count": 40,
   "metadata": {
    "ExecuteTime": {
     "end_time": "2021-03-31T09:07:56.214150Z",
     "start_time": "2021-03-31T09:07:56.201183Z"
    }
   },
   "outputs": [
    {
     "name": "stdout",
     "output_type": "stream",
     "text": [
      "Recall: 60.37%\n"
     ]
    }
   ],
   "source": [
    "print(f'Recall: {round(recall_score(np.ravel(y_feature_engineering_classification_train), y_train_pred) * 100, 2)}%')"
   ]
  },
  {
   "cell_type": "markdown",
   "metadata": {},
   "source": [
    "##### F1-Score"
   ]
  },
  {
   "cell_type": "code",
   "execution_count": 41,
   "metadata": {
    "ExecuteTime": {
     "end_time": "2021-03-31T09:07:56.230221Z",
     "start_time": "2021-03-31T09:07:56.218116Z"
    }
   },
   "outputs": [
    {
     "name": "stdout",
     "output_type": "stream",
     "text": [
      "F-1 Score: 62.12%\n"
     ]
    }
   ],
   "source": [
    "print(f'F-1 Score: {round(f1_score(np.ravel(y_feature_engineering_classification_train), y_train_pred) * 100, 2)}%')"
   ]
  },
  {
   "cell_type": "markdown",
   "metadata": {
    "ExecuteTime": {
     "end_time": "2021-03-31T08:32:56.526992Z",
     "start_time": "2021-03-31T08:32:56.513033Z"
    }
   },
   "source": [
    "##### Classification Report"
   ]
  },
  {
   "cell_type": "code",
   "execution_count": 42,
   "metadata": {
    "ExecuteTime": {
     "end_time": "2021-03-31T09:07:56.260149Z",
     "start_time": "2021-03-31T09:07:56.233271Z"
    }
   },
   "outputs": [
    {
     "name": "stdout",
     "output_type": "stream",
     "text": [
      "              precision    recall  f1-score   support\n",
      "\n",
      "           0       0.63      0.64      0.63       704\n",
      "           1       0.63      0.62      0.62       705\n",
      "\n",
      "    accuracy                           0.63      1409\n",
      "   macro avg       0.63      0.63      0.63      1409\n",
      "weighted avg       0.63      0.63      0.63      1409\n",
      "\n"
     ]
    }
   ],
   "source": [
    "print(classification_report(y_feature_engineering_classification_test, clf.predict(X_feature_engineering_classification_test)))"
   ]
  },
  {
   "cell_type": "markdown",
   "metadata": {},
   "source": [
    "##### Precision-Recall Trade off - Precision Recall VS Threshold Plot"
   ]
  },
  {
   "cell_type": "code",
   "execution_count": 43,
   "metadata": {
    "ExecuteTime": {
     "end_time": "2021-03-31T09:07:56.292192Z",
     "start_time": "2021-03-31T09:07:56.262183Z"
    }
   },
   "outputs": [],
   "source": [
    "y_scores = cross_val_predict(clf, X_feature_engineering_classification_train, np.ravel(y_feature_engineering_classification_train), cv=3,)\n",
    "precisions, recalls, thresholds = precision_recall_curve(y_feature_engineering_classification_train, y_scores)"
   ]
  },
  {
   "cell_type": "code",
   "execution_count": 44,
   "metadata": {
    "ExecuteTime": {
     "end_time": "2021-03-31T09:07:56.554288Z",
     "start_time": "2021-03-31T09:07:56.296193Z"
    }
   },
   "outputs": [
    {
     "data": {
      "image/png": "[encoded data removed]",
      "text/plain": [
       "<Figure size 576x432 with 1 Axes>"
      ]
     },
     "metadata": {
      "needs_background": "light"
     },
     "output_type": "display_data"
    }
   ],
   "source": [
    "def plot_precision_vs_recall(precisions, recalls):\n",
    "    plt.plot(recalls, precisions, \"b-\", linewidth=2)\n",
    "    plt.title('Precision and Recall Plot')\n",
    "    plt.xlabel(\"Recall\")\n",
    "    plt.ylabel(\"Precision\")\n",
    "    plt.axis([0, 1, 0, 1])\n",
    "    plt.grid(True)\n",
    "\n",
    "plt.figure(figsize=(8, 6))\n",
    "plot_precision_vs_recall(precisions, recalls)\n",
    "plt.plot([0.4368, 0.4368], [0., 0.9], \"r:\")\n",
    "plt.plot([0.0, 0.4368], [0.9, 0.9], \"r:\")\n",
    "plt.plot([0.4368], [0.9], \"ro\")\n",
    "plt.show()"
   ]
  },
  {
   "cell_type": "markdown",
   "metadata": {},
   "source": [
    "##### ROC and AUC Curve"
   ]
  },
  {
   "cell_type": "code",
   "execution_count": 45,
   "metadata": {
    "ExecuteTime": {
     "end_time": "2021-03-31T09:07:56.569668Z",
     "start_time": "2021-03-31T09:07:56.556287Z"
    }
   },
   "outputs": [],
   "source": [
    "fpr, tpr, thresholds = roc_curve(y_feature_engineering_classification_train, y_scores)"
   ]
  },
  {
   "cell_type": "code",
   "execution_count": 46,
   "metadata": {
    "ExecuteTime": {
     "end_time": "2021-03-31T09:07:56.834474Z",
     "start_time": "2021-03-31T09:07:56.571668Z"
    }
   },
   "outputs": [
    {
     "data": {
      "image/png": "[encoded data removed]",
      "text/plain": [
       "<Figure size 576x432 with 1 Axes>"
      ]
     },
     "metadata": {
      "needs_background": "light"
     },
     "output_type": "display_data"
    }
   ],
   "source": [
    "def plot_roc_curve(fpr, tpr, label=None):\n",
    "    plt.plot(fpr, tpr, linewidth=2, label=label)\n",
    "    plt.plot([0, 1], [0, 1], 'k--')\n",
    "    plt.axis([0, 1, 0, 1])\n",
    "    plt.xlabel('False Positive Rate (Fall-Out)')\n",
    "    plt.ylabel('True Positive Rate (Recall)')\n",
    "    plt.grid(True)\n",
    "\n",
    "plt.figure(figsize=(8, 6))\n",
    "plot_roc_curve(fpr, tpr)\n",
    "plt.plot([4.837e-3, 4.837e-3], [0., 0.4368], \"r:\")\n",
    "plt.plot([0.0, 4.837e-3], [0.4368, 0.4368], \"r:\")\n",
    "plt.plot([4.837e-3], [0.4368], \"ro\")\n",
    "plt.show()"
   ]
  },
  {
   "cell_type": "code",
   "execution_count": 47,
   "metadata": {
    "ExecuteTime": {
     "end_time": "2021-03-31T09:07:56.850475Z",
     "start_time": "2021-03-31T09:07:56.836454Z"
    }
   },
   "outputs": [
    {
     "data": {
      "text/plain": [
       "0.6470639607025201"
      ]
     },
     "execution_count": 47,
     "metadata": {},
     "output_type": "execute_result"
    }
   ],
   "source": [
    "roc_auc_score(y_feature_engineering_classification_train, y_scores)"
   ]
  },
  {
   "cell_type": "markdown",
   "metadata": {},
   "source": [
    "#### Regression"
   ]
  },
  {
   "cell_type": "code",
   "execution_count": 48,
   "metadata": {
    "ExecuteTime": {
     "end_time": "2021-03-31T09:07:56.929265Z",
     "start_time": "2021-03-31T09:07:56.853443Z"
    }
   },
   "outputs": [
    {
     "data": {
      "text/plain": [
       "array([0.99795559, 0.99757716, 0.99581593])"
      ]
     },
     "execution_count": 48,
     "metadata": {},
     "output_type": "execute_result"
    }
   ],
   "source": [
    "regressor = DecisionTreeRegressor(random_state=0)\n",
    "cross_val_score(regressor, X_feature_engineering_regression_train, y_feature_engineering_regression_train, cv=3)"
   ]
  },
  {
   "cell_type": "markdown",
   "metadata": {},
   "source": [
    "##### R Squared Error"
   ]
  },
  {
   "cell_type": "code",
   "execution_count": 49,
   "metadata": {
    "ExecuteTime": {
     "end_time": "2021-03-31T09:07:56.975647Z",
     "start_time": "2021-03-31T09:07:56.931231Z"
    }
   },
   "outputs": [
    {
     "data": {
      "text/plain": [
       "0.9986168381974524"
      ]
     },
     "execution_count": 49,
     "metadata": {},
     "output_type": "execute_result"
    }
   ],
   "source": [
    "regressor.fit(X_feature_engineering_regression_train, y_feature_engineering_regression_train)\n",
    "r2_score(y_feature_engineering_regression_test, regressor.predict(X_feature_engineering_regression_test))"
   ]
  },
  {
   "cell_type": "markdown",
   "metadata": {},
   "source": [
    "##### Mean Absolute Error"
   ]
  },
  {
   "cell_type": "code",
   "execution_count": 50,
   "metadata": {
    "ExecuteTime": {
     "end_time": "2021-03-31T09:07:56.990729Z",
     "start_time": "2021-03-31T09:07:56.977647Z"
    }
   },
   "outputs": [
    {
     "data": {
      "text/plain": [
       "0.48757984386089426"
      ]
     },
     "execution_count": 50,
     "metadata": {},
     "output_type": "execute_result"
    }
   ],
   "source": [
    "mean_absolute_error(y_feature_engineering_regression_test, regressor.predict(X_feature_engineering_regression_test))"
   ]
  },
  {
   "cell_type": "markdown",
   "metadata": {},
   "source": [
    "##### Mean Squared Error"
   ]
  },
  {
   "cell_type": "code",
   "execution_count": 51,
   "metadata": {
    "ExecuteTime": {
     "end_time": "2021-03-31T09:07:57.022242Z",
     "start_time": "2021-03-31T09:07:56.993118Z"
    }
   },
   "outputs": [
    {
     "data": {
      "text/plain": [
       "0.8708303761533002"
      ]
     },
     "execution_count": 51,
     "metadata": {},
     "output_type": "execute_result"
    }
   ],
   "source": [
    "mean_squared_error(y_feature_engineering_regression_test, regressor.predict(X_feature_engineering_regression_test))"
   ]
  },
  {
   "cell_type": "markdown",
   "metadata": {},
   "source": [
    "##### Predict with some feature"
   ]
  },
  {
   "cell_type": "code",
   "execution_count": 52,
   "metadata": {
    "ExecuteTime": {
     "end_time": "2021-03-31T09:07:57.038250Z",
     "start_time": "2021-03-31T09:07:57.024252Z"
    }
   },
   "outputs": [
    {
     "data": {
      "text/plain": [
       "array([19., 24., 72., 72., 60., 67., 68.,  8.,  3., 17.])"
      ]
     },
     "execution_count": 52,
     "metadata": {},
     "output_type": "execute_result"
    }
   ],
   "source": [
    "regressor.predict(X_feature_engineering_regression_test.iloc[50:60, 0:19])"
   ]
  },
  {
   "cell_type": "code",
   "execution_count": 53,
   "metadata": {
    "ExecuteTime": {
     "end_time": "2021-03-31T09:07:57.053948Z",
     "start_time": "2021-03-31T09:07:57.040250Z"
    }
   },
   "outputs": [
    {
     "data": {
      "text/html": [
       "<div>\n",
       "<style scoped>\n",
       "    .dataframe tbody tr th:only-of-type {\n",
       "        vertical-align: middle;\n",
       "    }\n",
       "\n",
       "    .dataframe tbody tr th {\n",
       "        vertical-align: top;\n",
       "    }\n",
       "\n",
       "    .dataframe thead th {\n",
       "        text-align: right;\n",
       "    }\n",
       "</style>\n",
       "<table border=\"1\" class=\"dataframe\">\n",
       "  <thead>\n",
       "    <tr style=\"text-align: right;\">\n",
       "      <th></th>\n",
       "      <th>tenure</th>\n",
       "    </tr>\n",
       "  </thead>\n",
       "  <tbody>\n",
       "    <tr>\n",
       "      <th>50</th>\n",
       "      <td>19</td>\n",
       "    </tr>\n",
       "    <tr>\n",
       "      <th>51</th>\n",
       "      <td>23</td>\n",
       "    </tr>\n",
       "    <tr>\n",
       "      <th>52</th>\n",
       "      <td>72</td>\n",
       "    </tr>\n",
       "    <tr>\n",
       "      <th>53</th>\n",
       "      <td>72</td>\n",
       "    </tr>\n",
       "    <tr>\n",
       "      <th>54</th>\n",
       "      <td>59</td>\n",
       "    </tr>\n",
       "    <tr>\n",
       "      <th>55</th>\n",
       "      <td>70</td>\n",
       "    </tr>\n",
       "    <tr>\n",
       "      <th>56</th>\n",
       "      <td>70</td>\n",
       "    </tr>\n",
       "    <tr>\n",
       "      <th>57</th>\n",
       "      <td>9</td>\n",
       "    </tr>\n",
       "    <tr>\n",
       "      <th>58</th>\n",
       "      <td>3</td>\n",
       "    </tr>\n",
       "    <tr>\n",
       "      <th>59</th>\n",
       "      <td>17</td>\n",
       "    </tr>\n",
       "  </tbody>\n",
       "</table>\n",
       "</div>"
      ],
      "text/plain": [
       "    tenure\n",
       "50      19\n",
       "51      23\n",
       "52      72\n",
       "53      72\n",
       "54      59\n",
       "55      70\n",
       "56      70\n",
       "57       9\n",
       "58       3\n",
       "59      17"
      ]
     },
     "execution_count": 53,
     "metadata": {},
     "output_type": "execute_result"
    }
   ],
   "source": [
    "y_feature_engineering_regression_test[50:60]"
   ]
  },
  {
   "cell_type": "markdown",
   "metadata": {},
   "source": [
    "### PCA Dataset"
   ]
  },
  {
   "cell_type": "markdown",
   "metadata": {},
   "source": [
    "#### Classification"
   ]
  },
  {
   "cell_type": "code",
   "execution_count": 54,
   "metadata": {
    "ExecuteTime": {
     "end_time": "2021-03-31T09:07:57.460286Z",
     "start_time": "2021-03-31T09:07:57.056951Z"
    }
   },
   "outputs": [],
   "source": [
    "accuracy_scores = []\n",
    "\n",
    "for i in range(1, 20):\n",
    "    clf = DecisionTreeClassifier(max_depth=i, criterion='entropy', random_state=42)\n",
    "\n",
    "    clf.fit(X_PCA_classification_train, y_PCA_classification_train)\n",
    "    accuracy_score_n = accuracy_score(y_PCA_classification_test, clf.predict(X_PCA_classification_test))\n",
    "    \n",
    "    accuracy_scores.append(accuracy_score_n)"
   ]
  },
  {
   "cell_type": "code",
   "execution_count": 55,
   "metadata": {
    "ExecuteTime": {
     "end_time": "2021-03-31T09:07:57.475669Z",
     "start_time": "2021-03-31T09:07:57.462288Z"
    }
   },
   "outputs": [
    {
     "name": "stdout",
     "output_type": "stream",
     "text": [
      "max_depth 1 : 0.742370%\n",
      "max_depth 2 : 0.757275%\n",
      "max_depth 3 : 0.756565%\n",
      "max_depth 4 : 0.753016%\n",
      "max_depth 5 : 0.753016%\n",
      "max_depth 6 : 0.748048%\n",
      "max_depth 7 : 0.749468%\n",
      "max_depth 8 : 0.748048%\n",
      "max_depth 9 : 0.746629%\n",
      "max_depth 10 : 0.738822%\n",
      "max_depth 11 : 0.740951%\n",
      "max_depth 12 : 0.741661%\n",
      "max_depth 13 : 0.733144%\n",
      "max_depth 14 : 0.740241%\n",
      "max_depth 15 : 0.740241%\n",
      "max_depth 16 : 0.738112%\n",
      "max_depth 17 : 0.736693%\n",
      "max_depth 18 : 0.738112%\n"
     ]
    }
   ],
   "source": [
    "for i in range(1, 19):\n",
    "    print(f'max_depth {i} : {accuracy_scores[i]:.6f}%')"
   ]
  },
  {
   "cell_type": "markdown",
   "metadata": {},
   "source": [
    "##### Cross Validation Score"
   ]
  },
  {
   "cell_type": "code",
   "execution_count": 56,
   "metadata": {
    "ExecuteTime": {
     "end_time": "2021-03-31T09:07:57.538307Z",
     "start_time": "2021-03-31T09:07:57.478369Z"
    }
   },
   "outputs": [
    {
     "data": {
      "text/plain": [
       "array([0.73617021, 0.72765957, 0.75266525])"
      ]
     },
     "execution_count": 56,
     "metadata": {},
     "output_type": "execute_result"
    }
   ],
   "source": [
    "clf = DecisionTreeClassifier(max_depth=7, random_state=42)\n",
    "clf.fit(X_PCA_classification_train, y_PCA_classification_train)\n",
    "cross_val_score(clf, X_PCA_classification_test, y_PCA_classification_test, cv=3)"
   ]
  },
  {
   "cell_type": "code",
   "execution_count": 57,
   "metadata": {
    "ExecuteTime": {
     "end_time": "2021-03-31T09:07:57.569705Z",
     "start_time": "2021-03-31T09:07:57.540231Z"
    }
   },
   "outputs": [
    {
     "data": {
      "text/plain": [
       "DecisionTreeClassifier(criterion='entropy', max_depth=4, random_state=42)"
      ]
     },
     "execution_count": 57,
     "metadata": {},
     "output_type": "execute_result"
    }
   ],
   "source": [
    "clf = DecisionTreeClassifier(max_depth=4, criterion='entropy', random_state=42)\n",
    "clf.fit(X_PCA_classification_train, y_PCA_classification_train)"
   ]
  },
  {
   "cell_type": "code",
   "execution_count": 75,
   "metadata": {
    "ExecuteTime": {
     "end_time": "2021-03-31T09:08:31.034537Z",
     "start_time": "2021-03-31T09:08:30.973455Z"
    }
   },
   "outputs": [
    {
     "ename": "ValueError",
     "evalue": "Classification metrics can't handle a mix of continuous and binary targets",
     "output_type": "error",
     "traceback": [
      "\u001b[1;31m---------------------------------------------------------------------------\u001b[0m",
      "\u001b[1;31mValueError\u001b[0m                                Traceback (most recent call last)",
      "\u001b[1;32m<ipython-input-75-029252e7bc8c>\u001b[0m in \u001b[0;36m<module>\u001b[1;34m\u001b[0m\n\u001b[0;32m      1\u001b[0m \u001b[0my_train_pred\u001b[0m \u001b[1;33m=\u001b[0m \u001b[0mcross_val_predict\u001b[0m\u001b[1;33m(\u001b[0m\u001b[0mclf\u001b[0m\u001b[1;33m,\u001b[0m \u001b[0mX_PCA_classification_train\u001b[0m\u001b[1;33m,\u001b[0m \u001b[0mnp\u001b[0m\u001b[1;33m.\u001b[0m\u001b[0mravel\u001b[0m\u001b[1;33m(\u001b[0m\u001b[0my_PCA_classification_train\u001b[0m\u001b[1;33m)\u001b[0m\u001b[1;33m,\u001b[0m \u001b[0mcv\u001b[0m\u001b[1;33m=\u001b[0m\u001b[1;36m3\u001b[0m\u001b[1;33m)\u001b[0m\u001b[1;33m\u001b[0m\u001b[1;33m\u001b[0m\u001b[0m\n\u001b[0;32m      2\u001b[0m \u001b[1;33m\u001b[0m\u001b[0m\n\u001b[1;32m----> 3\u001b[1;33m \u001b[0mprint\u001b[0m\u001b[1;33m(\u001b[0m\u001b[1;34mf'True positive  : {confusion_matrix(np.ravel(X_PCA_classification_train), y_train_pred)[1, 1]}'\u001b[0m\u001b[1;33m)\u001b[0m\u001b[1;33m\u001b[0m\u001b[1;33m\u001b[0m\u001b[0m\n\u001b[0m\u001b[0;32m      4\u001b[0m \u001b[0mprint\u001b[0m\u001b[1;33m(\u001b[0m\u001b[1;34mf'True negative  : {confusion_matrix(np.ravel(X_PCA_classification_train), y_train_pred)[0, 0]}'\u001b[0m\u001b[1;33m)\u001b[0m\u001b[1;33m\u001b[0m\u001b[1;33m\u001b[0m\u001b[0m\n\u001b[0;32m      5\u001b[0m \u001b[0mprint\u001b[0m\u001b[1;33m(\u001b[0m\u001b[1;34mf'False positive : {confusion_matrix(np.ravel(X_PCA_classification_train), y_train_pred)[0, 1]}'\u001b[0m\u001b[1;33m)\u001b[0m\u001b[1;33m\u001b[0m\u001b[1;33m\u001b[0m\u001b[0m\n",
      "\u001b[1;32m~\\anaconda3\\lib\\site-packages\\sklearn\\utils\\validation.py\u001b[0m in \u001b[0;36minner_f\u001b[1;34m(*args, **kwargs)\u001b[0m\n\u001b[0;32m     70\u001b[0m                           FutureWarning)\n\u001b[0;32m     71\u001b[0m         \u001b[0mkwargs\u001b[0m\u001b[1;33m.\u001b[0m\u001b[0mupdate\u001b[0m\u001b[1;33m(\u001b[0m\u001b[1;33m{\u001b[0m\u001b[0mk\u001b[0m\u001b[1;33m:\u001b[0m \u001b[0marg\u001b[0m \u001b[1;32mfor\u001b[0m \u001b[0mk\u001b[0m\u001b[1;33m,\u001b[0m \u001b[0marg\u001b[0m \u001b[1;32min\u001b[0m \u001b[0mzip\u001b[0m\u001b[1;33m(\u001b[0m\u001b[0msig\u001b[0m\u001b[1;33m.\u001b[0m\u001b[0mparameters\u001b[0m\u001b[1;33m,\u001b[0m \u001b[0margs\u001b[0m\u001b[1;33m)\u001b[0m\u001b[1;33m}\u001b[0m\u001b[1;33m)\u001b[0m\u001b[1;33m\u001b[0m\u001b[1;33m\u001b[0m\u001b[0m\n\u001b[1;32m---> 72\u001b[1;33m         \u001b[1;32mreturn\u001b[0m \u001b[0mf\u001b[0m\u001b[1;33m(\u001b[0m\u001b[1;33m**\u001b[0m\u001b[0mkwargs\u001b[0m\u001b[1;33m)\u001b[0m\u001b[1;33m\u001b[0m\u001b[1;33m\u001b[0m\u001b[0m\n\u001b[0m\u001b[0;32m     73\u001b[0m     \u001b[1;32mreturn\u001b[0m \u001b[0minner_f\u001b[0m\u001b[1;33m\u001b[0m\u001b[1;33m\u001b[0m\u001b[0m\n\u001b[0;32m     74\u001b[0m \u001b[1;33m\u001b[0m\u001b[0m\n",
      "\u001b[1;32m~\\anaconda3\\lib\\site-packages\\sklearn\\metrics\\_classification.py\u001b[0m in \u001b[0;36mconfusion_matrix\u001b[1;34m(y_true, y_pred, labels, sample_weight, normalize)\u001b[0m\n\u001b[0;32m    274\u001b[0m \u001b[1;33m\u001b[0m\u001b[0m\n\u001b[0;32m    275\u001b[0m     \"\"\"\n\u001b[1;32m--> 276\u001b[1;33m     \u001b[0my_type\u001b[0m\u001b[1;33m,\u001b[0m \u001b[0my_true\u001b[0m\u001b[1;33m,\u001b[0m \u001b[0my_pred\u001b[0m \u001b[1;33m=\u001b[0m \u001b[0m_check_targets\u001b[0m\u001b[1;33m(\u001b[0m\u001b[0my_true\u001b[0m\u001b[1;33m,\u001b[0m \u001b[0my_pred\u001b[0m\u001b[1;33m)\u001b[0m\u001b[1;33m\u001b[0m\u001b[1;33m\u001b[0m\u001b[0m\n\u001b[0m\u001b[0;32m    277\u001b[0m     \u001b[1;32mif\u001b[0m \u001b[0my_type\u001b[0m \u001b[1;32mnot\u001b[0m \u001b[1;32min\u001b[0m \u001b[1;33m(\u001b[0m\u001b[1;34m\"binary\"\u001b[0m\u001b[1;33m,\u001b[0m \u001b[1;34m\"multiclass\"\u001b[0m\u001b[1;33m)\u001b[0m\u001b[1;33m:\u001b[0m\u001b[1;33m\u001b[0m\u001b[1;33m\u001b[0m\u001b[0m\n\u001b[0;32m    278\u001b[0m         \u001b[1;32mraise\u001b[0m \u001b[0mValueError\u001b[0m\u001b[1;33m(\u001b[0m\u001b[1;34m\"%s is not supported\"\u001b[0m \u001b[1;33m%\u001b[0m \u001b[0my_type\u001b[0m\u001b[1;33m)\u001b[0m\u001b[1;33m\u001b[0m\u001b[1;33m\u001b[0m\u001b[0m\n",
      "\u001b[1;32m~\\anaconda3\\lib\\site-packages\\sklearn\\metrics\\_classification.py\u001b[0m in \u001b[0;36m_check_targets\u001b[1;34m(y_true, y_pred)\u001b[0m\n\u001b[0;32m     88\u001b[0m \u001b[1;33m\u001b[0m\u001b[0m\n\u001b[0;32m     89\u001b[0m     \u001b[1;32mif\u001b[0m \u001b[0mlen\u001b[0m\u001b[1;33m(\u001b[0m\u001b[0my_type\u001b[0m\u001b[1;33m)\u001b[0m \u001b[1;33m>\u001b[0m \u001b[1;36m1\u001b[0m\u001b[1;33m:\u001b[0m\u001b[1;33m\u001b[0m\u001b[1;33m\u001b[0m\u001b[0m\n\u001b[1;32m---> 90\u001b[1;33m         raise ValueError(\"Classification metrics can't handle a mix of {0} \"\n\u001b[0m\u001b[0;32m     91\u001b[0m                          \"and {1} targets\".format(type_true, type_pred))\n\u001b[0;32m     92\u001b[0m \u001b[1;33m\u001b[0m\u001b[0m\n",
      "\u001b[1;31mValueError\u001b[0m: Classification metrics can't handle a mix of continuous and binary targets"
     ]
    }
   ],
   "source": [
    "y_train_pred = cross_val_predict(clf, X_PCA_classification_train, np.ravel(y_PCA_classification_train), cv=3)\n",
    "\n",
    "print(f'True positive  : {confusion_matrix(np.ravel(X_PCA_classification_train), y_train_pred)[1, 1]}')\n",
    "print(f'True negative  : {confusion_matrix(np.ravel(X_PCA_classification_train), y_train_pred)[0, 0]}')\n",
    "print(f'False positive : {confusion_matrix(np.ravel(X_PCA_classification_train), y_train_pred)[0, 1]}')\n",
    "print(f'False negative : {confusion_matrix(np.ravel(X_PCA_classification_train), y_train_pred)[1, 0]}')"
   ]
  },
  {
   "cell_type": "markdown",
   "metadata": {},
   "source": [
    "##### Precision"
   ]
  },
  {
   "cell_type": "code",
   "execution_count": 60,
   "metadata": {
    "ExecuteTime": {
     "end_time": "2021-03-31T09:08:12.801697Z",
     "start_time": "2021-03-31T09:08:12.789453Z"
    }
   },
   "outputs": [
    {
     "name": "stdout",
     "output_type": "stream",
     "text": [
      "Precision: 60.5%\n"
     ]
    }
   ],
   "source": [
    "print(f'Precision: {round(precision_score(np.ravel(y_PCA_classification_train), y_train_pred) * 100, 2)}%')"
   ]
  },
  {
   "cell_type": "markdown",
   "metadata": {
    "ExecuteTime": {
     "end_time": "2021-03-31T08:59:47.633427Z",
     "start_time": "2021-03-31T08:59:47.619284Z"
    }
   },
   "source": [
    "##### Recall"
   ]
  },
  {
   "cell_type": "code",
   "execution_count": 61,
   "metadata": {
    "ExecuteTime": {
     "end_time": "2021-03-31T09:08:12.817396Z",
     "start_time": "2021-03-31T09:08:12.805409Z"
    }
   },
   "outputs": [
    {
     "name": "stdout",
     "output_type": "stream",
     "text": [
      "Recall: 14.44%\n"
     ]
    }
   ],
   "source": [
    "print(f'Recall: {round(recall_score(np.ravel(y_PCA_classification_train), y_train_pred) * 100, 2)}%')"
   ]
  },
  {
   "cell_type": "markdown",
   "metadata": {},
   "source": [
    "##### F1-Score"
   ]
  },
  {
   "cell_type": "code",
   "execution_count": 62,
   "metadata": {
    "ExecuteTime": {
     "end_time": "2021-03-31T09:08:12.833572Z",
     "start_time": "2021-03-31T09:08:12.820365Z"
    }
   },
   "outputs": [
    {
     "name": "stdout",
     "output_type": "stream",
     "text": [
      "F-1 Score: 23.31%\n"
     ]
    }
   ],
   "source": [
    "print(f'F-1 Score: {round(f1_score(np.ravel(y_PCA_classification_train), y_train_pred) * 100, 2)}%')"
   ]
  },
  {
   "cell_type": "markdown",
   "metadata": {},
   "source": [
    "##### Classification Report"
   ]
  },
  {
   "cell_type": "code",
   "execution_count": 63,
   "metadata": {
    "ExecuteTime": {
     "end_time": "2021-03-31T09:08:12.849489Z",
     "start_time": "2021-03-31T09:08:12.835391Z"
    }
   },
   "outputs": [
    {
     "name": "stdout",
     "output_type": "stream",
     "text": [
      "              precision    recall  f1-score   support\n",
      "\n",
      "           0       0.76      0.98      0.86      1036\n",
      "           1       0.71      0.14      0.23       373\n",
      "\n",
      "    accuracy                           0.76      1409\n",
      "   macro avg       0.73      0.56      0.54      1409\n",
      "weighted avg       0.75      0.76      0.69      1409\n",
      "\n"
     ]
    }
   ],
   "source": [
    "print(classification_report(y_PCA_classification_test, clf.predict(X_PCA_classification_test)))"
   ]
  },
  {
   "cell_type": "markdown",
   "metadata": {},
   "source": [
    "##### Precision-Recall Trade off - Precision Recall VS Threshold Plot"
   ]
  },
  {
   "cell_type": "code",
   "execution_count": 64,
   "metadata": {
    "ExecuteTime": {
     "end_time": "2021-03-31T09:08:12.896332Z",
     "start_time": "2021-03-31T09:08:12.853395Z"
    }
   },
   "outputs": [],
   "source": [
    "y_scores = cross_val_predict(clf, X_PCA_classification_train, np.ravel(y_PCA_classification_train), cv=3,)\n",
    "precisions, recalls, thresholds = precision_recall_curve(y_PCA_classification_train, y_scores)"
   ]
  },
  {
   "cell_type": "code",
   "execution_count": 65,
   "metadata": {
    "ExecuteTime": {
     "end_time": "2021-03-31T09:08:13.158311Z",
     "start_time": "2021-03-31T09:08:12.899332Z"
    }
   },
   "outputs": [
    {
     "data": {
      "image/png": "[encoded data removed]",
      "text/plain": [
       "<Figure size 576x432 with 1 Axes>"
      ]
     },
     "metadata": {
      "needs_background": "light"
     },
     "output_type": "display_data"
    }
   ],
   "source": [
    "def plot_precision_vs_recall(precisions, recalls):\n",
    "    plt.plot(recalls, precisions, \"b-\", linewidth=2)\n",
    "    plt.title('Precision and Recall Plot')\n",
    "    plt.xlabel(\"Recall\")\n",
    "    plt.ylabel(\"Precision\")\n",
    "    plt.axis([0, 1, 0, 1])\n",
    "    plt.grid(True)\n",
    "\n",
    "plt.figure(figsize=(8, 6))\n",
    "plot_precision_vs_recall(precisions, recalls)\n",
    "plt.plot([0.4368, 0.4368], [0., 0.9], \"r:\")\n",
    "plt.plot([0.0, 0.4368], [0.9, 0.9], \"r:\")\n",
    "plt.plot([0.4368], [0.9], \"ro\")\n",
    "plt.show()"
   ]
  },
  {
   "cell_type": "markdown",
   "metadata": {},
   "source": [
    "##### Precision-Recall Trade off - Precision Recall VS Threshold Plot"
   ]
  },
  {
   "cell_type": "code",
   "execution_count": 66,
   "metadata": {
    "ExecuteTime": {
     "end_time": "2021-03-31T09:08:13.173313Z",
     "start_time": "2021-03-31T09:08:13.160319Z"
    }
   },
   "outputs": [],
   "source": [
    "fpr, tpr, thresholds = roc_curve(y_PCA_classification_train, y_scores)"
   ]
  },
  {
   "cell_type": "code",
   "execution_count": 67,
   "metadata": {
    "ExecuteTime": {
     "end_time": "2021-03-31T09:08:13.468133Z",
     "start_time": "2021-03-31T09:08:13.176318Z"
    }
   },
   "outputs": [
    {
     "data": {
      "image/png": "[encoded data removed]",
      "text/plain": [
       "<Figure size 576x432 with 1 Axes>"
      ]
     },
     "metadata": {
      "needs_background": "light"
     },
     "output_type": "display_data"
    }
   ],
   "source": [
    "def plot_roc_curve(fpr, tpr, label=None):\n",
    "    plt.plot(fpr, tpr, linewidth=2, label=label)\n",
    "    plt.plot([0, 1], [0, 1], 'k--')\n",
    "    plt.axis([0, 1, 0, 1])\n",
    "    plt.xlabel('False Positive Rate (Fall-Out)')\n",
    "    plt.ylabel('True Positive Rate (Recall)')\n",
    "    plt.grid(True)\n",
    "\n",
    "plt.figure(figsize=(8, 6))\n",
    "plot_roc_curve(fpr, tpr)\n",
    "plt.plot([4.837e-3, 4.837e-3], [0., 0.4368], \"r:\")\n",
    "plt.plot([0.0, 4.837e-3], [0.4368, 0.4368], \"r:\")\n",
    "plt.plot([4.837e-3], [0.4368], \"ro\")\n",
    "plt.show()"
   ]
  },
  {
   "cell_type": "code",
   "execution_count": 68,
   "metadata": {
    "ExecuteTime": {
     "end_time": "2021-03-31T09:08:13.498451Z",
     "start_time": "2021-03-31T09:08:13.471225Z"
    }
   },
   "outputs": [
    {
     "data": {
      "text/plain": [
       "0.5551552973225847"
      ]
     },
     "execution_count": 68,
     "metadata": {},
     "output_type": "execute_result"
    }
   ],
   "source": [
    "roc_auc_score(y_PCA_classification_train, y_scores)"
   ]
  },
  {
   "cell_type": "markdown",
   "metadata": {},
   "source": [
    "#### Regression"
   ]
  },
  {
   "cell_type": "code",
   "execution_count": 69,
   "metadata": {
    "ExecuteTime": {
     "end_time": "2021-03-31T09:08:13.561367Z",
     "start_time": "2021-03-31T09:08:13.503077Z"
    }
   },
   "outputs": [
    {
     "data": {
      "text/plain": [
       "array([0.9960978 , 0.99275324, 0.99655492])"
      ]
     },
     "execution_count": 69,
     "metadata": {},
     "output_type": "execute_result"
    }
   ],
   "source": [
    "regressor = DecisionTreeRegressor(random_state=0)\n",
    "cross_val_score(regressor, X_PCA_regression_test, y_PCA_regression_test, cv=3)"
   ]
  },
  {
   "cell_type": "markdown",
   "metadata": {},
   "source": [
    "##### R Squared Error"
   ]
  },
  {
   "cell_type": "code",
   "execution_count": 70,
   "metadata": {
    "ExecuteTime": {
     "end_time": "2021-03-31T09:08:13.607410Z",
     "start_time": "2021-03-31T09:08:13.563219Z"
    }
   },
   "outputs": [
    {
     "data": {
      "text/plain": [
       "0.9994544007233634"
      ]
     },
     "execution_count": 70,
     "metadata": {},
     "output_type": "execute_result"
    }
   ],
   "source": [
    "regressor.fit(X_PCA_regression_train, y_PCA_regression_train)\n",
    "r2_score(y_PCA_regression_test, regressor.predict(X_PCA_regression_test))"
   ]
  },
  {
   "cell_type": "markdown",
   "metadata": {},
   "source": [
    "##### Mean Absolute Error"
   ]
  },
  {
   "cell_type": "code",
   "execution_count": 71,
   "metadata": {
    "ExecuteTime": {
     "end_time": "2021-03-31T09:08:13.623450Z",
     "start_time": "2021-03-31T09:08:13.610440Z"
    }
   },
   "outputs": [
    {
     "data": {
      "text/plain": [
       "0.27111426543647976"
      ]
     },
     "execution_count": 71,
     "metadata": {},
     "output_type": "execute_result"
    }
   ],
   "source": [
    "mean_absolute_error(y_PCA_regression_test, regressor.predict(X_PCA_regression_test))"
   ]
  },
  {
   "cell_type": "markdown",
   "metadata": {},
   "source": [
    "##### Mean Squared Error"
   ]
  },
  {
   "cell_type": "code",
   "execution_count": 72,
   "metadata": {
    "ExecuteTime": {
     "end_time": "2021-03-31T09:08:13.655424Z",
     "start_time": "2021-03-31T09:08:13.628602Z"
    }
   },
   "outputs": [
    {
     "data": {
      "text/plain": [
       "0.3435060326472676"
      ]
     },
     "execution_count": 72,
     "metadata": {},
     "output_type": "execute_result"
    }
   ],
   "source": [
    "mean_squared_error(y_PCA_regression_test, regressor.predict(X_PCA_regression_test))"
   ]
  },
  {
   "cell_type": "markdown",
   "metadata": {},
   "source": [
    "##### Predict with some feature"
   ]
  },
  {
   "cell_type": "code",
   "execution_count": 73,
   "metadata": {
    "ExecuteTime": {
     "end_time": "2021-03-31T09:08:13.686453Z",
     "start_time": "2021-03-31T09:08:13.659387Z"
    }
   },
   "outputs": [
    {
     "data": {
      "text/plain": [
       "array([19., 24., 72., 72., 60., 70., 69.,  9.,  3., 16.])"
      ]
     },
     "execution_count": 73,
     "metadata": {},
     "output_type": "execute_result"
    }
   ],
   "source": [
    "regressor.predict(X_PCA_regression_test.iloc[50:60, 0:19])"
   ]
  },
  {
   "cell_type": "code",
   "execution_count": 74,
   "metadata": {
    "ExecuteTime": {
     "end_time": "2021-03-31T09:08:13.702275Z",
     "start_time": "2021-03-31T09:08:13.689276Z"
    }
   },
   "outputs": [
    {
     "data": {
      "text/html": [
       "<div>\n",
       "<style scoped>\n",
       "    .dataframe tbody tr th:only-of-type {\n",
       "        vertical-align: middle;\n",
       "    }\n",
       "\n",
       "    .dataframe tbody tr th {\n",
       "        vertical-align: top;\n",
       "    }\n",
       "\n",
       "    .dataframe thead th {\n",
       "        text-align: right;\n",
       "    }\n",
       "</style>\n",
       "<table border=\"1\" class=\"dataframe\">\n",
       "  <thead>\n",
       "    <tr style=\"text-align: right;\">\n",
       "      <th></th>\n",
       "      <th>tenure</th>\n",
       "    </tr>\n",
       "  </thead>\n",
       "  <tbody>\n",
       "    <tr>\n",
       "      <th>50</th>\n",
       "      <td>19</td>\n",
       "    </tr>\n",
       "    <tr>\n",
       "      <th>51</th>\n",
       "      <td>23</td>\n",
       "    </tr>\n",
       "    <tr>\n",
       "      <th>52</th>\n",
       "      <td>72</td>\n",
       "    </tr>\n",
       "    <tr>\n",
       "      <th>53</th>\n",
       "      <td>72</td>\n",
       "    </tr>\n",
       "    <tr>\n",
       "      <th>54</th>\n",
       "      <td>59</td>\n",
       "    </tr>\n",
       "    <tr>\n",
       "      <th>55</th>\n",
       "      <td>70</td>\n",
       "    </tr>\n",
       "    <tr>\n",
       "      <th>56</th>\n",
       "      <td>70</td>\n",
       "    </tr>\n",
       "    <tr>\n",
       "      <th>57</th>\n",
       "      <td>9</td>\n",
       "    </tr>\n",
       "    <tr>\n",
       "      <th>58</th>\n",
       "      <td>3</td>\n",
       "    </tr>\n",
       "    <tr>\n",
       "      <th>59</th>\n",
       "      <td>17</td>\n",
       "    </tr>\n",
       "  </tbody>\n",
       "</table>\n",
       "</div>"
      ],
      "text/plain": [
       "    tenure\n",
       "50      19\n",
       "51      23\n",
       "52      72\n",
       "53      72\n",
       "54      59\n",
       "55      70\n",
       "56      70\n",
       "57       9\n",
       "58       3\n",
       "59      17"
      ]
     },
     "execution_count": 74,
     "metadata": {},
     "output_type": "execute_result"
    }
   ],
   "source": [
    "y_PCA_regression_test[50:60]"
   ]
  }
 ],
 "metadata": {
  "kernelspec": {
   "display_name": "Python 3",
   "language": "python",
   "name": "python3"
  },
  "language_info": {
   "codemirror_mode": {
    "name": "ipython",
    "version": 3
   },
   "file_extension": ".py",
   "mimetype": "text/x-python",
   "name": "python",
   "nbconvert_exporter": "python",
   "pygments_lexer": "ipython3",
   "version": "3.8.5"
  },
  "toc": {
   "base_numbering": 1,
   "nav_menu": {},
   "number_sections": true,
   "sideBar": true,
   "skip_h1_title": false,
   "title_cell": "Table of Contents",
   "title_sidebar": "Contents",
   "toc_cell": false,
   "toc_position": {
    "height": "calc(100% - 180px)",
    "left": "10px",
    "top": "150px",
    "width": "262.633px"
   },
   "toc_section_display": true,
   "toc_window_display": true
  }
 },
 "nbformat": 4,
 "nbformat_minor": 4
}
